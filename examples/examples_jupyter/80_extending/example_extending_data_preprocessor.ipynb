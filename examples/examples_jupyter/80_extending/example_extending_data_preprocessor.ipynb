{
  "cells": [
    {
      "cell_type": "code",
      "execution_count": null,
      "metadata": {
        "collapsed": false
      },
      "outputs": [],
      "source": [
        "%matplotlib inline"
      ]
    },
    {
      "cell_type": "markdown",
      "metadata": {},
      "source": [
        "\n# Extending Auto-Sklearn with Data Preprocessor Component\n\nThe following example demonstrates how to turn off data preprocessing step in auto-skearn.\n"
      ]
    },
    {
      "cell_type": "code",
      "execution_count": null,
      "metadata": {
        "collapsed": false
      },
      "outputs": [],
      "source": [
        "from typing import Optional\nfrom pprint import pprint\n\nimport autosklearn.classification\nimport autosklearn.pipeline.components.data_preprocessing\nimport sklearn.metrics\nfrom ConfigSpace.configuration_space import ConfigurationSpace\n\nfrom autosklearn.askl_typing import FEAT_TYPE_TYPE\nfrom autosklearn.pipeline.components.base import AutoSklearnPreprocessingAlgorithm\nfrom autosklearn.pipeline.constants import SPARSE, DENSE, UNSIGNED_DATA, INPUT\nfrom sklearn.datasets import load_breast_cancer\nfrom sklearn.model_selection import train_test_split"
      ]
    },
    {
      "cell_type": "markdown",
      "metadata": {},
      "source": [
        "## Create NoPreprocessing component for auto-sklearn\n\n"
      ]
    },
    {
      "cell_type": "code",
      "execution_count": null,
      "metadata": {
        "collapsed": false
      },
      "outputs": [],
      "source": [
        "class NoPreprocessing(AutoSklearnPreprocessingAlgorithm):\n    def __init__(self, **kwargs):\n        \"\"\"This preprocessors does not change the data\"\"\"\n        # Some internal checks makes sure parameters are set\n        for key, val in kwargs.items():\n            setattr(self, key, val)\n\n    def fit(self, X, Y=None):\n        return self\n\n    def transform(self, X):\n        return X\n\n    @staticmethod\n    def get_properties(dataset_properties=None):\n        return {\n            \"shortname\": \"NoPreprocessing\",\n            \"name\": \"NoPreprocessing\",\n            \"handles_regression\": True,\n            \"handles_classification\": True,\n            \"handles_multiclass\": True,\n            \"handles_multilabel\": True,\n            \"handles_multioutput\": True,\n            \"is_deterministic\": True,\n            \"input\": (SPARSE, DENSE, UNSIGNED_DATA),\n            \"output\": (INPUT,),\n        }\n\n    @staticmethod\n    def get_hyperparameter_search_space(\n        feat_type: Optional[FEAT_TYPE_TYPE] = None, dataset_properties=None\n    ):\n        return ConfigurationSpace()  # Return an empty configuration as there is None\n\n\n# Add NoPreprocessing component to auto-sklearn.\nautosklearn.pipeline.components.data_preprocessing.add_preprocessor(NoPreprocessing)"
      ]
    },
    {
      "cell_type": "markdown",
      "metadata": {},
      "source": [
        "## Create dataset\n\n"
      ]
    },
    {
      "cell_type": "code",
      "execution_count": null,
      "metadata": {
        "collapsed": false
      },
      "outputs": [],
      "source": [
        "X, y = load_breast_cancer(return_X_y=True)\nX_train, X_test, y_train, y_test = train_test_split(X, y)"
      ]
    },
    {
      "cell_type": "markdown",
      "metadata": {},
      "source": [
        "## Fit the model without performing data preprocessing\n\n"
      ]
    },
    {
      "cell_type": "code",
      "execution_count": null,
      "metadata": {
        "collapsed": false
      },
      "outputs": [],
      "source": [
        "clf = autosklearn.classification.AutoSklearnClassifier(\n    time_left_for_this_task=120,\n    include={\"data_preprocessor\": [\"NoPreprocessing\"]},\n    # Bellow two flags are provided to speed up calculations\n    # Not recommended for a real implementation\n    initial_configurations_via_metalearning=0,\n    smac_scenario_args={\"runcount_limit\": 5},\n)\nclf.fit(X_train, y_train)\n\n# To check that models were found without issue when running examples\nassert len(clf.get_models_with_weights()) > 0\nprint(clf.sprint_statistics())"
      ]
    },
    {
      "cell_type": "markdown",
      "metadata": {},
      "source": [
        "## Print prediction score and statistics\n\n"
      ]
    },
    {
      "cell_type": "code",
      "execution_count": null,
      "metadata": {
        "collapsed": false
      },
      "outputs": [],
      "source": [
        "y_pred = clf.predict(X_test)\nprint(\"accuracy: \", sklearn.metrics.accuracy_score(y_pred, y_test))\npprint(clf.show_models(), indent=4)"
      ]
    }
  ],
  "metadata": {
    "kernelspec": {
      "display_name": "Python 3",
      "language": "python",
      "name": "python3"
    },
    "language_info": {
      "codemirror_mode": {
        "name": "ipython",
        "version": 3
      },
      "file_extension": ".py",
      "mimetype": "text/x-python",
      "name": "python",
      "nbconvert_exporter": "python",
      "pygments_lexer": "ipython3",
      "version": "3.8.13"
    }
  },
  "nbformat": 4,
  "nbformat_minor": 0
}