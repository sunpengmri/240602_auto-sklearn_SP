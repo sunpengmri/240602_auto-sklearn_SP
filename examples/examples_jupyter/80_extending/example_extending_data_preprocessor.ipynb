{
  "cells": [
    {
      "cell_type": "code",
      "execution_count": 1,
      "metadata": {
        "collapsed": false
      },
      "outputs": [],
      "source": [
        "%matplotlib inline"
      ]
    },
    {
      "cell_type": "markdown",
      "metadata": {},
      "source": [
        "\n",
        "# Extending Auto-Sklearn with Data Preprocessor Component\n",
        "\n",
        "The following example demonstrates how to turn off data preprocessing step in auto-skearn.\n"
      ]
    },
    {
      "cell_type": "code",
      "execution_count": 2,
      "metadata": {
        "collapsed": false
      },
      "outputs": [
        {
          "name": "stderr",
          "output_type": "stream",
          "text": [
            "/home/peng/.local/lib/python3.9/site-packages/pandas/core/computation/expressions.py:21: UserWarning: Pandas requires version '2.8.4' or newer of 'numexpr' (version '2.8.0' currently installed).\n",
            "  from pandas.core.computation.check import NUMEXPR_INSTALLED\n",
            "/home/peng/opt/anaconda3/envs/autosl/lib/python3.9/site-packages/scipy/__init__.py:146: UserWarning: A NumPy version >=1.17.3 and <1.25.0 is required for this version of SciPy (detected version 1.26.4\n",
            "  warnings.warn(f\"A NumPy version >={np_minversion} and <{np_maxversion}\"\n"
          ]
        }
      ],
      "source": [
        "from typing import Optional\n",
        "from pprint import pprint\n",
        "\n",
        "import autosklearn.classification\n",
        "import autosklearn.pipeline.components.data_preprocessing\n",
        "import sklearn.metrics\n",
        "from ConfigSpace.configuration_space import ConfigurationSpace\n",
        "\n",
        "from autosklearn.askl_typing import FEAT_TYPE_TYPE\n",
        "from autosklearn.pipeline.components.base import AutoSklearnPreprocessingAlgorithm\n",
        "from autosklearn.pipeline.constants import SPARSE, DENSE, UNSIGNED_DATA, INPUT\n",
        "from sklearn.datasets import load_breast_cancer\n",
        "from sklearn.model_selection import train_test_split"
      ]
    },
    {
      "cell_type": "markdown",
      "metadata": {},
      "source": [
        "## Create NoPreprocessing component for auto-sklearn\n",
        "\n"
      ]
    },
    {
      "cell_type": "code",
      "execution_count": 3,
      "metadata": {
        "collapsed": false
      },
      "outputs": [],
      "source": [
        "class NoPreprocessing(AutoSklearnPreprocessingAlgorithm):\n",
        "    def __init__(self, **kwargs):\n",
        "        \"\"\"This preprocessors does not change the data\"\"\"\n",
        "        # Some internal checks makes sure parameters are set\n",
        "        for key, val in kwargs.items():\n",
        "            setattr(self, key, val)\n",
        "\n",
        "    def fit(self, X, Y=None):\n",
        "        return self\n",
        "\n",
        "    def transform(self, X):\n",
        "        return X\n",
        "\n",
        "    @staticmethod\n",
        "    def get_properties(dataset_properties=None):\n",
        "        return {\n",
        "            \"shortname\": \"NoPreprocessing\",\n",
        "            \"name\": \"NoPreprocessing\",\n",
        "            \"handles_regression\": True,\n",
        "            \"handles_classification\": True,\n",
        "            \"handles_multiclass\": True,\n",
        "            \"handles_multilabel\": True,\n",
        "            \"handles_multioutput\": True,\n",
        "            \"is_deterministic\": True,\n",
        "            \"input\": (SPARSE, DENSE, UNSIGNED_DATA),\n",
        "            \"output\": (INPUT,),\n",
        "        }\n",
        "\n",
        "    @staticmethod\n",
        "    def get_hyperparameter_search_space(\n",
        "        feat_type: Optional[FEAT_TYPE_TYPE] = None, dataset_properties=None\n",
        "    ):\n",
        "        return ConfigurationSpace()  # Return an empty configuration as there is None\n",
        "\n",
        "\n",
        "# Add NoPreprocessing component to auto-sklearn.\n",
        "autosklearn.pipeline.components.data_preprocessing.add_preprocessor(NoPreprocessing)"
      ]
    },
    {
      "cell_type": "markdown",
      "metadata": {},
      "source": [
        "## Create dataset\n",
        "\n"
      ]
    },
    {
      "cell_type": "code",
      "execution_count": 4,
      "metadata": {
        "collapsed": false
      },
      "outputs": [],
      "source": [
        "X, y = load_breast_cancer(return_X_y=True)\n",
        "X_train, X_test, y_train, y_test = train_test_split(X, y)"
      ]
    },
    {
      "cell_type": "markdown",
      "metadata": {},
      "source": [
        "## Fit the model without performing data preprocessing\n",
        "\n"
      ]
    },
    {
      "cell_type": "code",
      "execution_count": 6,
      "metadata": {
        "collapsed": false
      },
      "outputs": [
        {
          "name": "stdout",
          "output_type": "stream",
          "text": [
            "auto-sklearn results:\n",
            "  Dataset name: a2b4bb05-7a2b-11ef-8dab-9009df57b61a\n",
            "  Metric: accuracy\n",
            "  Best validation score: 0.950355\n",
            "  Number of target algorithm runs: 5\n",
            "  Number of successful target algorithm runs: 4\n",
            "  Number of crashed target algorithm runs: 1\n",
            "  Number of target algorithms that exceeded the time limit: 0\n",
            "  Number of target algorithms that exceeded the memory limit: 0\n",
            "\n"
          ]
        }
      ],
      "source": [
        "clf = autosklearn.classification.AutoSklearnClassifier(\n",
        "    time_left_for_this_task=120,\n",
        "    include={\"data_preprocessor\": [\"NoPreprocessing\"]},\n",
        "    # Bellow two flags are provided to speed up calculations\n",
        "    # Not recommended for a real implementation\n",
        "    initial_configurations_via_metalearning=0,\n",
        "    memory_limit=16384,\n",
        "    smac_scenario_args={\"runcount_limit\": 5},\n",
        ")\n",
        "clf.fit(X_train, y_train)\n",
        "\n",
        "# To check that models were found without issue when running examples\n",
        "assert len(clf.get_models_with_weights()) > 0\n",
        "print(clf.sprint_statistics())"
      ]
    },
    {
      "cell_type": "markdown",
      "metadata": {},
      "source": [
        "## Print prediction score and statistics\n",
        "\n"
      ]
    },
    {
      "cell_type": "code",
      "execution_count": 7,
      "metadata": {
        "collapsed": false
      },
      "outputs": [
        {
          "name": "stdout",
          "output_type": "stream",
          "text": [
            "accuracy:  0.965034965034965\n",
            "{   2: {   'balancing': Balancing(random_state=1),\n",
            "           'classifier': <autosklearn.pipeline.components.classification.ClassifierChoice object at 0x7f6a006077c0>,\n",
            "           'cost': 0.049645390070921946,\n",
            "           'data_preprocessor': <autosklearn.pipeline.components.data_preprocessing.DataPreprocessorChoice object at 0x7f69f7ded790>,\n",
            "           'ensemble_weight': 0.02,\n",
            "           'feature_preprocessor': <autosklearn.pipeline.components.feature_preprocessing.FeaturePreprocessorChoice object at 0x7f6a0067cc40>,\n",
            "           'model_id': 2,\n",
            "           'rank': 1,\n",
            "           'sklearn_classifier': RandomForestClassifier(max_features=5, n_estimators=512, n_jobs=1,\n",
            "                       random_state=1, warm_start=True)},\n",
            "    4: {   'balancing': Balancing(random_state=1, strategy='weighting'),\n",
            "           'classifier': <autosklearn.pipeline.components.classification.ClassifierChoice object at 0x7f69f786e7c0>,\n",
            "           'cost': 0.375886524822695,\n",
            "           'data_preprocessor': <autosklearn.pipeline.components.data_preprocessing.DataPreprocessorChoice object at 0x7f6a00662760>,\n",
            "           'ensemble_weight': 0.96,\n",
            "           'feature_preprocessor': <autosklearn.pipeline.components.feature_preprocessing.FeaturePreprocessorChoice object at 0x7f6a0073dc10>,\n",
            "           'model_id': 4,\n",
            "           'rank': 2,\n",
            "           'sklearn_classifier': PassiveAggressiveClassifier(C=7.328568999403367e-05, max_iter=16,\n",
            "                            random_state=1, tol=0.02258105767523384,\n",
            "                            warm_start=True)},\n",
            "    6: {   'balancing': Balancing(random_state=1),\n",
            "           'classifier': <autosklearn.pipeline.components.classification.ClassifierChoice object at 0x7f6a007ac880>,\n",
            "           'cost': 0.09219858156028371,\n",
            "           'data_preprocessor': <autosklearn.pipeline.components.data_preprocessing.DataPreprocessorChoice object at 0x7f69f786ef70>,\n",
            "           'ensemble_weight': 0.02,\n",
            "           'feature_preprocessor': <autosklearn.pipeline.components.feature_preprocessing.FeaturePreprocessorChoice object at 0x7f69f7b07eb0>,\n",
            "           'model_id': 6,\n",
            "           'rank': 3,\n",
            "           'sklearn_classifier': LinearDiscriminantAnalysis(shrinkage='auto', solver='lsqr',\n",
            "                           tol=0.00010495766342828794)}}\n"
          ]
        }
      ],
      "source": [
        "y_pred = clf.predict(X_test)\n",
        "print(\"accuracy: \", sklearn.metrics.accuracy_score(y_pred, y_test))\n",
        "pprint(clf.show_models(), indent=4)"
      ]
    }
  ],
  "metadata": {
    "kernelspec": {
      "display_name": "autosl",
      "language": "python",
      "name": "python3"
    },
    "language_info": {
      "codemirror_mode": {
        "name": "ipython",
        "version": 3
      },
      "file_extension": ".py",
      "mimetype": "text/x-python",
      "name": "python",
      "nbconvert_exporter": "python",
      "pygments_lexer": "ipython3",
      "version": "3.9.19"
    }
  },
  "nbformat": 4,
  "nbformat_minor": 0
}
