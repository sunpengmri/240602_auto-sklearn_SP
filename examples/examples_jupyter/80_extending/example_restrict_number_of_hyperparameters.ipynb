{
  "cells": [
    {
      "cell_type": "code",
      "execution_count": null,
      "metadata": {
        "collapsed": false
      },
      "outputs": [],
      "source": [
        "%matplotlib inline"
      ]
    },
    {
      "cell_type": "markdown",
      "metadata": {},
      "source": [
        "\n# Restricting the number of hyperparameters for an existing component\n\nThe following example demonstrates how to replace an existing\ncomponent with a new component, implementing the same classifier,\nbut with different hyperparameters .\n"
      ]
    },
    {
      "cell_type": "code",
      "execution_count": null,
      "metadata": {
        "collapsed": false
      },
      "outputs": [],
      "source": [
        "from typing import Optional\n\nfrom ConfigSpace.configuration_space import ConfigurationSpace\nfrom ConfigSpace.hyperparameters import (\n    UniformIntegerHyperparameter,\n    UniformFloatHyperparameter,\n)\n\nfrom sklearn.datasets import load_breast_cancer\nfrom sklearn.model_selection import train_test_split\n\nfrom autosklearn.askl_typing import FEAT_TYPE_TYPE\nimport autosklearn.classification\nimport autosklearn.pipeline.components.classification\nfrom autosklearn.pipeline.components.classification import (\n    AutoSklearnClassificationAlgorithm,\n)\nfrom autosklearn.pipeline.constants import DENSE, UNSIGNED_DATA, PREDICTIONS, SPARSE"
      ]
    },
    {
      "cell_type": "markdown",
      "metadata": {},
      "source": [
        "## Subclass auto-sklearn's random forest classifier\n\n"
      ]
    },
    {
      "cell_type": "code",
      "execution_count": null,
      "metadata": {
        "collapsed": false
      },
      "outputs": [],
      "source": [
        "# This classifier only has one of the hyperparameter's of auto-sklearn's\n# default parametrization (``max_features``). Instead, it also\n# tunes the number of estimators (``n_estimators``).\n\n\nclass CustomRandomForest(AutoSklearnClassificationAlgorithm):\n    def __init__(self, n_estimators, max_features, random_state=None):\n        self.n_estimators = n_estimators\n        self.max_features = max_features\n        self.random_state = random_state\n\n    def fit(self, X, y):\n        from sklearn.ensemble import RandomForestClassifier\n\n        self.n_estimators = int(self.n_estimators)\n\n        if self.max_features not in (\"sqrt\", \"log2\", \"auto\"):\n            max_features = int(X.shape[1] ** float(self.max_features))\n        else:\n            max_features = self.max_features\n\n        self.estimator = RandomForestClassifier(\n            n_estimators=self.n_estimators,\n            max_features=max_features,\n            random_state=self.random_state,\n        )\n        self.estimator.fit(X, y)\n        return self\n\n    def predict(self, X):\n        if self.estimator is None:\n            raise NotImplementedError()\n        return self.estimator.predict(X)\n\n    def predict_proba(self, X):\n        if self.estimator is None:\n            raise NotImplementedError()\n        return self.estimator.predict_proba(X)\n\n    @staticmethod\n    def get_properties(dataset_properties=None):\n        return {\n            \"shortname\": \"RF\",\n            \"name\": \"Random Forest Classifier\",\n            \"handles_regression\": False,\n            \"handles_classification\": True,\n            \"handles_multiclass\": True,\n            \"handles_multilabel\": True,\n            \"handles_multioutput\": False,\n            \"is_deterministic\": True,\n            \"input\": (DENSE, SPARSE, UNSIGNED_DATA),\n            \"output\": (PREDICTIONS,),\n        }\n\n    @staticmethod\n    def get_hyperparameter_search_space(\n        feat_type: Optional[FEAT_TYPE_TYPE] = None, dataset_properties=None\n    ):\n        cs = ConfigurationSpace()\n\n        # The maximum number of features used in the forest is calculated as m^max_features, where\n        # m is the total number of features, and max_features is the hyperparameter specified below.\n        # The default is 0.5, which yields sqrt(m) features as max_features in the estimator. This\n        # corresponds with Geurts' heuristic.\n        max_features = UniformFloatHyperparameter(\n            \"max_features\", 0.0, 1.0, default_value=0.5\n        )\n        n_estimators = UniformIntegerHyperparameter(\n            \"n_estimators\", 10, 1000, default_value=100\n        )\n\n        cs.add_hyperparameters([max_features, n_estimators])\n        return cs\n\n\n# Add custom random forest classifier component to auto-sklearn.\nautosklearn.pipeline.components.classification.add_classifier(CustomRandomForest)\ncs = CustomRandomForest.get_hyperparameter_search_space()\nprint(cs)"
      ]
    },
    {
      "cell_type": "markdown",
      "metadata": {},
      "source": [
        "## Data Loading\n\n"
      ]
    },
    {
      "cell_type": "code",
      "execution_count": null,
      "metadata": {
        "collapsed": false
      },
      "outputs": [],
      "source": [
        "X, y = load_breast_cancer(return_X_y=True)\nX_train, X_test, y_train, y_test = train_test_split(X, y)"
      ]
    },
    {
      "cell_type": "markdown",
      "metadata": {},
      "source": [
        "## Fit Random forest classifier to the data\n\n"
      ]
    },
    {
      "cell_type": "code",
      "execution_count": null,
      "metadata": {
        "collapsed": false
      },
      "outputs": [],
      "source": [
        "clf = autosklearn.classification.AutoSklearnClassifier(\n    time_left_for_this_task=30,\n    per_run_time_limit=10,\n    # Here we exclude auto-sklearn's default random forest component\n    exclude={\"classifier\": [\"random_forest\"]},\n    # Bellow two flags are provided to speed up calculations\n    # Not recommended for a real implementation\n    initial_configurations_via_metalearning=0,\n    smac_scenario_args={\"runcount_limit\": 1},\n)\nclf.fit(X_train, y_train)"
      ]
    },
    {
      "cell_type": "markdown",
      "metadata": {},
      "source": [
        "## Print the configuration space\n\n"
      ]
    },
    {
      "cell_type": "code",
      "execution_count": null,
      "metadata": {
        "collapsed": false
      },
      "outputs": [],
      "source": [
        "# Observe that this configuration space only contains our custom random\n# forest, but not auto-sklearn's ``random_forest``\ncs = clf.get_configuration_space(X_train, y_train)\nassert \"random_forest\" not in str(cs)\nprint(cs)"
      ]
    }
  ],
  "metadata": {
    "kernelspec": {
      "display_name": "Python 3",
      "language": "python",
      "name": "python3"
    },
    "language_info": {
      "codemirror_mode": {
        "name": "ipython",
        "version": 3
      },
      "file_extension": ".py",
      "mimetype": "text/x-python",
      "name": "python",
      "nbconvert_exporter": "python",
      "pygments_lexer": "ipython3",
      "version": "3.8.13"
    }
  },
  "nbformat": 4,
  "nbformat_minor": 0
}