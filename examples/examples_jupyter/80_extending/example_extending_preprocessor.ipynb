{
  "cells": [
    {
      "cell_type": "code",
      "execution_count": 1,
      "metadata": {
        "collapsed": false
      },
      "outputs": [],
      "source": [
        "%matplotlib inline"
      ]
    },
    {
      "cell_type": "markdown",
      "metadata": {},
      "source": [
        "\n",
        "# Extending Auto-Sklearn with Preprocessor Component\n",
        "\n",
        "The following example demonstrates how to create a wrapper around the linear\n",
        "discriminant analysis (LDA) algorithm from sklearn and use it as a preprocessor\n",
        "in auto-sklearn.\n"
      ]
    },
    {
      "cell_type": "code",
      "execution_count": 2,
      "metadata": {
        "collapsed": false
      },
      "outputs": [
        {
          "name": "stderr",
          "output_type": "stream",
          "text": [
            "/home/peng/opt/anaconda3/envs/autosl/lib/python3.9/site-packages/scipy/__init__.py:146: UserWarning: A NumPy version >=1.17.3 and <1.25.0 is required for this version of SciPy (detected version 1.26.4\n",
            "  warnings.warn(f\"A NumPy version >={np_minversion} and <{np_maxversion}\"\n",
            "/home/peng/.local/lib/python3.9/site-packages/pandas/core/computation/expressions.py:21: UserWarning: Pandas requires version '2.8.4' or newer of 'numexpr' (version '2.8.0' currently installed).\n",
            "  from pandas.core.computation.check import NUMEXPR_INSTALLED\n"
          ]
        }
      ],
      "source": [
        "from typing import Optional\n",
        "from pprint import pprint\n",
        "\n",
        "from ConfigSpace.configuration_space import ConfigurationSpace\n",
        "from ConfigSpace.hyperparameters import (\n",
        "    UniformFloatHyperparameter,\n",
        "    CategoricalHyperparameter,\n",
        ")\n",
        "from ConfigSpace.conditions import InCondition\n",
        "\n",
        "import sklearn.metrics\n",
        "\n",
        "from autosklearn.askl_typing import FEAT_TYPE_TYPE\n",
        "import autosklearn.classification\n",
        "import autosklearn.pipeline.components.feature_preprocessing\n",
        "from autosklearn.pipeline.components.base import AutoSklearnPreprocessingAlgorithm\n",
        "from autosklearn.pipeline.constants import DENSE, SIGNED_DATA, UNSIGNED_DATA\n",
        "from autosklearn.util.common import check_none\n",
        "\n",
        "from sklearn.datasets import load_breast_cancer\n",
        "from sklearn.model_selection import train_test_split"
      ]
    },
    {
      "cell_type": "markdown",
      "metadata": {},
      "source": [
        "## Create LDA component for auto-sklearn\n",
        "\n"
      ]
    },
    {
      "cell_type": "code",
      "execution_count": 3,
      "metadata": {
        "collapsed": false
      },
      "outputs": [],
      "source": [
        "class LDA(AutoSklearnPreprocessingAlgorithm):\n",
        "    def __init__(self, solver, tol, shrinkage=None, random_state=None):\n",
        "        self.solver = solver\n",
        "        self.shrinkage = shrinkage\n",
        "        self.tol = tol\n",
        "        self.random_state = random_state\n",
        "        self.preprocessor = None\n",
        "\n",
        "    def fit(self, X, y=None):\n",
        "        if check_none(self.shrinkage):\n",
        "            self.shrinkage = None\n",
        "        else:\n",
        "            self.shrinkage = float(self.shrinkage)\n",
        "        self.tol = float(self.tol)\n",
        "\n",
        "        import sklearn.discriminant_analysis\n",
        "\n",
        "        self.preprocessor = sklearn.discriminant_analysis.LinearDiscriminantAnalysis(\n",
        "            shrinkage=self.shrinkage,\n",
        "            solver=self.solver,\n",
        "            tol=self.tol,\n",
        "        )\n",
        "        self.preprocessor.fit(X, y)\n",
        "        return self\n",
        "\n",
        "    def transform(self, X):\n",
        "        if self.preprocessor is None:\n",
        "            raise NotImplementedError()\n",
        "        return self.preprocessor.transform(X)\n",
        "\n",
        "    @staticmethod\n",
        "    def get_properties(dataset_properties=None):\n",
        "        return {\n",
        "            \"shortname\": \"LDA\",\n",
        "            \"name\": \"Linear Discriminant Analysis\",\n",
        "            \"handles_regression\": False,\n",
        "            \"handles_classification\": True,\n",
        "            \"handles_multiclass\": False,\n",
        "            \"handles_multilabel\": False,\n",
        "            \"handles_multioutput\": False,\n",
        "            \"is_deterministic\": True,\n",
        "            \"input\": (DENSE, UNSIGNED_DATA, SIGNED_DATA),\n",
        "            \"output\": (DENSE, UNSIGNED_DATA, SIGNED_DATA),\n",
        "        }\n",
        "\n",
        "    @staticmethod\n",
        "    def get_hyperparameter_search_space(\n",
        "        feat_type: Optional[FEAT_TYPE_TYPE] = None, dataset_properties=None\n",
        "    ):\n",
        "        cs = ConfigurationSpace()\n",
        "        solver = CategoricalHyperparameter(\n",
        "            name=\"solver\", choices=[\"svd\", \"lsqr\", \"eigen\"], default_value=\"svd\"\n",
        "        )\n",
        "        shrinkage = UniformFloatHyperparameter(\n",
        "            name=\"shrinkage\", lower=0.0, upper=1.0, default_value=0.5\n",
        "        )\n",
        "        tol = UniformFloatHyperparameter(\n",
        "            name=\"tol\", lower=0.0001, upper=1, default_value=0.0001\n",
        "        )\n",
        "        cs.add_hyperparameters([solver, shrinkage, tol])\n",
        "        shrinkage_condition = InCondition(shrinkage, solver, [\"lsqr\", \"eigen\"])\n",
        "        cs.add_condition(shrinkage_condition)\n",
        "        return cs\n",
        "\n",
        "\n",
        "# Add LDA component to auto-sklearn.\n",
        "autosklearn.pipeline.components.feature_preprocessing.add_preprocessor(LDA)"
      ]
    },
    {
      "cell_type": "markdown",
      "metadata": {},
      "source": [
        "## Create dataset\n",
        "\n"
      ]
    },
    {
      "cell_type": "code",
      "execution_count": 4,
      "metadata": {
        "collapsed": false
      },
      "outputs": [],
      "source": [
        "X, y = load_breast_cancer(return_X_y=True)\n",
        "X_train, X_test, y_train, y_test = train_test_split(X, y)"
      ]
    },
    {
      "cell_type": "markdown",
      "metadata": {},
      "source": [
        "## Configuration space\n",
        "\n"
      ]
    },
    {
      "cell_type": "code",
      "execution_count": 5,
      "metadata": {
        "collapsed": false
      },
      "outputs": [
        {
          "name": "stdout",
          "output_type": "stream",
          "text": [
            "Configuration space object:\n",
            "  Hyperparameters:\n",
            "    shrinkage, Type: UniformFloat, Range: [0.0, 1.0], Default: 0.5\n",
            "    solver, Type: Categorical, Choices: {svd, lsqr, eigen}, Default: svd\n",
            "    tol, Type: UniformFloat, Range: [0.0001, 1.0], Default: 0.0001\n",
            "  Conditions:\n",
            "    shrinkage | solver in {'lsqr', 'eigen'}\n",
            "\n"
          ]
        }
      ],
      "source": [
        "cs = LDA.get_hyperparameter_search_space()\n",
        "print(cs)"
      ]
    },
    {
      "cell_type": "markdown",
      "metadata": {},
      "source": [
        "## Fit the model using LDA as preprocessor\n",
        "\n"
      ]
    },
    {
      "cell_type": "code",
      "execution_count": 7,
      "metadata": {
        "collapsed": false
      },
      "outputs": [
        {
          "data": {
            "text/plain": [
              "AutoSklearnClassifier(ensemble_class=<class 'autosklearn.ensembles.ensemble_selection.EnsembleSelection'>,\n",
              "                      include={'feature_preprocessor': ['LDA']},\n",
              "                      initial_configurations_via_metalearning=0,\n",
              "                      memory_limit=16384, per_run_time_limit=3,\n",
              "                      smac_scenario_args={'runcount_limit': 5},\n",
              "                      time_left_for_this_task=30)"
            ]
          },
          "execution_count": 7,
          "metadata": {},
          "output_type": "execute_result"
        }
      ],
      "source": [
        "clf = autosklearn.classification.AutoSklearnClassifier(\n",
        "    time_left_for_this_task=30,\n",
        "    include={\"feature_preprocessor\": [\"LDA\"]},\n",
        "    # Bellow two flags are provided to speed up calculations\n",
        "    # Not recommended for a real implementation\n",
        "    initial_configurations_via_metalearning=0,\n",
        "    memory_limit=16384,\n",
        "    smac_scenario_args={\"runcount_limit\": 5},\n",
        ")\n",
        "clf.fit(X_train, y_train)"
      ]
    },
    {
      "cell_type": "markdown",
      "metadata": {},
      "source": [
        "## Print prediction score and statistics\n",
        "\n"
      ]
    },
    {
      "cell_type": "code",
      "execution_count": 8,
      "metadata": {
        "collapsed": false
      },
      "outputs": [
        {
          "name": "stdout",
          "output_type": "stream",
          "text": [
            "accuracy:  0.965034965034965\n",
            "{   2: {   'balancing': Balancing(random_state=1),\n",
            "           'classifier': <autosklearn.pipeline.components.classification.ClassifierChoice object at 0x75b43c7a4190>,\n",
            "           'cost': 0.049645390070921946,\n",
            "           'data_preprocessor': <autosklearn.pipeline.components.data_preprocessing.DataPreprocessorChoice object at 0x75b43cbdb040>,\n",
            "           'ensemble_weight': 0.28,\n",
            "           'feature_preprocessor': <autosklearn.pipeline.components.feature_preprocessing.FeaturePreprocessorChoice object at 0x75b43c7a4d30>,\n",
            "           'model_id': 2,\n",
            "           'rank': 1,\n",
            "           'sklearn_classifier': RandomForestClassifier(max_features=1, n_estimators=512, n_jobs=1,\n",
            "                       random_state=1, warm_start=True)},\n",
            "    4: {   'balancing': Balancing(random_state=1),\n",
            "           'classifier': <autosklearn.pipeline.components.classification.ClassifierChoice object at 0x75b43c52b280>,\n",
            "           'cost': 0.04255319148936165,\n",
            "           'data_preprocessor': <autosklearn.pipeline.components.data_preprocessing.DataPreprocessorChoice object at 0x75b43c7c5760>,\n",
            "           'ensemble_weight': 0.5,\n",
            "           'feature_preprocessor': <autosklearn.pipeline.components.feature_preprocessing.FeaturePreprocessorChoice object at 0x75b43c524d90>,\n",
            "           'model_id': 4,\n",
            "           'rank': 2,\n",
            "           'sklearn_classifier': KNeighborsClassifier(n_neighbors=34, weights='distance')},\n",
            "    5: {   'balancing': Balancing(random_state=1, strategy='weighting'),\n",
            "           'classifier': <autosklearn.pipeline.components.classification.ClassifierChoice object at 0x75b43c62b850>,\n",
            "           'cost': 0.07801418439716312,\n",
            "           'data_preprocessor': <autosklearn.pipeline.components.data_preprocessing.DataPreprocessorChoice object at 0x75b43c7c5580>,\n",
            "           'ensemble_weight': 0.12,\n",
            "           'feature_preprocessor': <autosklearn.pipeline.components.feature_preprocessing.FeaturePreprocessorChoice object at 0x75b43c62b3a0>,\n",
            "           'model_id': 5,\n",
            "           'rank': 3,\n",
            "           'sklearn_classifier': SGDClassifier(alpha=2.0736185713155895e-07, average=True, eta0=0.01, loss='log',\n",
            "              max_iter=16, penalty='l1', random_state=1,\n",
            "              tol=0.00038739876215514635, warm_start=True)},\n",
            "    6: {   'balancing': Balancing(random_state=1, strategy='weighting'),\n",
            "           'classifier': <autosklearn.pipeline.components.classification.ClassifierChoice object at 0x75b43c58f040>,\n",
            "           'cost': 0.06382978723404253,\n",
            "           'data_preprocessor': <autosklearn.pipeline.components.data_preprocessing.DataPreprocessorChoice object at 0x75b43c55cfd0>,\n",
            "           'ensemble_weight': 0.1,\n",
            "           'feature_preprocessor': <autosklearn.pipeline.components.feature_preprocessing.FeaturePreprocessorChoice object at 0x75b43c4dcb50>,\n",
            "           'model_id': 6,\n",
            "           'rank': 4,\n",
            "           'sklearn_classifier': HistGradientBoostingClassifier(early_stopping=False,\n",
            "                               l2_regularization=0.009687247398498765,\n",
            "                               learning_rate=0.47229473295970187, max_iter=512,\n",
            "                               max_leaf_nodes=292, min_samples_leaf=19,\n",
            "                               n_iter_no_change=0, random_state=1,\n",
            "                               validation_fraction=None, warm_start=True)}}\n"
          ]
        }
      ],
      "source": [
        "y_pred = clf.predict(X_test)\n",
        "print(\"accuracy: \", sklearn.metrics.accuracy_score(y_pred, y_test))\n",
        "pprint(clf.show_models(), indent=4)"
      ]
    }
  ],
  "metadata": {
    "kernelspec": {
      "display_name": "autosl",
      "language": "python",
      "name": "python3"
    },
    "language_info": {
      "codemirror_mode": {
        "name": "ipython",
        "version": 3
      },
      "file_extension": ".py",
      "mimetype": "text/x-python",
      "name": "python",
      "nbconvert_exporter": "python",
      "pygments_lexer": "ipython3",
      "version": "3.9.19"
    }
  },
  "nbformat": 4,
  "nbformat_minor": 0
}
