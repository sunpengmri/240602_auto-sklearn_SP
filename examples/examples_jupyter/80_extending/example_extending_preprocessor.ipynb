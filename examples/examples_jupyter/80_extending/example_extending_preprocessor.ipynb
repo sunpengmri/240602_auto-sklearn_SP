{
  "cells": [
    {
      "cell_type": "code",
      "execution_count": null,
      "metadata": {
        "collapsed": false
      },
      "outputs": [],
      "source": [
        "%matplotlib inline"
      ]
    },
    {
      "cell_type": "markdown",
      "metadata": {},
      "source": [
        "\n# Extending Auto-Sklearn with Preprocessor Component\n\nThe following example demonstrates how to create a wrapper around the linear\ndiscriminant analysis (LDA) algorithm from sklearn and use it as a preprocessor\nin auto-sklearn.\n"
      ]
    },
    {
      "cell_type": "code",
      "execution_count": null,
      "metadata": {
        "collapsed": false
      },
      "outputs": [],
      "source": [
        "from typing import Optional\nfrom pprint import pprint\n\nfrom ConfigSpace.configuration_space import ConfigurationSpace\nfrom ConfigSpace.hyperparameters import (\n    UniformFloatHyperparameter,\n    CategoricalHyperparameter,\n)\nfrom ConfigSpace.conditions import InCondition\n\nimport sklearn.metrics\n\nfrom autosklearn.askl_typing import FEAT_TYPE_TYPE\nimport autosklearn.classification\nimport autosklearn.pipeline.components.feature_preprocessing\nfrom autosklearn.pipeline.components.base import AutoSklearnPreprocessingAlgorithm\nfrom autosklearn.pipeline.constants import DENSE, SIGNED_DATA, UNSIGNED_DATA\nfrom autosklearn.util.common import check_none\n\nfrom sklearn.datasets import load_breast_cancer\nfrom sklearn.model_selection import train_test_split"
      ]
    },
    {
      "cell_type": "markdown",
      "metadata": {},
      "source": [
        "## Create LDA component for auto-sklearn\n\n"
      ]
    },
    {
      "cell_type": "code",
      "execution_count": null,
      "metadata": {
        "collapsed": false
      },
      "outputs": [],
      "source": [
        "class LDA(AutoSklearnPreprocessingAlgorithm):\n    def __init__(self, solver, tol, shrinkage=None, random_state=None):\n        self.solver = solver\n        self.shrinkage = shrinkage\n        self.tol = tol\n        self.random_state = random_state\n        self.preprocessor = None\n\n    def fit(self, X, y=None):\n        if check_none(self.shrinkage):\n            self.shrinkage = None\n        else:\n            self.shrinkage = float(self.shrinkage)\n        self.tol = float(self.tol)\n\n        import sklearn.discriminant_analysis\n\n        self.preprocessor = sklearn.discriminant_analysis.LinearDiscriminantAnalysis(\n            shrinkage=self.shrinkage,\n            solver=self.solver,\n            tol=self.tol,\n        )\n        self.preprocessor.fit(X, y)\n        return self\n\n    def transform(self, X):\n        if self.preprocessor is None:\n            raise NotImplementedError()\n        return self.preprocessor.transform(X)\n\n    @staticmethod\n    def get_properties(dataset_properties=None):\n        return {\n            \"shortname\": \"LDA\",\n            \"name\": \"Linear Discriminant Analysis\",\n            \"handles_regression\": False,\n            \"handles_classification\": True,\n            \"handles_multiclass\": False,\n            \"handles_multilabel\": False,\n            \"handles_multioutput\": False,\n            \"is_deterministic\": True,\n            \"input\": (DENSE, UNSIGNED_DATA, SIGNED_DATA),\n            \"output\": (DENSE, UNSIGNED_DATA, SIGNED_DATA),\n        }\n\n    @staticmethod\n    def get_hyperparameter_search_space(\n        feat_type: Optional[FEAT_TYPE_TYPE] = None, dataset_properties=None\n    ):\n        cs = ConfigurationSpace()\n        solver = CategoricalHyperparameter(\n            name=\"solver\", choices=[\"svd\", \"lsqr\", \"eigen\"], default_value=\"svd\"\n        )\n        shrinkage = UniformFloatHyperparameter(\n            name=\"shrinkage\", lower=0.0, upper=1.0, default_value=0.5\n        )\n        tol = UniformFloatHyperparameter(\n            name=\"tol\", lower=0.0001, upper=1, default_value=0.0001\n        )\n        cs.add_hyperparameters([solver, shrinkage, tol])\n        shrinkage_condition = InCondition(shrinkage, solver, [\"lsqr\", \"eigen\"])\n        cs.add_condition(shrinkage_condition)\n        return cs\n\n\n# Add LDA component to auto-sklearn.\nautosklearn.pipeline.components.feature_preprocessing.add_preprocessor(LDA)"
      ]
    },
    {
      "cell_type": "markdown",
      "metadata": {},
      "source": [
        "## Create dataset\n\n"
      ]
    },
    {
      "cell_type": "code",
      "execution_count": null,
      "metadata": {
        "collapsed": false
      },
      "outputs": [],
      "source": [
        "X, y = load_breast_cancer(return_X_y=True)\nX_train, X_test, y_train, y_test = train_test_split(X, y)"
      ]
    },
    {
      "cell_type": "markdown",
      "metadata": {},
      "source": [
        "## Configuration space\n\n"
      ]
    },
    {
      "cell_type": "code",
      "execution_count": null,
      "metadata": {
        "collapsed": false
      },
      "outputs": [],
      "source": [
        "cs = LDA.get_hyperparameter_search_space()\nprint(cs)"
      ]
    },
    {
      "cell_type": "markdown",
      "metadata": {},
      "source": [
        "## Fit the model using LDA as preprocessor\n\n"
      ]
    },
    {
      "cell_type": "code",
      "execution_count": null,
      "metadata": {
        "collapsed": false
      },
      "outputs": [],
      "source": [
        "clf = autosklearn.classification.AutoSklearnClassifier(\n    time_left_for_this_task=30,\n    include={\"feature_preprocessor\": [\"LDA\"]},\n    # Bellow two flags are provided to speed up calculations\n    # Not recommended for a real implementation\n    initial_configurations_via_metalearning=0,\n    smac_scenario_args={\"runcount_limit\": 5},\n)\nclf.fit(X_train, y_train)"
      ]
    },
    {
      "cell_type": "markdown",
      "metadata": {},
      "source": [
        "## Print prediction score and statistics\n\n"
      ]
    },
    {
      "cell_type": "code",
      "execution_count": null,
      "metadata": {
        "collapsed": false
      },
      "outputs": [],
      "source": [
        "y_pred = clf.predict(X_test)\nprint(\"accuracy: \", sklearn.metrics.accuracy_score(y_pred, y_test))\npprint(clf.show_models(), indent=4)"
      ]
    }
  ],
  "metadata": {
    "kernelspec": {
      "display_name": "Python 3",
      "language": "python",
      "name": "python3"
    },
    "language_info": {
      "codemirror_mode": {
        "name": "ipython",
        "version": 3
      },
      "file_extension": ".py",
      "mimetype": "text/x-python",
      "name": "python",
      "nbconvert_exporter": "python",
      "pygments_lexer": "ipython3",
      "version": "3.8.13"
    }
  },
  "nbformat": 4,
  "nbformat_minor": 0
}