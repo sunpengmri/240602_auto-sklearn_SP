{
  "cells": [
    {
      "cell_type": "code",
      "execution_count": 1,
      "metadata": {
        "collapsed": false
      },
      "outputs": [],
      "source": [
        "%matplotlib inline"
      ]
    },
    {
      "cell_type": "markdown",
      "metadata": {},
      "source": [
        "\n",
        "# Extending Auto-Sklearn with Classification Component\n",
        "\n",
        "The following example demonstrates how to create a new classification\n",
        "component for using in auto-sklearn.\n"
      ]
    },
    {
      "cell_type": "code",
      "execution_count": 2,
      "metadata": {
        "collapsed": false
      },
      "outputs": [
        {
          "name": "stderr",
          "output_type": "stream",
          "text": [
            "/home/peng/opt/anaconda3/envs/autosl/lib/python3.9/site-packages/scipy/__init__.py:146: UserWarning: A NumPy version >=1.17.3 and <1.25.0 is required for this version of SciPy (detected version 1.26.4\n",
            "  warnings.warn(f\"A NumPy version >={np_minversion} and <{np_maxversion}\"\n"
          ]
        }
      ],
      "source": [
        "from typing import Optional\n",
        "from pprint import pprint\n",
        "\n",
        "from ConfigSpace.configuration_space import ConfigurationSpace\n",
        "from ConfigSpace.hyperparameters import (\n",
        "    CategoricalHyperparameter,\n",
        "    UniformIntegerHyperparameter,\n",
        "    UniformFloatHyperparameter,\n",
        ")\n",
        "\n",
        "import sklearn.metrics\n",
        "\n",
        "from autosklearn.askl_typing import FEAT_TYPE_TYPE\n",
        "import autosklearn.classification\n",
        "import autosklearn.pipeline.components.classification\n",
        "from autosklearn.pipeline.components.base import AutoSklearnClassificationAlgorithm\n",
        "from autosklearn.pipeline.constants import (\n",
        "    DENSE,\n",
        "    SIGNED_DATA,\n",
        "    UNSIGNED_DATA,\n",
        "    PREDICTIONS,\n",
        ")\n",
        "\n",
        "from sklearn.datasets import load_breast_cancer\n",
        "from sklearn.model_selection import train_test_split"
      ]
    },
    {
      "cell_type": "markdown",
      "metadata": {},
      "source": [
        "## Create MLP classifier component for auto-sklearn\n",
        "\n"
      ]
    },
    {
      "cell_type": "code",
      "execution_count": 3,
      "metadata": {
        "collapsed": false
      },
      "outputs": [
        {
          "name": "stdout",
          "output_type": "stream",
          "text": [
            "Configuration space object:\n",
            "  Hyperparameters:\n",
            "    activation, Type: Categorical, Choices: {identity, logistic, tanh, relu}, Default: relu\n",
            "    alpha, Type: UniformFloat, Range: [0.0001, 1.0], Default: 0.0001\n",
            "    hidden_layer_depth, Type: UniformInteger, Range: [1, 3], Default: 1\n",
            "    num_nodes_per_layer, Type: UniformInteger, Range: [16, 216], Default: 32\n",
            "    solver, Type: Categorical, Choices: {lbfgs, sgd, adam}, Default: adam\n",
            "\n"
          ]
        }
      ],
      "source": [
        "class MLPClassifier(AutoSklearnClassificationAlgorithm):\n",
        "    def __init__(\n",
        "        self,\n",
        "        hidden_layer_depth,\n",
        "        num_nodes_per_layer,\n",
        "        activation,\n",
        "        alpha,\n",
        "        solver,\n",
        "        random_state=None,\n",
        "    ):\n",
        "        self.hidden_layer_depth = hidden_layer_depth\n",
        "        self.num_nodes_per_layer = num_nodes_per_layer\n",
        "        self.activation = activation\n",
        "        self.alpha = alpha\n",
        "        self.solver = solver\n",
        "        self.random_state = random_state\n",
        "\n",
        "    def fit(self, X, y):\n",
        "        self.num_nodes_per_layer = int(self.num_nodes_per_layer)\n",
        "        self.hidden_layer_depth = int(self.hidden_layer_depth)\n",
        "        self.alpha = float(self.alpha)\n",
        "\n",
        "        from sklearn.neural_network import MLPClassifier\n",
        "\n",
        "        hidden_layer_sizes = tuple(\n",
        "            self.num_nodes_per_layer for i in range(self.hidden_layer_depth)\n",
        "        )\n",
        "\n",
        "        self.estimator = MLPClassifier(\n",
        "            hidden_layer_sizes=hidden_layer_sizes,\n",
        "            activation=self.activation,\n",
        "            alpha=self.alpha,\n",
        "            solver=self.solver,\n",
        "            random_state=self.random_state,\n",
        "        )\n",
        "        self.estimator.fit(X, y)\n",
        "        return self\n",
        "\n",
        "    def predict(self, X):\n",
        "        if self.estimator is None:\n",
        "            raise NotImplementedError()\n",
        "        return self.estimator.predict(X)\n",
        "\n",
        "    def predict_proba(self, X):\n",
        "        if self.estimator is None:\n",
        "            raise NotImplementedError()\n",
        "        return self.estimator.predict_proba(X)\n",
        "\n",
        "    @staticmethod\n",
        "    def get_properties(dataset_properties=None):\n",
        "        return {\n",
        "            \"shortname\": \"MLP Classifier\",\n",
        "            \"name\": \"MLP CLassifier\",\n",
        "            \"handles_regression\": False,\n",
        "            \"handles_classification\": True,\n",
        "            \"handles_multiclass\": True,\n",
        "            \"handles_multilabel\": False,\n",
        "            \"handles_multioutput\": False,\n",
        "            \"is_deterministic\": False,\n",
        "            # Both input and output must be tuple(iterable)\n",
        "            \"input\": [DENSE, SIGNED_DATA, UNSIGNED_DATA],\n",
        "            \"output\": [PREDICTIONS],\n",
        "        }\n",
        "\n",
        "    @staticmethod\n",
        "    def get_hyperparameter_search_space(\n",
        "        feat_type: Optional[FEAT_TYPE_TYPE] = None, dataset_properties=None\n",
        "    ):\n",
        "        cs = ConfigurationSpace()\n",
        "        hidden_layer_depth = UniformIntegerHyperparameter(\n",
        "            name=\"hidden_layer_depth\", lower=1, upper=3, default_value=1\n",
        "        )\n",
        "        num_nodes_per_layer = UniformIntegerHyperparameter(\n",
        "            name=\"num_nodes_per_layer\", lower=16, upper=216, default_value=32\n",
        "        )\n",
        "        activation = CategoricalHyperparameter(\n",
        "            name=\"activation\",\n",
        "            choices=[\"identity\", \"logistic\", \"tanh\", \"relu\"],\n",
        "            default_value=\"relu\",\n",
        "        )\n",
        "        alpha = UniformFloatHyperparameter(\n",
        "            name=\"alpha\", lower=0.0001, upper=1.0, default_value=0.0001\n",
        "        )\n",
        "        solver = CategoricalHyperparameter(\n",
        "            name=\"solver\", choices=[\"lbfgs\", \"sgd\", \"adam\"], default_value=\"adam\"\n",
        "        )\n",
        "        cs.add_hyperparameters(\n",
        "            [\n",
        "                hidden_layer_depth,\n",
        "                num_nodes_per_layer,\n",
        "                activation,\n",
        "                alpha,\n",
        "                solver,\n",
        "            ]\n",
        "        )\n",
        "        return cs\n",
        "\n",
        "\n",
        "# Add MLP classifier component to auto-sklearn.\n",
        "autosklearn.pipeline.components.classification.add_classifier(MLPClassifier)\n",
        "cs = MLPClassifier.get_hyperparameter_search_space()\n",
        "print(cs)"
      ]
    },
    {
      "cell_type": "markdown",
      "metadata": {},
      "source": [
        "## Data Loading\n",
        "\n"
      ]
    },
    {
      "cell_type": "code",
      "execution_count": 4,
      "metadata": {
        "collapsed": false
      },
      "outputs": [],
      "source": [
        "X, y = load_breast_cancer(return_X_y=True)\n",
        "X_train, X_test, y_train, y_test = train_test_split(X, y)"
      ]
    },
    {
      "cell_type": "markdown",
      "metadata": {},
      "source": [
        "## Fit MLP classifier to the data\n",
        "\n"
      ]
    },
    {
      "cell_type": "code",
      "execution_count": 5,
      "metadata": {
        "collapsed": false
      },
      "outputs": [
        {
          "data": {
            "text/plain": [
              "AutoSklearnClassifier(ensemble_class=<class 'autosklearn.ensembles.ensemble_selection.EnsembleSelection'>,\n",
              "                      include={'classifier': ['MLPClassifier']},\n",
              "                      initial_configurations_via_metalearning=0,\n",
              "                      memory_limit=16384, per_run_time_limit=10,\n",
              "                      smac_scenario_args={'runcount_limit': 5},\n",
              "                      time_left_for_this_task=30)"
            ]
          },
          "execution_count": 5,
          "metadata": {},
          "output_type": "execute_result"
        }
      ],
      "source": [
        "clf = autosklearn.classification.AutoSklearnClassifier(\n",
        "    time_left_for_this_task=30,\n",
        "    per_run_time_limit=10,\n",
        "    include={\"classifier\": [\"MLPClassifier\"]},\n",
        "    # Bellow two flags are provided to speed up calculations\n",
        "    # Not recommended for a real implementation\n",
        "    initial_configurations_via_metalearning=0,\n",
        "    memory_limit=16384,\n",
        "    smac_scenario_args={\"runcount_limit\": 5},\n",
        ")\n",
        "clf.fit(X_train, y_train)"
      ]
    },
    {
      "cell_type": "markdown",
      "metadata": {},
      "source": [
        "## Print test accuracy and statistics\n",
        "\n"
      ]
    },
    {
      "cell_type": "code",
      "execution_count": 6,
      "metadata": {
        "collapsed": false
      },
      "outputs": [
        {
          "name": "stdout",
          "output_type": "stream",
          "text": [
            "accuracy:  0.972027972027972\n",
            "{   2: {   'balancing': Balancing(random_state=1),\n",
            "           'classifier': <autosklearn.pipeline.components.classification.ClassifierChoice object at 0x78f8222c1850>,\n",
            "           'cost': 0.021276595744680882,\n",
            "           'data_preprocessor': <autosklearn.pipeline.components.data_preprocessing.DataPreprocessorChoice object at 0x78f8225ba850>,\n",
            "           'ensemble_weight': 0.3,\n",
            "           'feature_preprocessor': <autosklearn.pipeline.components.feature_preprocessing.FeaturePreprocessorChoice object at 0x78f8222c1d90>,\n",
            "           'model_id': 2,\n",
            "           'rank': 1,\n",
            "           'sklearn_classifier': MLPClassifier(hidden_layer_sizes=(32,), random_state=1)},\n",
            "    3: {   'balancing': Balancing(random_state=1, strategy='weighting'),\n",
            "           'classifier': <autosklearn.pipeline.components.classification.ClassifierChoice object at 0x78f8224041f0>,\n",
            "           'cost': 0.03546099290780147,\n",
            "           'data_preprocessor': <autosklearn.pipeline.components.data_preprocessing.DataPreprocessorChoice object at 0x78f8225a6b20>,\n",
            "           'ensemble_weight': 0.2,\n",
            "           'feature_preprocessor': <autosklearn.pipeline.components.feature_preprocessing.FeaturePreprocessorChoice object at 0x78f822404130>,\n",
            "           'model_id': 3,\n",
            "           'rank': 2,\n",
            "           'sklearn_classifier': MLPClassifier(activation='identity', alpha=0.4971188158165492,\n",
            "              hidden_layer_sizes=(55,), random_state=1)},\n",
            "    4: {   'balancing': Balancing(random_state=1),\n",
            "           'classifier': <autosklearn.pipeline.components.classification.ClassifierChoice object at 0x78f822413670>,\n",
            "           'cost': 0.007092198581560294,\n",
            "           'data_preprocessor': <autosklearn.pipeline.components.data_preprocessing.DataPreprocessorChoice object at 0x78f8225a64f0>,\n",
            "           'ensemble_weight': 0.38,\n",
            "           'feature_preprocessor': <autosklearn.pipeline.components.feature_preprocessing.FeaturePreprocessorChoice object at 0x78f8224135b0>,\n",
            "           'model_id': 4,\n",
            "           'rank': 3,\n",
            "           'sklearn_classifier': MLPClassifier(activation='tanh', alpha=0.9304810871819302,\n",
            "              hidden_layer_sizes=(115,), random_state=1, solver='lbfgs')},\n",
            "    5: {   'balancing': Balancing(random_state=1),\n",
            "           'classifier': <autosklearn.pipeline.components.classification.ClassifierChoice object at 0x78f822581d00>,\n",
            "           'cost': 0.028368794326241176,\n",
            "           'data_preprocessor': <autosklearn.pipeline.components.data_preprocessing.DataPreprocessorChoice object at 0x78f8223da190>,\n",
            "           'ensemble_weight': 0.04,\n",
            "           'feature_preprocessor': <autosklearn.pipeline.components.feature_preprocessing.FeaturePreprocessorChoice object at 0x78f822581b50>,\n",
            "           'model_id': 5,\n",
            "           'rank': 4,\n",
            "           'sklearn_classifier': MLPClassifier(alpha=0.021293109877208602, hidden_layer_sizes=(90, 90, 90),\n",
            "              random_state=1)},\n",
            "    6: {   'balancing': Balancing(random_state=1),\n",
            "           'classifier': <autosklearn.pipeline.components.classification.ClassifierChoice object at 0x78f82237d610>,\n",
            "           'cost': 0.375886524822695,\n",
            "           'data_preprocessor': <autosklearn.pipeline.components.data_preprocessing.DataPreprocessorChoice object at 0x78f822404580>,\n",
            "           'ensemble_weight': 0.08,\n",
            "           'feature_preprocessor': <autosklearn.pipeline.components.feature_preprocessing.FeaturePreprocessorChoice object at 0x78f82237d490>,\n",
            "           'model_id': 6,\n",
            "           'rank': 5,\n",
            "           'sklearn_classifier': MLPClassifier(activation='logistic', alpha=0.3855996405156338,\n",
            "              hidden_layer_sizes=(129, 129), random_state=1, solver='sgd')}}\n"
          ]
        }
      ],
      "source": [
        "y_pred = clf.predict(X_test)\n",
        "print(\"accuracy: \", sklearn.metrics.accuracy_score(y_pred, y_test))\n",
        "pprint(clf.show_models(), indent=4)"
      ]
    }
  ],
  "metadata": {
    "kernelspec": {
      "display_name": "autosl",
      "language": "python",
      "name": "python3"
    },
    "language_info": {
      "codemirror_mode": {
        "name": "ipython",
        "version": 3
      },
      "file_extension": ".py",
      "mimetype": "text/x-python",
      "name": "python",
      "nbconvert_exporter": "python",
      "pygments_lexer": "ipython3",
      "version": "3.9.19"
    }
  },
  "nbformat": 4,
  "nbformat_minor": 0
}
