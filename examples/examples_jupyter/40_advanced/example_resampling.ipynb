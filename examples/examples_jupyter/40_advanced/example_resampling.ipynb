{
  "cells": [
    {
      "cell_type": "code",
      "execution_count": null,
      "metadata": {
        "collapsed": false
      },
      "outputs": [],
      "source": [
        "%matplotlib inline"
      ]
    },
    {
      "cell_type": "markdown",
      "metadata": {},
      "source": [
        "\n# Resampling Strategies\n\nIn *auto-sklearn* it is possible to use different resampling strategies\nby specifying the arguments ``resampling_strategy`` and\n``resampling_strategy_arguments``. The following example shows common\nsettings for the ``AutoSklearnClassifier``.\n"
      ]
    },
    {
      "cell_type": "code",
      "execution_count": null,
      "metadata": {
        "collapsed": false
      },
      "outputs": [],
      "source": [
        "import numpy as np\nimport sklearn.model_selection\nimport sklearn.datasets\nimport sklearn.metrics\n\nimport autosklearn.classification"
      ]
    },
    {
      "cell_type": "markdown",
      "metadata": {},
      "source": [
        "## Data Loading\n\n"
      ]
    },
    {
      "cell_type": "code",
      "execution_count": null,
      "metadata": {
        "collapsed": false
      },
      "outputs": [],
      "source": [
        "X, y = sklearn.datasets.load_breast_cancer(return_X_y=True)\nX_train, X_test, y_train, y_test = sklearn.model_selection.train_test_split(\n    X, y, random_state=1\n)"
      ]
    },
    {
      "cell_type": "markdown",
      "metadata": {},
      "source": [
        "## Holdout\n\n"
      ]
    },
    {
      "cell_type": "code",
      "execution_count": null,
      "metadata": {
        "collapsed": false
      },
      "outputs": [],
      "source": [
        "automl = autosklearn.classification.AutoSklearnClassifier(\n    time_left_for_this_task=120,\n    per_run_time_limit=30,\n    tmp_folder=\"/tmp/autosklearn_resampling_example_tmp\",\n    disable_evaluator_output=False,\n    # 'holdout' with 'train_size'=0.67 is the default argument setting\n    # for AutoSklearnClassifier. It is explicitly specified in this example\n    # for demonstrational purpose.\n    resampling_strategy=\"holdout\",\n    resampling_strategy_arguments={\"train_size\": 0.67},\n)\nautoml.fit(X_train, y_train, dataset_name=\"breast_cancer\")"
      ]
    },
    {
      "cell_type": "markdown",
      "metadata": {},
      "source": [
        "## Get the Score of the final ensemble\n\n"
      ]
    },
    {
      "cell_type": "code",
      "execution_count": null,
      "metadata": {
        "collapsed": false
      },
      "outputs": [],
      "source": [
        "predictions = automl.predict(X_test)\nprint(\"Accuracy score holdout: \", sklearn.metrics.accuracy_score(y_test, predictions))"
      ]
    },
    {
      "cell_type": "markdown",
      "metadata": {},
      "source": [
        "## Cross-validation\n\n"
      ]
    },
    {
      "cell_type": "code",
      "execution_count": null,
      "metadata": {
        "collapsed": false
      },
      "outputs": [],
      "source": [
        "automl = autosklearn.classification.AutoSklearnClassifier(\n    time_left_for_this_task=120,\n    per_run_time_limit=30,\n    tmp_folder=\"/tmp/autosklearn_resampling_example_tmp\",\n    disable_evaluator_output=False,\n    resampling_strategy=\"cv\",\n    resampling_strategy_arguments={\"folds\": 5},\n)\nautoml.fit(X_train, y_train, dataset_name=\"breast_cancer\")\n\n# One can use models trained during cross-validation directly to predict\n# for unseen data. For this, all k models trained during k-fold\n# cross-validation are considered as a single soft-voting ensemble inside\n# the ensemble constructed with ensemble selection.\nprint(\"Before re-fit\")\npredictions = automl.predict(X_test)\nprint(\"Accuracy score CV\", sklearn.metrics.accuracy_score(y_test, predictions))"
      ]
    },
    {
      "cell_type": "markdown",
      "metadata": {},
      "source": [
        "## Perform a refit\nDuring fit(), models are fit on individual cross-validation folds. To use\nall available data, we call refit() which trains all models in the\nfinal ensemble on the whole dataset.\n\n"
      ]
    },
    {
      "cell_type": "code",
      "execution_count": null,
      "metadata": {
        "collapsed": false
      },
      "outputs": [],
      "source": [
        "print(\"After re-fit\")\nautoml.refit(X_train.copy(), y_train.copy())\npredictions = automl.predict(X_test)\nprint(\"Accuracy score CV\", sklearn.metrics.accuracy_score(y_test, predictions))"
      ]
    },
    {
      "cell_type": "markdown",
      "metadata": {},
      "source": [
        "## scikit-learn splitter objects\nIt is also possible to use\n[scikit-learn's splitter classes](https://scikit-learn.org/stable/modules/classes.html#splitter\n-classes) to further customize the outputs. In case one needs to have 100% control over the\nsplitting, it is possible to use\n[scikit-learn's PredefinedSplit](https://scikit-learn.org/stable/modules/generated/\nsklearn.model_selection.PredefinedSplit.html).\n\n"
      ]
    },
    {
      "cell_type": "markdown",
      "metadata": {},
      "source": [
        "Below is an example of using a predefined split. We split the training\ndata by the first feature. In practice, one would use a splitting according\nto the use case at hand.\n\n"
      ]
    },
    {
      "cell_type": "code",
      "execution_count": null,
      "metadata": {
        "collapsed": false
      },
      "outputs": [],
      "source": [
        "selected_indices = (X_train[:, 0] < np.mean(X_train[:, 0])).astype(int)\nresampling_strategy = sklearn.model_selection.PredefinedSplit(\n    test_fold=selected_indices\n)\n\nautoml = autosklearn.classification.AutoSklearnClassifier(\n    time_left_for_this_task=120,\n    per_run_time_limit=30,\n    tmp_folder=\"/tmp/autosklearn_resampling_example_tmp\",\n    disable_evaluator_output=False,\n    resampling_strategy=resampling_strategy,\n)\nautoml.fit(X_train, y_train, dataset_name=\"breast_cancer\")\n\nprint(automl.sprint_statistics())"
      ]
    },
    {
      "cell_type": "markdown",
      "metadata": {},
      "source": [
        "For custom resampling strategies (i.e. resampling strategies that are not\ndefined as strings by Auto-sklearn) it is necessary to perform a refit:\n\n"
      ]
    },
    {
      "cell_type": "code",
      "execution_count": null,
      "metadata": {
        "collapsed": false
      },
      "outputs": [],
      "source": [
        "automl.refit(X_train, y_train)"
      ]
    },
    {
      "cell_type": "markdown",
      "metadata": {},
      "source": [
        "## Get the Score of the final ensemble (again)\n\nObviously, this score is pretty bad as we \"destroyed\" the dataset by\nsplitting it on the first feature.\n\n"
      ]
    },
    {
      "cell_type": "code",
      "execution_count": null,
      "metadata": {
        "collapsed": false
      },
      "outputs": [],
      "source": [
        "predictions = automl.predict(X_test)\nprint(\n    \"Accuracy score custom split\", sklearn.metrics.accuracy_score(y_test, predictions)\n)"
      ]
    }
  ],
  "metadata": {
    "kernelspec": {
      "display_name": "Python 3",
      "language": "python",
      "name": "python3"
    },
    "language_info": {
      "codemirror_mode": {
        "name": "ipython",
        "version": 3
      },
      "file_extension": ".py",
      "mimetype": "text/x-python",
      "name": "python",
      "nbconvert_exporter": "python",
      "pygments_lexer": "ipython3",
      "version": "3.8.13"
    }
  },
  "nbformat": 4,
  "nbformat_minor": 0
}