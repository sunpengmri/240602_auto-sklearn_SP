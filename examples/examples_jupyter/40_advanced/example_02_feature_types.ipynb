{
  "cells": [
    {
      "cell_type": "code",
      "execution_count": 1,
      "metadata": {
        "collapsed": false
      },
      "outputs": [],
      "source": [
        "%matplotlib inline"
      ]
    },
    {
      "cell_type": "markdown",
      "metadata": {},
      "source": [
        "\n",
        "# Feature Types\n",
        "\n",
        "In *auto-sklearn* it is possible to specify the feature types of a dataset when calling\n",
        "the method :meth:`fit() <autosklearn.classification.AutoSklearnClassifier.fit>` by\n",
        "specifying the argument ``feat_type``.\n",
        "The following example demonstrates a way it can be done.\n",
        "\n",
        "Additionally, you can provide a properly formatted pandas DataFrame, and the feature\n",
        "types will be automatically inferred, as demonstrated in\n",
        "`sphx_glr_examples_40_advanced_example_pandas_train_test.py`.\n"
      ]
    },
    {
      "cell_type": "code",
      "execution_count": 2,
      "metadata": {
        "collapsed": false
      },
      "outputs": [
        {
          "name": "stderr",
          "output_type": "stream",
          "text": [
            "/home/peng/opt/anaconda3/envs/autosl/lib/python3.9/site-packages/scipy/__init__.py:146: UserWarning: A NumPy version >=1.17.3 and <1.25.0 is required for this version of SciPy (detected version 1.26.4\n",
            "  warnings.warn(f\"A NumPy version >={np_minversion} and <{np_maxversion}\"\n",
            "/home/peng/.local/lib/python3.9/site-packages/pandas/core/computation/expressions.py:21: UserWarning: Pandas requires version '2.8.4' or newer of 'numexpr' (version '2.8.0' currently installed).\n",
            "  from pandas.core.computation.check import NUMEXPR_INSTALLED\n"
          ]
        }
      ],
      "source": [
        "import numpy as np\n",
        "\n",
        "import sklearn.model_selection\n",
        "import sklearn.datasets\n",
        "import sklearn.metrics\n",
        "\n",
        "import autosklearn.classification"
      ]
    },
    {
      "cell_type": "markdown",
      "metadata": {},
      "source": [
        "## Data Loading\n",
        "Load Australian dataset from https://www.openml.org/d/40981\n",
        "\n"
      ]
    },
    {
      "cell_type": "code",
      "execution_count": 5,
      "metadata": {
        "collapsed": false
      },
      "outputs": [],
      "source": [
        "bunch  = sklearn.datasets.fetch_openml(data_id=40981, as_frame=True)\n",
        "y = bunch[\"target\"].to_numpy()\n",
        "X = bunch[\"data\"].to_numpy(float)\n",
        "\n",
        "X_train, X_test, y_train, y_test = sklearn.model_selection.train_test_split(\n",
        "    X, y, random_state=1\n",
        ")\n",
        "\n",
        "# Auto-sklearn can automatically recognize categorical/numerical data from a pandas\n",
        "# DataFrame. This example highlights how the user can provide the feature types,\n",
        "# when using numpy arrays, as there is no per-column dtype in this case.\n",
        "# feat_type is a list that tags each column from a DataFrame/ numpy array / list\n",
        "# with the case-insensitive string categorical or numerical, accordingly.\n",
        "feat_type = [\n",
        "    \"Categorical\" if x.name == \"category\" else \"Numerical\" for x in bunch[\"data\"].dtypes\n",
        "]"
      ]
    },
    {
      "cell_type": "markdown",
      "metadata": {},
      "source": [
        "## Build and fit a classifier\n",
        "\n"
      ]
    },
    {
      "cell_type": "code",
      "execution_count": 7,
      "metadata": {
        "collapsed": false
      },
      "outputs": [
        {
          "data": {
            "text/plain": [
              "AutoSklearnClassifier(ensemble_class=<class 'autosklearn.ensembles.ensemble_selection.EnsembleSelection'>,\n",
              "                      initial_configurations_via_metalearning=0,\n",
              "                      memory_limit=16384, per_run_time_limit=3,\n",
              "                      smac_scenario_args={'runcount_limit': 1},\n",
              "                      time_left_for_this_task=30)"
            ]
          },
          "execution_count": 7,
          "metadata": {},
          "output_type": "execute_result"
        }
      ],
      "source": [
        "cls = autosklearn.classification.AutoSklearnClassifier(\n",
        "    time_left_for_this_task=30,\n",
        "    # Bellow two flags are provided to speed up calculations\n",
        "    # Not recommended for a real implementation\n",
        "    initial_configurations_via_metalearning=0,\n",
        "    smac_scenario_args={\"runcount_limit\": 1},\n",
        "    memory_limit=16384,\n",
        ")\n",
        "cls.fit(X_train, y_train, X_test, y_test, feat_type=feat_type)"
      ]
    },
    {
      "cell_type": "markdown",
      "metadata": {},
      "source": [
        "## Get the Score of the final ensemble\n",
        "\n"
      ]
    },
    {
      "cell_type": "code",
      "execution_count": 8,
      "metadata": {
        "collapsed": false
      },
      "outputs": [
        {
          "name": "stdout",
          "output_type": "stream",
          "text": [
            "Accuracy score 0.8786127167630058\n"
          ]
        }
      ],
      "source": [
        "predictions = cls.predict(X_test)\n",
        "print(\"Accuracy score\", sklearn.metrics.accuracy_score(y_test, predictions))"
      ]
    }
  ],
  "metadata": {
    "kernelspec": {
      "display_name": "autosl",
      "language": "python",
      "name": "python3"
    },
    "language_info": {
      "codemirror_mode": {
        "name": "ipython",
        "version": 3
      },
      "file_extension": ".py",
      "mimetype": "text/x-python",
      "name": "python",
      "nbconvert_exporter": "python",
      "pygments_lexer": "ipython3",
      "version": "3.9.19"
    }
  },
  "nbformat": 4,
  "nbformat_minor": 0
}
