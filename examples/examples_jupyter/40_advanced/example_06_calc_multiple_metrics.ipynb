{
  "cells": [
    {
      "cell_type": "code",
      "execution_count": 1,
      "metadata": {
        "collapsed": false
      },
      "outputs": [],
      "source": [
        "%matplotlib inline"
      ]
    },
    {
      "cell_type": "markdown",
      "metadata": {},
      "source": [
        "\n",
        "# Metrics\n",
        "\n",
        "In *Auto-sklearn*, model is optimized over a metric, either built-in or\n",
        "custom metric. Moreover, it is also possible to calculate multiple metrics\n",
        "per run. The following examples show how to calculate metrics built-in\n",
        "and self-defined metrics for a classification problem.\n"
      ]
    },
    {
      "cell_type": "code",
      "execution_count": 2,
      "metadata": {
        "collapsed": false
      },
      "outputs": [
        {
          "name": "stderr",
          "output_type": "stream",
          "text": [
            "/home/peng/.local/lib/python3.9/site-packages/pandas/core/computation/expressions.py:21: UserWarning: Pandas requires version '2.8.4' or newer of 'numexpr' (version '2.8.0' currently installed).\n",
            "  from pandas.core.computation.check import NUMEXPR_INSTALLED\n",
            "/home/peng/opt/anaconda3/envs/autosl/lib/python3.9/site-packages/scipy/__init__.py:146: UserWarning: A NumPy version >=1.17.3 and <1.25.0 is required for this version of SciPy (detected version 1.26.4\n",
            "  warnings.warn(f\"A NumPy version >={np_minversion} and <{np_maxversion}\"\n"
          ]
        }
      ],
      "source": [
        "import autosklearn.classification\n",
        "import numpy as np\n",
        "import pandas as pd\n",
        "import sklearn.datasets\n",
        "import sklearn.metrics\n",
        "from autosklearn.metrics import balanced_accuracy, precision, recall, f1\n",
        "\n",
        "\n",
        "def error(solution, prediction):\n",
        "    # custom function defining error\n",
        "    return np.mean(solution != prediction)\n",
        "\n",
        "\n",
        "def get_metric_result(cv_results):\n",
        "    results = pd.DataFrame.from_dict(cv_results)\n",
        "    results = results[results[\"status\"] == \"Success\"]\n",
        "    cols = [\"rank_test_scores\", \"param_classifier:__choice__\", \"mean_test_score\"]\n",
        "    cols.extend([key for key in cv_results.keys() if key.startswith(\"metric_\")])\n",
        "    return results[cols]"
      ]
    },
    {
      "cell_type": "markdown",
      "metadata": {},
      "source": [
        "## Data Loading\n",
        "\n"
      ]
    },
    {
      "cell_type": "code",
      "execution_count": 3,
      "metadata": {
        "collapsed": false
      },
      "outputs": [],
      "source": [
        "X, y = sklearn.datasets.load_breast_cancer(return_X_y=True)\n",
        "X_train, X_test, y_train, y_test = sklearn.model_selection.train_test_split(\n",
        "    X, y, random_state=1\n",
        ")"
      ]
    },
    {
      "cell_type": "markdown",
      "metadata": {},
      "source": [
        "## Build and fit a classifier\n",
        "\n"
      ]
    },
    {
      "cell_type": "code",
      "execution_count": 4,
      "metadata": {
        "collapsed": false
      },
      "outputs": [
        {
          "data": {
            "text/plain": [
              "AutoSklearnClassifier(ensemble_class=<class 'autosklearn.ensembles.ensemble_selection.EnsembleSelection'>,\n",
              "                      memory_limit=16384, per_run_time_limit=30,\n",
              "                      scoring_functions=[balanced_accuracy, precision, recall,\n",
              "                                         f1, custom_error],\n",
              "                      time_left_for_this_task=120)"
            ]
          },
          "execution_count": 4,
          "metadata": {},
          "output_type": "execute_result"
        }
      ],
      "source": [
        "error_rate = autosklearn.metrics.make_scorer(\n",
        "    name=\"custom_error\",\n",
        "    score_func=error,\n",
        "    optimum=0,\n",
        "    greater_is_better=False,\n",
        "    needs_proba=False,\n",
        "    needs_threshold=False,\n",
        ")\n",
        "cls = autosklearn.classification.AutoSklearnClassifier(\n",
        "    time_left_for_this_task=120,\n",
        "    per_run_time_limit=30,\n",
        "    memory_limit=16384,\n",
        "    scoring_functions=[balanced_accuracy, precision, recall, f1, error_rate],\n",
        ")\n",
        "cls.fit(X_train, y_train, X_test, y_test)"
      ]
    },
    {
      "cell_type": "markdown",
      "metadata": {},
      "source": [
        "## Get the Score of the final ensemble\n",
        "\n"
      ]
    },
    {
      "cell_type": "code",
      "execution_count": 5,
      "metadata": {
        "collapsed": false
      },
      "outputs": [
        {
          "name": "stdout",
          "output_type": "stream",
          "text": [
            "Accuracy score 0.951048951048951\n",
            "################################################################################\n",
            "Metric results\n",
            " rank_test_scores param_classifier:__choice__  mean_test_score  metric_balanced_accuracy  metric_precision  metric_recall  metric_f1  metric_custom_error\n",
            "               18               random_forest         0.971631                  0.969533          0.977528       0.977528   0.977528             0.028369\n",
            "               18                         mlp         0.971631                  0.961538          0.956989       1.000000   0.978022             0.028369\n",
            "               64                         mlp         0.943262                  0.935069          0.945055       0.966292   0.955556             0.056738\n",
            "               36               random_forest         0.964539                  0.959918          0.966667       0.977528   0.972067             0.035461\n",
            "               18                         mlp         0.971631                  0.961538          0.956989       1.000000   0.978022             0.028369\n",
            "                3                 extra_trees         0.985816                  0.984767          0.988764       0.988764   0.988764             0.014184\n",
            "               36               random_forest         0.964539                  0.963915          0.977273       0.966292   0.971751             0.035461\n",
            "               48                 extra_trees         0.957447                  0.954300          0.966292       0.966292   0.966292             0.042553\n",
            "               18               random_forest         0.971631                  0.969533          0.977528       0.977528   0.977528             0.028369\n",
            "               18               random_forest         0.971631                  0.969533          0.977528       0.977528   0.977528             0.028369\n",
            "               36           gradient_boosting         0.964539                  0.963915          0.977273       0.966292   0.971751             0.035461\n",
            "               18           gradient_boosting         0.971631                  0.965536          0.967033       0.988764   0.977778             0.028369\n",
            "               18                         mlp         0.971631                  0.965536          0.967033       0.988764   0.977778             0.028369\n",
            "               54                         mlp         0.950355                  0.948682          0.965909       0.955056   0.960452             0.049645\n",
            "               10           gradient_boosting         0.978723                  0.975151          0.977778       0.988764   0.983240             0.021277\n",
            "               36           gradient_boosting         0.964539                  0.959918          0.966667       0.977528   0.972067             0.035461\n",
            "               36               random_forest         0.964539                  0.959918          0.966667       0.977528   0.972067             0.035461\n",
            "               18                 extra_trees         0.971631                  0.969533          0.977528       0.977528   0.977528             0.028369\n",
            "               73          passive_aggressive         0.921986                  0.894231          0.890000       1.000000   0.941799             0.078014\n",
            "               10                 extra_trees         0.978723                  0.975151          0.977778       0.988764   0.983240             0.021277\n",
            "               18           gradient_boosting         0.971631                  0.965536          0.967033       0.988764   0.977778             0.028369\n",
            "               54                         mlp         0.950355                  0.940687          0.945652       0.977528   0.961326             0.049645\n",
            "               68               random_forest         0.929078                  0.923833          0.943820       0.943820   0.943820             0.070922\n",
            "               48                    adaboost         0.957447                  0.950303          0.956044       0.977528   0.966667             0.042553\n",
            "               18                 extra_trees         0.971631                  0.965536          0.967033       0.988764   0.977778             0.028369\n",
            "                3                 extra_trees         0.985816                  0.984767          0.988764       0.988764   0.988764             0.014184\n",
            "               68                bernoulli_nb         0.929078                  0.927831          0.954023       0.932584   0.943182             0.070922\n",
            "               85                         mlp         0.865248                  0.817308          0.824074       1.000000   0.903553             0.134752\n",
            "               10                 extra_trees         0.978723                  0.975151          0.977778       0.988764   0.983240             0.021277\n",
            "               36               random_forest         0.964539                  0.963915          0.977273       0.966292   0.971751             0.035461\n",
            "               73           gradient_boosting         0.921986                  0.930207          0.975610       0.898876   0.935673             0.078014\n",
            "               68         k_nearest_neighbors         0.929078                  0.911841          0.915789       0.977528   0.945652             0.070922\n",
            "               10                         lda         0.978723                  0.971154          0.967391       1.000000   0.983425             0.021277\n",
            "               86                         sgd         0.836879                  0.854797          0.945946       0.786517   0.858896             0.163121\n",
            "               78               decision_tree         0.907801                  0.918971          0.975000       0.876404   0.923077             0.092199\n",
            "               84                         lda         0.872340                  0.826923          0.831776       1.000000   0.908163             0.127660\n",
            "               80                 extra_trees         0.900709                  0.889369          0.912088       0.932584   0.922222             0.099291\n",
            "               18                 extra_trees         0.971631                  0.969533          0.977528       0.977528   0.977528             0.028369\n",
            "               54                         sgd         0.950355                  0.952679          0.976744       0.943820   0.960000             0.049645\n",
            "               66          passive_aggressive         0.936170                  0.933449          0.954545       0.943820   0.949153             0.063830\n",
            "               18                 extra_trees         0.971631                  0.965536          0.967033       0.988764   0.977778             0.028369\n",
            "               36                 extra_trees         0.964539                  0.955920          0.956522       0.988764   0.972376             0.035461\n",
            "               48                 extra_trees         0.957447                  0.958297          0.977011       0.955056   0.965909             0.042553\n",
            "               36                         lda         0.964539                  0.959918          0.966667       0.977528   0.972067             0.035461\n",
            "               18                 extra_trees         0.971631                  0.969533          0.977528       0.977528   0.977528             0.028369\n",
            "                3                 extra_trees         0.985816                  0.984767          0.988764       0.988764   0.988764             0.014184\n",
            "               89                         qda         0.631206                  0.500000          0.631206       1.000000   0.773913             0.368794\n",
            "               89                 extra_trees         0.631206                  0.500000          0.631206       1.000000   0.773913             0.368794\n",
            "               54                         mlp         0.950355                  0.952679          0.976744       0.943820   0.960000             0.049645\n",
            "               18                         lda         0.971631                  0.965536          0.967033       0.988764   0.977778             0.028369\n",
            "                3                 extra_trees         0.985816                  0.980769          0.978022       1.000000   0.988889             0.014184\n",
            "               54           gradient_boosting         0.950355                  0.948682          0.965909       0.955056   0.960452             0.049645\n",
            "               89                         mlp         0.631206                  0.500000          0.631206       1.000000   0.773913             0.368794\n",
            "               36                 extra_trees         0.964539                  0.963915          0.977273       0.966292   0.971751             0.035461\n",
            "               97                         lda         0.574468                  0.515017          0.640777       0.741573   0.687500             0.425532\n",
            "               54                    adaboost         0.950355                  0.952679          0.976744       0.943820   0.960000             0.049645\n",
            "               36          passive_aggressive         0.964539                  0.959918          0.966667       0.977528   0.972067             0.035461\n",
            "               36                         qda         0.964539                  0.963915          0.977273       0.966292   0.971751             0.035461\n",
            "               48               liblinear_svc         0.957447                  0.954300          0.966292       0.966292   0.966292             0.042553\n",
            "               48                 extra_trees         0.957447                  0.946305          0.946237       0.988764   0.967033             0.042553\n",
            "               80                 gaussian_nb         0.900709                  0.893366          0.921348       0.921348   0.921348             0.099291\n",
            "               89                         qda         0.631206                  0.500000          0.631206       1.000000   0.773913             0.368794\n",
            "               73                 extra_trees         0.921986                  0.898228          0.897959       0.988764   0.941176             0.078014\n",
            "               73               decision_tree         0.921986                  0.930207          0.975610       0.898876   0.935673             0.078014\n",
            "               88                         sgd         0.808511                  0.844317          0.984375       0.707865   0.823529             0.191489\n",
            "               10                 extra_trees         0.978723                  0.975151          0.977778       0.988764   0.983240             0.021277\n",
            "               36          passive_aggressive         0.964539                  0.955920          0.956522       0.988764   0.972376             0.035461\n",
            "               87                 gaussian_nb         0.822695                  0.803587          0.847826       0.876404   0.861878             0.177305\n",
            "               10                    adaboost         0.978723                  0.975151          0.977778       0.988764   0.983240             0.021277\n",
            "               68               random_forest         0.929078                  0.927831          0.954023       0.932584   0.943182             0.070922\n",
            "                3                  libsvm_svc         0.985816                  0.980769          0.978022       1.000000   0.988889             0.014184\n",
            "               48                 extra_trees         0.957447                  0.958297          0.977011       0.955056   0.965909             0.042553\n",
            "               66          passive_aggressive         0.936170                  0.929451          0.944444       0.955056   0.949721             0.063830\n",
            "                3                 extra_trees         0.985816                  0.984767          0.988764       0.988764   0.988764             0.014184\n",
            "                3                  libsvm_svc         0.985816                  0.984767          0.988764       0.988764   0.988764             0.014184\n",
            "               64                  libsvm_svc         0.943262                  0.935069          0.945055       0.966292   0.955556             0.056738\n",
            "               98                  libsvm_svc         0.368794                  0.500000          0.000000       0.000000   0.000000             0.631206\n",
            "               54                bernoulli_nb         0.950355                  0.944685          0.955556       0.966292   0.960894             0.049645\n",
            "               10                 extra_trees         0.978723                  0.975151          0.977778       0.988764   0.983240             0.021277\n",
            "               18                 extra_trees         0.971631                  0.969533          0.977528       0.977528   0.977528             0.028369\n",
            "               54                  libsvm_svc         0.950355                  0.936690          0.936170       0.988764   0.961749             0.049645\n",
            "                1                 extra_trees         0.992908                  0.990385          0.988889       1.000000   0.994413             0.007092\n",
            "               77          passive_aggressive         0.914894                  0.892610          0.896907       0.977528   0.935484             0.085106\n",
            "               89          passive_aggressive         0.631206                  0.500000          0.631206       1.000000   0.773913             0.368794\n",
            "               10                 extra_trees         0.978723                  0.975151          0.977778       0.988764   0.983240             0.021277\n",
            "               18                    adaboost         0.971631                  0.961538          0.956989       1.000000   0.978022             0.028369\n",
            "                1                 extra_trees         0.992908                  0.990385          0.988889       1.000000   0.994413             0.007092\n",
            "               80               random_forest         0.900709                  0.905359          0.951807       0.887640   0.918605             0.099291\n",
            "               78                         sgd         0.907801                  0.922969          0.987179       0.865169   0.922156             0.092199\n",
            "               18          passive_aggressive         0.971631                  0.973531          0.988506       0.966292   0.977273             0.028369\n",
            "               68               liblinear_svc         0.929078                  0.939823          0.987654       0.898876   0.941176             0.070922\n",
            "               80          passive_aggressive         0.900709                  0.913354          0.974684       0.865169   0.916667             0.099291\n",
            "               54                    adaboost         0.950355                  0.952679          0.976744       0.943820   0.960000             0.049645\n",
            "               89          passive_aggressive         0.631206                  0.500000          0.631206       1.000000   0.773913             0.368794\n",
            "               96                bernoulli_nb         0.624113                  0.494382          0.628571       0.988764   0.768559             0.375887\n",
            "               18                 extra_trees         0.971631                  0.965536          0.967033       0.988764   0.977778             0.028369\n",
            "               89                         mlp         0.631206                  0.500000          0.631206       1.000000   0.773913             0.368794\n",
            "               54                 extra_trees         0.950355                  0.944685          0.955556       0.966292   0.960894             0.049645\n"
          ]
        }
      ],
      "source": [
        "predictions = cls.predict(X_test)\n",
        "print(\"Accuracy score\", sklearn.metrics.accuracy_score(y_test, predictions))\n",
        "\n",
        "print(\"#\" * 80)\n",
        "print(\"Metric results\")\n",
        "print(get_metric_result(cls.cv_results_).to_string(index=False))"
      ]
    }
  ],
  "metadata": {
    "kernelspec": {
      "display_name": "autosl",
      "language": "python",
      "name": "python3"
    },
    "language_info": {
      "codemirror_mode": {
        "name": "ipython",
        "version": 3
      },
      "file_extension": ".py",
      "mimetype": "text/x-python",
      "name": "python",
      "nbconvert_exporter": "python",
      "pygments_lexer": "ipython3",
      "version": "3.9.19"
    }
  },
  "nbformat": 4,
  "nbformat_minor": 0
}
