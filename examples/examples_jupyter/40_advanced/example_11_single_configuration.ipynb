{
  "cells": [
    {
      "cell_type": "code",
      "execution_count": 1,
      "metadata": {
        "collapsed": false
      },
      "outputs": [],
      "source": [
        "%matplotlib inline"
      ]
    },
    {
      "cell_type": "markdown",
      "metadata": {},
      "source": [
        "\n",
        "# Fit a single configuration\n",
        "\n",
        "*Auto-sklearn* searches for the best combination of machine learning algorithms\n",
        "and their hyper-parameter configuration for a given task, using Scikit-Learn Pipelines.\n",
        "To further improve performance, this pipelines are ensemble together using Ensemble\n",
        "Selection from Caruana (2004).\n",
        "\n",
        "\n",
        "This example shows how one can fit one of this pipelines, both, with an user defined\n",
        "configuration, and a randomly sampled one form the configuration space.\n",
        "\n",
        "The pipelines that Auto-Sklearn fits are compatible with Scikit-Learn API. You can\n",
        "get further documentation about Scikit-Learn models here: <https://scikit-learn.org/stable/getting_started.html`>_\n"
      ]
    },
    {
      "cell_type": "code",
      "execution_count": 2,
      "metadata": {
        "collapsed": false
      },
      "outputs": [
        {
          "name": "stderr",
          "output_type": "stream",
          "text": [
            "/home/peng/opt/anaconda3/envs/autosl/lib/python3.9/site-packages/scipy/__init__.py:146: UserWarning: A NumPy version >=1.17.3 and <1.25.0 is required for this version of SciPy (detected version 1.26.4\n",
            "  warnings.warn(f\"A NumPy version >={np_minversion} and <{np_maxversion}\"\n"
          ]
        }
      ],
      "source": [
        "import numpy as np\n",
        "import sklearn.model_selection\n",
        "import sklearn.datasets\n",
        "import sklearn.metrics\n",
        "\n",
        "from ConfigSpace.configuration_space import Configuration\n",
        "\n",
        "import autosklearn.classification"
      ]
    },
    {
      "cell_type": "markdown",
      "metadata": {},
      "source": [
        "## Data Loading\n",
        "\n"
      ]
    },
    {
      "cell_type": "code",
      "execution_count": 3,
      "metadata": {
        "collapsed": false
      },
      "outputs": [],
      "source": [
        "X, y = sklearn.datasets.fetch_openml(data_id=3, return_X_y=True, as_frame=True)\n",
        "X_train, X_test, y_train, y_test = sklearn.model_selection.train_test_split(\n",
        "    X, y, test_size=0.5, random_state=3\n",
        ")"
      ]
    },
    {
      "cell_type": "markdown",
      "metadata": {},
      "source": [
        "## Define an estimator\n",
        "\n"
      ]
    },
    {
      "cell_type": "code",
      "execution_count": 4,
      "metadata": {
        "collapsed": false
      },
      "outputs": [],
      "source": [
        "cls = autosklearn.classification.AutoSklearnClassifier(\n",
        "    time_left_for_this_task=120,\n",
        "    per_run_time_limit=60,\n",
        "    memory_limit=16384,\n",
        "    # We will limit the configuration space only to\n",
        "    # have RandomForest as a valid model. We recommend enabling all\n",
        "    # possible models to get a better performance.\n",
        "    include={\"classifier\": [\"random_forest\"]},\n",
        "    delete_tmp_folder_after_terminate=False,\n",
        ")"
      ]
    },
    {
      "cell_type": "markdown",
      "metadata": {},
      "source": [
        "## Fit an user provided configuration\n",
        "\n"
      ]
    },
    {
      "cell_type": "code",
      "execution_count": 7,
      "metadata": {
        "collapsed": false
      },
      "outputs": [
        {
          "name": "stdout",
          "output_type": "stream",
          "text": [
            "RunInfo(config=Configuration(values={\n",
            "  'balancing:strategy': 'none',\n",
            "  'classifier:__choice__': 'random_forest',\n",
            "  'classifier:random_forest:bootstrap': 'False',\n",
            "  'classifier:random_forest:criterion': 'entropy',\n",
            "  'classifier:random_forest:max_depth': 'None',\n",
            "  'classifier:random_forest:max_features': 0.9585453550481355,\n",
            "  'classifier:random_forest:max_leaf_nodes': 'None',\n",
            "  'classifier:random_forest:min_impurity_decrease': 0.0,\n",
            "  'classifier:random_forest:min_samples_leaf': 14,\n",
            "  'classifier:random_forest:min_samples_split': 11,\n",
            "  'classifier:random_forest:min_weight_fraction_leaf': 0.0,\n",
            "  'data_preprocessor:__choice__': 'feature_type',\n",
            "  'data_preprocessor:feature_type:categorical_transformer:categorical_encoding:__choice__': 'one_hot_encoding',\n",
            "  'data_preprocessor:feature_type:categorical_transformer:category_coalescence:__choice__': 'minority_coalescer',\n",
            "  'data_preprocessor:feature_type:categorical_transformer:category_coalescence:minority_coalescer:minimum_fraction': 0.00036539514308748497,\n",
            "  'feature_preprocessor:__choice__': 'pca',\n",
            "  'feature_preprocessor:pca:keep_variance': 0.6714860611351614,\n",
            "  'feature_preprocessor:pca:whiten': 'True',\n",
            "})\n",
            ", instance=None, instance_specific=None, seed=1, cutoff=60, capped=False, budget=0.0, source_id=0)\n",
            "RunValue(cost=1.0, time=0.01425623893737793, status=<StatusType.MEMOUT: 5>, starttime=1718171627.1534312, endtime=1718171628.1784837, additional_info={'error': 'Memout (used more than 4096 MB).', 'configuration_origin': None})\n"
          ]
        },
        {
          "name": "stderr",
          "output_type": "stream",
          "text": [
            "/home/peng/opt/anaconda3/envs/autosl/lib/python3.9/site-packages/autosklearn/data/target_validator.py:187: UserWarning: Fitting transformer with a pandas series which has the dtype category. Inverse transform may not be able preserve dtype when converting to np.ndarray\n",
            "  warnings.warn(\n"
          ]
        },
        {
          "name": "stdout",
          "output_type": "stream",
          "text": [
            "[ERROR] [2024-06-12 13:53:49,308:Client-AutoML(1):kr-vs-kp] (\" Dummy prediction failed with run state StatusType.MEMOUT and additional output: {'error': 'Memout (used more than 4096 MB).', 'configuration_origin': 'DUMMY'}.\",)\n",
            "[ERROR] [2024-06-12 13:53:49,309:Client-AutoML(1):kr-vs-kp] (\" Dummy prediction failed with run state StatusType.MEMOUT and additional output: {'error': 'Memout (used more than 4096 MB).', 'configuration_origin': 'DUMMY'}.\",)\n",
            "Traceback (most recent call last):\n",
            "  File \"/home/peng/opt/anaconda3/envs/autosl/lib/python3.9/site-packages/autosklearn/automl.py\", line 765, in fit\n",
            "    self._do_dummy_prediction()\n",
            "  File \"/home/peng/opt/anaconda3/envs/autosl/lib/python3.9/site-packages/autosklearn/automl.py\", line 489, in _do_dummy_prediction\n",
            "    raise ValueError(msg)\n",
            "ValueError: (\" Dummy prediction failed with run state StatusType.MEMOUT and additional output: {'error': 'Memout (used more than 4096 MB).', 'configuration_origin': 'DUMMY'}.\",)\n"
          ]
        },
        {
          "ename": "ValueError",
          "evalue": "(\" Dummy prediction failed with run state StatusType.MEMOUT and additional output: {'error': 'Memout (used more than 4096 MB).', 'configuration_origin': 'DUMMY'}.\",)",
          "output_type": "error",
          "traceback": [
            "\u001b[0;31m---------------------------------------------------------------------------\u001b[0m",
            "\u001b[0;31mValueError\u001b[0m                                Traceback (most recent call last)",
            "Cell \u001b[0;32mIn[7], line 38\u001b[0m\n\u001b[1;32m     29\u001b[0m \u001b[38;5;28mprint\u001b[39m(run_value)\n\u001b[1;32m     31\u001b[0m \u001b[38;5;66;03m# We can make sure that our pipeline configuration was honored as follows\u001b[39;00m\n\u001b[1;32m     32\u001b[0m \u001b[38;5;66;03m# print(\"Passed Configuration:\", pipeline.config)\u001b[39;00m\n\u001b[1;32m     33\u001b[0m \u001b[38;5;66;03m# print(\"Random Forest:\", pipeline.named_steps[\"classifier\"].choice.estimator)\u001b[39;00m\n\u001b[0;32m   (...)\u001b[0m\n\u001b[1;32m     36\u001b[0m \u001b[38;5;66;03m# Any configurations found by Auto-Sklearn -- even the ones created using\u001b[39;00m\n\u001b[1;32m     37\u001b[0m \u001b[38;5;66;03m# fit_pipeline() are stored to disk and can be used for Ensemble Selection\u001b[39;00m\n\u001b[0;32m---> 38\u001b[0m cs \u001b[38;5;241m=\u001b[39m \u001b[38;5;28;43mcls\u001b[39;49m\u001b[38;5;241;43m.\u001b[39;49m\u001b[43mfit\u001b[49m\u001b[43m(\u001b[49m\u001b[43mX\u001b[49m\u001b[43m,\u001b[49m\u001b[43m \u001b[49m\u001b[43my\u001b[49m\u001b[43m,\u001b[49m\u001b[43m \u001b[49m\u001b[43mdataset_name\u001b[49m\u001b[38;5;241;43m=\u001b[39;49m\u001b[38;5;124;43m\"\u001b[39;49m\u001b[38;5;124;43mkr-vs-kp\u001b[39;49m\u001b[38;5;124;43m\"\u001b[39;49m\u001b[43m)\u001b[49m\n",
            "File \u001b[0;32m~/opt/anaconda3/envs/autosl/lib/python3.9/site-packages/autosklearn/estimators.py:1448\u001b[0m, in \u001b[0;36mAutoSklearnClassifier.fit\u001b[0;34m(self, X, y, X_test, y_test, feat_type, dataset_name)\u001b[0m\n\u001b[1;32m   1445\u001b[0m \u001b[38;5;66;03m# remember target type for using in predict_proba later.\u001b[39;00m\n\u001b[1;32m   1446\u001b[0m \u001b[38;5;28mself\u001b[39m\u001b[38;5;241m.\u001b[39mtarget_type \u001b[38;5;241m=\u001b[39m target_type\n\u001b[0;32m-> 1448\u001b[0m \u001b[38;5;28;43msuper\u001b[39;49m\u001b[43m(\u001b[49m\u001b[43m)\u001b[49m\u001b[38;5;241;43m.\u001b[39;49m\u001b[43mfit\u001b[49m\u001b[43m(\u001b[49m\n\u001b[1;32m   1449\u001b[0m \u001b[43m    \u001b[49m\u001b[43mX\u001b[49m\u001b[38;5;241;43m=\u001b[39;49m\u001b[43mX\u001b[49m\u001b[43m,\u001b[49m\n\u001b[1;32m   1450\u001b[0m \u001b[43m    \u001b[49m\u001b[43my\u001b[49m\u001b[38;5;241;43m=\u001b[39;49m\u001b[43my\u001b[49m\u001b[43m,\u001b[49m\n\u001b[1;32m   1451\u001b[0m \u001b[43m    \u001b[49m\u001b[43mX_test\u001b[49m\u001b[38;5;241;43m=\u001b[39;49m\u001b[43mX_test\u001b[49m\u001b[43m,\u001b[49m\n\u001b[1;32m   1452\u001b[0m \u001b[43m    \u001b[49m\u001b[43my_test\u001b[49m\u001b[38;5;241;43m=\u001b[39;49m\u001b[43my_test\u001b[49m\u001b[43m,\u001b[49m\n\u001b[1;32m   1453\u001b[0m \u001b[43m    \u001b[49m\u001b[43mfeat_type\u001b[49m\u001b[38;5;241;43m=\u001b[39;49m\u001b[43mfeat_type\u001b[49m\u001b[43m,\u001b[49m\n\u001b[1;32m   1454\u001b[0m \u001b[43m    \u001b[49m\u001b[43mdataset_name\u001b[49m\u001b[38;5;241;43m=\u001b[39;49m\u001b[43mdataset_name\u001b[49m\u001b[43m,\u001b[49m\n\u001b[1;32m   1455\u001b[0m \u001b[43m\u001b[49m\u001b[43m)\u001b[49m\n\u001b[1;32m   1457\u001b[0m \u001b[38;5;66;03m# After fit, a classifier is expected to define classes_\u001b[39;00m\n\u001b[1;32m   1458\u001b[0m \u001b[38;5;66;03m# A list of class labels known to the classifier, mapping each label\u001b[39;00m\n\u001b[1;32m   1459\u001b[0m \u001b[38;5;66;03m# to a numerical index used in the model representation our output.\u001b[39;00m\n\u001b[1;32m   1460\u001b[0m \u001b[38;5;28mself\u001b[39m\u001b[38;5;241m.\u001b[39mclasses_ \u001b[38;5;241m=\u001b[39m \u001b[38;5;28mself\u001b[39m\u001b[38;5;241m.\u001b[39mautoml_\u001b[38;5;241m.\u001b[39mInputValidator\u001b[38;5;241m.\u001b[39mtarget_validator\u001b[38;5;241m.\u001b[39mclasses_\n",
            "File \u001b[0;32m~/opt/anaconda3/envs/autosl/lib/python3.9/site-packages/autosklearn/estimators.py:540\u001b[0m, in \u001b[0;36mAutoSklearnEstimator.fit\u001b[0;34m(self, **kwargs)\u001b[0m\n\u001b[1;32m    538\u001b[0m \u001b[38;5;28;01mif\u001b[39;00m \u001b[38;5;28mself\u001b[39m\u001b[38;5;241m.\u001b[39mautoml_ \u001b[38;5;129;01mis\u001b[39;00m \u001b[38;5;28;01mNone\u001b[39;00m:\n\u001b[1;32m    539\u001b[0m     \u001b[38;5;28mself\u001b[39m\u001b[38;5;241m.\u001b[39mautoml_ \u001b[38;5;241m=\u001b[39m \u001b[38;5;28mself\u001b[39m\u001b[38;5;241m.\u001b[39mbuild_automl()\n\u001b[0;32m--> 540\u001b[0m \u001b[38;5;28;43mself\u001b[39;49m\u001b[38;5;241;43m.\u001b[39;49m\u001b[43mautoml_\u001b[49m\u001b[38;5;241;43m.\u001b[39;49m\u001b[43mfit\u001b[49m\u001b[43m(\u001b[49m\u001b[43mload_models\u001b[49m\u001b[38;5;241;43m=\u001b[39;49m\u001b[38;5;28;43mself\u001b[39;49m\u001b[38;5;241;43m.\u001b[39;49m\u001b[43mload_models\u001b[49m\u001b[43m,\u001b[49m\u001b[43m \u001b[49m\u001b[38;5;241;43m*\u001b[39;49m\u001b[38;5;241;43m*\u001b[39;49m\u001b[43mkwargs\u001b[49m\u001b[43m)\u001b[49m\n\u001b[1;32m    542\u001b[0m \u001b[38;5;28;01mreturn\u001b[39;00m \u001b[38;5;28mself\u001b[39m\n",
            "File \u001b[0;32m~/opt/anaconda3/envs/autosl/lib/python3.9/site-packages/autosklearn/automl.py:2304\u001b[0m, in \u001b[0;36mAutoMLClassifier.fit\u001b[0;34m(self, X, y, X_test, y_test, feat_type, dataset_name, only_return_configuration_space, load_models)\u001b[0m\n\u001b[1;32m   2293\u001b[0m \u001b[38;5;28;01mdef\u001b[39;00m \u001b[38;5;21mfit\u001b[39m(\n\u001b[1;32m   2294\u001b[0m     \u001b[38;5;28mself\u001b[39m,\n\u001b[1;32m   2295\u001b[0m     X: SUPPORTED_FEAT_TYPES,\n\u001b[0;32m   (...)\u001b[0m\n\u001b[1;32m   2302\u001b[0m     load_models: \u001b[38;5;28mbool\u001b[39m \u001b[38;5;241m=\u001b[39m \u001b[38;5;28;01mTrue\u001b[39;00m,\n\u001b[1;32m   2303\u001b[0m ) \u001b[38;5;241m-\u001b[39m\u001b[38;5;241m>\u001b[39m AutoMLClassifier:\n\u001b[0;32m-> 2304\u001b[0m     \u001b[38;5;28;01mreturn\u001b[39;00m \u001b[38;5;28;43msuper\u001b[39;49m\u001b[43m(\u001b[49m\u001b[43m)\u001b[49m\u001b[38;5;241;43m.\u001b[39;49m\u001b[43mfit\u001b[49m\u001b[43m(\u001b[49m\n\u001b[1;32m   2305\u001b[0m \u001b[43m        \u001b[49m\u001b[43mX\u001b[49m\u001b[43m,\u001b[49m\n\u001b[1;32m   2306\u001b[0m \u001b[43m        \u001b[49m\u001b[43my\u001b[49m\u001b[43m,\u001b[49m\n\u001b[1;32m   2307\u001b[0m \u001b[43m        \u001b[49m\u001b[43mX_test\u001b[49m\u001b[38;5;241;43m=\u001b[39;49m\u001b[43mX_test\u001b[49m\u001b[43m,\u001b[49m\n\u001b[1;32m   2308\u001b[0m \u001b[43m        \u001b[49m\u001b[43my_test\u001b[49m\u001b[38;5;241;43m=\u001b[39;49m\u001b[43my_test\u001b[49m\u001b[43m,\u001b[49m\n\u001b[1;32m   2309\u001b[0m \u001b[43m        \u001b[49m\u001b[43mfeat_type\u001b[49m\u001b[38;5;241;43m=\u001b[39;49m\u001b[43mfeat_type\u001b[49m\u001b[43m,\u001b[49m\n\u001b[1;32m   2310\u001b[0m \u001b[43m        \u001b[49m\u001b[43mdataset_name\u001b[49m\u001b[38;5;241;43m=\u001b[39;49m\u001b[43mdataset_name\u001b[49m\u001b[43m,\u001b[49m\n\u001b[1;32m   2311\u001b[0m \u001b[43m        \u001b[49m\u001b[43monly_return_configuration_space\u001b[49m\u001b[38;5;241;43m=\u001b[39;49m\u001b[43monly_return_configuration_space\u001b[49m\u001b[43m,\u001b[49m\n\u001b[1;32m   2312\u001b[0m \u001b[43m        \u001b[49m\u001b[43mload_models\u001b[49m\u001b[38;5;241;43m=\u001b[39;49m\u001b[43mload_models\u001b[49m\u001b[43m,\u001b[49m\n\u001b[1;32m   2313\u001b[0m \u001b[43m        \u001b[49m\u001b[43mis_classification\u001b[49m\u001b[38;5;241;43m=\u001b[39;49m\u001b[38;5;28;43;01mTrue\u001b[39;49;00m\u001b[43m,\u001b[49m\n\u001b[1;32m   2314\u001b[0m \u001b[43m    \u001b[49m\u001b[43m)\u001b[49m\n",
            "File \u001b[0;32m~/opt/anaconda3/envs/autosl/lib/python3.9/site-packages/autosklearn/automl.py:962\u001b[0m, in \u001b[0;36mAutoML.fit\u001b[0;34m(self, X, y, task, X_test, y_test, feat_type, dataset_name, only_return_configuration_space, load_models, is_classification)\u001b[0m\n\u001b[1;32m    959\u001b[0m \u001b[38;5;28;01mexcept\u001b[39;00m \u001b[38;5;167;01mException\u001b[39;00m \u001b[38;5;28;01mas\u001b[39;00m e:\n\u001b[1;32m    960\u001b[0m     \u001b[38;5;66;03m# This will be called before the _fit_cleanup\u001b[39;00m\n\u001b[1;32m    961\u001b[0m     \u001b[38;5;28mself\u001b[39m\u001b[38;5;241m.\u001b[39m_logger\u001b[38;5;241m.\u001b[39mexception(e)\n\u001b[0;32m--> 962\u001b[0m     \u001b[38;5;28;01mraise\u001b[39;00m e\n\u001b[1;32m    963\u001b[0m \u001b[38;5;28;01mfinally\u001b[39;00m:\n\u001b[1;32m    964\u001b[0m     \u001b[38;5;28mself\u001b[39m\u001b[38;5;241m.\u001b[39m_fit_cleanup()\n",
            "File \u001b[0;32m~/opt/anaconda3/envs/autosl/lib/python3.9/site-packages/autosklearn/automl.py:765\u001b[0m, in \u001b[0;36mAutoML.fit\u001b[0;34m(self, X, y, task, X_test, y_test, feat_type, dataset_name, only_return_configuration_space, load_models, is_classification)\u001b[0m\n\u001b[1;32m    763\u001b[0m \u001b[38;5;28;01mwith\u001b[39;00m \u001b[38;5;28mself\u001b[39m\u001b[38;5;241m.\u001b[39m_stopwatch\u001b[38;5;241m.\u001b[39mtime(\u001b[38;5;124m\"\u001b[39m\u001b[38;5;124mDummy predictions\u001b[39m\u001b[38;5;124m\"\u001b[39m):\n\u001b[1;32m    764\u001b[0m     \u001b[38;5;28mself\u001b[39m\u001b[38;5;241m.\u001b[39mnum_run \u001b[38;5;241m+\u001b[39m\u001b[38;5;241m=\u001b[39m \u001b[38;5;241m1\u001b[39m\n\u001b[0;32m--> 765\u001b[0m     \u001b[38;5;28;43mself\u001b[39;49m\u001b[38;5;241;43m.\u001b[39;49m\u001b[43m_do_dummy_prediction\u001b[49m\u001b[43m(\u001b[49m\u001b[43m)\u001b[49m\n\u001b[1;32m    767\u001b[0m \u001b[38;5;66;03m# == RUN ensemble builder\u001b[39;00m\n\u001b[1;32m    768\u001b[0m \u001b[38;5;66;03m# Do this before calculating the meta-features to make sure that the\u001b[39;00m\n\u001b[1;32m    769\u001b[0m \u001b[38;5;66;03m# dummy predictions are actually included in the ensemble even if\u001b[39;00m\n\u001b[1;32m    770\u001b[0m \u001b[38;5;66;03m# calculating the meta-features takes very long\u001b[39;00m\n\u001b[1;32m    771\u001b[0m \u001b[38;5;28;01mwith\u001b[39;00m \u001b[38;5;28mself\u001b[39m\u001b[38;5;241m.\u001b[39m_stopwatch\u001b[38;5;241m.\u001b[39mtime(\u001b[38;5;124m\"\u001b[39m\u001b[38;5;124mRun Ensemble Builder\u001b[39m\u001b[38;5;124m\"\u001b[39m):\n",
            "File \u001b[0;32m~/opt/anaconda3/envs/autosl/lib/python3.9/site-packages/autosklearn/automl.py:489\u001b[0m, in \u001b[0;36mAutoML._do_dummy_prediction\u001b[0;34m(self)\u001b[0m\n\u001b[1;32m    483\u001b[0m         msg \u001b[38;5;241m=\u001b[39m (\n\u001b[1;32m    484\u001b[0m             \u001b[38;5;124mf\u001b[39m\u001b[38;5;124m\"\u001b[39m\u001b[38;5;124m Dummy prediction failed with run state \u001b[39m\u001b[38;5;132;01m{\u001b[39;00mstatus\u001b[38;5;132;01m}\u001b[39;00m\u001b[38;5;124m and\u001b[39m\u001b[38;5;124m\"\u001b[39m\n\u001b[1;32m    485\u001b[0m             \u001b[38;5;124mf\u001b[39m\u001b[38;5;124m\"\u001b[39m\u001b[38;5;124m additional output: \u001b[39m\u001b[38;5;132;01m{\u001b[39;00madditional_info\u001b[38;5;132;01m}\u001b[39;00m\u001b[38;5;124m.\u001b[39m\u001b[38;5;124m\"\u001b[39m,\n\u001b[1;32m    486\u001b[0m         )\n\u001b[1;32m    488\u001b[0m     \u001b[38;5;28mself\u001b[39m\u001b[38;5;241m.\u001b[39m_logger\u001b[38;5;241m.\u001b[39merror(msg)\n\u001b[0;32m--> 489\u001b[0m     \u001b[38;5;28;01mraise\u001b[39;00m \u001b[38;5;167;01mValueError\u001b[39;00m(msg)\n\u001b[1;32m    491\u001b[0m \u001b[38;5;28;01mreturn\u001b[39;00m\n",
            "\u001b[0;31mValueError\u001b[0m: (\" Dummy prediction failed with run state StatusType.MEMOUT and additional output: {'error': 'Memout (used more than 4096 MB).', 'configuration_origin': 'DUMMY'}.\",)"
          ]
        }
      ],
      "source": [
        "# We will create a configuration that has a user defined\n",
        "# min_samples_split in the Random Forest. We recommend you to look into\n",
        "# how the ConfigSpace package works here:\n",
        "# https://automl.github.io/ConfigSpace/master/\n",
        "cs = cls.get_configuration_space(X, y, dataset_name=\"kr-vs-kp\")\n",
        "config = cs.sample_configuration()\n",
        "config._values[\"classifier:random_forest:min_samples_split\"] = 11\n",
        "\n",
        "# Make sure that your changed configuration complies with the configuration space\n",
        "config.is_valid_configuration()\n",
        "\n",
        "pipeline, run_info, run_value = cls.fit_pipeline(\n",
        "    X=X_train,\n",
        "    y=y_train,\n",
        "    dataset_name=\"kr-vs-kp\",\n",
        "    config=config,\n",
        "    X_test=X_test,\n",
        "    y_test=y_test,\n",
        "    \n",
        ")\n",
        "\n",
        "# This object complies with Scikit-Learn Pipeline API.\n",
        "# https://scikit-learn.org/stable/modules/generated/sklearn.pipeline.Pipeline.html\n",
        "# print(pipeline.named_steps)\n",
        "\n",
        "# The fit_pipeline command also returns a named tuple with the pipeline constraints\n",
        "print(run_info)\n",
        "\n",
        "# The fit_pipeline command also returns a named tuple with train/test performance\n",
        "print(run_value)\n",
        "\n",
        "# We can make sure that our pipeline configuration was honored as follows\n",
        "# print(\"Passed Configuration:\", pipeline.config)\n",
        "# print(\"Random Forest:\", pipeline.named_steps[\"classifier\"].choice.estimator)\n",
        "\n",
        "# We can also search for new configurations using the fit() method\n",
        "# Any configurations found by Auto-Sklearn -- even the ones created using\n",
        "# fit_pipeline() are stored to disk and can be used for Ensemble Selection\n",
        "cs = cls.fit(X, y, dataset_name=\"kr-vs-kp\")"
      ]
    }
  ],
  "metadata": {
    "kernelspec": {
      "display_name": "Python 3",
      "language": "python",
      "name": "python3"
    },
    "language_info": {
      "codemirror_mode": {
        "name": "ipython",
        "version": 3
      },
      "file_extension": ".py",
      "mimetype": "text/x-python",
      "name": "python",
      "nbconvert_exporter": "python",
      "pygments_lexer": "ipython3",
      "version": "3.9.19"
    }
  },
  "nbformat": 4,
  "nbformat_minor": 0
}
