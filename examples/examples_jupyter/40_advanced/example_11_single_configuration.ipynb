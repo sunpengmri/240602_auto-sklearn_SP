{
  "cells": [
    {
      "cell_type": "code",
      "execution_count": 1,
      "metadata": {
        "collapsed": false
      },
      "outputs": [],
      "source": [
        "%matplotlib inline"
      ]
    },
    {
      "cell_type": "markdown",
      "metadata": {},
      "source": [
        "\n",
        "# Fit a single configuration\n",
        "\n",
        "*Auto-sklearn* searches for the best combination of machine learning algorithms\n",
        "and their hyper-parameter configuration for a given task, using Scikit-Learn Pipelines.\n",
        "To further improve performance, this pipelines are ensemble together using Ensemble\n",
        "Selection from Caruana (2004).\n",
        "\n",
        "\n",
        "This example shows how one can fit one of this pipelines, both, with an user defined\n",
        "configuration, and a randomly sampled one form the configuration space.\n",
        "\n",
        "The pipelines that Auto-Sklearn fits are compatible with Scikit-Learn API. You can\n",
        "get further documentation about Scikit-Learn models here: <https://scikit-learn.org/stable/getting_started.html`>_\n"
      ]
    },
    {
      "cell_type": "code",
      "execution_count": 2,
      "metadata": {
        "collapsed": false
      },
      "outputs": [
        {
          "name": "stderr",
          "output_type": "stream",
          "text": [
            "/home/peng/opt/anaconda3/envs/autosl/lib/python3.9/site-packages/scipy/__init__.py:146: UserWarning: A NumPy version >=1.17.3 and <1.25.0 is required for this version of SciPy (detected version 1.26.4\n",
            "  warnings.warn(f\"A NumPy version >={np_minversion} and <{np_maxversion}\"\n"
          ]
        }
      ],
      "source": [
        "import numpy as np\n",
        "import sklearn.model_selection\n",
        "import sklearn.datasets\n",
        "import sklearn.metrics\n",
        "\n",
        "from ConfigSpace.configuration_space import Configuration\n",
        "\n",
        "import autosklearn.classification"
      ]
    },
    {
      "cell_type": "markdown",
      "metadata": {},
      "source": [
        "## Data Loading\n",
        "\n"
      ]
    },
    {
      "cell_type": "code",
      "execution_count": 3,
      "metadata": {
        "collapsed": false
      },
      "outputs": [],
      "source": [
        "X, y = sklearn.datasets.fetch_openml(data_id=3, return_X_y=True, as_frame=True)\n",
        "X_train, X_test, y_train, y_test = sklearn.model_selection.train_test_split(\n",
        "    X, y, test_size=0.5, random_state=3\n",
        ")"
      ]
    },
    {
      "cell_type": "markdown",
      "metadata": {},
      "source": [
        "## Define an estimator\n",
        "\n"
      ]
    },
    {
      "cell_type": "code",
      "execution_count": 8,
      "metadata": {
        "collapsed": false
      },
      "outputs": [],
      "source": [
        "cls = autosklearn.classification.AutoSklearnClassifier(\n",
        "    time_left_for_this_task=120,\n",
        "    per_run_time_limit=60,\n",
        "    memory_limit=16384,\n",
        "    # We will limit the configuration space only to\n",
        "    # have RandomForest as a valid model. We recommend enabling all\n",
        "    # possible models to get a better performance.\n",
        "    include={\"classifier\": [\"random_forest\"]},\n",
        "    delete_tmp_folder_after_terminate=False,\n",
        ")"
      ]
    },
    {
      "cell_type": "markdown",
      "metadata": {},
      "source": [
        "## Fit an user provided configuration\n",
        "\n"
      ]
    },
    {
      "cell_type": "code",
      "execution_count": 9,
      "metadata": {
        "collapsed": false
      },
      "outputs": [
        {
          "name": "stderr",
          "output_type": "stream",
          "text": [
            "/home/peng/opt/anaconda3/envs/autosl/lib/python3.9/site-packages/autosklearn/data/target_validator.py:187: UserWarning: Fitting transformer with a pandas series which has the dtype category. Inverse transform may not be able preserve dtype when converting to np.ndarray\n",
            "  warnings.warn(\n"
          ]
        },
        {
          "name": "stdout",
          "output_type": "stream",
          "text": [
            "RunInfo(config=Configuration(values={\n",
            "  'balancing:strategy': 'weighting',\n",
            "  'classifier:__choice__': 'random_forest',\n",
            "  'classifier:random_forest:bootstrap': 'False',\n",
            "  'classifier:random_forest:criterion': 'gini',\n",
            "  'classifier:random_forest:max_depth': 'None',\n",
            "  'classifier:random_forest:max_features': 0.8797300474755486,\n",
            "  'classifier:random_forest:max_leaf_nodes': 'None',\n",
            "  'classifier:random_forest:min_impurity_decrease': 0.0,\n",
            "  'classifier:random_forest:min_samples_leaf': 16,\n",
            "  'classifier:random_forest:min_samples_split': 11,\n",
            "  'classifier:random_forest:min_weight_fraction_leaf': 0.0,\n",
            "  'data_preprocessor:__choice__': 'feature_type',\n",
            "  'data_preprocessor:feature_type:categorical_transformer:categorical_encoding:__choice__': 'encoding',\n",
            "  'data_preprocessor:feature_type:categorical_transformer:category_coalescence:__choice__': 'no_coalescense',\n",
            "  'feature_preprocessor:__choice__': 'extra_trees_preproc_for_classification',\n",
            "  'feature_preprocessor:extra_trees_preproc_for_classification:bootstrap': 'True',\n",
            "  'feature_preprocessor:extra_trees_preproc_for_classification:criterion': 'entropy',\n",
            "  'feature_preprocessor:extra_trees_preproc_for_classification:max_depth': 'None',\n",
            "  'feature_preprocessor:extra_trees_preproc_for_classification:max_features': 0.4250987633246631,\n",
            "  'feature_preprocessor:extra_trees_preproc_for_classification:max_leaf_nodes': 'None',\n",
            "  'feature_preprocessor:extra_trees_preproc_for_classification:min_impurity_decrease': 0.0,\n",
            "  'feature_preprocessor:extra_trees_preproc_for_classification:min_samples_leaf': 18,\n",
            "  'feature_preprocessor:extra_trees_preproc_for_classification:min_samples_split': 2,\n",
            "  'feature_preprocessor:extra_trees_preproc_for_classification:min_weight_fraction_leaf': 0.0,\n",
            "  'feature_preprocessor:extra_trees_preproc_for_classification:n_estimators': 100,\n",
            "})\n",
            ", instance=None, instance_specific=None, seed=1, cutoff=60, capped=False, budget=0.0, source_id=0)\n",
            "RunValue(cost=0.05876777251184839, time=0.6765005588531494, status=<StatusType.SUCCESS: 1>, starttime=1718171711.8146331, endtime=1718171712.5033803, additional_info={'duration': 0.6448078155517578, 'num_run': 2, 'train_loss': 0.059318075665576786, 'configuration_origin': None})\n"
          ]
        },
        {
          "name": "stderr",
          "output_type": "stream",
          "text": [
            "/home/peng/opt/anaconda3/envs/autosl/lib/python3.9/site-packages/autosklearn/data/target_validator.py:187: UserWarning: Fitting transformer with a pandas series which has the dtype category. Inverse transform may not be able preserve dtype when converting to np.ndarray\n",
            "  warnings.warn(\n"
          ]
        },
        {
          "name": "stdout",
          "output_type": "stream",
          "text": [
            "[WARNING] [2024-06-12 13:55:19,751:Client-AutoML(1):kr-vs-kp] Capping the per_run_time_limit to 59.0 to have time for a least 2 models in each process.\n",
            "[WARNING] [2024-06-12 13:55:19,918:Client-AutoMLSMBO(1)::kr-vs-kp] Configuration 230 not found\n",
            "[WARNING] [2024-06-12 13:55:19,918:Client-AutoMLSMBO(1)::kr-vs-kp] Configuration 473 not found\n",
            "[WARNING] [2024-06-12 13:55:19,918:Client-AutoMLSMBO(1)::kr-vs-kp] Configuration 460 not found\n",
            "[WARNING] [2024-06-12 13:55:19,918:Client-AutoMLSMBO(1)::kr-vs-kp] Configuration 211 not found\n",
            "[WARNING] [2024-06-12 13:55:19,918:Client-AutoMLSMBO(1)::kr-vs-kp] Configuration 138 not found\n",
            "[WARNING] [2024-06-12 13:55:19,918:Client-AutoMLSMBO(1)::kr-vs-kp] Configuration 532 not found\n",
            "[WARNING] [2024-06-12 13:55:19,919:Client-AutoMLSMBO(1)::kr-vs-kp] Configuration 506 not found\n",
            "[WARNING] [2024-06-12 13:55:19,919:Client-AutoMLSMBO(1)::kr-vs-kp] Configuration 222 not found\n",
            "[WARNING] [2024-06-12 13:55:19,919:Client-AutoMLSMBO(1)::kr-vs-kp] Configuration 454 not found\n",
            "[WARNING] [2024-06-12 13:55:19,919:Client-AutoMLSMBO(1)::kr-vs-kp] Configuration 1 not found\n",
            "[WARNING] [2024-06-12 13:55:19,919:Client-AutoMLSMBO(1)::kr-vs-kp] Configuration 659 not found\n",
            "[WARNING] [2024-06-12 13:55:19,919:Client-AutoMLSMBO(1)::kr-vs-kp] Configuration 329 not found\n",
            "[WARNING] [2024-06-12 13:55:19,919:Client-AutoMLSMBO(1)::kr-vs-kp] Configuration 690 not found\n",
            "[WARNING] [2024-06-12 13:55:19,919:Client-AutoMLSMBO(1)::kr-vs-kp] Configuration 674 not found\n",
            "[WARNING] [2024-06-12 13:55:19,919:Client-AutoMLSMBO(1)::kr-vs-kp] Configuration 563 not found\n",
            "[WARNING] [2024-06-12 13:55:19,919:Client-AutoMLSMBO(1)::kr-vs-kp] Configuration 75 not found\n",
            "[WARNING] [2024-06-12 13:55:19,919:Client-AutoMLSMBO(1)::kr-vs-kp] Configuration 347 not found\n",
            "[WARNING] [2024-06-12 13:55:19,919:Client-AutoMLSMBO(1)::kr-vs-kp] Configuration 61 not found\n",
            "[WARNING] [2024-06-12 13:55:19,919:Client-AutoMLSMBO(1)::kr-vs-kp] Configuration 399 not found\n",
            "[WARNING] [2024-06-12 13:55:19,919:Client-AutoMLSMBO(1)::kr-vs-kp] Configuration 332 not found\n",
            "[WARNING] [2024-06-12 13:55:19,919:Client-AutoMLSMBO(1)::kr-vs-kp] Configuration 590 not found\n",
            "[WARNING] [2024-06-12 13:55:19,919:Client-AutoMLSMBO(1)::kr-vs-kp] Configuration 149 not found\n",
            "[WARNING] [2024-06-12 13:55:19,919:Client-AutoMLSMBO(1)::kr-vs-kp] Configuration 67 not found\n",
            "[WARNING] [2024-06-12 13:55:19,919:Client-AutoMLSMBO(1)::kr-vs-kp] Configuration 576 not found\n",
            "[WARNING] [2024-06-12 13:55:19,919:Client-AutoMLSMBO(1)::kr-vs-kp] Configuration 358 not found\n",
            "[WARNING] [2024-06-12 13:55:19,919:Client-AutoMLSMBO(1)::kr-vs-kp] Configuration 184 not found\n",
            "[WARNING] [2024-06-12 13:55:19,919:Client-AutoMLSMBO(1)::kr-vs-kp] Configuration 257 not found\n",
            "[WARNING] [2024-06-12 13:55:19,919:Client-AutoMLSMBO(1)::kr-vs-kp] Configuration 624 not found\n",
            "[WARNING] [2024-06-12 13:55:19,919:Client-AutoMLSMBO(1)::kr-vs-kp] Configuration 345 not found\n",
            "[WARNING] [2024-06-12 13:55:19,919:Client-AutoMLSMBO(1)::kr-vs-kp] Configuration 188 not found\n",
            "[WARNING] [2024-06-12 13:55:19,919:Client-AutoMLSMBO(1)::kr-vs-kp] Configuration 327 not found\n",
            "[WARNING] [2024-06-12 13:55:19,919:Client-AutoMLSMBO(1)::kr-vs-kp] Configuration 81 not found\n",
            "[WARNING] [2024-06-12 13:55:19,919:Client-AutoMLSMBO(1)::kr-vs-kp] Configuration 283 not found\n",
            "[WARNING] [2024-06-12 13:55:19,919:Client-AutoMLSMBO(1)::kr-vs-kp] Configuration 162 not found\n",
            "[WARNING] [2024-06-12 13:55:19,919:Client-AutoMLSMBO(1)::kr-vs-kp] Configuration 9 not found\n",
            "[WARNING] [2024-06-12 13:55:19,919:Client-AutoMLSMBO(1)::kr-vs-kp] Configuration 191 not found\n",
            "[WARNING] [2024-06-12 13:55:19,919:Client-AutoMLSMBO(1)::kr-vs-kp] Configuration 108 not found\n",
            "[WARNING] [2024-06-12 13:55:19,919:Client-AutoMLSMBO(1)::kr-vs-kp] Configuration 407 not found\n",
            "[WARNING] [2024-06-12 13:55:19,919:Client-AutoMLSMBO(1)::kr-vs-kp] Configuration 32 not found\n",
            "[WARNING] [2024-06-12 13:55:19,919:Client-AutoMLSMBO(1)::kr-vs-kp] Configuration 521 not found\n",
            "[WARNING] [2024-06-12 13:55:19,919:Client-AutoMLSMBO(1)::kr-vs-kp] Configuration 386 not found\n",
            "[WARNING] [2024-06-12 13:55:19,919:Client-AutoMLSMBO(1)::kr-vs-kp] Configuration 238 not found\n",
            "[WARNING] [2024-06-12 13:55:19,919:Client-AutoMLSMBO(1)::kr-vs-kp] Configuration 22 not found\n",
            "[WARNING] [2024-06-12 13:55:19,919:Client-AutoMLSMBO(1)::kr-vs-kp] Configuration 601 not found\n",
            "[WARNING] [2024-06-12 13:55:19,919:Client-AutoMLSMBO(1)::kr-vs-kp] Configuration 518 not found\n",
            "[WARNING] [2024-06-12 13:55:19,919:Client-AutoMLSMBO(1)::kr-vs-kp] Configuration 176 not found\n",
            "[WARNING] [2024-06-12 13:55:19,919:Client-AutoMLSMBO(1)::kr-vs-kp] Configuration 657 not found\n",
            "[WARNING] [2024-06-12 13:55:19,919:Client-AutoMLSMBO(1)::kr-vs-kp] Configuration 338 not found\n",
            "[WARNING] [2024-06-12 13:55:19,919:Client-AutoMLSMBO(1)::kr-vs-kp] Configuration 43 not found\n",
            "[WARNING] [2024-06-12 13:55:19,919:Client-AutoMLSMBO(1)::kr-vs-kp] Configuration 492 not found\n",
            "[WARNING] [2024-06-12 13:55:19,919:Client-AutoMLSMBO(1)::kr-vs-kp] Configuration 702 not found\n",
            "[WARNING] [2024-06-12 13:55:19,919:Client-AutoMLSMBO(1)::kr-vs-kp] Configuration 546 not found\n",
            "[WARNING] [2024-06-12 13:55:19,919:Client-AutoMLSMBO(1)::kr-vs-kp] Configuration 444 not found\n",
            "[WARNING] [2024-06-12 13:55:19,919:Client-AutoMLSMBO(1)::kr-vs-kp] Configuration 147 not found\n",
            "[WARNING] [2024-06-12 13:55:19,919:Client-AutoMLSMBO(1)::kr-vs-kp] Configuration 262 not found\n",
            "[WARNING] [2024-06-12 13:55:19,919:Client-AutoMLSMBO(1)::kr-vs-kp] Configuration 91 not found\n",
            "[WARNING] [2024-06-12 13:55:19,919:Client-AutoMLSMBO(1)::kr-vs-kp] Configuration 206 not found\n",
            "[WARNING] [2024-06-12 13:55:19,919:Client-AutoMLSMBO(1)::kr-vs-kp] Configuration 14 not found\n",
            "[WARNING] [2024-06-12 13:55:19,919:Client-AutoMLSMBO(1)::kr-vs-kp] Configuration 605 not found\n",
            "[WARNING] [2024-06-12 13:55:19,919:Client-AutoMLSMBO(1)::kr-vs-kp] Configuration 426 not found\n",
            "[WARNING] [2024-06-12 13:55:19,919:Client-AutoMLSMBO(1)::kr-vs-kp] Configuration 71 not found\n",
            "[WARNING] [2024-06-12 13:55:19,919:Client-AutoMLSMBO(1)::kr-vs-kp] Configuration 574 not found\n",
            "[WARNING] [2024-06-12 13:55:19,919:Client-AutoMLSMBO(1)::kr-vs-kp] Configuration 467 not found\n",
            "[WARNING] [2024-06-12 13:55:19,919:Client-AutoMLSMBO(1)::kr-vs-kp] Configuration 7 not found\n",
            "[WARNING] [2024-06-12 13:55:19,919:Client-AutoMLSMBO(1)::kr-vs-kp] Configuration 631 not found\n",
            "[WARNING] [2024-06-12 13:55:19,919:Client-AutoMLSMBO(1)::kr-vs-kp] Configuration 694 not found\n",
            "[WARNING] [2024-06-12 13:55:19,919:Client-AutoMLSMBO(1)::kr-vs-kp] Configuration 37 not found\n",
            "[WARNING] [2024-06-12 13:55:19,919:Client-AutoMLSMBO(1)::kr-vs-kp] Configuration 367 not found\n",
            "[WARNING] [2024-06-12 13:55:19,919:Client-AutoMLSMBO(1)::kr-vs-kp] Configuration 579 not found\n",
            "[WARNING] [2024-06-12 13:55:19,919:Client-AutoMLSMBO(1)::kr-vs-kp] Configuration 131 not found\n",
            "[WARNING] [2024-06-12 13:55:19,919:Client-AutoMLSMBO(1)::kr-vs-kp] Configuration 701 not found\n",
            "[WARNING] [2024-06-12 13:55:19,919:Client-AutoMLSMBO(1)::kr-vs-kp] Configuration 114 not found\n",
            "[WARNING] [2024-06-12 13:55:19,919:Client-AutoMLSMBO(1)::kr-vs-kp] Configuration 524 not found\n",
            "[WARNING] [2024-06-12 13:55:19,919:Client-AutoMLSMBO(1)::kr-vs-kp] Configuration 668 not found\n",
            "[WARNING] [2024-06-12 13:55:19,919:Client-AutoMLSMBO(1)::kr-vs-kp] Configuration 608 not found\n",
            "[WARNING] [2024-06-12 13:55:19,919:Client-AutoMLSMBO(1)::kr-vs-kp] Configuration 254 not found\n",
            "[WARNING] [2024-06-12 13:55:19,919:Client-AutoMLSMBO(1)::kr-vs-kp] Configuration 129 not found\n",
            "[WARNING] [2024-06-12 13:55:19,919:Client-AutoMLSMBO(1)::kr-vs-kp] Configuration 414 not found\n",
            "[WARNING] [2024-06-12 13:55:19,919:Client-AutoMLSMBO(1)::kr-vs-kp] Configuration 595 not found\n",
            "[WARNING] [2024-06-12 13:55:19,919:Client-AutoMLSMBO(1)::kr-vs-kp] Configuration 430 not found\n",
            "[WARNING] [2024-06-12 13:55:19,919:Client-AutoMLSMBO(1)::kr-vs-kp] Configuration 445 not found\n",
            "[WARNING] [2024-06-12 13:55:19,920:Client-AutoMLSMBO(1)::kr-vs-kp] Configuration 680 not found\n",
            "[WARNING] [2024-06-12 13:55:19,920:Client-AutoMLSMBO(1)::kr-vs-kp] Configuration 40 not found\n",
            "[WARNING] [2024-06-12 13:55:19,920:Client-AutoMLSMBO(1)::kr-vs-kp] Configuration 264 not found\n",
            "[WARNING] [2024-06-12 13:55:19,920:Client-AutoMLSMBO(1)::kr-vs-kp] Configuration 124 not found\n",
            "[WARNING] [2024-06-12 13:55:19,920:Client-AutoMLSMBO(1)::kr-vs-kp] Configuration 88 not found\n",
            "[WARNING] [2024-06-12 13:55:19,920:Client-AutoMLSMBO(1)::kr-vs-kp] Configuration 707 not found\n",
            "[WARNING] [2024-06-12 13:55:19,920:Client-AutoMLSMBO(1)::kr-vs-kp] Configuration 83 not found\n",
            "[WARNING] [2024-06-12 13:55:19,920:Client-AutoMLSMBO(1)::kr-vs-kp] Configuration 214 not found\n",
            "[WARNING] [2024-06-12 13:55:19,920:Client-AutoMLSMBO(1)::kr-vs-kp] Configuration 670 not found\n",
            "[WARNING] [2024-06-12 13:55:19,920:Client-AutoMLSMBO(1)::kr-vs-kp] Configuration 422 not found\n",
            "[WARNING] [2024-06-12 13:55:19,920:Client-AutoMLSMBO(1)::kr-vs-kp] Configuration 617 not found\n",
            "[WARNING] [2024-06-12 13:55:19,920:Client-AutoMLSMBO(1)::kr-vs-kp] Configuration 555 not found\n",
            "[WARNING] [2024-06-12 13:55:19,920:Client-AutoMLSMBO(1)::kr-vs-kp] Configuration 302 not found\n",
            "[WARNING] [2024-06-12 13:55:19,920:Client-AutoMLSMBO(1)::kr-vs-kp] Configuration 53 not found\n",
            "[WARNING] [2024-06-12 13:55:19,920:Client-AutoMLSMBO(1)::kr-vs-kp] Configuration 434 not found\n",
            "[WARNING] [2024-06-12 13:55:19,920:Client-AutoMLSMBO(1)::kr-vs-kp] Configuration 277 not found\n",
            "[WARNING] [2024-06-12 13:55:19,921:Client-AutoMLSMBO(1)::kr-vs-kp] Configuration 615 not found\n",
            "[WARNING] [2024-06-12 13:55:19,921:Client-AutoMLSMBO(1)::kr-vs-kp] Configuration 571 not found\n",
            "[WARNING] [2024-06-12 13:55:19,921:Client-AutoMLSMBO(1)::kr-vs-kp] Configuration 613 not found\n",
            "[WARNING] [2024-06-12 13:55:19,921:Client-AutoMLSMBO(1)::kr-vs-kp] Configuration 683 not found\n",
            "[WARNING] [2024-06-12 13:55:19,921:Client-AutoMLSMBO(1)::kr-vs-kp] Configuration 352 not found\n",
            "[WARNING] [2024-06-12 13:55:19,921:Client-AutoMLSMBO(1)::kr-vs-kp] Configuration 232 not found\n",
            "[WARNING] [2024-06-12 13:55:19,921:Client-AutoMLSMBO(1)::kr-vs-kp] Configuration 647 not found\n",
            "[WARNING] [2024-06-12 13:55:19,921:Client-AutoMLSMBO(1)::kr-vs-kp] Configuration 173 not found\n",
            "[WARNING] [2024-06-12 13:55:19,921:Client-AutoMLSMBO(1)::kr-vs-kp] Configuration 378 not found\n",
            "[WARNING] [2024-06-12 13:55:19,921:Client-AutoMLSMBO(1)::kr-vs-kp] Configuration 56 not found\n",
            "[WARNING] [2024-06-12 13:55:19,921:Client-AutoMLSMBO(1)::kr-vs-kp] Configuration 112 not found\n",
            "[WARNING] [2024-06-12 13:55:19,921:Client-AutoMLSMBO(1)::kr-vs-kp] Configuration 17 not found\n",
            "[WARNING] [2024-06-12 13:55:19,921:Client-AutoMLSMBO(1)::kr-vs-kp] Configuration 247 not found\n",
            "[WARNING] [2024-06-12 13:55:19,921:Client-AutoMLSMBO(1)::kr-vs-kp] Configuration 204 not found\n",
            "[WARNING] [2024-06-12 13:55:19,921:Client-AutoMLSMBO(1)::kr-vs-kp] Configuration 293 not found\n",
            "[WARNING] [2024-06-12 13:55:19,921:Client-AutoMLSMBO(1)::kr-vs-kp] Configuration 154 not found\n",
            "[WARNING] [2024-06-12 13:55:19,921:Client-AutoMLSMBO(1)::kr-vs-kp] Configuration 172 not found\n",
            "[WARNING] [2024-06-12 13:55:19,921:Client-AutoMLSMBO(1)::kr-vs-kp] Configuration 270 not found\n",
            "[WARNING] [2024-06-12 13:55:19,921:Client-AutoMLSMBO(1)::kr-vs-kp] Configuration 183 not found\n",
            "[WARNING] [2024-06-12 13:55:19,921:Client-AutoMLSMBO(1)::kr-vs-kp] Configuration 494 not found\n",
            "[WARNING] [2024-06-12 13:55:19,921:Client-AutoMLSMBO(1)::kr-vs-kp] Configuration 653 not found\n",
            "[WARNING] [2024-06-12 13:55:19,921:Client-AutoMLSMBO(1)::kr-vs-kp] Configuration 25 not found\n",
            "[WARNING] [2024-06-12 13:55:19,921:Client-AutoMLSMBO(1)::kr-vs-kp] Configuration 69 not found\n",
            "[WARNING] [2024-06-12 13:55:19,921:Client-AutoMLSMBO(1)::kr-vs-kp] Configuration 142 not found\n",
            "[WARNING] [2024-06-12 13:55:19,921:Client-AutoMLSMBO(1)::kr-vs-kp] Configuration 437 not found\n",
            "[WARNING] [2024-06-12 13:55:19,921:Client-AutoMLSMBO(1)::kr-vs-kp] Configuration 310 not found\n",
            "[WARNING] [2024-06-12 13:55:19,921:Client-AutoMLSMBO(1)::kr-vs-kp] Configuration 298 not found\n",
            "[WARNING] [2024-06-12 13:55:19,921:Client-AutoMLSMBO(1)::kr-vs-kp] Configuration 288 not found\n",
            "[WARNING] [2024-06-12 13:55:19,921:Client-AutoMLSMBO(1)::kr-vs-kp] Configuration 628 not found\n",
            "[WARNING] [2024-06-12 13:55:19,921:Client-AutoMLSMBO(1)::kr-vs-kp] Configuration 121 not found\n",
            "[WARNING] [2024-06-12 13:55:19,921:Client-AutoMLSMBO(1)::kr-vs-kp] Configuration 448 not found\n",
            "[WARNING] [2024-06-12 13:55:19,921:Client-AutoMLSMBO(1)::kr-vs-kp] Configuration 134 not found\n",
            "[WARNING] [2024-06-12 13:55:19,921:Client-AutoMLSMBO(1)::kr-vs-kp] Configuration 395 not found\n",
            "[WARNING] [2024-06-12 13:55:19,921:Client-AutoMLSMBO(1)::kr-vs-kp] Configuration 543 not found\n",
            "[WARNING] [2024-06-12 13:55:19,921:Client-AutoMLSMBO(1)::kr-vs-kp] Configuration 643 not found\n",
            "[WARNING] [2024-06-12 13:55:19,921:Client-AutoMLSMBO(1)::kr-vs-kp] Configuration 412 not found\n",
            "[WARNING] [2024-06-12 13:55:19,921:Client-AutoMLSMBO(1)::kr-vs-kp] Configuration 19 not found\n",
            "[WARNING] [2024-06-12 13:55:19,921:Client-AutoMLSMBO(1)::kr-vs-kp] Configuration 171 not found\n",
            "[WARNING] [2024-06-12 13:55:19,921:Client-AutoMLSMBO(1)::kr-vs-kp] Configuration 528 not found\n",
            "[WARNING] [2024-06-12 13:55:19,921:Client-AutoMLSMBO(1)::kr-vs-kp] Configuration 403 not found\n",
            "[WARNING] [2024-06-12 13:55:19,921:Client-AutoMLSMBO(1)::kr-vs-kp] Configuration 243 not found\n",
            "[WARNING] [2024-06-12 13:55:19,921:Client-AutoMLSMBO(1)::kr-vs-kp] Configuration 486 not found\n",
            "[WARNING] [2024-06-12 13:55:19,921:Client-AutoMLSMBO(1)::kr-vs-kp] Configuration 480 not found\n",
            "[WARNING] [2024-06-12 13:55:19,921:Client-AutoMLSMBO(1)::kr-vs-kp] Configuration 640 not found\n",
            "[WARNING] [2024-06-12 13:55:19,921:Client-AutoMLSMBO(1)::kr-vs-kp] Configuration 363 not found\n",
            "[WARNING] [2024-06-12 13:55:19,921:Client-AutoMLSMBO(1)::kr-vs-kp] Configuration 375 not found\n",
            "[WARNING] [2024-06-12 13:55:19,921:Client-AutoMLSMBO(1)::kr-vs-kp] Configuration 538 not found\n",
            "[WARNING] [2024-06-12 13:55:19,921:Client-AutoMLSMBO(1)::kr-vs-kp] Configuration 58 not found\n",
            "[WARNING] [2024-06-12 13:55:19,922:Client-AutoMLSMBO(1)::kr-vs-kp] Configuration 102 not found\n",
            "[WARNING] [2024-06-12 13:55:19,922:Client-AutoMLSMBO(1)::kr-vs-kp] Configuration 291 not found\n",
            "[WARNING] [2024-06-12 13:55:19,922:Client-AutoMLSMBO(1)::kr-vs-kp] Configuration 452 not found\n",
            "[WARNING] [2024-06-12 13:55:19,922:Client-AutoMLSMBO(1)::kr-vs-kp] Configuration 120 not found\n",
            "[WARNING] [2024-06-12 13:55:19,922:Client-AutoMLSMBO(1)::kr-vs-kp] Configuration 150 not found\n"
          ]
        }
      ],
      "source": [
        "# We will create a configuration that has a user defined\n",
        "# min_samples_split in the Random Forest. We recommend you to look into\n",
        "# how the ConfigSpace package works here:\n",
        "# https://automl.github.io/ConfigSpace/master/\n",
        "cs = cls.get_configuration_space(X, y, dataset_name=\"kr-vs-kp\")\n",
        "config = cs.sample_configuration()\n",
        "config._values[\"classifier:random_forest:min_samples_split\"] = 11\n",
        "\n",
        "# Make sure that your changed configuration complies with the configuration space\n",
        "config.is_valid_configuration()\n",
        "\n",
        "pipeline, run_info, run_value = cls.fit_pipeline(\n",
        "    X=X_train,\n",
        "    y=y_train,\n",
        "    dataset_name=\"kr-vs-kp\",\n",
        "    config=config,\n",
        "    X_test=X_test,\n",
        "    y_test=y_test,\n",
        "    \n",
        ")\n",
        "\n",
        "# This object complies with Scikit-Learn Pipeline API.\n",
        "# https://scikit-learn.org/stable/modules/generated/sklearn.pipeline.Pipeline.html\n",
        "# print(pipeline.named_steps)\n",
        "\n",
        "# The fit_pipeline command also returns a named tuple with the pipeline constraints\n",
        "print(run_info)\n",
        "\n",
        "# The fit_pipeline command also returns a named tuple with train/test performance\n",
        "print(run_value)\n",
        "\n",
        "# We can make sure that our pipeline configuration was honored as follows\n",
        "# print(\"Passed Configuration:\", pipeline.config)\n",
        "# print(\"Random Forest:\", pipeline.named_steps[\"classifier\"].choice.estimator)\n",
        "\n",
        "# We can also search for new configurations using the fit() method\n",
        "# Any configurations found by Auto-Sklearn -- even the ones created using\n",
        "# fit_pipeline() are stored to disk and can be used for Ensemble Selection\n",
        "cs = cls.fit(X, y, dataset_name=\"kr-vs-kp\")"
      ]
    }
  ],
  "metadata": {
    "kernelspec": {
      "display_name": "Python 3",
      "language": "python",
      "name": "python3"
    },
    "language_info": {
      "codemirror_mode": {
        "name": "ipython",
        "version": 3
      },
      "file_extension": ".py",
      "mimetype": "text/x-python",
      "name": "python",
      "nbconvert_exporter": "python",
      "pygments_lexer": "ipython3",
      "version": "3.9.undefined"
    }
  },
  "nbformat": 4,
  "nbformat_minor": 0
}
