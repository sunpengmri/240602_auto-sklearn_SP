{
  "cells": [
    {
      "cell_type": "code",
      "execution_count": null,
      "metadata": {
        "collapsed": false
      },
      "outputs": [],
      "source": [
        "%matplotlib inline"
      ]
    },
    {
      "cell_type": "markdown",
      "metadata": {},
      "source": [
        "\n# Fit a single configuration\n\n*Auto-sklearn* searches for the best combination of machine learning algorithms\nand their hyper-parameter configuration for a given task, using Scikit-Learn Pipelines.\nTo further improve performance, this pipelines are ensemble together using Ensemble\nSelection from Caruana (2004).\n\n\nThis example shows how one can fit one of this pipelines, both, with an user defined\nconfiguration, and a randomly sampled one form the configuration space.\n\nThe pipelines that Auto-Sklearn fits are compatible with Scikit-Learn API. You can\nget further documentation about Scikit-Learn models here: <https://scikit-learn.org/stable/getting_started.html`>_\n"
      ]
    },
    {
      "cell_type": "code",
      "execution_count": null,
      "metadata": {
        "collapsed": false
      },
      "outputs": [],
      "source": [
        "import numpy as np\nimport sklearn.model_selection\nimport sklearn.datasets\nimport sklearn.metrics\n\nfrom ConfigSpace.configuration_space import Configuration\n\nimport autosklearn.classification"
      ]
    },
    {
      "cell_type": "markdown",
      "metadata": {},
      "source": [
        "## Data Loading\n\n"
      ]
    },
    {
      "cell_type": "code",
      "execution_count": null,
      "metadata": {
        "collapsed": false
      },
      "outputs": [],
      "source": [
        "X, y = sklearn.datasets.fetch_openml(data_id=3, return_X_y=True, as_frame=True)\nX_train, X_test, y_train, y_test = sklearn.model_selection.train_test_split(\n    X, y, test_size=0.5, random_state=3\n)"
      ]
    },
    {
      "cell_type": "markdown",
      "metadata": {},
      "source": [
        "## Define an estimator\n\n"
      ]
    },
    {
      "cell_type": "code",
      "execution_count": null,
      "metadata": {
        "collapsed": false
      },
      "outputs": [],
      "source": [
        "cls = autosklearn.classification.AutoSklearnClassifier(\n    time_left_for_this_task=120,\n    per_run_time_limit=60,\n    memory_limit=4096,\n    # We will limit the configuration space only to\n    # have RandomForest as a valid model. We recommend enabling all\n    # possible models to get a better performance.\n    include={\"classifier\": [\"random_forest\"]},\n    delete_tmp_folder_after_terminate=False,\n)"
      ]
    },
    {
      "cell_type": "markdown",
      "metadata": {},
      "source": [
        "## Fit an user provided configuration\n\n"
      ]
    },
    {
      "cell_type": "code",
      "execution_count": null,
      "metadata": {
        "collapsed": false
      },
      "outputs": [],
      "source": [
        "# We will create a configuration that has a user defined\n# min_samples_split in the Random Forest. We recommend you to look into\n# how the ConfigSpace package works here:\n# https://automl.github.io/ConfigSpace/master/\ncs = cls.get_configuration_space(X, y, dataset_name=\"kr-vs-kp\")\nconfig = cs.sample_configuration()\nconfig._values[\"classifier:random_forest:min_samples_split\"] = 11\n\n# Make sure that your changed configuration complies with the configuration space\nconfig.is_valid_configuration()\n\npipeline, run_info, run_value = cls.fit_pipeline(\n    X=X_train,\n    y=y_train,\n    dataset_name=\"kr-vs-kp\",\n    config=config,\n    X_test=X_test,\n    y_test=y_test,\n)\n\n# This object complies with Scikit-Learn Pipeline API.\n# https://scikit-learn.org/stable/modules/generated/sklearn.pipeline.Pipeline.html\nprint(pipeline.named_steps)\n\n# The fit_pipeline command also returns a named tuple with the pipeline constraints\nprint(run_info)\n\n# The fit_pipeline command also returns a named tuple with train/test performance\nprint(run_value)\n\n# We can make sure that our pipeline configuration was honored as follows\nprint(\"Passed Configuration:\", pipeline.config)\nprint(\"Random Forest:\", pipeline.named_steps[\"classifier\"].choice.estimator)\n\n# We can also search for new configurations using the fit() method\n# Any configurations found by Auto-Sklearn -- even the ones created using\n# fit_pipeline() are stored to disk and can be used for Ensemble Selection\ncs = cls.fit(X, y, dataset_name=\"kr-vs-kp\")"
      ]
    }
  ],
  "metadata": {
    "kernelspec": {
      "display_name": "Python 3",
      "language": "python",
      "name": "python3"
    },
    "language_info": {
      "codemirror_mode": {
        "name": "ipython",
        "version": 3
      },
      "file_extension": ".py",
      "mimetype": "text/x-python",
      "name": "python",
      "nbconvert_exporter": "python",
      "pygments_lexer": "ipython3",
      "version": "3.8.13"
    }
  },
  "nbformat": 4,
  "nbformat_minor": 0
}