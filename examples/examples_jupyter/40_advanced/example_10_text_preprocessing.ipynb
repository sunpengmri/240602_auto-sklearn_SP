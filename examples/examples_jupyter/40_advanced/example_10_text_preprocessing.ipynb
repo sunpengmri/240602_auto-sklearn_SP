{
  "cells": [
    {
      "cell_type": "code",
      "execution_count": 1,
      "metadata": {
        "collapsed": false
      },
      "outputs": [],
      "source": [
        "%matplotlib inline"
      ]
    },
    {
      "cell_type": "markdown",
      "metadata": {},
      "source": [
        "\n",
        "# Text preprocessing\n",
        "\n",
        "The following example shows how to fit a simple NLP problem with\n",
        "*auto-sklearn*.\n",
        "\n",
        "For an introduction to text preprocessing you can follow these links:\n",
        "    1. https://scikit-learn.org/stable/tutorial/text_analytics/working_with_text_data.html\n",
        "    2. https://machinelearningmastery.com/clean-text-machine-learning-python/\n"
      ]
    },
    {
      "cell_type": "code",
      "execution_count": 2,
      "metadata": {
        "collapsed": false
      },
      "outputs": [
        {
          "name": "stderr",
          "output_type": "stream",
          "text": [
            "/home/peng/opt/anaconda3/envs/autosl/lib/python3.9/site-packages/scipy/__init__.py:146: UserWarning: A NumPy version >=1.17.3 and <1.25.0 is required for this version of SciPy (detected version 1.26.4\n",
            "  warnings.warn(f\"A NumPy version >={np_minversion} and <{np_maxversion}\"\n"
          ]
        }
      ],
      "source": [
        "from pprint import pprint\n",
        "\n",
        "import pandas as pd\n",
        "import sklearn.metrics\n",
        "from sklearn.datasets import fetch_20newsgroups\n",
        "\n",
        "import autosklearn.classification"
      ]
    },
    {
      "cell_type": "markdown",
      "metadata": {},
      "source": [
        "## Data Loading\n",
        "\n"
      ]
    },
    {
      "cell_type": "code",
      "execution_count": 3,
      "metadata": {
        "collapsed": false
      },
      "outputs": [],
      "source": [
        "cats = [\"comp.sys.ibm.pc.hardware\", \"rec.sport.baseball\"]\n",
        "X_train, y_train = fetch_20newsgroups(\n",
        "    subset=\"train\",  # select train set\n",
        "    shuffle=True,  # shuffle the data set for unbiased validation results\n",
        "    random_state=42,  # set a random seed for reproducibility\n",
        "    categories=cats,  # select only 2 out of 20 labels\n",
        "    return_X_y=True,  # 20NG dataset consists of 2 columns X: the text data, y: the label\n",
        ")  # load this two columns separately as numpy array\n",
        "\n",
        "X_test, y_test = fetch_20newsgroups(\n",
        "    subset=\"test\",  # select test set for unbiased evaluation\n",
        "    categories=cats,  # select only 2 out of 20 labels\n",
        "    return_X_y=True,  # 20NG dataset consists of 2 columns X: the text data, y: the label\n",
        ")  # load this two columns separately as numpy array"
      ]
    },
    {
      "cell_type": "markdown",
      "metadata": {},
      "source": [
        "## Creating a pandas dataframe\n",
        "Both categorical and text features are often strings. Python Pandas stores python stings\n",
        "in the generic `object` type. Please ensure that the correct\n",
        "[dtype](https://pandas.pydata.org/docs/user_guide/basics.html#dtypes) is applied to the correct\n",
        "column.\n",
        "\n"
      ]
    },
    {
      "cell_type": "code",
      "execution_count": null,
      "metadata": {
        "collapsed": false
      },
      "outputs": [],
      "source": [
        "# create a pandas dataframe for training labeling the \"Text\" column as sting\n",
        "X_train = pd.DataFrame({\"Text\": pd.Series(X_train, dtype=\"string\")})\n",
        "\n",
        "# create a pandas dataframe for testing labeling the \"Text\" column as sting\n",
        "X_test = pd.DataFrame({\"Text\": pd.Series(X_test, dtype=\"string\")})"
      ]
    },
    {
      "cell_type": "markdown",
      "metadata": {},
      "source": [
        "## Build and fit a classifier\n",
        "\n"
      ]
    },
    {
      "cell_type": "code",
      "execution_count": null,
      "metadata": {
        "collapsed": false
      },
      "outputs": [],
      "source": [
        "# create an autosklearn Classifier or Regressor depending on your task at hand.\n",
        "automl = autosklearn.classification.AutoSklearnClassifier(\n",
        "    time_left_for_this_task=60,\n",
        "    per_run_time_limit=30,\n",
        ")\n",
        "\n",
        "automl.fit(X_train, y_train, dataset_name=\"20_Newsgroups\")  # fit the automl model"
      ]
    },
    {
      "cell_type": "markdown",
      "metadata": {},
      "source": [
        "## View the models found by auto-sklearn\n",
        "\n"
      ]
    },
    {
      "cell_type": "code",
      "execution_count": null,
      "metadata": {
        "collapsed": false
      },
      "outputs": [],
      "source": [
        "print(automl.leaderboard())"
      ]
    },
    {
      "cell_type": "markdown",
      "metadata": {},
      "source": [
        "## Print the final ensemble constructed by auto-sklearn\n",
        "\n"
      ]
    },
    {
      "cell_type": "code",
      "execution_count": null,
      "metadata": {
        "collapsed": false
      },
      "outputs": [],
      "source": [
        "pprint(automl.show_models(), indent=4)"
      ]
    },
    {
      "cell_type": "markdown",
      "metadata": {},
      "source": [
        "## Get the Score of the final ensemble\n",
        "\n"
      ]
    },
    {
      "cell_type": "code",
      "execution_count": null,
      "metadata": {
        "collapsed": false
      },
      "outputs": [],
      "source": [
        "predictions = automl.predict(X_test)\n",
        "print(\"Accuracy score:\", sklearn.metrics.accuracy_score(y_test, predictions))"
      ]
    }
  ],
  "metadata": {
    "kernelspec": {
      "display_name": "Python 3",
      "language": "python",
      "name": "python3"
    },
    "language_info": {
      "codemirror_mode": {
        "name": "ipython",
        "version": 3
      },
      "file_extension": ".py",
      "mimetype": "text/x-python",
      "name": "python",
      "nbconvert_exporter": "python",
      "pygments_lexer": "ipython3",
      "version": "3.9.undefined"
    }
  },
  "nbformat": 4,
  "nbformat_minor": 0
}
