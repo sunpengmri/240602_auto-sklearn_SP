{
  "cells": [
    {
      "cell_type": "code",
      "execution_count": 1,
      "metadata": {
        "collapsed": false
      },
      "outputs": [],
      "source": [
        "%matplotlib inline"
      ]
    },
    {
      "cell_type": "markdown",
      "metadata": {},
      "source": [
        "\n",
        "# Text preprocessing\n",
        "\n",
        "The following example shows how to fit a simple NLP problem with\n",
        "*auto-sklearn*.\n",
        "\n",
        "For an introduction to text preprocessing you can follow these links:\n",
        "    1. https://scikit-learn.org/stable/tutorial/text_analytics/working_with_text_data.html\n",
        "    2. https://machinelearningmastery.com/clean-text-machine-learning-python/\n"
      ]
    },
    {
      "cell_type": "code",
      "execution_count": 2,
      "metadata": {
        "collapsed": false
      },
      "outputs": [
        {
          "name": "stderr",
          "output_type": "stream",
          "text": [
            "/home/peng/.local/lib/python3.9/site-packages/pandas/core/computation/expressions.py:21: UserWarning: Pandas requires version '2.8.4' or newer of 'numexpr' (version '2.8.0' currently installed).\n",
            "  from pandas.core.computation.check import NUMEXPR_INSTALLED\n",
            "/home/peng/opt/anaconda3/envs/autosl/lib/python3.9/site-packages/scipy/__init__.py:146: UserWarning: A NumPy version >=1.17.3 and <1.25.0 is required for this version of SciPy (detected version 1.26.4\n",
            "  warnings.warn(f\"A NumPy version >={np_minversion} and <{np_maxversion}\"\n"
          ]
        }
      ],
      "source": [
        "from pprint import pprint\n",
        "\n",
        "import pandas as pd\n",
        "import sklearn.metrics\n",
        "from sklearn.datasets import fetch_20newsgroups\n",
        "\n",
        "import autosklearn.classification"
      ]
    },
    {
      "cell_type": "markdown",
      "metadata": {},
      "source": [
        "## Data Loading\n",
        "\n"
      ]
    },
    {
      "cell_type": "code",
      "execution_count": 3,
      "metadata": {
        "collapsed": false
      },
      "outputs": [],
      "source": [
        "cats = [\"comp.sys.ibm.pc.hardware\", \"rec.sport.baseball\"]\n",
        "X_train, y_train = fetch_20newsgroups(\n",
        "    subset=\"train\",  # select train set\n",
        "    shuffle=True,  # shuffle the data set for unbiased validation results\n",
        "    random_state=42,  # set a random seed for reproducibility\n",
        "    categories=cats,  # select only 2 out of 20 labels\n",
        "    return_X_y=True,  # 20NG dataset consists of 2 columns X: the text data, y: the label\n",
        ")  # load this two columns separately as numpy array\n",
        "\n",
        "X_test, y_test = fetch_20newsgroups(\n",
        "    subset=\"test\",  # select test set for unbiased evaluation\n",
        "    categories=cats,  # select only 2 out of 20 labels\n",
        "    return_X_y=True,  # 20NG dataset consists of 2 columns X: the text data, y: the label\n",
        ")  # load this two columns separately as numpy array"
      ]
    },
    {
      "cell_type": "markdown",
      "metadata": {},
      "source": [
        "## Creating a pandas dataframe\n",
        "Both categorical and text features are often strings. Python Pandas stores python stings\n",
        "in the generic `object` type. Please ensure that the correct\n",
        "[dtype](https://pandas.pydata.org/docs/user_guide/basics.html#dtypes) is applied to the correct\n",
        "column.\n",
        "\n"
      ]
    },
    {
      "cell_type": "code",
      "execution_count": 4,
      "metadata": {
        "collapsed": false
      },
      "outputs": [],
      "source": [
        "# create a pandas dataframe for training labeling the \"Text\" column as sting\n",
        "X_train = pd.DataFrame({\"Text\": pd.Series(X_train, dtype=\"string\")})\n",
        "\n",
        "# create a pandas dataframe for testing labeling the \"Text\" column as sting\n",
        "X_test = pd.DataFrame({\"Text\": pd.Series(X_test, dtype=\"string\")})"
      ]
    },
    {
      "cell_type": "markdown",
      "metadata": {},
      "source": [
        "## Build and fit a classifier\n",
        "\n"
      ]
    },
    {
      "cell_type": "code",
      "execution_count": 6,
      "metadata": {
        "collapsed": false
      },
      "outputs": [
        {
          "name": "stdout",
          "output_type": "stream",
          "text": [
            "[WARNING] [2024-09-24 11:48:48,914:Client-AutoML(1):20_Newsgroups] Capping the per_run_time_limit to 29.0 to have time for a least 2 models in each process.\n"
          ]
        },
        {
          "data": {
            "text/plain": [
              "AutoSklearnClassifier(ensemble_class=<class 'autosklearn.ensembles.ensemble_selection.EnsembleSelection'>,\n",
              "                      memory_limit=16384, per_run_time_limit=30,\n",
              "                      time_left_for_this_task=60)"
            ]
          },
          "execution_count": 6,
          "metadata": {},
          "output_type": "execute_result"
        }
      ],
      "source": [
        "# create an autosklearn Classifier or Regressor depending on your task at hand.\n",
        "automl = autosklearn.classification.AutoSklearnClassifier(\n",
        "    time_left_for_this_task=60,\n",
        "    per_run_time_limit=30,\n",
        "    memory_limit=16384,\n",
        ")\n",
        "\n",
        "automl.fit(X_train, y_train, dataset_name=\"20_Newsgroups\")  # fit the automl model"
      ]
    },
    {
      "cell_type": "markdown",
      "metadata": {},
      "source": [
        "## View the models found by auto-sklearn\n",
        "\n"
      ]
    },
    {
      "cell_type": "code",
      "execution_count": 7,
      "metadata": {
        "collapsed": false
      },
      "outputs": [
        {
          "name": "stdout",
          "output_type": "stream",
          "text": [
            "          rank  ensemble_weight                type      cost  duration\n",
            "model_id                                                               \n",
            "3            1             0.18                 mlp  0.020408  4.234085\n",
            "9            2             0.14                 mlp  0.022959  4.664087\n",
            "12           3             0.04                 mlp  0.030612  4.614324\n",
            "2            4             0.14       random_forest  0.038265  4.366662\n",
            "5            5             0.06                 mlp  0.038265  3.646028\n",
            "7            6             0.02       random_forest  0.051020  3.803840\n",
            "4            7             0.10         extra_trees  0.076531  3.967908\n",
            "6            8             0.12                 qda  0.086735  3.527900\n",
            "10           9             0.12  passive_aggressive  0.237245  3.558334\n",
            "8           10             0.08          libsvm_svc  0.497449  3.621733\n"
          ]
        }
      ],
      "source": [
        "print(automl.leaderboard())"
      ]
    },
    {
      "cell_type": "markdown",
      "metadata": {},
      "source": [
        "## Print the final ensemble constructed by auto-sklearn\n",
        "\n"
      ]
    },
    {
      "cell_type": "code",
      "execution_count": 8,
      "metadata": {
        "collapsed": false
      },
      "outputs": [
        {
          "name": "stdout",
          "output_type": "stream",
          "text": [
            "{   2: {   'balancing': Balancing(random_state=1),\n",
            "           'classifier': <autosklearn.pipeline.components.classification.ClassifierChoice object at 0x798a8fb5cf10>,\n",
            "           'cost': 0.03826530612244894,\n",
            "           'data_preprocessor': <autosklearn.pipeline.components.data_preprocessing.DataPreprocessorChoice object at 0x798a8fc2e640>,\n",
            "           'ensemble_weight': 0.14,\n",
            "           'feature_preprocessor': <autosklearn.pipeline.components.feature_preprocessing.FeaturePreprocessorChoice object at 0x798a8fb5ce20>,\n",
            "           'model_id': 2,\n",
            "           'rank': 1,\n",
            "           'sklearn_classifier': RandomForestClassifier(max_features=10, n_estimators=512, n_jobs=1,\n",
            "                       random_state=1, warm_start=True)},\n",
            "    3: {   'balancing': Balancing(random_state=1, strategy='weighting'),\n",
            "           'classifier': <autosklearn.pipeline.components.classification.ClassifierChoice object at 0x798a8fba9fa0>,\n",
            "           'cost': 0.020408163265306145,\n",
            "           'data_preprocessor': <autosklearn.pipeline.components.data_preprocessing.DataPreprocessorChoice object at 0x798a8fc2e6a0>,\n",
            "           'ensemble_weight': 0.18,\n",
            "           'feature_preprocessor': <autosklearn.pipeline.components.feature_preprocessing.FeaturePreprocessorChoice object at 0x798a8fba33d0>,\n",
            "           'model_id': 3,\n",
            "           'rank': 2,\n",
            "           'sklearn_classifier': MLPClassifier(activation='tanh', alpha=1.103855734598575e-05, beta_1=0.999,\n",
            "              beta_2=0.9, early_stopping=True,\n",
            "              hidden_layer_sizes=(229, 229, 229),\n",
            "              learning_rate_init=0.00014375616988222174, max_iter=32,\n",
            "              n_iter_no_change=32, random_state=1, verbose=0, warm_start=True)},\n",
            "    4: {   'balancing': Balancing(random_state=1),\n",
            "           'classifier': <autosklearn.pipeline.components.classification.ClassifierChoice object at 0x798a8eec0160>,\n",
            "           'cost': 0.07653061224489799,\n",
            "           'data_preprocessor': <autosklearn.pipeline.components.data_preprocessing.DataPreprocessorChoice object at 0x798a8fbee040>,\n",
            "           'ensemble_weight': 0.1,\n",
            "           'feature_preprocessor': <autosklearn.pipeline.components.feature_preprocessing.FeaturePreprocessorChoice object at 0x798a8eec00a0>,\n",
            "           'model_id': 4,\n",
            "           'rank': 3,\n",
            "           'sklearn_classifier': ExtraTreesClassifier(max_features=9, min_samples_split=4, n_estimators=512,\n",
            "                     n_jobs=1, random_state=1, warm_start=True)},\n",
            "    5: {   'balancing': Balancing(random_state=1),\n",
            "           'classifier': <autosklearn.pipeline.components.classification.ClassifierChoice object at 0x798a8eed1f40>,\n",
            "           'cost': 0.03826530612244894,\n",
            "           'data_preprocessor': <autosklearn.pipeline.components.data_preprocessing.DataPreprocessorChoice object at 0x798a8ed201f0>,\n",
            "           'ensemble_weight': 0.06,\n",
            "           'feature_preprocessor': <autosklearn.pipeline.components.feature_preprocessing.FeaturePreprocessorChoice object at 0x798a8eee0070>,\n",
            "           'model_id': 5,\n",
            "           'rank': 4,\n",
            "           'sklearn_classifier': MLPClassifier(activation='tanh', alpha=0.05476322473700896, beta_1=0.999,\n",
            "              beta_2=0.9, early_stopping=True, hidden_layer_sizes=(136,),\n",
            "              learning_rate_init=0.012698439797907473, max_iter=32,\n",
            "              n_iter_no_change=32, random_state=1, verbose=0, warm_start=True)},\n",
            "    6: {   'balancing': Balancing(random_state=1, strategy='weighting'),\n",
            "           'classifier': <autosklearn.pipeline.components.classification.ClassifierChoice object at 0x798a8d1ed7c0>,\n",
            "           'cost': 0.08673469387755106,\n",
            "           'data_preprocessor': <autosklearn.pipeline.components.data_preprocessing.DataPreprocessorChoice object at 0x798a8ed20be0>,\n",
            "           'ensemble_weight': 0.12,\n",
            "           'feature_preprocessor': <autosklearn.pipeline.components.feature_preprocessing.FeaturePreprocessorChoice object at 0x798a8d1ed700>,\n",
            "           'model_id': 6,\n",
            "           'rank': 5,\n",
            "           'sklearn_classifier': QuadraticDiscriminantAnalysis(reg_param=0.585497512341966)},\n",
            "    7: {   'balancing': Balancing(random_state=1),\n",
            "           'classifier': <autosklearn.pipeline.components.classification.ClassifierChoice object at 0x798a1fc8ad30>,\n",
            "           'cost': 0.05102040816326525,\n",
            "           'data_preprocessor': <autosklearn.pipeline.components.data_preprocessing.DataPreprocessorChoice object at 0x798a8edfcee0>,\n",
            "           'ensemble_weight': 0.02,\n",
            "           'feature_preprocessor': <autosklearn.pipeline.components.feature_preprocessing.FeaturePreprocessorChoice object at 0x798a1fc8ac40>,\n",
            "           'model_id': 7,\n",
            "           'rank': 6,\n",
            "           'sklearn_classifier': RandomForestClassifier(criterion='entropy', max_features=1, min_samples_leaf=5,\n",
            "                       min_samples_split=11, n_estimators=512, n_jobs=1,\n",
            "                       random_state=1, warm_start=True)},\n",
            "    8: {   'balancing': Balancing(random_state=1, strategy='weighting'),\n",
            "           'classifier': <autosklearn.pipeline.components.classification.ClassifierChoice object at 0x798a1e4217c0>,\n",
            "           'cost': 0.49744897959183676,\n",
            "           'data_preprocessor': <autosklearn.pipeline.components.data_preprocessing.DataPreprocessorChoice object at 0x798a8eee0d00>,\n",
            "           'ensemble_weight': 0.08,\n",
            "           'feature_preprocessor': <autosklearn.pipeline.components.feature_preprocessing.FeaturePreprocessorChoice object at 0x798a1e421580>,\n",
            "           'model_id': 8,\n",
            "           'rank': 7,\n",
            "           'sklearn_classifier': SVC(C=0.20435138760822585, cache_size=10565.109375, class_weight='balanced',\n",
            "    gamma=7.373654384480026e-05, max_iter=-1.0, random_state=1,\n",
            "    tol=4.6066870756479984e-05)},\n",
            "    9: {   'balancing': Balancing(random_state=1, strategy='weighting'),\n",
            "           'classifier': <autosklearn.pipeline.components.classification.ClassifierChoice object at 0x798a1e3d2f40>,\n",
            "           'cost': 0.022959183673469385,\n",
            "           'data_preprocessor': <autosklearn.pipeline.components.data_preprocessing.DataPreprocessorChoice object at 0x798a8d1ed580>,\n",
            "           'ensemble_weight': 0.14,\n",
            "           'feature_preprocessor': <autosklearn.pipeline.components.feature_preprocessing.FeaturePreprocessorChoice object at 0x798a1e3d2dc0>,\n",
            "           'model_id': 9,\n",
            "           'rank': 8,\n",
            "           'sklearn_classifier': MLPClassifier(activation='tanh', alpha=1.0207902638359607e-07, beta_1=0.999,\n",
            "              beta_2=0.9, hidden_layer_sizes=(229,),\n",
            "              learning_rate_init=0.0005867144594731152, max_iter=256,\n",
            "              n_iter_no_change=32, random_state=1, validation_fraction=0.0,\n",
            "              verbose=0, warm_start=True)},\n",
            "    10: {   'balancing': Balancing(random_state=1, strategy='weighting'),\n",
            "            'classifier': <autosklearn.pipeline.components.classification.ClassifierChoice object at 0x798a1e3a4ac0>,\n",
            "            'cost': 0.2372448979591837,\n",
            "            'data_preprocessor': <autosklearn.pipeline.components.data_preprocessing.DataPreprocessorChoice object at 0x798a1fc8aac0>,\n",
            "            'ensemble_weight': 0.12,\n",
            "            'feature_preprocessor': <autosklearn.pipeline.components.feature_preprocessing.FeaturePreprocessorChoice object at 0x798a1e3a4880>,\n",
            "            'model_id': 10,\n",
            "            'rank': 9,\n",
            "            'sklearn_classifier': PassiveAggressiveClassifier(C=0.14833233294431605, average=True,\n",
            "                            loss='squared_hinge', max_iter=16, random_state=1,\n",
            "                            tol=0.00016482166646253793, warm_start=True)},\n",
            "    12: {   'balancing': Balancing(random_state=1, strategy='weighting'),\n",
            "            'classifier': <autosklearn.pipeline.components.classification.ClassifierChoice object at 0x798a1e203610>,\n",
            "            'cost': 0.030612244897959218,\n",
            "            'data_preprocessor': <autosklearn.pipeline.components.data_preprocessing.DataPreprocessorChoice object at 0x798a1e421280>,\n",
            "            'ensemble_weight': 0.04,\n",
            "            'feature_preprocessor': <autosklearn.pipeline.components.feature_preprocessing.FeaturePreprocessorChoice object at 0x798a1e203550>,\n",
            "            'model_id': 12,\n",
            "            'rank': 10,\n",
            "            'sklearn_classifier': MLPClassifier(alpha=0.0005005168300134541, beta_1=0.999, beta_2=0.9,\n",
            "              hidden_layer_sizes=(262, 262),\n",
            "              learning_rate_init=0.0012631168744483667, max_iter=64,\n",
            "              n_iter_no_change=32, random_state=1, validation_fraction=0.0,\n",
            "              verbose=0, warm_start=True)}}\n"
          ]
        }
      ],
      "source": [
        "pprint(automl.show_models(), indent=4)"
      ]
    },
    {
      "cell_type": "markdown",
      "metadata": {},
      "source": [
        "## Get the Score of the final ensemble\n",
        "\n"
      ]
    },
    {
      "cell_type": "code",
      "execution_count": 9,
      "metadata": {
        "collapsed": false
      },
      "outputs": [
        {
          "name": "stdout",
          "output_type": "stream",
          "text": [
            "Accuracy score: 0.982256020278834\n"
          ]
        }
      ],
      "source": [
        "predictions = automl.predict(X_test)\n",
        "print(\"Accuracy score:\", sklearn.metrics.accuracy_score(y_test, predictions))"
      ]
    }
  ],
  "metadata": {
    "kernelspec": {
      "display_name": "autosl",
      "language": "python",
      "name": "python3"
    },
    "language_info": {
      "codemirror_mode": {
        "name": "ipython",
        "version": 3
      },
      "file_extension": ".py",
      "mimetype": "text/x-python",
      "name": "python",
      "nbconvert_exporter": "python",
      "pygments_lexer": "ipython3",
      "version": "3.9.19"
    }
  },
  "nbformat": 4,
  "nbformat_minor": 0
}
