{
  "cells": [
    {
      "cell_type": "code",
      "execution_count": null,
      "metadata": {
        "collapsed": false
      },
      "outputs": [],
      "source": [
        "%matplotlib inline"
      ]
    },
    {
      "cell_type": "markdown",
      "metadata": {},
      "source": [
        "\n# Classification\n\nThe following example shows how to fit *auto-sklearn* to optimize for two\ncompeting metrics: `precision` and `recall` (read more on this tradeoff\nin the [scikit-learn docs](https://scikit-learn.org/stable/auto_examples/model_selection/plot_precision_recall.html).\n\nAuto-sklearn uses [SMAC3's implementation of ParEGO](https://automl.github.io/SMAC3/main/details/multi_objective.html).\nMulti-objective ensembling and proper access to the full Pareto set will be added in the near\nfuture.\n"
      ]
    },
    {
      "cell_type": "code",
      "execution_count": null,
      "metadata": {
        "collapsed": false
      },
      "outputs": [],
      "source": [
        "from pprint import pprint\n\nimport matplotlib.pyplot as plt\nimport numpy as np\nimport sklearn.datasets\nimport sklearn.metrics\n\nimport autosklearn.classification\nimport autosklearn.metrics"
      ]
    },
    {
      "cell_type": "markdown",
      "metadata": {},
      "source": [
        "## Data Loading\n\n"
      ]
    },
    {
      "cell_type": "code",
      "execution_count": null,
      "metadata": {
        "collapsed": false
      },
      "outputs": [],
      "source": [
        "X, y = sklearn.datasets.fetch_openml(data_id=31, return_X_y=True, as_frame=True)\n# Change the target to align with scikit-learn's convention that\n# ``1`` is the minority class. In this example it is predicting\n# that a credit is \"bad\", i.e. that it will default.\ny = np.array([1 if val == \"bad\" else 0 for val in y])\nX_train, X_test, y_train, y_test = sklearn.model_selection.train_test_split(\n    X, y, random_state=1\n)"
      ]
    },
    {
      "cell_type": "markdown",
      "metadata": {},
      "source": [
        "## Build and fit a classifier\n\n"
      ]
    },
    {
      "cell_type": "code",
      "execution_count": null,
      "metadata": {
        "collapsed": false
      },
      "outputs": [],
      "source": [
        "automl = autosklearn.classification.AutoSklearnClassifier(\n    time_left_for_this_task=120,\n    metric=[autosklearn.metrics.precision, autosklearn.metrics.recall],\n    delete_tmp_folder_after_terminate=False,\n)\nautoml.fit(X_train, y_train, dataset_name=\"German Credit\")"
      ]
    },
    {
      "cell_type": "markdown",
      "metadata": {},
      "source": [
        "## Compute the two competing metrics\n\n"
      ]
    },
    {
      "cell_type": "code",
      "execution_count": null,
      "metadata": {
        "collapsed": false
      },
      "outputs": [],
      "source": [
        "predictions = automl.predict(X_test)\nprint(\"Precision\", sklearn.metrics.precision_score(y_test, predictions))\nprint(\"Recall\", sklearn.metrics.recall_score(y_test, predictions))"
      ]
    },
    {
      "cell_type": "markdown",
      "metadata": {},
      "source": [
        "## View the models found by auto-sklearn\nThey are by default sorted by the first metric given to *auto-sklearn*.\n\n"
      ]
    },
    {
      "cell_type": "code",
      "execution_count": null,
      "metadata": {
        "collapsed": false
      },
      "outputs": [],
      "source": [
        "print(automl.leaderboard())"
      ]
    },
    {
      "cell_type": "markdown",
      "metadata": {},
      "source": [
        "## ``cv_results`` also contains both metrics\nSimilarly to the leaderboard, they are sorted by the first metric given\nto *auto-sklearn*.\n\n"
      ]
    },
    {
      "cell_type": "code",
      "execution_count": null,
      "metadata": {
        "collapsed": false
      },
      "outputs": [],
      "source": [
        "pprint(automl.cv_results_)"
      ]
    },
    {
      "cell_type": "markdown",
      "metadata": {},
      "source": [
        "## Visualize the Pareto set\n\n"
      ]
    },
    {
      "cell_type": "code",
      "execution_count": null,
      "metadata": {
        "collapsed": false
      },
      "outputs": [],
      "source": [
        "plot_values = []\npareto_front = automl.get_pareto_set()\nfor ensemble in pareto_front:\n    predictions = ensemble.predict(X_test)\n    precision = sklearn.metrics.precision_score(y_test, predictions)\n    recall = sklearn.metrics.recall_score(y_test, predictions)\n    plot_values.append((precision, recall))\nfig = plt.figure()\nax = fig.add_subplot(111)\nfor precision, recall in plot_values:\n    ax.scatter(precision, recall, c=\"blue\")\nax.set_xlabel(\"Precision\")\nax.set_ylabel(\"Recall\")\nax.set_title(\"Pareto set\")\nplt.show()"
      ]
    }
  ],
  "metadata": {
    "kernelspec": {
      "display_name": "Python 3",
      "language": "python",
      "name": "python3"
    },
    "language_info": {
      "codemirror_mode": {
        "name": "ipython",
        "version": 3
      },
      "file_extension": ".py",
      "mimetype": "text/x-python",
      "name": "python",
      "nbconvert_exporter": "python",
      "pygments_lexer": "ipython3",
      "version": "3.8.13"
    }
  },
  "nbformat": 4,
  "nbformat_minor": 0
}