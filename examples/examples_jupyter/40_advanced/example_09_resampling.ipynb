{
  "cells": [
    {
      "cell_type": "code",
      "execution_count": 2,
      "metadata": {
        "collapsed": false
      },
      "outputs": [],
      "source": [
        "%matplotlib inline"
      ]
    },
    {
      "cell_type": "markdown",
      "metadata": {},
      "source": [
        "\n",
        "# Resampling Strategies\n",
        "\n",
        "In *auto-sklearn* it is possible to use different resampling strategies\n",
        "by specifying the arguments ``resampling_strategy`` and\n",
        "``resampling_strategy_arguments``. The following example shows common\n",
        "settings for the ``AutoSklearnClassifier``.\n"
      ]
    },
    {
      "cell_type": "code",
      "execution_count": 3,
      "metadata": {
        "collapsed": false
      },
      "outputs": [
        {
          "name": "stderr",
          "output_type": "stream",
          "text": [
            "/home/peng/opt/anaconda3/envs/autosl/lib/python3.9/site-packages/scipy/__init__.py:146: UserWarning: A NumPy version >=1.17.3 and <1.25.0 is required for this version of SciPy (detected version 1.26.4\n",
            "  warnings.warn(f\"A NumPy version >={np_minversion} and <{np_maxversion}\"\n"
          ]
        }
      ],
      "source": [
        "import numpy as np\n",
        "import sklearn.model_selection\n",
        "import sklearn.datasets\n",
        "import sklearn.metrics\n",
        "\n",
        "import autosklearn.classification"
      ]
    },
    {
      "cell_type": "markdown",
      "metadata": {},
      "source": [
        "## Data Loading\n",
        "\n"
      ]
    },
    {
      "cell_type": "code",
      "execution_count": 4,
      "metadata": {
        "collapsed": false
      },
      "outputs": [],
      "source": [
        "X, y = sklearn.datasets.load_breast_cancer(return_X_y=True)\n",
        "X_train, X_test, y_train, y_test = sklearn.model_selection.train_test_split(\n",
        "    X, y, random_state=1\n",
        ")"
      ]
    },
    {
      "cell_type": "markdown",
      "metadata": {},
      "source": [
        "## Holdout\n",
        "\n"
      ]
    },
    {
      "cell_type": "code",
      "execution_count": 4,
      "metadata": {
        "collapsed": false
      },
      "outputs": [
        {
          "data": {
            "text/plain": [
              "AutoSklearnClassifier(ensemble_class=<class 'autosklearn.ensembles.ensemble_selection.EnsembleSelection'>,\n",
              "                      memory_limit=16384, per_run_time_limit=30,\n",
              "                      resampling_strategy_arguments={'train_size': 0.67},\n",
              "                      time_left_for_this_task=120,\n",
              "                      tmp_folder='/tmp/autosklearn_resampling_example_tmp')"
            ]
          },
          "execution_count": 4,
          "metadata": {},
          "output_type": "execute_result"
        }
      ],
      "source": [
        "automl = autosklearn.classification.AutoSklearnClassifier(\n",
        "    time_left_for_this_task=120,\n",
        "    per_run_time_limit=30,\n",
        "    memory_limit=16384,\n",
        "    tmp_folder=\"/tmp/autosklearn_resampling_example_tmp\",\n",
        "    disable_evaluator_output=False,\n",
        "    # 'holdout' with 'train_size'=0.67 is the default argument setting\n",
        "    # for AutoSklearnClassifier. It is explicitly specified in this example\n",
        "    # for demonstrational purpose.\n",
        "    resampling_strategy=\"holdout\",\n",
        "    resampling_strategy_arguments={\"train_size\": 0.67},\n",
        ")\n",
        "automl.fit(X_train, y_train, dataset_name=\"breast_cancer\")"
      ]
    },
    {
      "cell_type": "markdown",
      "metadata": {},
      "source": [
        "## Get the Score of the final ensemble\n",
        "\n"
      ]
    },
    {
      "cell_type": "code",
      "execution_count": null,
      "metadata": {
        "collapsed": false
      },
      "outputs": [],
      "source": [
        "predictions = automl.predict(X_test)\n",
        "print(\"Accuracy score holdout: \", sklearn.metrics.accuracy_score(y_test, predictions))"
      ]
    },
    {
      "cell_type": "markdown",
      "metadata": {},
      "source": [
        "## Cross-validation\n",
        "\n"
      ]
    },
    {
      "cell_type": "code",
      "execution_count": 7,
      "metadata": {
        "collapsed": false
      },
      "outputs": [
        {
          "name": "stdout",
          "output_type": "stream",
          "text": [
            "Before re-fit\n",
            "Accuracy score CV 0.965034965034965\n"
          ]
        }
      ],
      "source": [
        "automl = autosklearn.classification.AutoSklearnClassifier(\n",
        "    time_left_for_this_task=120,\n",
        "    per_run_time_limit=30,\n",
        "    memory_limit=16384,\n",
        "    tmp_folder=\"/tmp/autosklearn_resampling_example_tmp\",\n",
        "    disable_evaluator_output=False,\n",
        "    resampling_strategy=\"cv\",\n",
        "    resampling_strategy_arguments={\"folds\": 5},\n",
        ")\n",
        "automl.fit(X_train, y_train, dataset_name=\"breast_cancer\")\n",
        "\n",
        "# One can use models trained during cross-validation directly to predict\n",
        "# for unseen data. For this, all k models trained during k-fold\n",
        "# cross-validation are considered as a single soft-voting ensemble inside\n",
        "# the ensemble constructed with ensemble selection.\n",
        "print(\"Before re-fit\")\n",
        "predictions = automl.predict(X_test)\n",
        "print(\"Accuracy score CV\", sklearn.metrics.accuracy_score(y_test, predictions))"
      ]
    },
    {
      "cell_type": "markdown",
      "metadata": {},
      "source": [
        "## Perform a refit\n",
        "During fit(), models are fit on individual cross-validation folds. To use\n",
        "all available data, we call refit() which trains all models in the\n",
        "final ensemble on the whole dataset.\n",
        "\n"
      ]
    },
    {
      "cell_type": "code",
      "execution_count": 8,
      "metadata": {
        "collapsed": false
      },
      "outputs": [
        {
          "name": "stdout",
          "output_type": "stream",
          "text": [
            "After re-fit\n",
            "Accuracy score CV 0.965034965034965\n"
          ]
        }
      ],
      "source": [
        "print(\"After re-fit\")\n",
        "automl.refit(X_train.copy(), y_train.copy())\n",
        "predictions = automl.predict(X_test)\n",
        "print(\"Accuracy score CV\", sklearn.metrics.accuracy_score(y_test, predictions))"
      ]
    },
    {
      "cell_type": "markdown",
      "metadata": {},
      "source": [
        "## scikit-learn splitter objects\n",
        "It is also possible to use\n",
        "[scikit-learn's splitter classes](https://scikit-learn.org/stable/modules/classes.html#splitter\n",
        "-classes) to further customize the outputs. In case one needs to have 100% control over the\n",
        "splitting, it is possible to use\n",
        "[scikit-learn's PredefinedSplit](https://scikit-learn.org/stable/modules/generated/\n",
        "sklearn.model_selection.PredefinedSplit.html).\n",
        "\n"
      ]
    },
    {
      "cell_type": "markdown",
      "metadata": {},
      "source": [
        "Below is an example of using a predefined split. We split the training\n",
        "data by the first feature. In practice, one would use a splitting according\n",
        "to the use case at hand.\n",
        "\n"
      ]
    },
    {
      "cell_type": "code",
      "execution_count": null,
      "metadata": {
        "collapsed": false
      },
      "outputs": [],
      "source": [
        "selected_indices = (X_train[:, 0] < np.mean(X_train[:, 0])).astype(int)\n",
        "resampling_strategy = sklearn.model_selection.PredefinedSplit(\n",
        "    test_fold=selected_indices\n",
        ")\n",
        "\n",
        "automl = autosklearn.classification.AutoSklearnClassifier(\n",
        "    time_left_for_this_task=120,\n",
        "    per_run_time_limit=30,\n",
        "    tmp_folder=\"/tmp/autosklearn_resampling_example_tmp\",\n",
        "    disable_evaluator_output=False,\n",
        "    resampling_strategy=resampling_strategy,\n",
        ")\n",
        "automl.fit(X_train, y_train, dataset_name=\"breast_cancer\")\n",
        "\n",
        "print(automl.sprint_statistics())"
      ]
    },
    {
      "cell_type": "markdown",
      "metadata": {},
      "source": [
        "For custom resampling strategies (i.e. resampling strategies that are not\n",
        "defined as strings by Auto-sklearn) it is necessary to perform a refit:\n",
        "\n"
      ]
    },
    {
      "cell_type": "code",
      "execution_count": null,
      "metadata": {
        "collapsed": false
      },
      "outputs": [],
      "source": [
        "automl.refit(X_train, y_train)"
      ]
    },
    {
      "cell_type": "markdown",
      "metadata": {},
      "source": [
        "## Get the Score of the final ensemble (again)\n",
        "\n",
        "Obviously, this score is pretty bad as we \"destroyed\" the dataset by\n",
        "splitting it on the first feature.\n",
        "\n"
      ]
    },
    {
      "cell_type": "code",
      "execution_count": null,
      "metadata": {
        "collapsed": false
      },
      "outputs": [],
      "source": [
        "predictions = automl.predict(X_test)\n",
        "print(\n",
        "    \"Accuracy score custom split\", sklearn.metrics.accuracy_score(y_test, predictions)\n",
        ")"
      ]
    }
  ],
  "metadata": {
    "kernelspec": {
      "display_name": "Python 3",
      "language": "python",
      "name": "python3"
    },
    "language_info": {
      "codemirror_mode": {
        "name": "ipython",
        "version": 3
      },
      "file_extension": ".py",
      "mimetype": "text/x-python",
      "name": "python",
      "nbconvert_exporter": "python",
      "pygments_lexer": "ipython3",
      "version": "3.9.19"
    }
  },
  "nbformat": 4,
  "nbformat_minor": 0
}
