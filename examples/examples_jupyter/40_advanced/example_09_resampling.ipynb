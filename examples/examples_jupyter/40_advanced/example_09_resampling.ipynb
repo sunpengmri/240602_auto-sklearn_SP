{
  "cells": [
    {
      "cell_type": "code",
      "execution_count": 2,
      "metadata": {
        "collapsed": false
      },
      "outputs": [],
      "source": [
        "%matplotlib inline"
      ]
    },
    {
      "cell_type": "markdown",
      "metadata": {},
      "source": [
        "\n",
        "# Resampling Strategies\n",
        "\n",
        "In *auto-sklearn* it is possible to use different resampling strategies\n",
        "by specifying the arguments ``resampling_strategy`` and\n",
        "``resampling_strategy_arguments``. The following example shows common\n",
        "settings for the ``AutoSklearnClassifier``.\n"
      ]
    },
    {
      "cell_type": "code",
      "execution_count": 3,
      "metadata": {
        "collapsed": false
      },
      "outputs": [
        {
          "name": "stderr",
          "output_type": "stream",
          "text": [
            "/home/peng/opt/anaconda3/envs/autosl/lib/python3.9/site-packages/scipy/__init__.py:146: UserWarning: A NumPy version >=1.17.3 and <1.25.0 is required for this version of SciPy (detected version 1.26.4\n",
            "  warnings.warn(f\"A NumPy version >={np_minversion} and <{np_maxversion}\"\n"
          ]
        }
      ],
      "source": [
        "import numpy as np\n",
        "import sklearn.model_selection\n",
        "import sklearn.datasets\n",
        "import sklearn.metrics\n",
        "\n",
        "import autosklearn.classification"
      ]
    },
    {
      "cell_type": "markdown",
      "metadata": {},
      "source": [
        "## Data Loading\n",
        "\n"
      ]
    },
    {
      "cell_type": "code",
      "execution_count": 4,
      "metadata": {
        "collapsed": false
      },
      "outputs": [],
      "source": [
        "X, y = sklearn.datasets.load_breast_cancer(return_X_y=True)\n",
        "X_train, X_test, y_train, y_test = sklearn.model_selection.train_test_split(\n",
        "    X, y, random_state=1\n",
        ")"
      ]
    },
    {
      "cell_type": "markdown",
      "metadata": {},
      "source": [
        "## Holdout\n",
        "\n"
      ]
    },
    {
      "cell_type": "code",
      "execution_count": 4,
      "metadata": {
        "collapsed": false
      },
      "outputs": [
        {
          "data": {
            "text/plain": [
              "AutoSklearnClassifier(ensemble_class=<class 'autosklearn.ensembles.ensemble_selection.EnsembleSelection'>,\n",
              "                      memory_limit=16384, per_run_time_limit=30,\n",
              "                      resampling_strategy_arguments={'train_size': 0.67},\n",
              "                      time_left_for_this_task=120,\n",
              "                      tmp_folder='/tmp/autosklearn_resampling_example_tmp')"
            ]
          },
          "execution_count": 4,
          "metadata": {},
          "output_type": "execute_result"
        }
      ],
      "source": [
        "automl = autosklearn.classification.AutoSklearnClassifier(\n",
        "    time_left_for_this_task=120,\n",
        "    per_run_time_limit=30,\n",
        "    memory_limit=16384,\n",
        "    tmp_folder=\"/tmp/autosklearn_resampling_example_tmp\",\n",
        "    disable_evaluator_output=False,\n",
        "    # 'holdout' with 'train_size'=0.67 is the default argument setting\n",
        "    # for AutoSklearnClassifier. It is explicitly specified in this example\n",
        "    # for demonstrational purpose.\n",
        "    resampling_strategy=\"holdout\",\n",
        "    resampling_strategy_arguments={\"train_size\": 0.67},\n",
        ")\n",
        "automl.fit(X_train, y_train, dataset_name=\"breast_cancer\")"
      ]
    },
    {
      "cell_type": "markdown",
      "metadata": {},
      "source": [
        "## Get the Score of the final ensemble\n",
        "\n"
      ]
    },
    {
      "cell_type": "code",
      "execution_count": null,
      "metadata": {
        "collapsed": false
      },
      "outputs": [],
      "source": [
        "predictions = automl.predict(X_test)\n",
        "print(\"Accuracy score holdout: \", sklearn.metrics.accuracy_score(y_test, predictions))"
      ]
    },
    {
      "cell_type": "markdown",
      "metadata": {},
      "source": [
        "## Cross-validation\n",
        "\n"
      ]
    },
    {
      "cell_type": "code",
      "execution_count": 6,
      "metadata": {
        "collapsed": false
      },
      "outputs": [
        {
          "name": "stdout",
          "output_type": "stream",
          "text": [
            "[ERROR] [2024-06-12 12:11:14,797:Client-AutoML(1):breast_cancer] (\" Dummy prediction failed with run state StatusType.MEMOUT and additional output: {'error': 'Memout (used more than 3072 MB).', 'configuration_origin': 'DUMMY'}.\",)\n",
            "[ERROR] [2024-06-12 12:11:14,797:Client-AutoML(1):breast_cancer] (\" Dummy prediction failed with run state StatusType.MEMOUT and additional output: {'error': 'Memout (used more than 3072 MB).', 'configuration_origin': 'DUMMY'}.\",)\n",
            "Traceback (most recent call last):\n",
            "  File \"/home/peng/opt/anaconda3/envs/autosl/lib/python3.9/site-packages/autosklearn/automl.py\", line 765, in fit\n",
            "    self._do_dummy_prediction()\n",
            "  File \"/home/peng/opt/anaconda3/envs/autosl/lib/python3.9/site-packages/autosklearn/automl.py\", line 489, in _do_dummy_prediction\n",
            "    raise ValueError(msg)\n",
            "ValueError: (\" Dummy prediction failed with run state StatusType.MEMOUT and additional output: {'error': 'Memout (used more than 3072 MB).', 'configuration_origin': 'DUMMY'}.\",)\n"
          ]
        },
        {
          "ename": "ValueError",
          "evalue": "(\" Dummy prediction failed with run state StatusType.MEMOUT and additional output: {'error': 'Memout (used more than 3072 MB).', 'configuration_origin': 'DUMMY'}.\",)",
          "output_type": "error",
          "traceback": [
            "\u001b[0;31m---------------------------------------------------------------------------\u001b[0m",
            "\u001b[0;31mValueError\u001b[0m                                Traceback (most recent call last)",
            "Cell \u001b[0;32mIn[6], line 9\u001b[0m\n\u001b[1;32m      1\u001b[0m automl \u001b[38;5;241m=\u001b[39m autosklearn\u001b[38;5;241m.\u001b[39mclassification\u001b[38;5;241m.\u001b[39mAutoSklearnClassifier(\n\u001b[1;32m      2\u001b[0m     time_left_for_this_task\u001b[38;5;241m=\u001b[39m\u001b[38;5;241m120\u001b[39m,\n\u001b[1;32m      3\u001b[0m     per_run_time_limit\u001b[38;5;241m=\u001b[39m\u001b[38;5;241m30\u001b[39m,\n\u001b[0;32m   (...)\u001b[0m\n\u001b[1;32m      7\u001b[0m     resampling_strategy_arguments\u001b[38;5;241m=\u001b[39m{\u001b[38;5;124m\"\u001b[39m\u001b[38;5;124mfolds\u001b[39m\u001b[38;5;124m\"\u001b[39m: \u001b[38;5;241m5\u001b[39m},\n\u001b[1;32m      8\u001b[0m )\n\u001b[0;32m----> 9\u001b[0m \u001b[43mautoml\u001b[49m\u001b[38;5;241;43m.\u001b[39;49m\u001b[43mfit\u001b[49m\u001b[43m(\u001b[49m\u001b[43mX_train\u001b[49m\u001b[43m,\u001b[49m\u001b[43m \u001b[49m\u001b[43my_train\u001b[49m\u001b[43m,\u001b[49m\u001b[43m \u001b[49m\u001b[43mdataset_name\u001b[49m\u001b[38;5;241;43m=\u001b[39;49m\u001b[38;5;124;43m\"\u001b[39;49m\u001b[38;5;124;43mbreast_cancer\u001b[39;49m\u001b[38;5;124;43m\"\u001b[39;49m\u001b[43m)\u001b[49m\n\u001b[1;32m     11\u001b[0m \u001b[38;5;66;03m# One can use models trained during cross-validation directly to predict\u001b[39;00m\n\u001b[1;32m     12\u001b[0m \u001b[38;5;66;03m# for unseen data. For this, all k models trained during k-fold\u001b[39;00m\n\u001b[1;32m     13\u001b[0m \u001b[38;5;66;03m# cross-validation are considered as a single soft-voting ensemble inside\u001b[39;00m\n\u001b[1;32m     14\u001b[0m \u001b[38;5;66;03m# the ensemble constructed with ensemble selection.\u001b[39;00m\n\u001b[1;32m     15\u001b[0m \u001b[38;5;28mprint\u001b[39m(\u001b[38;5;124m\"\u001b[39m\u001b[38;5;124mBefore re-fit\u001b[39m\u001b[38;5;124m\"\u001b[39m)\n",
            "File \u001b[0;32m~/opt/anaconda3/envs/autosl/lib/python3.9/site-packages/autosklearn/estimators.py:1448\u001b[0m, in \u001b[0;36mAutoSklearnClassifier.fit\u001b[0;34m(self, X, y, X_test, y_test, feat_type, dataset_name)\u001b[0m\n\u001b[1;32m   1445\u001b[0m \u001b[38;5;66;03m# remember target type for using in predict_proba later.\u001b[39;00m\n\u001b[1;32m   1446\u001b[0m \u001b[38;5;28mself\u001b[39m\u001b[38;5;241m.\u001b[39mtarget_type \u001b[38;5;241m=\u001b[39m target_type\n\u001b[0;32m-> 1448\u001b[0m \u001b[38;5;28;43msuper\u001b[39;49m\u001b[43m(\u001b[49m\u001b[43m)\u001b[49m\u001b[38;5;241;43m.\u001b[39;49m\u001b[43mfit\u001b[49m\u001b[43m(\u001b[49m\n\u001b[1;32m   1449\u001b[0m \u001b[43m    \u001b[49m\u001b[43mX\u001b[49m\u001b[38;5;241;43m=\u001b[39;49m\u001b[43mX\u001b[49m\u001b[43m,\u001b[49m\n\u001b[1;32m   1450\u001b[0m \u001b[43m    \u001b[49m\u001b[43my\u001b[49m\u001b[38;5;241;43m=\u001b[39;49m\u001b[43my\u001b[49m\u001b[43m,\u001b[49m\n\u001b[1;32m   1451\u001b[0m \u001b[43m    \u001b[49m\u001b[43mX_test\u001b[49m\u001b[38;5;241;43m=\u001b[39;49m\u001b[43mX_test\u001b[49m\u001b[43m,\u001b[49m\n\u001b[1;32m   1452\u001b[0m \u001b[43m    \u001b[49m\u001b[43my_test\u001b[49m\u001b[38;5;241;43m=\u001b[39;49m\u001b[43my_test\u001b[49m\u001b[43m,\u001b[49m\n\u001b[1;32m   1453\u001b[0m \u001b[43m    \u001b[49m\u001b[43mfeat_type\u001b[49m\u001b[38;5;241;43m=\u001b[39;49m\u001b[43mfeat_type\u001b[49m\u001b[43m,\u001b[49m\n\u001b[1;32m   1454\u001b[0m \u001b[43m    \u001b[49m\u001b[43mdataset_name\u001b[49m\u001b[38;5;241;43m=\u001b[39;49m\u001b[43mdataset_name\u001b[49m\u001b[43m,\u001b[49m\n\u001b[1;32m   1455\u001b[0m \u001b[43m\u001b[49m\u001b[43m)\u001b[49m\n\u001b[1;32m   1457\u001b[0m \u001b[38;5;66;03m# After fit, a classifier is expected to define classes_\u001b[39;00m\n\u001b[1;32m   1458\u001b[0m \u001b[38;5;66;03m# A list of class labels known to the classifier, mapping each label\u001b[39;00m\n\u001b[1;32m   1459\u001b[0m \u001b[38;5;66;03m# to a numerical index used in the model representation our output.\u001b[39;00m\n\u001b[1;32m   1460\u001b[0m \u001b[38;5;28mself\u001b[39m\u001b[38;5;241m.\u001b[39mclasses_ \u001b[38;5;241m=\u001b[39m \u001b[38;5;28mself\u001b[39m\u001b[38;5;241m.\u001b[39mautoml_\u001b[38;5;241m.\u001b[39mInputValidator\u001b[38;5;241m.\u001b[39mtarget_validator\u001b[38;5;241m.\u001b[39mclasses_\n",
            "File \u001b[0;32m~/opt/anaconda3/envs/autosl/lib/python3.9/site-packages/autosklearn/estimators.py:540\u001b[0m, in \u001b[0;36mAutoSklearnEstimator.fit\u001b[0;34m(self, **kwargs)\u001b[0m\n\u001b[1;32m    538\u001b[0m \u001b[38;5;28;01mif\u001b[39;00m \u001b[38;5;28mself\u001b[39m\u001b[38;5;241m.\u001b[39mautoml_ \u001b[38;5;129;01mis\u001b[39;00m \u001b[38;5;28;01mNone\u001b[39;00m:\n\u001b[1;32m    539\u001b[0m     \u001b[38;5;28mself\u001b[39m\u001b[38;5;241m.\u001b[39mautoml_ \u001b[38;5;241m=\u001b[39m \u001b[38;5;28mself\u001b[39m\u001b[38;5;241m.\u001b[39mbuild_automl()\n\u001b[0;32m--> 540\u001b[0m \u001b[38;5;28;43mself\u001b[39;49m\u001b[38;5;241;43m.\u001b[39;49m\u001b[43mautoml_\u001b[49m\u001b[38;5;241;43m.\u001b[39;49m\u001b[43mfit\u001b[49m\u001b[43m(\u001b[49m\u001b[43mload_models\u001b[49m\u001b[38;5;241;43m=\u001b[39;49m\u001b[38;5;28;43mself\u001b[39;49m\u001b[38;5;241;43m.\u001b[39;49m\u001b[43mload_models\u001b[49m\u001b[43m,\u001b[49m\u001b[43m \u001b[49m\u001b[38;5;241;43m*\u001b[39;49m\u001b[38;5;241;43m*\u001b[39;49m\u001b[43mkwargs\u001b[49m\u001b[43m)\u001b[49m\n\u001b[1;32m    542\u001b[0m \u001b[38;5;28;01mreturn\u001b[39;00m \u001b[38;5;28mself\u001b[39m\n",
            "File \u001b[0;32m~/opt/anaconda3/envs/autosl/lib/python3.9/site-packages/autosklearn/automl.py:2304\u001b[0m, in \u001b[0;36mAutoMLClassifier.fit\u001b[0;34m(self, X, y, X_test, y_test, feat_type, dataset_name, only_return_configuration_space, load_models)\u001b[0m\n\u001b[1;32m   2293\u001b[0m \u001b[38;5;28;01mdef\u001b[39;00m \u001b[38;5;21mfit\u001b[39m(\n\u001b[1;32m   2294\u001b[0m     \u001b[38;5;28mself\u001b[39m,\n\u001b[1;32m   2295\u001b[0m     X: SUPPORTED_FEAT_TYPES,\n\u001b[0;32m   (...)\u001b[0m\n\u001b[1;32m   2302\u001b[0m     load_models: \u001b[38;5;28mbool\u001b[39m \u001b[38;5;241m=\u001b[39m \u001b[38;5;28;01mTrue\u001b[39;00m,\n\u001b[1;32m   2303\u001b[0m ) \u001b[38;5;241m-\u001b[39m\u001b[38;5;241m>\u001b[39m AutoMLClassifier:\n\u001b[0;32m-> 2304\u001b[0m     \u001b[38;5;28;01mreturn\u001b[39;00m \u001b[38;5;28;43msuper\u001b[39;49m\u001b[43m(\u001b[49m\u001b[43m)\u001b[49m\u001b[38;5;241;43m.\u001b[39;49m\u001b[43mfit\u001b[49m\u001b[43m(\u001b[49m\n\u001b[1;32m   2305\u001b[0m \u001b[43m        \u001b[49m\u001b[43mX\u001b[49m\u001b[43m,\u001b[49m\n\u001b[1;32m   2306\u001b[0m \u001b[43m        \u001b[49m\u001b[43my\u001b[49m\u001b[43m,\u001b[49m\n\u001b[1;32m   2307\u001b[0m \u001b[43m        \u001b[49m\u001b[43mX_test\u001b[49m\u001b[38;5;241;43m=\u001b[39;49m\u001b[43mX_test\u001b[49m\u001b[43m,\u001b[49m\n\u001b[1;32m   2308\u001b[0m \u001b[43m        \u001b[49m\u001b[43my_test\u001b[49m\u001b[38;5;241;43m=\u001b[39;49m\u001b[43my_test\u001b[49m\u001b[43m,\u001b[49m\n\u001b[1;32m   2309\u001b[0m \u001b[43m        \u001b[49m\u001b[43mfeat_type\u001b[49m\u001b[38;5;241;43m=\u001b[39;49m\u001b[43mfeat_type\u001b[49m\u001b[43m,\u001b[49m\n\u001b[1;32m   2310\u001b[0m \u001b[43m        \u001b[49m\u001b[43mdataset_name\u001b[49m\u001b[38;5;241;43m=\u001b[39;49m\u001b[43mdataset_name\u001b[49m\u001b[43m,\u001b[49m\n\u001b[1;32m   2311\u001b[0m \u001b[43m        \u001b[49m\u001b[43monly_return_configuration_space\u001b[49m\u001b[38;5;241;43m=\u001b[39;49m\u001b[43monly_return_configuration_space\u001b[49m\u001b[43m,\u001b[49m\n\u001b[1;32m   2312\u001b[0m \u001b[43m        \u001b[49m\u001b[43mload_models\u001b[49m\u001b[38;5;241;43m=\u001b[39;49m\u001b[43mload_models\u001b[49m\u001b[43m,\u001b[49m\n\u001b[1;32m   2313\u001b[0m \u001b[43m        \u001b[49m\u001b[43mis_classification\u001b[49m\u001b[38;5;241;43m=\u001b[39;49m\u001b[38;5;28;43;01mTrue\u001b[39;49;00m\u001b[43m,\u001b[49m\n\u001b[1;32m   2314\u001b[0m \u001b[43m    \u001b[49m\u001b[43m)\u001b[49m\n",
            "File \u001b[0;32m~/opt/anaconda3/envs/autosl/lib/python3.9/site-packages/autosklearn/automl.py:962\u001b[0m, in \u001b[0;36mAutoML.fit\u001b[0;34m(self, X, y, task, X_test, y_test, feat_type, dataset_name, only_return_configuration_space, load_models, is_classification)\u001b[0m\n\u001b[1;32m    959\u001b[0m \u001b[38;5;28;01mexcept\u001b[39;00m \u001b[38;5;167;01mException\u001b[39;00m \u001b[38;5;28;01mas\u001b[39;00m e:\n\u001b[1;32m    960\u001b[0m     \u001b[38;5;66;03m# This will be called before the _fit_cleanup\u001b[39;00m\n\u001b[1;32m    961\u001b[0m     \u001b[38;5;28mself\u001b[39m\u001b[38;5;241m.\u001b[39m_logger\u001b[38;5;241m.\u001b[39mexception(e)\n\u001b[0;32m--> 962\u001b[0m     \u001b[38;5;28;01mraise\u001b[39;00m e\n\u001b[1;32m    963\u001b[0m \u001b[38;5;28;01mfinally\u001b[39;00m:\n\u001b[1;32m    964\u001b[0m     \u001b[38;5;28mself\u001b[39m\u001b[38;5;241m.\u001b[39m_fit_cleanup()\n",
            "File \u001b[0;32m~/opt/anaconda3/envs/autosl/lib/python3.9/site-packages/autosklearn/automl.py:765\u001b[0m, in \u001b[0;36mAutoML.fit\u001b[0;34m(self, X, y, task, X_test, y_test, feat_type, dataset_name, only_return_configuration_space, load_models, is_classification)\u001b[0m\n\u001b[1;32m    763\u001b[0m \u001b[38;5;28;01mwith\u001b[39;00m \u001b[38;5;28mself\u001b[39m\u001b[38;5;241m.\u001b[39m_stopwatch\u001b[38;5;241m.\u001b[39mtime(\u001b[38;5;124m\"\u001b[39m\u001b[38;5;124mDummy predictions\u001b[39m\u001b[38;5;124m\"\u001b[39m):\n\u001b[1;32m    764\u001b[0m     \u001b[38;5;28mself\u001b[39m\u001b[38;5;241m.\u001b[39mnum_run \u001b[38;5;241m+\u001b[39m\u001b[38;5;241m=\u001b[39m \u001b[38;5;241m1\u001b[39m\n\u001b[0;32m--> 765\u001b[0m     \u001b[38;5;28;43mself\u001b[39;49m\u001b[38;5;241;43m.\u001b[39;49m\u001b[43m_do_dummy_prediction\u001b[49m\u001b[43m(\u001b[49m\u001b[43m)\u001b[49m\n\u001b[1;32m    767\u001b[0m \u001b[38;5;66;03m# == RUN ensemble builder\u001b[39;00m\n\u001b[1;32m    768\u001b[0m \u001b[38;5;66;03m# Do this before calculating the meta-features to make sure that the\u001b[39;00m\n\u001b[1;32m    769\u001b[0m \u001b[38;5;66;03m# dummy predictions are actually included in the ensemble even if\u001b[39;00m\n\u001b[1;32m    770\u001b[0m \u001b[38;5;66;03m# calculating the meta-features takes very long\u001b[39;00m\n\u001b[1;32m    771\u001b[0m \u001b[38;5;28;01mwith\u001b[39;00m \u001b[38;5;28mself\u001b[39m\u001b[38;5;241m.\u001b[39m_stopwatch\u001b[38;5;241m.\u001b[39mtime(\u001b[38;5;124m\"\u001b[39m\u001b[38;5;124mRun Ensemble Builder\u001b[39m\u001b[38;5;124m\"\u001b[39m):\n",
            "File \u001b[0;32m~/opt/anaconda3/envs/autosl/lib/python3.9/site-packages/autosklearn/automl.py:489\u001b[0m, in \u001b[0;36mAutoML._do_dummy_prediction\u001b[0;34m(self)\u001b[0m\n\u001b[1;32m    483\u001b[0m         msg \u001b[38;5;241m=\u001b[39m (\n\u001b[1;32m    484\u001b[0m             \u001b[38;5;124mf\u001b[39m\u001b[38;5;124m\"\u001b[39m\u001b[38;5;124m Dummy prediction failed with run state \u001b[39m\u001b[38;5;132;01m{\u001b[39;00mstatus\u001b[38;5;132;01m}\u001b[39;00m\u001b[38;5;124m and\u001b[39m\u001b[38;5;124m\"\u001b[39m\n\u001b[1;32m    485\u001b[0m             \u001b[38;5;124mf\u001b[39m\u001b[38;5;124m\"\u001b[39m\u001b[38;5;124m additional output: \u001b[39m\u001b[38;5;132;01m{\u001b[39;00madditional_info\u001b[38;5;132;01m}\u001b[39;00m\u001b[38;5;124m.\u001b[39m\u001b[38;5;124m\"\u001b[39m,\n\u001b[1;32m    486\u001b[0m         )\n\u001b[1;32m    488\u001b[0m     \u001b[38;5;28mself\u001b[39m\u001b[38;5;241m.\u001b[39m_logger\u001b[38;5;241m.\u001b[39merror(msg)\n\u001b[0;32m--> 489\u001b[0m     \u001b[38;5;28;01mraise\u001b[39;00m \u001b[38;5;167;01mValueError\u001b[39;00m(msg)\n\u001b[1;32m    491\u001b[0m \u001b[38;5;28;01mreturn\u001b[39;00m\n",
            "\u001b[0;31mValueError\u001b[0m: (\" Dummy prediction failed with run state StatusType.MEMOUT and additional output: {'error': 'Memout (used more than 3072 MB).', 'configuration_origin': 'DUMMY'}.\",)"
          ]
        }
      ],
      "source": [
        "automl = autosklearn.classification.AutoSklearnClassifier(\n",
        "    time_left_for_this_task=120,\n",
        "    per_run_time_limit=30,\n",
        "    memory_limit=16384,\n",
        "    tmp_folder=\"/tmp/autosklearn_resampling_example_tmp\",\n",
        "    disable_evaluator_output=False,\n",
        "    resampling_strategy=\"cv\",\n",
        "    resampling_strategy_arguments={\"folds\": 5},\n",
        ")\n",
        "automl.fit(X_train, y_train, dataset_name=\"breast_cancer\")\n",
        "\n",
        "# One can use models trained during cross-validation directly to predict\n",
        "# for unseen data. For this, all k models trained during k-fold\n",
        "# cross-validation are considered as a single soft-voting ensemble inside\n",
        "# the ensemble constructed with ensemble selection.\n",
        "print(\"Before re-fit\")\n",
        "predictions = automl.predict(X_test)\n",
        "print(\"Accuracy score CV\", sklearn.metrics.accuracy_score(y_test, predictions))"
      ]
    },
    {
      "cell_type": "markdown",
      "metadata": {},
      "source": [
        "## Perform a refit\n",
        "During fit(), models are fit on individual cross-validation folds. To use\n",
        "all available data, we call refit() which trains all models in the\n",
        "final ensemble on the whole dataset.\n",
        "\n"
      ]
    },
    {
      "cell_type": "code",
      "execution_count": null,
      "metadata": {
        "collapsed": false
      },
      "outputs": [],
      "source": [
        "print(\"After re-fit\")\n",
        "automl.refit(X_train.copy(), y_train.copy())\n",
        "predictions = automl.predict(X_test)\n",
        "print(\"Accuracy score CV\", sklearn.metrics.accuracy_score(y_test, predictions))"
      ]
    },
    {
      "cell_type": "markdown",
      "metadata": {},
      "source": [
        "## scikit-learn splitter objects\n",
        "It is also possible to use\n",
        "[scikit-learn's splitter classes](https://scikit-learn.org/stable/modules/classes.html#splitter\n",
        "-classes) to further customize the outputs. In case one needs to have 100% control over the\n",
        "splitting, it is possible to use\n",
        "[scikit-learn's PredefinedSplit](https://scikit-learn.org/stable/modules/generated/\n",
        "sklearn.model_selection.PredefinedSplit.html).\n",
        "\n"
      ]
    },
    {
      "cell_type": "markdown",
      "metadata": {},
      "source": [
        "Below is an example of using a predefined split. We split the training\n",
        "data by the first feature. In practice, one would use a splitting according\n",
        "to the use case at hand.\n",
        "\n"
      ]
    },
    {
      "cell_type": "code",
      "execution_count": null,
      "metadata": {
        "collapsed": false
      },
      "outputs": [],
      "source": [
        "selected_indices = (X_train[:, 0] < np.mean(X_train[:, 0])).astype(int)\n",
        "resampling_strategy = sklearn.model_selection.PredefinedSplit(\n",
        "    test_fold=selected_indices\n",
        ")\n",
        "\n",
        "automl = autosklearn.classification.AutoSklearnClassifier(\n",
        "    time_left_for_this_task=120,\n",
        "    per_run_time_limit=30,\n",
        "    tmp_folder=\"/tmp/autosklearn_resampling_example_tmp\",\n",
        "    disable_evaluator_output=False,\n",
        "    resampling_strategy=resampling_strategy,\n",
        ")\n",
        "automl.fit(X_train, y_train, dataset_name=\"breast_cancer\")\n",
        "\n",
        "print(automl.sprint_statistics())"
      ]
    },
    {
      "cell_type": "markdown",
      "metadata": {},
      "source": [
        "For custom resampling strategies (i.e. resampling strategies that are not\n",
        "defined as strings by Auto-sklearn) it is necessary to perform a refit:\n",
        "\n"
      ]
    },
    {
      "cell_type": "code",
      "execution_count": null,
      "metadata": {
        "collapsed": false
      },
      "outputs": [],
      "source": [
        "automl.refit(X_train, y_train)"
      ]
    },
    {
      "cell_type": "markdown",
      "metadata": {},
      "source": [
        "## Get the Score of the final ensemble (again)\n",
        "\n",
        "Obviously, this score is pretty bad as we \"destroyed\" the dataset by\n",
        "splitting it on the first feature.\n",
        "\n"
      ]
    },
    {
      "cell_type": "code",
      "execution_count": null,
      "metadata": {
        "collapsed": false
      },
      "outputs": [],
      "source": [
        "predictions = automl.predict(X_test)\n",
        "print(\n",
        "    \"Accuracy score custom split\", sklearn.metrics.accuracy_score(y_test, predictions)\n",
        ")"
      ]
    }
  ],
  "metadata": {
    "kernelspec": {
      "display_name": "Python 3",
      "language": "python",
      "name": "python3"
    },
    "language_info": {
      "codemirror_mode": {
        "name": "ipython",
        "version": 3
      },
      "file_extension": ".py",
      "mimetype": "text/x-python",
      "name": "python",
      "nbconvert_exporter": "python",
      "pygments_lexer": "ipython3",
      "version": "3.9.19"
    }
  },
  "nbformat": 4,
  "nbformat_minor": 0
}
