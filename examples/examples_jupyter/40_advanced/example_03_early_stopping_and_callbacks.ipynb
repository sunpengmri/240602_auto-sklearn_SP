{
  "cells": [
    {
      "cell_type": "code",
      "execution_count": 1,
      "metadata": {
        "collapsed": false
      },
      "outputs": [],
      "source": [
        "%matplotlib inline"
      ]
    },
    {
      "cell_type": "markdown",
      "metadata": {},
      "source": [
        "\n",
        "# Early stopping and Callbacks\n",
        "\n",
        "The example below shows how we can use the ``get_trials_callback`` parameter of\n",
        "auto-sklearn to implement an early-stopping mechanism through a callback.\n",
        "\n",
        "These callbacks give access to the result of each model + hyperparameter configuration\n",
        "optimized by SMAC, the underlying optimizer for autosklearn. By checking the cost of\n",
        "a result, we can implement a simple yet effective early stopping mechanism!\n",
        "\n",
        "Do note however, this does not provide any access to the ensembles that autosklearn\n",
        "produces, only the individual models. You may wish to perform a more sophisticated\n",
        "early stopping mechanism such that there are enough good models for autosklearn to build\n",
        "and ensemble with. This is here to provide a simple example.\n"
      ]
    },
    {
      "cell_type": "code",
      "execution_count": 2,
      "metadata": {
        "collapsed": false
      },
      "outputs": [
        {
          "name": "stderr",
          "output_type": "stream",
          "text": [
            "/home/peng/opt/anaconda3/envs/autosl/lib/python3.9/site-packages/scipy/__init__.py:146: UserWarning: A NumPy version >=1.17.3 and <1.25.0 is required for this version of SciPy (detected version 1.26.4\n",
            "  warnings.warn(f\"A NumPy version >={np_minversion} and <{np_maxversion}\"\n",
            "/home/peng/.local/lib/python3.9/site-packages/pandas/core/computation/expressions.py:21: UserWarning: Pandas requires version '2.8.4' or newer of 'numexpr' (version '2.8.0' currently installed).\n",
            "  from pandas.core.computation.check import NUMEXPR_INSTALLED\n"
          ]
        }
      ],
      "source": [
        "from __future__ import annotations\n",
        "\n",
        "from pprint import pprint\n",
        "\n",
        "import sklearn.datasets\n",
        "import sklearn.metrics\n",
        "\n",
        "import autosklearn.classification\n",
        "\n",
        "from smac.optimizer.smbo import SMBO\n",
        "from smac.runhistory.runhistory import RunInfo, RunValue"
      ]
    },
    {
      "cell_type": "markdown",
      "metadata": {},
      "source": [
        "## Build and fit a classifier\n",
        "\n"
      ]
    },
    {
      "cell_type": "code",
      "execution_count": 4,
      "metadata": {
        "collapsed": false
      },
      "outputs": [
        {
          "name": "stdout",
          "output_type": "stream",
          "text": [
            "Stopping!\n",
            "RunInfo(config=Configuration(values={\n",
            "  'balancing:strategy': 'none',\n",
            "  'classifier:__choice__': 'extra_trees',\n",
            "  'classifier:extra_trees:bootstrap': 'False',\n",
            "  'classifier:extra_trees:criterion': 'gini',\n",
            "  'classifier:extra_trees:max_depth': 'None',\n",
            "  'classifier:extra_trees:max_features': 0.5707983257382487,\n",
            "  'classifier:extra_trees:max_leaf_nodes': 'None',\n",
            "  'classifier:extra_trees:min_impurity_decrease': 0.0,\n",
            "  'classifier:extra_trees:min_samples_leaf': 3,\n",
            "  'classifier:extra_trees:min_samples_split': 11,\n",
            "  'classifier:extra_trees:min_weight_fraction_leaf': 0.0,\n",
            "  'data_preprocessor:__choice__': 'feature_type',\n",
            "  'data_preprocessor:feature_type:numerical_transformer:imputation:strategy': 'median',\n",
            "  'data_preprocessor:feature_type:numerical_transformer:rescaling:__choice__': 'none',\n",
            "  'feature_preprocessor:__choice__': 'polynomial',\n",
            "  'feature_preprocessor:polynomial:degree': 2,\n",
            "  'feature_preprocessor:polynomial:include_bias': 'False',\n",
            "  'feature_preprocessor:polynomial:interaction_only': 'False',\n",
            "})\n",
            ", instance='{\"task_id\": \"breast_cancer\"}', instance_specific='0', seed=0, cutoff=30.0, capped=False, budget=0.0, source_id=0)\n",
            "RunValue(cost=0.014184397163120588, time=0.46567869186401367, status=<StatusType.SUCCESS: 1>, starttime=1727104485.7411394, endtime=1727104486.2186222, additional_info={'duration': 0.4349648952484131, 'num_run': 7, 'train_loss': 0.0, 'configuration_origin': 'Initial design'})\n"
          ]
        },
        {
          "data": {
            "text/plain": [
              "AutoSklearnClassifier(ensemble_class=<class 'autosklearn.ensembles.ensemble_selection.EnsembleSelection'>,\n",
              "                      get_trials_callback=<function callback at 0x75f94c2f88b0>,\n",
              "                      memory_limit=16384, per_run_time_limit=30,\n",
              "                      time_left_for_this_task=120)"
            ]
          },
          "execution_count": 4,
          "metadata": {},
          "output_type": "execute_result"
        }
      ],
      "source": [
        "def callback(\n",
        "    smbo: SMBO,\n",
        "    run_info: RunInfo,\n",
        "    result: RunValue,\n",
        "    time_left: float,\n",
        ") -> bool | None:\n",
        "    \"\"\"Stop early if we get a very low cost value for a single run\n",
        "\n",
        "    The return value indicates to SMAC whether to stop or not. False will\n",
        "    stop the search process while any other value will mean it continues.\n",
        "    \"\"\"\n",
        "    # You can find out the parameters in the SMAC documentation\n",
        "    # https://automl.github.io/SMAC3/main/\n",
        "    if result.cost <= 0.02:\n",
        "        print(\"Stopping!\")\n",
        "        print(run_info)\n",
        "        print(result)\n",
        "        return False\n",
        "\n",
        "\n",
        "X, y = sklearn.datasets.load_breast_cancer(return_X_y=True)\n",
        "X_train, X_test, y_train, y_test = sklearn.model_selection.train_test_split(\n",
        "    X, y, random_state=1\n",
        ")\n",
        "\n",
        "automl = autosklearn.classification.AutoSklearnClassifier(\n",
        "    time_left_for_this_task=120, per_run_time_limit=30, memory_limit=16384,get_trials_callback=callback\n",
        ")\n",
        "automl.fit(X_train, y_train, dataset_name=\"breast_cancer\")"
      ]
    },
    {
      "cell_type": "markdown",
      "metadata": {},
      "source": [
        "## View the models found by auto-sklearn\n",
        "\n"
      ]
    },
    {
      "cell_type": "code",
      "execution_count": 5,
      "metadata": {
        "collapsed": false
      },
      "outputs": [
        {
          "name": "stdout",
          "output_type": "stream",
          "text": [
            "          rank  ensemble_weight           type      cost  duration\n",
            "model_id                                                          \n",
            "7            1             0.68    extra_trees  0.014184  0.465679\n",
            "2            2             0.10  random_forest  0.028369  0.547906\n",
            "3            3             0.22            mlp  0.028369  0.338199\n"
          ]
        }
      ],
      "source": [
        "print(automl.leaderboard())"
      ]
    },
    {
      "cell_type": "markdown",
      "metadata": {},
      "source": [
        "## Print the final ensemble constructed by auto-sklearn\n",
        "\n"
      ]
    },
    {
      "cell_type": "code",
      "execution_count": 6,
      "metadata": {
        "collapsed": false
      },
      "outputs": [
        {
          "name": "stdout",
          "output_type": "stream",
          "text": [
            "{   2: {   'balancing': Balancing(random_state=1),\n",
            "           'classifier': <autosklearn.pipeline.components.classification.ClassifierChoice object at 0x75f94c198cd0>,\n",
            "           'cost': 0.028368794326241176,\n",
            "           'data_preprocessor': <autosklearn.pipeline.components.data_preprocessing.DataPreprocessorChoice object at 0x75f94c192400>,\n",
            "           'ensemble_weight': 0.1,\n",
            "           'feature_preprocessor': <autosklearn.pipeline.components.feature_preprocessing.FeaturePreprocessorChoice object at 0x75f94c1989d0>,\n",
            "           'model_id': 2,\n",
            "           'rank': 1,\n",
            "           'sklearn_classifier': RandomForestClassifier(max_features=5, n_estimators=512, n_jobs=1,\n",
            "                       random_state=1, warm_start=True)},\n",
            "    3: {   'balancing': Balancing(random_state=1),\n",
            "           'classifier': <autosklearn.pipeline.components.classification.ClassifierChoice object at 0x75f94c19cf40>,\n",
            "           'cost': 0.028368794326241176,\n",
            "           'data_preprocessor': <autosklearn.pipeline.components.data_preprocessing.DataPreprocessorChoice object at 0x75f94c14fb20>,\n",
            "           'ensemble_weight': 0.22,\n",
            "           'feature_preprocessor': <autosklearn.pipeline.components.feature_preprocessing.FeaturePreprocessorChoice object at 0x75f94c19c250>,\n",
            "           'model_id': 3,\n",
            "           'rank': 2,\n",
            "           'sklearn_classifier': MLPClassifier(activation='tanh', alpha=0.0001363185819149026, beta_1=0.999,\n",
            "              beta_2=0.9, early_stopping=True,\n",
            "              hidden_layer_sizes=(115, 115, 115),\n",
            "              learning_rate_init=0.00018009776276177523, max_iter=32,\n",
            "              n_iter_no_change=32, random_state=1, verbose=0, warm_start=True)},\n",
            "    7: {   'balancing': Balancing(random_state=1),\n",
            "           'classifier': <autosklearn.pipeline.components.classification.ClassifierChoice object at 0x75f94be30cd0>,\n",
            "           'cost': 0.014184397163120588,\n",
            "           'data_preprocessor': <autosklearn.pipeline.components.data_preprocessing.DataPreprocessorChoice object at 0x75f94c14fd90>,\n",
            "           'ensemble_weight': 0.68,\n",
            "           'feature_preprocessor': <autosklearn.pipeline.components.feature_preprocessing.FeaturePreprocessorChoice object at 0x75f94be30be0>,\n",
            "           'model_id': 7,\n",
            "           'rank': 3,\n",
            "           'sklearn_classifier': ExtraTreesClassifier(max_features=34, min_samples_leaf=3, min_samples_split=11,\n",
            "                     n_estimators=512, n_jobs=1, random_state=1,\n",
            "                     warm_start=True)}}\n"
          ]
        }
      ],
      "source": [
        "pprint(automl.show_models(), indent=4)"
      ]
    },
    {
      "cell_type": "markdown",
      "metadata": {},
      "source": [
        "## Get the Score of the final ensemble\n",
        "\n"
      ]
    },
    {
      "cell_type": "code",
      "execution_count": 7,
      "metadata": {
        "collapsed": false
      },
      "outputs": [
        {
          "name": "stdout",
          "output_type": "stream",
          "text": [
            "Accuracy score: 0.9440559440559441\n"
          ]
        }
      ],
      "source": [
        "predictions = automl.predict(X_test)\n",
        "print(\"Accuracy score:\", sklearn.metrics.accuracy_score(y_test, predictions))"
      ]
    }
  ],
  "metadata": {
    "kernelspec": {
      "display_name": "autosl",
      "language": "python",
      "name": "python3"
    },
    "language_info": {
      "codemirror_mode": {
        "name": "ipython",
        "version": 3
      },
      "file_extension": ".py",
      "mimetype": "text/x-python",
      "name": "python",
      "nbconvert_exporter": "python",
      "pygments_lexer": "ipython3",
      "version": "3.9.19"
    }
  },
  "nbformat": 4,
  "nbformat_minor": 0
}
