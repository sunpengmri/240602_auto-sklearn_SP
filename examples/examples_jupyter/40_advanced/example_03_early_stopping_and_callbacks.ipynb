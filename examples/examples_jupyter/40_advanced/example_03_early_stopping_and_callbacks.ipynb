{
  "cells": [
    {
      "cell_type": "code",
      "execution_count": null,
      "metadata": {
        "collapsed": false
      },
      "outputs": [],
      "source": [
        "%matplotlib inline"
      ]
    },
    {
      "cell_type": "markdown",
      "metadata": {},
      "source": [
        "\n# Early stopping and Callbacks\n\nThe example below shows how we can use the ``get_trials_callback`` parameter of\nauto-sklearn to implement an early-stopping mechanism through a callback.\n\nThese callbacks give access to the result of each model + hyperparameter configuration\noptimized by SMAC, the underlying optimizer for autosklearn. By checking the cost of\na result, we can implement a simple yet effective early stopping mechanism!\n\nDo note however, this does not provide any access to the ensembles that autosklearn\nproduces, only the individual models. You may wish to perform a more sophisticated\nearly stopping mechanism such that there are enough good models for autosklearn to build\nand ensemble with. This is here to provide a simple example.\n"
      ]
    },
    {
      "cell_type": "code",
      "execution_count": null,
      "metadata": {
        "collapsed": false
      },
      "outputs": [],
      "source": [
        "from __future__ import annotations\n\nfrom pprint import pprint\n\nimport sklearn.datasets\nimport sklearn.metrics\n\nimport autosklearn.classification\n\nfrom smac.optimizer.smbo import SMBO\nfrom smac.runhistory.runhistory import RunInfo, RunValue"
      ]
    },
    {
      "cell_type": "markdown",
      "metadata": {},
      "source": [
        "## Build and fit a classifier\n\n"
      ]
    },
    {
      "cell_type": "code",
      "execution_count": null,
      "metadata": {
        "collapsed": false
      },
      "outputs": [],
      "source": [
        "def callback(\n    smbo: SMBO,\n    run_info: RunInfo,\n    result: RunValue,\n    time_left: float,\n) -> bool | None:\n    \"\"\"Stop early if we get a very low cost value for a single run\n\n    The return value indicates to SMAC whether to stop or not. False will\n    stop the search process while any other value will mean it continues.\n    \"\"\"\n    # You can find out the parameters in the SMAC documentation\n    # https://automl.github.io/SMAC3/main/\n    if result.cost <= 0.02:\n        print(\"Stopping!\")\n        print(run_info)\n        print(result)\n        return False\n\n\nX, y = sklearn.datasets.load_breast_cancer(return_X_y=True)\nX_train, X_test, y_train, y_test = sklearn.model_selection.train_test_split(\n    X, y, random_state=1\n)\n\nautoml = autosklearn.classification.AutoSklearnClassifier(\n    time_left_for_this_task=120, per_run_time_limit=30, get_trials_callback=callback\n)\nautoml.fit(X_train, y_train, dataset_name=\"breast_cancer\")"
      ]
    },
    {
      "cell_type": "markdown",
      "metadata": {},
      "source": [
        "## View the models found by auto-sklearn\n\n"
      ]
    },
    {
      "cell_type": "code",
      "execution_count": null,
      "metadata": {
        "collapsed": false
      },
      "outputs": [],
      "source": [
        "print(automl.leaderboard())"
      ]
    },
    {
      "cell_type": "markdown",
      "metadata": {},
      "source": [
        "## Print the final ensemble constructed by auto-sklearn\n\n"
      ]
    },
    {
      "cell_type": "code",
      "execution_count": null,
      "metadata": {
        "collapsed": false
      },
      "outputs": [],
      "source": [
        "pprint(automl.show_models(), indent=4)"
      ]
    },
    {
      "cell_type": "markdown",
      "metadata": {},
      "source": [
        "## Get the Score of the final ensemble\n\n"
      ]
    },
    {
      "cell_type": "code",
      "execution_count": null,
      "metadata": {
        "collapsed": false
      },
      "outputs": [],
      "source": [
        "predictions = automl.predict(X_test)\nprint(\"Accuracy score:\", sklearn.metrics.accuracy_score(y_test, predictions))"
      ]
    }
  ],
  "metadata": {
    "kernelspec": {
      "display_name": "Python 3",
      "language": "python",
      "name": "python3"
    },
    "language_info": {
      "codemirror_mode": {
        "name": "ipython",
        "version": 3
      },
      "file_extension": ".py",
      "mimetype": "text/x-python",
      "name": "python",
      "nbconvert_exporter": "python",
      "pygments_lexer": "ipython3",
      "version": "3.8.13"
    }
  },
  "nbformat": 4,
  "nbformat_minor": 0
}