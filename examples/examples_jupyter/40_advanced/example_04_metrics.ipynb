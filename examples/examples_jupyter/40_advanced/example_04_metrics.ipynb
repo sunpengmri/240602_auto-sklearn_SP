{
  "cells": [
    {
      "cell_type": "code",
      "execution_count": 1,
      "metadata": {
        "collapsed": false
      },
      "outputs": [],
      "source": [
        "%matplotlib inline"
      ]
    },
    {
      "cell_type": "markdown",
      "metadata": {},
      "source": [
        "\n",
        "# Metrics\n",
        "\n",
        "*Auto-sklearn* supports various built-in metrics, which can be found in the\n",
        "`metrics section in the API <api:Built-in Metrics>`. However, it is also\n",
        "possible to define your own metric and use it to fit and evaluate your model.\n",
        "The following examples show how to use built-in and self-defined metrics for a\n",
        "classification problem.\n"
      ]
    },
    {
      "cell_type": "code",
      "execution_count": 2,
      "metadata": {
        "collapsed": false
      },
      "outputs": [
        {
          "name": "stderr",
          "output_type": "stream",
          "text": [
            "/home/peng/opt/anaconda3/envs/autosl/lib/python3.9/site-packages/scipy/__init__.py:146: UserWarning: A NumPy version >=1.17.3 and <1.25.0 is required for this version of SciPy (detected version 1.26.4\n",
            "  warnings.warn(f\"A NumPy version >={np_minversion} and <{np_maxversion}\"\n",
            "/home/peng/.local/lib/python3.9/site-packages/pandas/core/computation/expressions.py:21: UserWarning: Pandas requires version '2.8.4' or newer of 'numexpr' (version '2.8.0' currently installed).\n",
            "  from pandas.core.computation.check import NUMEXPR_INSTALLED\n"
          ]
        }
      ],
      "source": [
        "import numpy as np\n",
        "\n",
        "import sklearn.model_selection\n",
        "import sklearn.datasets\n",
        "import sklearn.metrics\n",
        "\n",
        "import autosklearn.classification\n",
        "import autosklearn.metrics"
      ]
    },
    {
      "cell_type": "markdown",
      "metadata": {},
      "source": [
        "## Custom Metrics\n",
        "\n"
      ]
    },
    {
      "cell_type": "code",
      "execution_count": 3,
      "metadata": {
        "collapsed": false
      },
      "outputs": [],
      "source": [
        "def accuracy(solution, prediction):\n",
        "    # custom function defining accuracy\n",
        "    return np.mean(solution == prediction)\n",
        "\n",
        "\n",
        "def error(solution, prediction):\n",
        "    # custom function defining error\n",
        "    return np.mean(solution != prediction)\n",
        "\n",
        "\n",
        "def accuracy_wk(solution, prediction, extra_argument):\n",
        "    # custom function defining accuracy and accepting an additional argument\n",
        "    assert extra_argument is None\n",
        "    return np.mean(solution == prediction)\n",
        "\n",
        "\n",
        "def error_wk(solution, prediction, extra_argument):\n",
        "    # custom function defining error and accepting an additional argument\n",
        "    assert extra_argument is None\n",
        "    return np.mean(solution != prediction)\n",
        "\n",
        "\n",
        "def metric_which_needs_x(solution, prediction, X_data, consider_col, val_threshold):\n",
        "    # custom function defining accuracy\n",
        "    assert X_data is not None\n",
        "    rel_idx = X_data[:, consider_col] > val_threshold\n",
        "    return np.mean(solution[rel_idx] == prediction[rel_idx])"
      ]
    },
    {
      "cell_type": "markdown",
      "metadata": {},
      "source": [
        "## Data Loading\n",
        "\n"
      ]
    },
    {
      "cell_type": "code",
      "execution_count": 4,
      "metadata": {
        "collapsed": false
      },
      "outputs": [],
      "source": [
        "X, y = sklearn.datasets.load_breast_cancer(return_X_y=True)\n",
        "X_train, X_test, y_train, y_test = sklearn.model_selection.train_test_split(\n",
        "    X, y, random_state=1\n",
        ")"
      ]
    },
    {
      "cell_type": "markdown",
      "metadata": {},
      "source": [
        "## Print a list of available metrics\n",
        "\n"
      ]
    },
    {
      "cell_type": "code",
      "execution_count": 5,
      "metadata": {
        "collapsed": false
      },
      "outputs": [
        {
          "name": "stdout",
          "output_type": "stream",
          "text": [
            "Available CLASSIFICATION metrics autosklearn.metrics.*:\n",
            "\t*accuracy\n",
            "\t*balanced_accuracy\n",
            "\t*roc_auc\n",
            "\t*average_precision\n",
            "\t*log_loss\n",
            "\t*precision_macro\n",
            "\t*precision_micro\n",
            "\t*precision_samples\n",
            "\t*precision_weighted\n",
            "\t*recall_macro\n",
            "\t*recall_micro\n",
            "\t*recall_samples\n",
            "\t*recall_weighted\n",
            "\t*f1_macro\n",
            "\t*f1_micro\n",
            "\t*f1_samples\n",
            "\t*f1_weighted\n",
            "Available REGRESSION autosklearn.metrics.*:\n",
            "\t*mean_absolute_error\n",
            "\t*mean_squared_error\n",
            "\t*root_mean_squared_error\n",
            "\t*mean_squared_log_error\n",
            "\t*median_absolute_error\n",
            "\t*r2\n"
          ]
        }
      ],
      "source": [
        "print(\"Available CLASSIFICATION metrics autosklearn.metrics.*:\")\n",
        "print(\"\\t*\" + \"\\n\\t*\".join(autosklearn.metrics.CLASSIFICATION_METRICS))\n",
        "\n",
        "print(\"Available REGRESSION autosklearn.metrics.*:\")\n",
        "print(\"\\t*\" + \"\\n\\t*\".join(autosklearn.metrics.REGRESSION_METRICS))"
      ]
    },
    {
      "cell_type": "markdown",
      "metadata": {},
      "source": [
        "## First example: Use predefined accuracy metric\n",
        "\n"
      ]
    },
    {
      "cell_type": "code",
      "execution_count": 6,
      "metadata": {
        "collapsed": false
      },
      "outputs": [
        {
          "name": "stdout",
          "output_type": "stream",
          "text": [
            "################################################################################\n",
            "Use predefined accuracy metric\n",
            "Accuracy score 0.951 using accuracy\n"
          ]
        }
      ],
      "source": [
        "print(\"#\" * 80)\n",
        "print(\"Use predefined accuracy metric\")\n",
        "scorer = autosklearn.metrics.accuracy\n",
        "cls = autosklearn.classification.AutoSklearnClassifier(\n",
        "    time_left_for_this_task=60,\n",
        "    seed=1,\n",
        "    metric=scorer,\n",
        "    memory_limit=16384,\n",
        ")\n",
        "cls.fit(X_train, y_train)\n",
        "\n",
        "predictions = cls.predict(X_test)\n",
        "score = scorer(y_test, predictions)\n",
        "print(f\"Accuracy score {score:.3f} using {scorer.name}\")"
      ]
    },
    {
      "cell_type": "markdown",
      "metadata": {},
      "source": [
        "## Second example: Use own accuracy metric\n",
        "\n"
      ]
    },
    {
      "cell_type": "code",
      "execution_count": 9,
      "metadata": {
        "collapsed": false
      },
      "outputs": [
        {
          "name": "stdout",
          "output_type": "stream",
          "text": [
            "################################################################################\n",
            "Use self defined accuracy metric\n",
            "[WARNING] [2024-09-24 07:47:37,982:Client-AutoMLSMBO(1)::36b67f43-7a06-11ef-8006-9009df57b61a] Could not find meta-data directory /home/peng/opt/anaconda3/envs/autosl/lib/python3.9/site-packages/autosklearn/metalearning/files/accu_binary.classification_dense\n",
            "Accuracy score 0.944 using accu\n"
          ]
        }
      ],
      "source": [
        "print(\"#\" * 80)\n",
        "print(\"Use self defined accuracy metric\")\n",
        "accuracy_scorer = autosklearn.metrics.make_scorer(\n",
        "    name=\"accu\",\n",
        "    score_func=accuracy,\n",
        "    optimum=1,\n",
        "    greater_is_better=True,\n",
        "    needs_proba=False,\n",
        "    needs_threshold=False,\n",
        "    \n",
        ")\n",
        "cls = autosklearn.classification.AutoSklearnClassifier(\n",
        "    time_left_for_this_task=60,\n",
        "    seed=1,\n",
        "    metric=accuracy_scorer,\n",
        "    memory_limit=16384,\n",
        ")\n",
        "cls.fit(X_train, y_train)\n",
        "\n",
        "predictions = cls.predict(X_test)\n",
        "score = accuracy_scorer(y_test, predictions)\n",
        "print(f\"Accuracy score {score:.3f} using {accuracy_scorer.name:s}\")"
      ]
    },
    {
      "cell_type": "markdown",
      "metadata": {},
      "source": [
        "## Third example: Use own error metric\n",
        "\n"
      ]
    },
    {
      "cell_type": "code",
      "execution_count": null,
      "metadata": {
        "collapsed": false
      },
      "outputs": [],
      "source": [
        "print(\"#\" * 80)\n",
        "print(\"Use self defined error metric\")\n",
        "error_rate = autosklearn.metrics.make_scorer(\n",
        "    name=\"error\",\n",
        "    score_func=error,\n",
        "    optimum=0,\n",
        "    greater_is_better=False,\n",
        "    needs_proba=False,\n",
        "    needs_threshold=False,\n",
        ")\n",
        "cls = autosklearn.classification.AutoSklearnClassifier(\n",
        "    time_left_for_this_task=60,\n",
        "    seed=1,\n",
        "    metric=error_rate,\n",
        ")\n",
        "cls.fit(X_train, y_train)\n",
        "\n",
        "cls.predictions = cls.predict(X_test)\n",
        "score = error_rate(y_test, predictions)\n",
        "print(f\"Error score {score:.3f} using {error_rate.name:s}\")"
      ]
    },
    {
      "cell_type": "markdown",
      "metadata": {},
      "source": [
        "## Fourth example: Use own accuracy metric with additional argument\n",
        "\n"
      ]
    },
    {
      "cell_type": "code",
      "execution_count": null,
      "metadata": {
        "collapsed": false
      },
      "outputs": [],
      "source": [
        "print(\"#\" * 80)\n",
        "print(\"Use self defined accuracy with additional argument\")\n",
        "accuracy_scorer = autosklearn.metrics.make_scorer(\n",
        "    name=\"accu_add\",\n",
        "    score_func=accuracy_wk,\n",
        "    optimum=1,\n",
        "    greater_is_better=True,\n",
        "    needs_proba=False,\n",
        "    needs_threshold=False,\n",
        "    extra_argument=None,\n",
        ")\n",
        "cls = autosklearn.classification.AutoSklearnClassifier(\n",
        "    time_left_for_this_task=60, per_run_time_limit=30, seed=1, metric=accuracy_scorer\n",
        ")\n",
        "cls.fit(X_train, y_train)\n",
        "\n",
        "predictions = cls.predict(X_test)\n",
        "score = accuracy_scorer(y_test, predictions)\n",
        "print(f\"Accuracy score {score:.3f} using {accuracy_scorer.name:s}\")"
      ]
    },
    {
      "cell_type": "markdown",
      "metadata": {},
      "source": [
        "## Fifth example: Use own accuracy metric with additional argument\n",
        "\n"
      ]
    },
    {
      "cell_type": "code",
      "execution_count": null,
      "metadata": {
        "collapsed": false
      },
      "outputs": [],
      "source": [
        "print(\"#\" * 80)\n",
        "print(\"Use self defined error with additional argument\")\n",
        "error_rate = autosklearn.metrics.make_scorer(\n",
        "    name=\"error_add\",\n",
        "    score_func=error_wk,\n",
        "    optimum=0,\n",
        "    greater_is_better=True,\n",
        "    needs_proba=False,\n",
        "    needs_threshold=False,\n",
        "    extra_argument=None,\n",
        ")\n",
        "cls = autosklearn.classification.AutoSklearnClassifier(\n",
        "    time_left_for_this_task=60,\n",
        "    seed=1,\n",
        "    metric=error_rate,\n",
        ")\n",
        "cls.fit(X_train, y_train)\n",
        "\n",
        "predictions = cls.predict(X_test)\n",
        "score = error_rate(y_test, predictions)\n",
        "print(f\"Error score {score:.3f} using {error_rate.name:s}\")"
      ]
    },
    {
      "cell_type": "markdown",
      "metadata": {},
      "source": [
        "## Sixth example: Use a metric with additional argument which also needs xdata\n",
        "\n"
      ]
    },
    {
      "cell_type": "code",
      "execution_count": null,
      "metadata": {
        "collapsed": false
      },
      "outputs": [],
      "source": [
        "\"\"\"\n",
        "Finally, *Auto-sklearn* also support metric that require the train data (aka X_data) to\n",
        "compute a value. This can be useful if one only cares about the score on a subset of the\n",
        "data.\n",
        "\"\"\"\n",
        "\n",
        "accuracy_scorer = autosklearn.metrics.make_scorer(\n",
        "    name=\"accu_X\",\n",
        "    score_func=metric_which_needs_x,\n",
        "    optimum=1,\n",
        "    greater_is_better=True,\n",
        "    needs_proba=False,\n",
        "    needs_X=True,\n",
        "    needs_threshold=False,\n",
        "    consider_col=1,\n",
        "    val_threshold=18.8,\n",
        ")\n",
        "cls = autosklearn.classification.AutoSklearnClassifier(\n",
        "    time_left_for_this_task=60,\n",
        "    seed=1,\n",
        "    metric=accuracy_scorer,\n",
        ")\n",
        "cls.fit(X_train, y_train)\n",
        "\n",
        "predictions = cls.predict(X_test)\n",
        "score = metric_which_needs_x(\n",
        "    y_test,\n",
        "    predictions,\n",
        "    X_data=X_test,\n",
        "    consider_col=1,\n",
        "    val_threshold=18.8,\n",
        ")\n",
        "print(f\"Error score {score:.3f} using {accuracy_scorer.name:s}\")"
      ]
    }
  ],
  "metadata": {
    "kernelspec": {
      "display_name": "autosl",
      "language": "python",
      "name": "python3"
    },
    "language_info": {
      "codemirror_mode": {
        "name": "ipython",
        "version": 3
      },
      "file_extension": ".py",
      "mimetype": "text/x-python",
      "name": "python",
      "nbconvert_exporter": "python",
      "pygments_lexer": "ipython3",
      "version": "3.9.19"
    }
  },
  "nbformat": 4,
  "nbformat_minor": 0
}
