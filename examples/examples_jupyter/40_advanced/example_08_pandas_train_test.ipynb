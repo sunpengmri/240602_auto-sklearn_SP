{
  "cells": [
    {
      "cell_type": "code",
      "execution_count": 1,
      "metadata": {
        "collapsed": false
      },
      "outputs": [],
      "source": [
        "%matplotlib inline"
      ]
    },
    {
      "cell_type": "markdown",
      "metadata": {},
      "source": [
        "\n",
        "# Performance-over-time plot\n",
        "This example shows, how to use the *performance_over_time_* attribute to plot the performance\n",
        "over train time.  *performance_over_time_* can contain multiple metrics within a pandas dataframe, namely:\n",
        "\n",
        "    - ensemble_optimization_score\n",
        "    - ensemble_test_score\n",
        "    - single_best_optimization_score\n",
        "    - single_best_test_score\n",
        "    - single_best_train_score\n",
        "\n",
        "*auto-sklearn* can automatically encode categorical columns using a label/ordinal encoder.\n",
        "This example highlights how to properly set the dtype in a DataFrame for this to happen,\n",
        "and showcase how to input also testing data to autosklearn.\n",
        "\n",
        "The X_train/y_train arguments to the fit function will be used to fit the scikit-learn model,\n",
        "whereas the X_test/y_test will be used to evaluate how good this scikit-learn model generalizes\n",
        "to unseen data (i.e. data not in X_train/y_train). Using test data is a good mechanism to measure\n",
        "if the trained model suffers from overfit, and more details can be found on [evaluating estimator\n",
        "performance](https://scikit-learn.org/stable/modules/cross_validation.html#cross-validation).\n",
        "\n",
        "In order to provide *\\*_test_score* metrics, X_test and y_test must be provided to the AutoML-Model, as \n",
        "shown in this example.\n",
        "\n",
        "There is also support to manually indicate the feature types (whether a column is categorical\n",
        "or numerical) via the argument feat_types from fit(). This is important when working with\n",
        "list or numpy arrays as there is no per-column dtype (further details in the example\n",
        "`sphx_glr_examples_40_advanced_example_feature_types.py`).\n"
      ]
    },
    {
      "cell_type": "code",
      "execution_count": 2,
      "metadata": {
        "collapsed": false
      },
      "outputs": [
        {
          "name": "stderr",
          "output_type": "stream",
          "text": [
            "/home/peng/opt/anaconda3/envs/autosl/lib/python3.9/site-packages/scipy/__init__.py:146: UserWarning: A NumPy version >=1.17.3 and <1.25.0 is required for this version of SciPy (detected version 1.26.4\n",
            "  warnings.warn(f\"A NumPy version >={np_minversion} and <{np_maxversion}\"\n"
          ]
        }
      ],
      "source": [
        "import time\n",
        "\n",
        "import matplotlib.pyplot as plt\n",
        "import numpy as np\n",
        "import pandas as pd\n",
        "import sklearn.model_selection\n",
        "import sklearn.datasets\n",
        "import sklearn.metrics\n",
        "\n",
        "from smac.tae import StatusType\n",
        "\n",
        "import autosklearn.classification"
      ]
    },
    {
      "cell_type": "markdown",
      "metadata": {},
      "source": [
        "## Data Loading\n",
        "\n"
      ]
    },
    {
      "cell_type": "code",
      "execution_count": 3,
      "metadata": {
        "collapsed": false
      },
      "outputs": [
        {
          "name": "stdout",
          "output_type": "stream",
          "text": [
            "A1         bool\n",
            "A2      float64\n",
            "A3      float64\n",
            "A4     category\n",
            "A5     category\n",
            "A6     category\n",
            "A7      float64\n",
            "A8     category\n",
            "A9     category\n",
            "A10     float64\n",
            "A11    category\n",
            "A12    category\n",
            "A13     float64\n",
            "A14     float64\n",
            "dtype: object\n"
          ]
        }
      ],
      "source": [
        "# Using Australian dataset https://www.openml.org/d/40981.\n",
        "# This example will use the command fetch_openml, which will\n",
        "# download a properly formatted dataframe if you use as_frame=True.\n",
        "# For demonstration purposes, we will download a numpy array using\n",
        "# as_frame=False, and manually creating the pandas DataFrame\n",
        "X, y = sklearn.datasets.fetch_openml(data_id=40981, return_X_y=True, as_frame=False)\n",
        "\n",
        "# bool and category will be automatically encoded.\n",
        "# Targets for classification are also automatically encoded\n",
        "# If using fetch_openml, data is already properly encoded, below\n",
        "# is an example for user reference\n",
        "X = pd.DataFrame(data=X, columns=[\"A\" + str(i) for i in range(1, 15)])\n",
        "desired_boolean_columns = [\"A1\"]\n",
        "desired_categorical_columns = [\"A4\", \"A5\", \"A6\", \"A8\", \"A9\", \"A11\", \"A12\"]\n",
        "desired_numerical_columns = [\"A2\", \"A3\", \"A7\", \"A10\", \"A13\", \"A14\"]\n",
        "for column in X.columns:\n",
        "    if column in desired_boolean_columns:\n",
        "        X[column] = X[column].astype(\"bool\")\n",
        "    elif column in desired_categorical_columns:\n",
        "        X[column] = X[column].astype(\"category\")\n",
        "    else:\n",
        "        X[column] = pd.to_numeric(X[column])\n",
        "\n",
        "y = pd.DataFrame(y, dtype=\"category\")\n",
        "\n",
        "X_train, X_test, y_train, y_test = sklearn.model_selection.train_test_split(\n",
        "    X, y, test_size=0.5, random_state=3\n",
        ")\n",
        "print(X.dtypes)"
      ]
    },
    {
      "cell_type": "markdown",
      "metadata": {},
      "source": [
        "## Build and fit a classifier\n",
        "\n"
      ]
    },
    {
      "cell_type": "code",
      "execution_count": null,
      "metadata": {
        "collapsed": false
      },
      "outputs": [],
      "source": [
        "cls = autosklearn.classification.AutoSklearnClassifier(\n",
        "    time_left_for_this_task=120,\n",
        "    per_run_time_limit=30,\n",
        "    memory_limit=16384,\n",
        ")\n",
        "cls.fit(X_train, y_train, X_test, y_test)"
      ]
    },
    {
      "cell_type": "markdown",
      "metadata": {},
      "source": [
        "## Get the Score of the final ensemble\n",
        "\n"
      ]
    },
    {
      "cell_type": "code",
      "execution_count": null,
      "metadata": {
        "collapsed": false
      },
      "outputs": [],
      "source": [
        "predictions = cls.predict(X_test)\n",
        "print(\"Accuracy score\", sklearn.metrics.accuracy_score(y_test, predictions))"
      ]
    },
    {
      "cell_type": "markdown",
      "metadata": {},
      "source": [
        "## Plot the ensemble performance\n",
        "The *performance_over_time_* attribute returns a pandas dataframe, which can\n",
        "be directly used for plotting\n",
        "\n"
      ]
    },
    {
      "cell_type": "code",
      "execution_count": null,
      "metadata": {
        "collapsed": false
      },
      "outputs": [],
      "source": [
        "poT = cls.performance_over_time_\n",
        "poT.plot(\n",
        "    x=\"Timestamp\",\n",
        "    kind=\"line\",\n",
        "    legend=True,\n",
        "    title=\"Auto-sklearn accuracy over time\",\n",
        "    grid=True,\n",
        ")\n",
        "plt.show()"
      ]
    }
  ],
  "metadata": {
    "kernelspec": {
      "display_name": "Python 3",
      "language": "python",
      "name": "python3"
    },
    "language_info": {
      "codemirror_mode": {
        "name": "ipython",
        "version": 3
      },
      "file_extension": ".py",
      "mimetype": "text/x-python",
      "name": "python",
      "nbconvert_exporter": "python",
      "pygments_lexer": "ipython3",
      "version": "3.9.19"
    }
  },
  "nbformat": 4,
  "nbformat_minor": 0
}
