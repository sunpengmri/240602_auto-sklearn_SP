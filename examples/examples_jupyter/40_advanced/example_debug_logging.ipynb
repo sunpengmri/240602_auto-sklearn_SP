{
  "cells": [
    {
      "cell_type": "code",
      "execution_count": null,
      "metadata": {
        "collapsed": false
      },
      "outputs": [],
      "source": [
        "%matplotlib inline"
      ]
    },
    {
      "cell_type": "markdown",
      "metadata": {},
      "source": [
        "\n# Logging and debugging\n\nThis example shows how to provide a custom logging configuration to *auto-sklearn*.\nWe will be fitting 2 pipelines and showing any INFO-level msg on console.\nEven if you do not provide a logging_configuration, autosklearn creates a log file\nin the temporal working directory. This directory can be specified via the `tmp_folder`\nas exemplified below.\n\nThis example also highlights additional information about *auto-sklearn* internal\ndirectory structure.\n"
      ]
    },
    {
      "cell_type": "code",
      "execution_count": null,
      "metadata": {
        "collapsed": false
      },
      "outputs": [],
      "source": [
        "import pathlib\n\nimport sklearn.datasets\nimport sklearn.metrics\nimport sklearn.model_selection\n\nimport autosklearn.classification"
      ]
    },
    {
      "cell_type": "markdown",
      "metadata": {},
      "source": [
        "## Data Loading\nLoad kr-vs-kp dataset from https://www.openml.org/d/3\n\n"
      ]
    },
    {
      "cell_type": "code",
      "execution_count": null,
      "metadata": {
        "collapsed": false
      },
      "outputs": [],
      "source": [
        "X, y = data = sklearn.datasets.fetch_openml(data_id=3, return_X_y=True, as_frame=True)\n\nX_train, X_test, y_train, y_test = sklearn.model_selection.train_test_split(\n    X, y, random_state=1\n)"
      ]
    },
    {
      "cell_type": "markdown",
      "metadata": {},
      "source": [
        "## Create a logging config\n*auto-sklearn* uses a default\n[logging config](https://github.com/automl/auto-sklearn/blob/master/autosklearn/util/logging.yaml)\nWe will instead create a custom one as follows:\n\n"
      ]
    },
    {
      "cell_type": "code",
      "execution_count": null,
      "metadata": {
        "collapsed": false
      },
      "outputs": [],
      "source": [
        "logging_config = {\n    \"version\": 1,\n    \"disable_existing_loggers\": True,\n    \"formatters\": {\n        \"custom\": {\n            # More format options are available in the official\n            # `documentation <https://docs.python.org/3/howto/logging-cookbook.html>`_\n            \"format\": \"%(asctime)s - %(name)s - %(levelname)s - %(message)s\"\n        }\n    },\n    # Any INFO level msg will be printed to the console\n    \"handlers\": {\n        \"console\": {\n            \"level\": \"INFO\",\n            \"formatter\": \"custom\",\n            \"class\": \"logging.StreamHandler\",\n            \"stream\": \"ext://sys.stdout\",\n        },\n    },\n    \"loggers\": {\n        \"\": {  # root logger\n            \"level\": \"DEBUG\",\n        },\n        \"Client-EnsembleBuilder\": {\n            \"level\": \"DEBUG\",\n            \"handlers\": [\"console\"],\n        },\n    },\n}"
      ]
    },
    {
      "cell_type": "markdown",
      "metadata": {},
      "source": [
        "## Build and fit a classifier\n\n"
      ]
    },
    {
      "cell_type": "code",
      "execution_count": null,
      "metadata": {
        "collapsed": false
      },
      "outputs": [],
      "source": [
        "cls = autosklearn.classification.AutoSklearnClassifier(\n    time_left_for_this_task=30,\n    # Bellow two flags are provided to speed up calculations\n    # Not recommended for a real implementation\n    initial_configurations_via_metalearning=0,\n    smac_scenario_args={\"runcount_limit\": 2},\n    # Pass the config file we created\n    logging_config=logging_config,\n    # *auto-sklearn* generates temporal files under tmp_folder\n    tmp_folder=\"./tmp_folder\",\n    # By default tmp_folder is deleted. We will preserve it\n    # for debug purposes\n    delete_tmp_folder_after_terminate=False,\n)\ncls.fit(X_train, y_train, X_test, y_test)\n\n# *auto-sklearn* generates intermediate files which can be of interest\n# Dask multiprocessing information. Useful on multi-core runs:\n#   * tmp_folder/distributed.log\n# The individual fitted estimators are written to disk on:\n#   * tmp_folder/.auto-sklearn/runs\n# SMAC output is stored in this directory.\n# For more info, you can check the `SMAC documentation <https://github.com/automl/SMAC3>`_\n#   * tmp_folder/smac3-output\n# Auto-sklearn always outputs to this log file\n# tmp_folder/AutoML*.log\nfor filename in pathlib.Path(\"./tmp_folder\").glob(\"*\"):\n    print(filename)"
      ]
    }
  ],
  "metadata": {
    "kernelspec": {
      "display_name": "Python 3",
      "language": "python",
      "name": "python3"
    },
    "language_info": {
      "codemirror_mode": {
        "name": "ipython",
        "version": 3
      },
      "file_extension": ".py",
      "mimetype": "text/x-python",
      "name": "python",
      "nbconvert_exporter": "python",
      "pygments_lexer": "ipython3",
      "version": "3.8.13"
    }
  },
  "nbformat": 4,
  "nbformat_minor": 0
}