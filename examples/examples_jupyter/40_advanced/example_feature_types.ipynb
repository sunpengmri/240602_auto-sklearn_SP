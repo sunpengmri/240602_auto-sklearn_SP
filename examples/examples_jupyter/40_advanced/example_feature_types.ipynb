{
  "cells": [
    {
      "cell_type": "code",
      "execution_count": null,
      "metadata": {
        "collapsed": false
      },
      "outputs": [],
      "source": [
        "%matplotlib inline"
      ]
    },
    {
      "cell_type": "markdown",
      "metadata": {},
      "source": [
        "\n# Feature Types\n\nIn *auto-sklearn* it is possible to specify the feature types of a dataset when calling\nthe method :meth:`fit() <autosklearn.classification.AutoSklearnClassifier.fit>` by\nspecifying the argument ``feat_type``.\nThe following example demonstrates a way it can be done.\n\nAdditionally, you can provide a properly formatted pandas DataFrame, and the feature\ntypes will be automatically inferred, as demonstrated in\n`sphx_glr_examples_40_advanced_example_pandas_train_test.py`.\n"
      ]
    },
    {
      "cell_type": "code",
      "execution_count": null,
      "metadata": {
        "collapsed": false
      },
      "outputs": [],
      "source": [
        "import numpy as np\n\nimport sklearn.model_selection\nimport sklearn.datasets\nimport sklearn.metrics\n\nimport autosklearn.classification"
      ]
    },
    {
      "cell_type": "markdown",
      "metadata": {},
      "source": [
        "## Data Loading\nLoad Australian dataset from https://www.openml.org/d/40981\n\n"
      ]
    },
    {
      "cell_type": "code",
      "execution_count": null,
      "metadata": {
        "collapsed": false
      },
      "outputs": [],
      "source": [
        "bunch = data = sklearn.datasets.fetch_openml(data_id=40981, as_frame=True)\ny = bunch[\"target\"].to_numpy()\nX = bunch[\"data\"].to_numpy(np.float)\n\nX_train, X_test, y_train, y_test = sklearn.model_selection.train_test_split(\n    X, y, random_state=1\n)\n\n# Auto-sklearn can automatically recognize categorical/numerical data from a pandas\n# DataFrame. This example highlights how the user can provide the feature types,\n# when using numpy arrays, as there is no per-column dtype in this case.\n# feat_type is a list that tags each column from a DataFrame/ numpy array / list\n# with the case-insensitive string categorical or numerical, accordingly.\nfeat_type = [\n    \"Categorical\" if x.name == \"category\" else \"Numerical\" for x in bunch[\"data\"].dtypes\n]"
      ]
    },
    {
      "cell_type": "markdown",
      "metadata": {},
      "source": [
        "## Build and fit a classifier\n\n"
      ]
    },
    {
      "cell_type": "code",
      "execution_count": null,
      "metadata": {
        "collapsed": false
      },
      "outputs": [],
      "source": [
        "cls = autosklearn.classification.AutoSklearnClassifier(\n    time_left_for_this_task=30,\n    # Bellow two flags are provided to speed up calculations\n    # Not recommended for a real implementation\n    initial_configurations_via_metalearning=0,\n    smac_scenario_args={\"runcount_limit\": 1},\n)\ncls.fit(X_train, y_train, X_test, y_test, feat_type=feat_type)"
      ]
    },
    {
      "cell_type": "markdown",
      "metadata": {},
      "source": [
        "## Get the Score of the final ensemble\n\n"
      ]
    },
    {
      "cell_type": "code",
      "execution_count": null,
      "metadata": {
        "collapsed": false
      },
      "outputs": [],
      "source": [
        "predictions = cls.predict(X_test)\nprint(\"Accuracy score\", sklearn.metrics.accuracy_score(y_test, predictions))"
      ]
    }
  ],
  "metadata": {
    "kernelspec": {
      "display_name": "Python 3",
      "language": "python",
      "name": "python3"
    },
    "language_info": {
      "codemirror_mode": {
        "name": "ipython",
        "version": 3
      },
      "file_extension": ".py",
      "mimetype": "text/x-python",
      "name": "python",
      "nbconvert_exporter": "python",
      "pygments_lexer": "ipython3",
      "version": "3.8.13"
    }
  },
  "nbformat": 4,
  "nbformat_minor": 0
}