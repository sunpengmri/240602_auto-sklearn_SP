{
  "cells": [
    {
      "cell_type": "code",
      "execution_count": null,
      "metadata": {
        "collapsed": false
      },
      "outputs": [],
      "source": [
        "%matplotlib inline"
      ]
    },
    {
      "cell_type": "markdown",
      "metadata": {},
      "source": [
        "\n",
        "# Obtain run information\n",
        "\n",
        "The following example shows how to obtain information from a finished\n",
        "Auto-sklearn run. In particular, it shows:\n",
        "* how to query which models were evaluated by Auto-sklearn\n",
        "* how to query the models in the final ensemble\n",
        "* how to get general statistics on the what Auto-sklearn evaluated\n",
        "\n",
        "Auto-sklearn is a wrapper on top of\n",
        "the sklearn models. This example illustrates how to interact\n",
        "with the sklearn components directly, in this case a PCA preprocessor.\n"
      ]
    },
    {
      "cell_type": "code",
      "execution_count": null,
      "metadata": {
        "collapsed": false
      },
      "outputs": [],
      "source": [
        "from pprint import pprint\n",
        "\n",
        "import sklearn.datasets\n",
        "import sklearn.metrics\n",
        "\n",
        "import autosklearn.classification"
      ]
    },
    {
      "cell_type": "markdown",
      "metadata": {},
      "source": [
        "## Data Loading\n",
        "\n"
      ]
    },
    {
      "cell_type": "code",
      "execution_count": null,
      "metadata": {
        "collapsed": false
      },
      "outputs": [],
      "source": [
        "X, y = sklearn.datasets.load_breast_cancer(return_X_y=True)\n",
        "X_train, X_test, y_train, y_test = sklearn.model_selection.train_test_split(\n",
        "    X, y, random_state=1\n",
        ")"
      ]
    },
    {
      "cell_type": "markdown",
      "metadata": {},
      "source": [
        "## Build and fit the classifier\n",
        "\n"
      ]
    },
    {
      "cell_type": "code",
      "execution_count": null,
      "metadata": {
        "collapsed": false
      },
      "outputs": [],
      "source": [
        "automl = autosklearn.classification.AutoSklearnClassifier(\n",
        "    time_left_for_this_task=30,\n",
        "    per_run_time_limit=10,\n",
        "    disable_evaluator_output=False,\n",
        "    memory_limit=16384,\n",
        "    # To simplify querying the models in the final ensemble, we\n",
        "    # restrict auto-sklearn to use only pca as a preprocessor\n",
        "    include={\"feature_preprocessor\": [\"pca\"]},\n",
        ")\n",
        "automl.fit(X_train, y_train, dataset_name=\"breast_cancer\")"
      ]
    },
    {
      "cell_type": "markdown",
      "metadata": {},
      "source": [
        "## Predict using the model\n",
        "\n"
      ]
    },
    {
      "cell_type": "code",
      "execution_count": null,
      "metadata": {
        "collapsed": false
      },
      "outputs": [],
      "source": [
        "predictions = automl.predict(X_test)\n",
        "print(\"Accuracy score:{}\".format(sklearn.metrics.accuracy_score(y_test, predictions)))"
      ]
    },
    {
      "cell_type": "markdown",
      "metadata": {},
      "source": [
        "## Report the models found by Auto-Sklearn\n",
        "\n",
        "Auto-sklearn uses\n",
        "[Ensemble Selection](https://www.cs.cornell.edu/~alexn/papers/shotgun.icml04.revised.rev2.pdf)\n",
        "to construct ensembles in a post-hoc fashion. The ensemble is a linear\n",
        "weighting of all models constructed during the hyperparameter optimization.\n",
        "This prints the final ensemble. It is a dictionary where ``model_id`` of\n",
        "each model is a key, and value is a dictionary containing information\n",
        "of that model. A model's dict contains its ``'model_id'``, ``'rank'``,\n",
        "``'cost'``, ``'ensemble_weight'``, and the model itself. The model is\n",
        "given by the ``'data_preprocessor'``, ``'feature_preprocessor'``,\n",
        "``'regressor'/'classifier'`` and ``'sklearn_regressor'/'sklearn_classifier'``\n",
        "entries. But for the ``'cv'`` resampling strategy, the same for each cv\n",
        "model is stored in the ``'estimators'`` list in the dict, along with the\n",
        "``'voting_model'``.\n",
        "\n"
      ]
    },
    {
      "cell_type": "code",
      "execution_count": null,
      "metadata": {
        "collapsed": false
      },
      "outputs": [],
      "source": [
        "pprint(automl.show_models(), indent=4)"
      ]
    },
    {
      "cell_type": "code",
      "execution_count": null,
      "metadata": {},
      "outputs": [],
      "source": [
        "selected_models = automl.show_models()\n",
        "print(selected_models)"
      ]
    },
    {
      "cell_type": "markdown",
      "metadata": {},
      "source": [
        "## Report statistics about the search\n",
        "\n",
        "Print statistics about the auto-sklearn run such as number of\n",
        "iterations, number of models failed with a time out etc.\n",
        "\n"
      ]
    },
    {
      "cell_type": "code",
      "execution_count": null,
      "metadata": {
        "collapsed": false
      },
      "outputs": [],
      "source": [
        "print(automl.sprint_statistics())"
      ]
    },
    {
      "cell_type": "markdown",
      "metadata": {},
      "source": [
        "## Detailed statistics about the search - part 1\n",
        "\n",
        "Auto-sklearn also keeps detailed statistics of the hyperparameter\n",
        "optimization procedurce, which are stored in a so-called\n",
        "[run history](https://automl.github.io/SMAC3/main/api/smac.runhistory.runhistory.html#smac.runhistory.runhistory.RunHistory).\n",
        "\n"
      ]
    },
    {
      "cell_type": "code",
      "execution_count": null,
      "metadata": {
        "collapsed": false
      },
      "outputs": [],
      "source": [
        "print(automl.automl_.runhistory_)"
      ]
    },
    {
      "cell_type": "markdown",
      "metadata": {},
      "source": [
        "Runs are stored inside an ``OrderedDict`` called ``data``:\n",
        "\n"
      ]
    },
    {
      "cell_type": "code",
      "execution_count": null,
      "metadata": {
        "collapsed": false
      },
      "outputs": [],
      "source": [
        "print(len(automl.automl_.runhistory_.data))"
      ]
    },
    {
      "cell_type": "markdown",
      "metadata": {},
      "source": [
        "Let's iterative over all entries\n",
        "\n"
      ]
    },
    {
      "cell_type": "code",
      "execution_count": null,
      "metadata": {
        "collapsed": false
      },
      "outputs": [],
      "source": [
        "for run_key in automl.automl_.runhistory_.data:\n",
        "    print(\"#########\")\n",
        "    print(run_key)\n",
        "    print(automl.automl_.runhistory_.data[run_key])"
      ]
    },
    {
      "cell_type": "markdown",
      "metadata": {},
      "source": [
        "and have a detailed look at one entry:\n",
        "\n"
      ]
    },
    {
      "cell_type": "code",
      "execution_count": null,
      "metadata": {
        "collapsed": false
      },
      "outputs": [],
      "source": [
        "run_key = list(automl.automl_.runhistory_.data.keys())[0]\n",
        "run_value = automl.automl_.runhistory_.data[run_key]"
      ]
    },
    {
      "cell_type": "markdown",
      "metadata": {},
      "source": [
        "The ``run_key`` contains all information describing a run:\n",
        "\n"
      ]
    },
    {
      "cell_type": "code",
      "execution_count": null,
      "metadata": {
        "collapsed": false
      },
      "outputs": [],
      "source": [
        "print(\"Configuration ID:\", run_key.config_id)\n",
        "print(\"Instance:\", run_key.instance_id)\n",
        "print(\"Seed:\", run_key.seed)\n",
        "print(\"Budget:\", run_key.budget)"
      ]
    },
    {
      "cell_type": "markdown",
      "metadata": {},
      "source": [
        "and the configuration can be looked up in the run history as well:\n",
        "\n"
      ]
    },
    {
      "cell_type": "code",
      "execution_count": null,
      "metadata": {
        "collapsed": false
      },
      "outputs": [],
      "source": [
        "print(automl.automl_.runhistory_.ids_config[run_key.config_id])"
      ]
    },
    {
      "cell_type": "markdown",
      "metadata": {},
      "source": [
        "The only other important entry is the budget in case you are using\n",
        "auto-sklearn with\n",
        "`sphx_glr_examples_60_search_example_successive_halving.py`.\n",
        "The remaining parts of the key can be ignored for auto-sklearn and are\n",
        "only there because the underlying optimizer, SMAC, can handle more general\n",
        "problems, too.\n",
        "\n"
      ]
    },
    {
      "cell_type": "markdown",
      "metadata": {},
      "source": [
        "The ``run_value`` contains all output from running the configuration:\n",
        "\n"
      ]
    },
    {
      "cell_type": "code",
      "execution_count": null,
      "metadata": {
        "collapsed": false
      },
      "outputs": [],
      "source": [
        "print(\"Cost:\", run_value.cost)\n",
        "print(\"Time:\", run_value.time)\n",
        "print(\"Status:\", run_value.status)\n",
        "print(\"Additional information:\", run_value.additional_info)\n",
        "print(\"Start time:\", run_value.starttime)\n",
        "print(\"End time\", run_value.endtime)"
      ]
    },
    {
      "cell_type": "markdown",
      "metadata": {},
      "source": [
        "Cost is basically the same as a loss. In case the metric to optimize for\n",
        "should be maximized, it is internally transformed into a minimization\n",
        "metric. Additionally, the status type gives information on whether the run\n",
        "was successful, while the additional information's most interesting entry\n",
        "is the internal training loss. Furthermore, there is detailed information\n",
        "on the runtime available.\n",
        "\n"
      ]
    },
    {
      "cell_type": "markdown",
      "metadata": {},
      "source": [
        "As an example, let's find the best configuration evaluated. As\n",
        "Auto-sklearn solves a minimization problem internally, we need to look\n",
        "for the entry with the lowest loss:\n",
        "\n"
      ]
    },
    {
      "cell_type": "code",
      "execution_count": null,
      "metadata": {
        "collapsed": false
      },
      "outputs": [],
      "source": [
        "losses_and_configurations = [\n",
        "    (run_value.cost, run_key.config_id)\n",
        "    for run_key, run_value in automl.automl_.runhistory_.data.items()\n",
        "]\n",
        "losses_and_configurations.sort()\n",
        "print(\"Lowest loss:\", losses_and_configurations[0][0])\n",
        "print(\n",
        "    \"Best configuration:\",\n",
        "    automl.automl_.runhistory_.ids_config[losses_and_configurations[0][1]],\n",
        ")"
      ]
    },
    {
      "cell_type": "markdown",
      "metadata": {},
      "source": [
        "## Detailed statistics about the search - part 2\n",
        "\n",
        "To maintain compatibility with scikit-learn, Auto-sklearn gives the\n",
        "same data as\n",
        "[cv_results_]\n",
        "(https://scikit-learn.org/stable/modules/generated/sklearn.model_selection.GridSearchCV.html).\n",
        "\n"
      ]
    },
    {
      "cell_type": "code",
      "execution_count": null,
      "metadata": {
        "collapsed": false
      },
      "outputs": [],
      "source": [
        "print(automl.cv_results_)"
      ]
    },
    {
      "cell_type": "markdown",
      "metadata": {},
      "source": [
        "## Inspect the components of the best model\n",
        "\n",
        "Iterate over the components of the model and print\n",
        "The explained variance ratio per stage\n",
        "\n"
      ]
    },
    {
      "cell_type": "code",
      "execution_count": 45,
      "metadata": {
        "collapsed": false
      },
      "outputs": [
        {
          "name": "stdout",
          "output_type": "stream",
          "text": [
            "The 0th pipeline has a component data_preprocessor\n",
            "The 0th pipeline has a component balancing\n",
            "The 0th pipeline has a component feature_preprocessor\n",
            "The feature_preprocessor of 0th pipeline has a explained variance of [0.4595393  0.18012072 0.09809101 0.06332899 0.0587162 ]\n",
            "The feature_preprocessor of 0th pipeline has 5 componets\n",
            "The 0th pipeline has a component classifier\n",
            "The 1th pipeline has a component data_preprocessor\n",
            "The 1th pipeline has a component balancing\n",
            "The 1th pipeline has a component feature_preprocessor\n",
            "The feature_preprocessor of 1th pipeline has a explained variance of [0.46038401 0.16124884 0.09747816 0.06923404 0.06142479 0.03312917\n",
            " 0.03182802 0.01555463 0.01348582 0.00965531 0.00870982 0.007397\n",
            " 0.00547082 0.00443245 0.00396559 0.00313575 0.0022883  0.00195796\n",
            " 0.00156348]\n",
            "The feature_preprocessor of 1th pipeline has 19 componets\n",
            "The 1th pipeline has a component classifier\n",
            "The 2th pipeline has a component data_preprocessor\n",
            "The 2th pipeline has a component balancing\n",
            "The 2th pipeline has a component feature_preprocessor\n",
            "The feature_preprocessor of 2th pipeline has a explained variance of [0.49503611 0.16649281 0.09111888]\n",
            "The feature_preprocessor of 2th pipeline has 3 componets\n",
            "The 2th pipeline has a component classifier\n",
            "The 3th pipeline has a component data_preprocessor\n",
            "The 3th pipeline has a component balancing\n",
            "The 3th pipeline has a component feature_preprocessor\n",
            "The feature_preprocessor of 3th pipeline has a explained variance of [0.49503611 0.16649281 0.09111888]\n",
            "The feature_preprocessor of 3th pipeline has 3 componets\n",
            "The 3th pipeline has a component classifier\n",
            "The 4th pipeline has a component data_preprocessor\n",
            "The 4th pipeline has a component balancing\n",
            "The 4th pipeline has a component feature_preprocessor\n",
            "The feature_preprocessor of 4th pipeline has a explained variance of [0.43295688 0.1790573  0.11173757]\n",
            "The feature_preprocessor of 4th pipeline has 3 componets\n",
            "The 4th pipeline has a component classifier\n",
            "The 5th pipeline has a component data_preprocessor\n",
            "The 5th pipeline has a component balancing\n",
            "The 5th pipeline has a component feature_preprocessor\n",
            "The feature_preprocessor of 5th pipeline has a explained variance of [0.72985767]\n",
            "The feature_preprocessor of 5th pipeline has 1 componets\n",
            "The 5th pipeline has a component classifier\n",
            "The 6th pipeline has a component data_preprocessor\n",
            "The 6th pipeline has a component balancing\n",
            "The 6th pipeline has a component feature_preprocessor\n",
            "The feature_preprocessor of 6th pipeline has a explained variance of [0.43295688 0.1790573  0.11173757 0.06807243 0.05946115 0.03706299\n",
            " 0.0238431  0.01493261 0.01376414 0.01137049 0.01037373 0.00874117\n",
            " 0.0075763  0.00486529 0.00332225 0.00255773 0.0022076  0.00188675\n",
            " 0.00136245 0.00103409]\n",
            "The feature_preprocessor of 6th pipeline has 20 componets\n",
            "The 6th pipeline has a component classifier\n",
            "The 7th pipeline has a component data_preprocessor\n",
            "The 7th pipeline has a component balancing\n",
            "The 7th pipeline has a component feature_preprocessor\n",
            "The feature_preprocessor of 7th pipeline has a explained variance of [0.98080571 0.01684553]\n",
            "The feature_preprocessor of 7th pipeline has 2 componets\n",
            "The 7th pipeline has a component classifier\n",
            "The 8th pipeline has a component data_preprocessor\n",
            "The 8th pipeline has a component balancing\n",
            "The 8th pipeline has a component feature_preprocessor\n",
            "The feature_preprocessor of 8th pipeline has a explained variance of [0.49503611 0.16649281 0.09111888 0.07213284 0.04865917 0.03208923\n",
            " 0.01851537 0.01223987]\n",
            "The feature_preprocessor of 8th pipeline has 8 componets\n",
            "The 8th pipeline has a component classifier\n",
            "The 9th pipeline has a component data_preprocessor\n",
            "The 9th pipeline has a component balancing\n",
            "The 9th pipeline has a component feature_preprocessor\n",
            "The feature_preprocessor of 9th pipeline has a explained variance of [0.46038401 0.16124884 0.09747816 0.06923404 0.06142479 0.03312917\n",
            " 0.03182802 0.01555463 0.01348582 0.00965531 0.00870982 0.007397\n",
            " 0.00547082 0.00443245 0.00396559 0.00313575 0.0022883  0.00195796\n",
            " 0.00156348 0.00152353 0.00146078 0.00112717]\n",
            "The feature_preprocessor of 9th pipeline has 22 componets\n",
            "The 9th pipeline has a component classifier\n",
            "The 10th pipeline has a component data_preprocessor\n",
            "The 10th pipeline has a component balancing\n",
            "The 10th pipeline has a component feature_preprocessor\n",
            "The feature_preprocessor of 10th pipeline has a explained variance of [0.4595393  0.18012072]\n",
            "The feature_preprocessor of 10th pipeline has 2 componets\n",
            "The 10th pipeline has a component classifier\n",
            "The 11th pipeline has a component data_preprocessor\n",
            "The 11th pipeline has a component balancing\n",
            "The 11th pipeline has a component feature_preprocessor\n",
            "The feature_preprocessor of 11th pipeline has a explained variance of [4.32956881e-01 1.79057296e-01 1.11737571e-01 6.80724345e-02\n",
            " 5.94611519e-02 3.70629898e-02 2.38430977e-02 1.49326086e-02\n",
            " 1.37641366e-02 1.13704890e-02 1.03737258e-02 8.74116751e-03\n",
            " 7.57629717e-03 4.86528503e-03 3.32225143e-03 2.55773043e-03\n",
            " 2.20759805e-03 1.88675402e-03 1.36245140e-03 1.03409213e-03\n",
            " 8.39749085e-04 7.91287172e-04 6.75655689e-04 5.42961621e-04\n",
            " 5.02641737e-04 2.07827509e-04 1.74597367e-04]\n",
            "The feature_preprocessor of 11th pipeline has 27 componets\n",
            "The 11th pipeline has a component classifier\n",
            "The 12th pipeline has a component data_preprocessor\n",
            "The 12th pipeline has a component balancing\n",
            "The 12th pipeline has a component feature_preprocessor\n",
            "The feature_preprocessor of 12th pipeline has a explained variance of [0.98080571 0.01684553]\n",
            "The feature_preprocessor of 12th pipeline has 2 componets\n",
            "The 12th pipeline has a component classifier\n",
            "The 13th pipeline has a component data_preprocessor\n",
            "The 13th pipeline has a component balancing\n",
            "The 13th pipeline has a component feature_preprocessor\n",
            "The feature_preprocessor of 13th pipeline has a explained variance of [0.49503611 0.16649281]\n",
            "The feature_preprocessor of 13th pipeline has 2 componets\n",
            "The 13th pipeline has a component classifier\n",
            "The 14th pipeline has a component data_preprocessor\n",
            "The 14th pipeline has a component balancing\n",
            "The 14th pipeline has a component feature_preprocessor\n",
            "The feature_preprocessor of 14th pipeline has a explained variance of [0.46038401 0.16124884 0.09747816 0.06923404 0.06142479]\n",
            "The feature_preprocessor of 14th pipeline has 5 componets\n",
            "The 14th pipeline has a component classifier\n",
            "The 15th pipeline has a component data_preprocessor\n",
            "The 15th pipeline has a component balancing\n",
            "The 15th pipeline has a component feature_preprocessor\n",
            "The feature_preprocessor of 15th pipeline has a explained variance of [0.69115523 0.12728523 0.08452348 0.05840001]\n",
            "The feature_preprocessor of 15th pipeline has 4 componets\n",
            "The 15th pipeline has a component classifier\n",
            "The 16th pipeline has a component data_preprocessor\n",
            "The 16th pipeline has a component balancing\n",
            "The 16th pipeline has a component feature_preprocessor\n",
            "The feature_preprocessor of 16th pipeline has a explained variance of [0.46031006 0.16160665 0.09806892]\n",
            "The feature_preprocessor of 16th pipeline has 3 componets\n",
            "The 16th pipeline has a component classifier\n"
          ]
        }
      ],
      "source": [
        "# pipeline is different model in the ensemble\n",
        "for i, (weight, pipeline) in enumerate(automl.get_models_with_weights()):\n",
        "    for stage_name, component in pipeline.named_steps.items():\n",
        "        print(\"The {}th pipeline has a component {}\".format(i,stage_name))\n",
        "        if \"feature_preprocessor\" in stage_name:\n",
        "            print(\n",
        "                \"The {} of {}th pipeline has a explained variance of {}\".format(stage_name,\n",
        "                    i,\n",
        "                    # The component is an instance of AutoSklearnChoice.\n",
        "                    # Access the sklearn object via the choice attribute\n",
        "                    # We want the explained variance attributed of\n",
        "                    # each principal component\n",
        "                    component.choice.preprocessor.explained_variance_ratio_,\n",
        "                    \n",
        "                )\n",
        "            )\n",
        "            print(\n",
        "                \"The {} of {}th pipeline has {} componets\".format(stage_name,\n",
        "                    i,\n",
        "                    # The component is an instance of AutoSklearnChoice.\n",
        "                    # Access the sklearn object via the choice attribute\n",
        "                    component.choice.preprocessor.n_components_,\n",
        "                    \n",
        "                )\n",
        "            )"
      ]
    },
    {
      "cell_type": "code",
      "execution_count": null,
      "metadata": {},
      "outputs": [],
      "source": [
        "component.choice.preprocessor.components_"
      ]
    },
    {
      "cell_type": "code",
      "execution_count": 38,
      "metadata": {},
      "outputs": [
        {
          "name": "stdout",
          "output_type": "stream",
          "text": [
            "('feature_preprocessor', <autosklearn.pipeline.components.feature_preprocessing.FeaturePreprocessorChoice object at 0x7c2df94e6940>)\n",
            "5\n",
            "('feature_preprocessor', <autosklearn.pipeline.components.feature_preprocessing.FeaturePreprocessorChoice object at 0x7c2df932b760>)\n",
            "19\n",
            "('feature_preprocessor', <autosklearn.pipeline.components.feature_preprocessing.FeaturePreprocessorChoice object at 0x7c2de86017c0>)\n",
            "3\n",
            "('feature_preprocessor', <autosklearn.pipeline.components.feature_preprocessing.FeaturePreprocessorChoice object at 0x7c2df0fa5d90>)\n",
            "3\n",
            "('feature_preprocessor', <autosklearn.pipeline.components.feature_preprocessing.FeaturePreprocessorChoice object at 0x7c2de82c97c0>)\n",
            "3\n",
            "('feature_preprocessor', <autosklearn.pipeline.components.feature_preprocessing.FeaturePreprocessorChoice object at 0x7c2df0f5fd60>)\n",
            "1\n",
            "('feature_preprocessor', <autosklearn.pipeline.components.feature_preprocessing.FeaturePreprocessorChoice object at 0x7c2df0f66af0>)\n",
            "20\n",
            "('feature_preprocessor', <autosklearn.pipeline.components.feature_preprocessing.FeaturePreprocessorChoice object at 0x7c2df0f44310>)\n",
            "2\n",
            "('feature_preprocessor', <autosklearn.pipeline.components.feature_preprocessing.FeaturePreprocessorChoice object at 0x7c2df9383b50>)\n",
            "8\n",
            "('feature_preprocessor', <autosklearn.pipeline.components.feature_preprocessing.FeaturePreprocessorChoice object at 0x7c2df0f46a90>)\n",
            "22\n",
            "('feature_preprocessor', <autosklearn.pipeline.components.feature_preprocessing.FeaturePreprocessorChoice object at 0x7c2de83c81f0>)\n",
            "2\n",
            "('feature_preprocessor', <autosklearn.pipeline.components.feature_preprocessing.FeaturePreprocessorChoice object at 0x7c2df95a62e0>)\n",
            "27\n",
            "('feature_preprocessor', <autosklearn.pipeline.components.feature_preprocessing.FeaturePreprocessorChoice object at 0x7c2df924a460>)\n",
            "2\n",
            "('feature_preprocessor', <autosklearn.pipeline.components.feature_preprocessing.FeaturePreprocessorChoice object at 0x7c2df0ecf820>)\n",
            "2\n",
            "('feature_preprocessor', <autosklearn.pipeline.components.feature_preprocessing.FeaturePreprocessorChoice object at 0x7c2df9383070>)\n",
            "5\n",
            "('feature_preprocessor', <autosklearn.pipeline.components.feature_preprocessing.FeaturePreprocessorChoice object at 0x7c2de84fbc10>)\n",
            "4\n",
            "('feature_preprocessor', <autosklearn.pipeline.components.feature_preprocessing.FeaturePreprocessorChoice object at 0x7c2de8213d00>)\n",
            "3\n"
          ]
        }
      ],
      "source": [
        "for weight, model in automl.get_models_with_weights():\n",
        "    print(tuple(model.steps[-2]))\n",
        "    print(tuple(model.steps[-2]))\n",
        "    print(tuple(model.steps[-2])[-1].choice.preprocessor.n_components_)\n",
        "    # print(tuple(model.steps[-2])[-1].choice.preprocessor.scores_)\n",
        "    # print(tuple(model.steps[-2])[-1].choice.preprocessor.percentile)"
      ]
    }
  ],
  "metadata": {
    "kernelspec": {
      "display_name": "Python 3",
      "language": "python",
      "name": "python3"
    },
    "language_info": {
      "codemirror_mode": {
        "name": "ipython",
        "version": 3
      },
      "file_extension": ".py",
      "mimetype": "text/x-python",
      "name": "python",
      "nbconvert_exporter": "python",
      "pygments_lexer": "ipython3",
      "version": "3.9.undefined"
    }
  },
  "nbformat": 4,
  "nbformat_minor": 0
}
