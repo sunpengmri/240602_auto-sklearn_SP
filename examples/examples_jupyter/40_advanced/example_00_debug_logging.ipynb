{
  "cells": [
    {
      "cell_type": "code",
      "execution_count": 1,
      "metadata": {
        "collapsed": false
      },
      "outputs": [],
      "source": [
        "%matplotlib inline"
      ]
    },
    {
      "cell_type": "markdown",
      "metadata": {},
      "source": [
        "\n",
        "# Logging and debugging\n",
        "\n",
        "This example shows how to provide a custom logging configuration to *auto-sklearn*.\n",
        "We will be fitting 2 pipelines and showing any INFO-level msg on console.\n",
        "Even if you do not provide a logging_configuration, autosklearn creates a log file\n",
        "in the temporal working directory. This directory can be specified via the `tmp_folder`\n",
        "as exemplified below.\n",
        "\n",
        "This example also highlights additional information about *auto-sklearn* internal\n",
        "directory structure.\n"
      ]
    },
    {
      "cell_type": "code",
      "execution_count": 2,
      "metadata": {
        "collapsed": false
      },
      "outputs": [
        {
          "name": "stderr",
          "output_type": "stream",
          "text": [
            "/home/peng/opt/anaconda3/envs/autosl/lib/python3.9/site-packages/scipy/__init__.py:146: UserWarning: A NumPy version >=1.17.3 and <1.25.0 is required for this version of SciPy (detected version 1.26.4\n",
            "  warnings.warn(f\"A NumPy version >={np_minversion} and <{np_maxversion}\"\n"
          ]
        }
      ],
      "source": [
        "import pathlib\n",
        "\n",
        "import sklearn.datasets\n",
        "import sklearn.metrics\n",
        "import sklearn.model_selection\n",
        "\n",
        "import autosklearn.classification"
      ]
    },
    {
      "cell_type": "markdown",
      "metadata": {},
      "source": [
        "## Data Loading\n",
        "Load kr-vs-kp dataset from https://www.openml.org/d/3\n",
        "\n"
      ]
    },
    {
      "cell_type": "code",
      "execution_count": 3,
      "metadata": {
        "collapsed": false
      },
      "outputs": [],
      "source": [
        "X, y = data = sklearn.datasets.fetch_openml(data_id=3, return_X_y=True, as_frame=True)\n",
        "\n",
        "X_train, X_test, y_train, y_test = sklearn.model_selection.train_test_split(\n",
        "    X, y, random_state=1\n",
        ")"
      ]
    },
    {
      "cell_type": "markdown",
      "metadata": {},
      "source": [
        "## Create a logging config\n",
        "*auto-sklearn* uses a default\n",
        "[logging config](https://github.com/automl/auto-sklearn/blob/master/autosklearn/util/logging.yaml)\n",
        "We will instead create a custom one as follows:\n",
        "\n"
      ]
    },
    {
      "cell_type": "code",
      "execution_count": 4,
      "metadata": {
        "collapsed": false
      },
      "outputs": [],
      "source": [
        "logging_config = {\n",
        "    \"version\": 1,\n",
        "    \"disable_existing_loggers\": True,\n",
        "    \"formatters\": {\n",
        "        \"custom\": {\n",
        "            # More format options are available in the official\n",
        "            # `documentation <https://docs.python.org/3/howto/logging-cookbook.html>`_\n",
        "            \"format\": \"%(asctime)s - %(name)s - %(levelname)s - %(message)s\"\n",
        "        }\n",
        "    },\n",
        "    # Any INFO level msg will be printed to the console\n",
        "    \"handlers\": {\n",
        "        \"console\": {\n",
        "            \"level\": \"INFO\",\n",
        "            \"formatter\": \"custom\",\n",
        "            \"class\": \"logging.StreamHandler\",\n",
        "            \"stream\": \"ext://sys.stdout\",\n",
        "        },\n",
        "    },\n",
        "    \"loggers\": {\n",
        "        \"\": {  # root logger\n",
        "            \"level\": \"DEBUG\",\n",
        "        },\n",
        "        \"Client-EnsembleBuilder\": {\n",
        "            \"level\": \"DEBUG\",\n",
        "            \"handlers\": [\"console\"],\n",
        "        },\n",
        "    },\n",
        "}"
      ]
    },
    {
      "cell_type": "markdown",
      "metadata": {},
      "source": [
        "## Build and fit a classifier\n",
        "\n"
      ]
    },
    {
      "cell_type": "code",
      "execution_count": 7,
      "metadata": {
        "collapsed": false
      },
      "outputs": [
        {
          "name": "stderr",
          "output_type": "stream",
          "text": [
            "/home/peng/opt/anaconda3/envs/autosl/lib/python3.9/site-packages/autosklearn/data/target_validator.py:187: UserWarning: Fitting transformer with a pandas series which has the dtype category. Inverse transform may not be able preserve dtype when converting to np.ndarray\n",
            "  warnings.warn(\n"
          ]
        },
        {
          "name": "stdout",
          "output_type": "stream",
          "text": [
            "2024-06-12 09:25:25,502 - Client-EnsembleBuilder - INFO - Discarding 0/1 runs\n",
            "2024-06-12 09:25:25,504 - Client-EnsembleBuilder - INFO - Ensemble Selection:\n",
            "\tTrajectory: 0: 0.01136\n",
            "\tMembers: [0]\n",
            "\tWeights: [1.]\n",
            "\tIdentifiers: (1, 2, 0.0)\n",
            "\n",
            "2024-06-12 09:25:25,515 - Client-EnsembleBuilder - INFO - DummyFuture: ([{'Timestamp': Timestamp('2024-06-12 09:25:25.505458'), 'ensemble_optimization_score': 0.9886363636363636, 'ensemble_test_score': 0.9899874843554443}], 50)/SingleThreadedClient() Started Ensemble builder job at 2024.06.12-09.25.25 for iteration 0.\n",
            "2024-06-12 09:25:26,325 - Client-EnsembleBuilder - INFO - Discarding 0/2 runs\n",
            "2024-06-12 09:25:26,344 - Client-EnsembleBuilder - INFO - Ensemble Selection:\n",
            "\tTrajectory: 0: 0.01136 1: 0.01136 2: 0.01136 3: 0.01010 4: 0.01010 5: 0.01010 6: 0.01010 7: 0.01010 8: 0.01010 9: 0.01010 10: 0.01010 11: 0.01010 12: 0.01010 13: 0.01010 14: 0.01010 15: 0.01010 16: 0.01010 17: 0.01010 18: 0.01010 19: 0.01010 20: 0.01010 21: 0.01010 22: 0.01010 23: 0.01010 24: 0.00884 25: 0.01010 26: 0.01010 27: 0.01010 28: 0.00884 29: 0.01010 30: 0.01010 31: 0.01010 32: 0.00884 33: 0.01010 34: 0.01010 35: 0.01010 36: 0.00884 37: 0.01010 38: 0.01010 39: 0.01010 40: 0.00884 41: 0.01010 42: 0.01010 43: 0.01010 44: 0.00884 45: 0.01010 46: 0.01010 47: 0.01010 48: 0.00884 49: 0.00884\n",
            "\tMembers: [0, 0, 0, 1, 0, 0, 0, 1, 0, 0, 0, 1, 0, 0, 0, 0, 0, 0, 1, 1, 0, 0, 0, 1, 0, 0, 0, 1, 0, 0, 0, 0, 1, 0, 0, 1, 0, 0, 0, 0, 1, 0, 0, 1, 0, 0, 0, 1, 0, 0]\n",
            "\tWeights: [0.76 0.24]\n",
            "\tIdentifiers: (1, 2, 0.0) (1, 3, 0.0)\n",
            "\n",
            "2024-06-12 09:25:26,355 - Client-EnsembleBuilder - INFO - DummyFuture: ([{'Timestamp': Timestamp('2024-06-12 09:25:26.345141'), 'ensemble_optimization_score': 0.9911616161616161, 'ensemble_test_score': 0.9887359198998749}], 50)/SingleThreadedClient() Started Ensemble builder job at 2024.06.12-09.25.26 for iteration 1.\n",
            "tmp_folder/distributed.log\n",
            "tmp_folder/.auto-sklearn\n",
            "tmp_folder/space.json\n",
            "tmp_folder/AutoML(1):53212f9d-285a-11ef-9c09-9009df57b61a.log\n",
            "tmp_folder/smac3-output\n"
          ]
        }
      ],
      "source": [
        "cls = autosklearn.classification.AutoSklearnClassifier(\n",
        "    time_left_for_this_task=30,\n",
        "    memory_limit=16384,\n",
        "    # Bellow two flags are provided to speed up calculations\n",
        "    # Not recommended for a real implementation\n",
        "    initial_configurations_via_metalearning=0,\n",
        "    smac_scenario_args={\"runcount_limit\": 2},\n",
        "    # Pass the config file we created\n",
        "    logging_config=logging_config,\n",
        "    # *auto-sklearn* generates temporal files under tmp_folder\n",
        "    tmp_folder=\"./tmp_folder\",\n",
        "    # By default tmp_folder is deleted. We will preserve it\n",
        "    # for debug purposes\n",
        "    delete_tmp_folder_after_terminate=False,\n",
        ")\n",
        "cls.fit(X_train, y_train, X_test, y_test)\n",
        "\n",
        "# *auto-sklearn* generates intermediate files which can be of interest\n",
        "# Dask multiprocessing information. Useful on multi-core runs:\n",
        "#   * tmp_folder/distributed.log\n",
        "# The individual fitted estimators are written to disk on:\n",
        "#   * tmp_folder/.auto-sklearn/runs\n",
        "# SMAC output is stored in this directory.\n",
        "# For more info, you can check the `SMAC documentation <https://github.com/automl/SMAC3>`_\n",
        "#   * tmp_folder/smac3-output\n",
        "# Auto-sklearn always outputs to this log file\n",
        "# tmp_folder/AutoML*.log\n",
        "for filename in pathlib.Path(\"./tmp_folder\").glob(\"*\"):\n",
        "    print(filename)"
      ]
    }
  ],
  "metadata": {
    "kernelspec": {
      "display_name": "Python 3",
      "language": "python",
      "name": "python3"
    },
    "language_info": {
      "codemirror_mode": {
        "name": "ipython",
        "version": 3
      },
      "file_extension": ".py",
      "mimetype": "text/x-python",
      "name": "python",
      "nbconvert_exporter": "python",
      "pygments_lexer": "ipython3",
      "version": "3.9.19"
    }
  },
  "nbformat": 4,
  "nbformat_minor": 0
}
