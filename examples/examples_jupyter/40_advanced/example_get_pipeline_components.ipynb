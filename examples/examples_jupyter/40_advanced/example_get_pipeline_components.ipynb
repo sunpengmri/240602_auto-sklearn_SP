{
  "cells": [
    {
      "cell_type": "code",
      "execution_count": null,
      "metadata": {
        "collapsed": false
      },
      "outputs": [],
      "source": [
        "%matplotlib inline"
      ]
    },
    {
      "cell_type": "markdown",
      "metadata": {},
      "source": [
        "\n# Obtain run information\n\nThe following example shows how to obtain information from a finished\nAuto-sklearn run. In particular, it shows:\n* how to query which models were evaluated by Auto-sklearn\n* how to query the models in the final ensemble\n* how to get general statistics on the what Auto-sklearn evaluated\n\nAuto-sklearn is a wrapper on top of\nthe sklearn models. This example illustrates how to interact\nwith the sklearn components directly, in this case a PCA preprocessor.\n"
      ]
    },
    {
      "cell_type": "code",
      "execution_count": null,
      "metadata": {
        "collapsed": false
      },
      "outputs": [],
      "source": [
        "from pprint import pprint\n\nimport sklearn.datasets\nimport sklearn.metrics\n\nimport autosklearn.classification"
      ]
    },
    {
      "cell_type": "markdown",
      "metadata": {},
      "source": [
        "## Data Loading\n\n"
      ]
    },
    {
      "cell_type": "code",
      "execution_count": null,
      "metadata": {
        "collapsed": false
      },
      "outputs": [],
      "source": [
        "X, y = sklearn.datasets.load_breast_cancer(return_X_y=True)\nX_train, X_test, y_train, y_test = sklearn.model_selection.train_test_split(\n    X, y, random_state=1\n)"
      ]
    },
    {
      "cell_type": "markdown",
      "metadata": {},
      "source": [
        "## Build and fit the classifier\n\n"
      ]
    },
    {
      "cell_type": "code",
      "execution_count": null,
      "metadata": {
        "collapsed": false
      },
      "outputs": [],
      "source": [
        "automl = autosklearn.classification.AutoSklearnClassifier(\n    time_left_for_this_task=30,\n    per_run_time_limit=10,\n    disable_evaluator_output=False,\n    # To simplify querying the models in the final ensemble, we\n    # restrict auto-sklearn to use only pca as a preprocessor\n    include={\"feature_preprocessor\": [\"pca\"]},\n)\nautoml.fit(X_train, y_train, dataset_name=\"breast_cancer\")"
      ]
    },
    {
      "cell_type": "markdown",
      "metadata": {},
      "source": [
        "## Predict using the model\n\n"
      ]
    },
    {
      "cell_type": "code",
      "execution_count": null,
      "metadata": {
        "collapsed": false
      },
      "outputs": [],
      "source": [
        "predictions = automl.predict(X_test)\nprint(\"Accuracy score:{}\".format(sklearn.metrics.accuracy_score(y_test, predictions)))"
      ]
    },
    {
      "cell_type": "markdown",
      "metadata": {},
      "source": [
        "## Report the models found by Auto-Sklearn\n\nAuto-sklearn uses\n[Ensemble Selection](https://www.cs.cornell.edu/~alexn/papers/shotgun.icml04.revised.rev2.pdf)\nto construct ensembles in a post-hoc fashion. The ensemble is a linear\nweighting of all models constructed during the hyperparameter optimization.\nThis prints the final ensemble. It is a dictionary where ``model_id`` of\neach model is a key, and value is a dictionary containing information\nof that model. A model's dict contains its ``'model_id'``, ``'rank'``,\n``'cost'``, ``'ensemble_weight'``, and the model itself. The model is\ngiven by the ``'data_preprocessor'``, ``'feature_preprocessor'``,\n``'regressor'/'classifier'`` and ``'sklearn_regressor'/'sklearn_classifier'``\nentries. But for the ``'cv'`` resampling strategy, the same for each cv\nmodel is stored in the ``'estimators'`` list in the dict, along with the\n``'voting_model'``.\n\n"
      ]
    },
    {
      "cell_type": "code",
      "execution_count": null,
      "metadata": {
        "collapsed": false
      },
      "outputs": [],
      "source": [
        "pprint(automl.show_models(), indent=4)"
      ]
    },
    {
      "cell_type": "markdown",
      "metadata": {},
      "source": [
        "## Report statistics about the search\n\nPrint statistics about the auto-sklearn run such as number of\niterations, number of models failed with a time out etc.\n\n"
      ]
    },
    {
      "cell_type": "code",
      "execution_count": null,
      "metadata": {
        "collapsed": false
      },
      "outputs": [],
      "source": [
        "print(automl.sprint_statistics())"
      ]
    },
    {
      "cell_type": "markdown",
      "metadata": {},
      "source": [
        "## Detailed statistics about the search - part 1\n\nAuto-sklearn also keeps detailed statistics of the hyperparameter\noptimization procedurce, which are stored in a so-called\n[run history](https://automl.github.io/SMAC3/main/api/smac.runhistory.runhistory.html#smac.runhistory.runhistory.RunHistory).\n\n"
      ]
    },
    {
      "cell_type": "code",
      "execution_count": null,
      "metadata": {
        "collapsed": false
      },
      "outputs": [],
      "source": [
        "print(automl.automl_.runhistory_)"
      ]
    },
    {
      "cell_type": "markdown",
      "metadata": {},
      "source": [
        "Runs are stored inside an ``OrderedDict`` called ``data``:\n\n"
      ]
    },
    {
      "cell_type": "code",
      "execution_count": null,
      "metadata": {
        "collapsed": false
      },
      "outputs": [],
      "source": [
        "print(len(automl.automl_.runhistory_.data))"
      ]
    },
    {
      "cell_type": "markdown",
      "metadata": {},
      "source": [
        "Let's iterative over all entries\n\n"
      ]
    },
    {
      "cell_type": "code",
      "execution_count": null,
      "metadata": {
        "collapsed": false
      },
      "outputs": [],
      "source": [
        "for run_key in automl.automl_.runhistory_.data:\n    print(\"#########\")\n    print(run_key)\n    print(automl.automl_.runhistory_.data[run_key])"
      ]
    },
    {
      "cell_type": "markdown",
      "metadata": {},
      "source": [
        "and have a detailed look at one entry:\n\n"
      ]
    },
    {
      "cell_type": "code",
      "execution_count": null,
      "metadata": {
        "collapsed": false
      },
      "outputs": [],
      "source": [
        "run_key = list(automl.automl_.runhistory_.data.keys())[0]\nrun_value = automl.automl_.runhistory_.data[run_key]"
      ]
    },
    {
      "cell_type": "markdown",
      "metadata": {},
      "source": [
        "The ``run_key`` contains all information describing a run:\n\n"
      ]
    },
    {
      "cell_type": "code",
      "execution_count": null,
      "metadata": {
        "collapsed": false
      },
      "outputs": [],
      "source": [
        "print(\"Configuration ID:\", run_key.config_id)\nprint(\"Instance:\", run_key.instance_id)\nprint(\"Seed:\", run_key.seed)\nprint(\"Budget:\", run_key.budget)"
      ]
    },
    {
      "cell_type": "markdown",
      "metadata": {},
      "source": [
        "and the configuration can be looked up in the run history as well:\n\n"
      ]
    },
    {
      "cell_type": "code",
      "execution_count": null,
      "metadata": {
        "collapsed": false
      },
      "outputs": [],
      "source": [
        "print(automl.automl_.runhistory_.ids_config[run_key.config_id])"
      ]
    },
    {
      "cell_type": "markdown",
      "metadata": {},
      "source": [
        "The only other important entry is the budget in case you are using\nauto-sklearn with\n`sphx_glr_examples_60_search_example_successive_halving.py`.\nThe remaining parts of the key can be ignored for auto-sklearn and are\nonly there because the underlying optimizer, SMAC, can handle more general\nproblems, too.\n\n"
      ]
    },
    {
      "cell_type": "markdown",
      "metadata": {},
      "source": [
        "The ``run_value`` contains all output from running the configuration:\n\n"
      ]
    },
    {
      "cell_type": "code",
      "execution_count": null,
      "metadata": {
        "collapsed": false
      },
      "outputs": [],
      "source": [
        "print(\"Cost:\", run_value.cost)\nprint(\"Time:\", run_value.time)\nprint(\"Status:\", run_value.status)\nprint(\"Additional information:\", run_value.additional_info)\nprint(\"Start time:\", run_value.starttime)\nprint(\"End time\", run_value.endtime)"
      ]
    },
    {
      "cell_type": "markdown",
      "metadata": {},
      "source": [
        "Cost is basically the same as a loss. In case the metric to optimize for\nshould be maximized, it is internally transformed into a minimization\nmetric. Additionally, the status type gives information on whether the run\nwas successful, while the additional information's most interesting entry\nis the internal training loss. Furthermore, there is detailed information\non the runtime available.\n\n"
      ]
    },
    {
      "cell_type": "markdown",
      "metadata": {},
      "source": [
        "As an example, let's find the best configuration evaluated. As\nAuto-sklearn solves a minimization problem internally, we need to look\nfor the entry with the lowest loss:\n\n"
      ]
    },
    {
      "cell_type": "code",
      "execution_count": null,
      "metadata": {
        "collapsed": false
      },
      "outputs": [],
      "source": [
        "losses_and_configurations = [\n    (run_value.cost, run_key.config_id)\n    for run_key, run_value in automl.automl_.runhistory_.data.items()\n]\nlosses_and_configurations.sort()\nprint(\"Lowest loss:\", losses_and_configurations[0][0])\nprint(\n    \"Best configuration:\",\n    automl.automl_.runhistory_.ids_config[losses_and_configurations[0][1]],\n)"
      ]
    },
    {
      "cell_type": "markdown",
      "metadata": {},
      "source": [
        "## Detailed statistics about the search - part 2\n\nTo maintain compatibility with scikit-learn, Auto-sklearn gives the\nsame data as\n[cv_results_](https://scikit-learn.org/stable/modules/generated/sklearn.\nmodel_selection.GridSearchCV.html).\n\n"
      ]
    },
    {
      "cell_type": "code",
      "execution_count": null,
      "metadata": {
        "collapsed": false
      },
      "outputs": [],
      "source": [
        "print(automl.cv_results_)"
      ]
    },
    {
      "cell_type": "markdown",
      "metadata": {},
      "source": [
        "## Inspect the components of the best model\n\nIterate over the components of the model and print\nThe explained variance ratio per stage\n\n"
      ]
    },
    {
      "cell_type": "code",
      "execution_count": null,
      "metadata": {
        "collapsed": false
      },
      "outputs": [],
      "source": [
        "for i, (weight, pipeline) in enumerate(automl.get_models_with_weights()):\n    for stage_name, component in pipeline.named_steps.items():\n        if \"feature_preprocessor\" in stage_name:\n            print(\n                \"The {}th pipeline has a explained variance of {}\".format(\n                    i,\n                    # The component is an instance of AutoSklearnChoice.\n                    # Access the sklearn object via the choice attribute\n                    # We want the explained variance attributed of\n                    # each principal component\n                    component.choice.preprocessor.explained_variance_ratio_,\n                )\n            )"
      ]
    }
  ],
  "metadata": {
    "kernelspec": {
      "display_name": "Python 3",
      "language": "python",
      "name": "python3"
    },
    "language_info": {
      "codemirror_mode": {
        "name": "ipython",
        "version": 3
      },
      "file_extension": ".py",
      "mimetype": "text/x-python",
      "name": "python",
      "nbconvert_exporter": "python",
      "pygments_lexer": "ipython3",
      "version": "3.8.13"
    }
  },
  "nbformat": 4,
  "nbformat_minor": 0
}