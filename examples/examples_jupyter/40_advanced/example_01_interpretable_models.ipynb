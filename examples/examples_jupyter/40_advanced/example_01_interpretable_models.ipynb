{
  "cells": [
    {
      "cell_type": "code",
      "execution_count": 9,
      "metadata": {
        "collapsed": false
      },
      "outputs": [],
      "source": [
        "%matplotlib inline"
      ]
    },
    {
      "cell_type": "markdown",
      "metadata": {},
      "source": [
        "\n",
        "# Interpretable models\n",
        "\n",
        "The following example shows how to inspect the models which *auto-sklearn*\n",
        "optimizes over and how to restrict them to an interpretable subset.\n"
      ]
    },
    {
      "cell_type": "code",
      "execution_count": 1,
      "metadata": {
        "collapsed": false
      },
      "outputs": [],
      "source": [
        "from pprint import pprint\n",
        "\n",
        "import autosklearn.classification\n",
        "import sklearn.datasets\n",
        "import sklearn.metrics"
      ]
    },
    {
      "cell_type": "markdown",
      "metadata": {},
      "source": [
        "## Show available classification models\n",
        "\n",
        "We will first list all classifiers Auto-sklearn chooses from. A similar\n",
        "call is available for preprocessors (see below) and regression (not shown)\n",
        "as well.\n",
        "\n"
      ]
    },
    {
      "cell_type": "code",
      "execution_count": 2,
      "metadata": {
        "collapsed": false
      },
      "outputs": [
        {
          "name": "stdout",
          "output_type": "stream",
          "text": [
            "adaboost\n",
            "bernoulli_nb\n",
            "decision_tree\n",
            "extra_trees\n",
            "gaussian_nb\n",
            "gradient_boosting\n",
            "k_nearest_neighbors\n",
            "lda\n",
            "liblinear_svc\n",
            "libsvm_svc\n",
            "mlp\n",
            "multinomial_nb\n",
            "passive_aggressive\n",
            "qda\n",
            "random_forest\n",
            "sgd\n"
          ]
        }
      ],
      "source": [
        "from autosklearn.pipeline.components.classification import ClassifierChoice\n",
        "\n",
        "for name in ClassifierChoice.get_components():\n",
        "    print(name)"
      ]
    },
    {
      "cell_type": "markdown",
      "metadata": {},
      "source": [
        "## Show available preprocessors\n",
        "\n"
      ]
    },
    {
      "cell_type": "code",
      "execution_count": 12,
      "metadata": {
        "collapsed": false
      },
      "outputs": [
        {
          "name": "stdout",
          "output_type": "stream",
          "text": [
            "densifier\n",
            "extra_trees_preproc_for_classification\n",
            "extra_trees_preproc_for_regression\n",
            "fast_ica\n",
            "feature_agglomeration\n",
            "kernel_pca\n",
            "kitchen_sinks\n",
            "liblinear_svc_preprocessor\n",
            "no_preprocessing\n",
            "nystroem_sampler\n",
            "pca\n",
            "polynomial\n",
            "random_trees_embedding\n",
            "select_percentile_classification\n",
            "select_percentile_regression\n",
            "select_rates_classification\n",
            "select_rates_regression\n",
            "truncatedSVD\n"
          ]
        }
      ],
      "source": [
        "from autosklearn.pipeline.components.feature_preprocessing import (\n",
        "    FeaturePreprocessorChoice,\n",
        ")\n",
        "\n",
        "for name in FeaturePreprocessorChoice.get_components():\n",
        "    print(name)"
      ]
    },
    {
      "cell_type": "code",
      "execution_count": 13,
      "metadata": {},
      "outputs": [
        {
          "name": "stdout",
          "output_type": "stream",
          "text": [
            "feature_type\n"
          ]
        }
      ],
      "source": [
        "from autosklearn.pipeline.components.data_preprocessing import (\n",
        "    DataPreprocessorChoice,\n",
        ")\n",
        "\n",
        "for name in DataPreprocessorChoice.get_components():\n",
        "    print(name)"
      ]
    },
    {
      "cell_type": "code",
      "execution_count": 14,
      "metadata": {},
      "outputs": [
        {
          "data": {
            "text/plain": [
              "OrderedDict([('feature_type',\n",
              "              autosklearn.pipeline.components.data_preprocessing.feature_type.FeatTypeSplit)])"
            ]
          },
          "execution_count": 14,
          "metadata": {},
          "output_type": "execute_result"
        }
      ],
      "source": [
        "DataPreprocessorChoice.get_components()"
      ]
    },
    {
      "cell_type": "markdown",
      "metadata": {},
      "source": [
        "## Data Loading\n",
        "\n"
      ]
    },
    {
      "cell_type": "code",
      "execution_count": 15,
      "metadata": {
        "collapsed": false
      },
      "outputs": [],
      "source": [
        "X, y = sklearn.datasets.load_breast_cancer(return_X_y=True)\n",
        "X_train, X_test, y_train, y_test = sklearn.model_selection.train_test_split(\n",
        "    X, y, random_state=1\n",
        ")"
      ]
    },
    {
      "cell_type": "markdown",
      "metadata": {},
      "source": [
        "## Build and fit a classifier\n",
        "\n",
        "We will now only use a subset of the given classifiers and preprocessors.\n",
        "Furthermore, we will restrict the ensemble size to ``1`` to only use the\n",
        "single best model in the end. However, we would like to note that the\n",
        "choice of which models is deemed interpretable is very much up to the user\n",
        "and can change from use case to use case.\n",
        "\n"
      ]
    },
    {
      "cell_type": "code",
      "execution_count": 16,
      "metadata": {
        "collapsed": false
      },
      "outputs": [
        {
          "name": "stdout",
          "output_type": "stream",
          "text": [
            "[WARNING] [2024-09-23 18:10:32,166:Client-AutoMLSMBO(1)::breast_cancer] Configuration 176 not found\n",
            "[WARNING] [2024-09-23 18:10:32,166:Client-AutoMLSMBO(1)::breast_cancer] Configuration 566 not found\n",
            "[WARNING] [2024-09-23 18:10:32,166:Client-AutoMLSMBO(1)::breast_cancer] Configuration 162 not found\n",
            "[WARNING] [2024-09-23 18:10:32,166:Client-AutoMLSMBO(1)::breast_cancer] Configuration 476 not found\n",
            "[WARNING] [2024-09-23 18:10:32,166:Client-AutoMLSMBO(1)::breast_cancer] Configuration 601 not found\n",
            "[WARNING] [2024-09-23 18:10:32,166:Client-AutoMLSMBO(1)::breast_cancer] Configuration 492 not found\n",
            "[WARNING] [2024-09-23 18:10:32,166:Client-AutoMLSMBO(1)::breast_cancer] Configuration 440 not found\n",
            "[WARNING] [2024-09-23 18:10:32,166:Client-AutoMLSMBO(1)::breast_cancer] Configuration 32 not found\n",
            "[WARNING] [2024-09-23 18:10:32,166:Client-AutoMLSMBO(1)::breast_cancer] Configuration 220 not found\n",
            "[WARNING] [2024-09-23 18:10:32,166:Client-AutoMLSMBO(1)::breast_cancer] Configuration 332 not found\n",
            "[WARNING] [2024-09-23 18:10:32,166:Client-AutoMLSMBO(1)::breast_cancer] Configuration 22 not found\n",
            "[WARNING] [2024-09-23 18:10:32,166:Client-AutoMLSMBO(1)::breast_cancer] Configuration 61 not found\n",
            "[WARNING] [2024-09-23 18:10:32,166:Client-AutoMLSMBO(1)::breast_cancer] Configuration 407 not found\n",
            "[WARNING] [2024-09-23 18:10:32,166:Client-AutoMLSMBO(1)::breast_cancer] Configuration 91 not found\n",
            "[WARNING] [2024-09-23 18:10:32,166:Client-AutoMLSMBO(1)::breast_cancer] Configuration 702 not found\n",
            "[WARNING] [2024-09-23 18:10:32,166:Client-AutoMLSMBO(1)::breast_cancer] Configuration 546 not found\n",
            "[WARNING] [2024-09-23 18:10:32,166:Client-AutoMLSMBO(1)::breast_cancer] Configuration 663 not found\n",
            "[WARNING] [2024-09-23 18:10:32,166:Client-AutoMLSMBO(1)::breast_cancer] Configuration 257 not found\n",
            "[WARNING] [2024-09-23 18:10:32,166:Client-AutoMLSMBO(1)::breast_cancer] Configuration 467 not found\n",
            "[WARNING] [2024-09-23 18:10:32,166:Client-AutoMLSMBO(1)::breast_cancer] Configuration 631 not found\n",
            "[WARNING] [2024-09-23 18:10:32,166:Client-AutoMLSMBO(1)::breast_cancer] Configuration 7 not found\n",
            "[WARNING] [2024-09-23 18:10:32,166:Client-AutoMLSMBO(1)::breast_cancer] Configuration 184 not found\n",
            "[WARNING] [2024-09-23 18:10:32,166:Client-AutoMLSMBO(1)::breast_cancer] Configuration 560 not found\n",
            "[WARNING] [2024-09-23 18:10:32,166:Client-AutoMLSMBO(1)::breast_cancer] Configuration 329 not found\n",
            "[WARNING] [2024-09-23 18:10:32,166:Client-AutoMLSMBO(1)::breast_cancer] Configuration 386 not found\n",
            "[WARNING] [2024-09-23 18:10:32,166:Client-AutoMLSMBO(1)::breast_cancer] Configuration 9 not found\n",
            "[WARNING] [2024-09-23 18:10:32,166:Client-AutoMLSMBO(1)::breast_cancer] Configuration 75 not found\n",
            "[WARNING] [2024-09-23 18:10:32,166:Client-AutoMLSMBO(1)::breast_cancer] Configuration 345 not found\n",
            "[WARNING] [2024-09-23 18:10:32,166:Client-AutoMLSMBO(1)::breast_cancer] Configuration 222 not found\n",
            "[WARNING] [2024-09-23 18:10:32,166:Client-AutoMLSMBO(1)::breast_cancer] Configuration 149 not found\n",
            "[WARNING] [2024-09-23 18:10:32,166:Client-AutoMLSMBO(1)::breast_cancer] Configuration 238 not found\n",
            "[WARNING] [2024-09-23 18:10:32,166:Client-AutoMLSMBO(1)::breast_cancer] Configuration 211 not found\n",
            "[WARNING] [2024-09-23 18:10:32,166:Client-AutoMLSMBO(1)::breast_cancer] Configuration 358 not found\n",
            "[WARNING] [2024-09-23 18:10:32,166:Client-AutoMLSMBO(1)::breast_cancer] Configuration 188 not found\n",
            "[WARNING] [2024-09-23 18:10:32,166:Client-AutoMLSMBO(1)::breast_cancer] Configuration 460 not found\n",
            "[WARNING] [2024-09-23 18:10:32,166:Client-AutoMLSMBO(1)::breast_cancer] Configuration 585 not found\n",
            "[WARNING] [2024-09-23 18:10:32,166:Client-AutoMLSMBO(1)::breast_cancer] Configuration 690 not found\n",
            "[WARNING] [2024-09-23 18:10:32,166:Client-AutoMLSMBO(1)::breast_cancer] Configuration 254 not found\n",
            "[WARNING] [2024-09-23 18:10:32,166:Client-AutoMLSMBO(1)::breast_cancer] Configuration 473 not found\n",
            "[WARNING] [2024-09-23 18:10:32,166:Client-AutoMLSMBO(1)::breast_cancer] Configuration 71 not found\n",
            "[WARNING] [2024-09-23 18:10:32,166:Client-AutoMLSMBO(1)::breast_cancer] Configuration 230 not found\n",
            "[WARNING] [2024-09-23 18:10:32,166:Client-AutoMLSMBO(1)::breast_cancer] Configuration 108 not found\n",
            "[WARNING] [2024-09-23 18:10:32,166:Client-AutoMLSMBO(1)::breast_cancer] Configuration 590 not found\n",
            "[WARNING] [2024-09-23 18:10:32,166:Client-AutoMLSMBO(1)::breast_cancer] Configuration 81 not found\n",
            "[WARNING] [2024-09-23 18:10:32,166:Client-AutoMLSMBO(1)::breast_cancer] Configuration 506 not found\n",
            "[WARNING] [2024-09-23 18:10:32,166:Client-AutoMLSMBO(1)::breast_cancer] Configuration 694 not found\n",
            "[WARNING] [2024-09-23 18:10:32,166:Client-AutoMLSMBO(1)::breast_cancer] Configuration 426 not found\n",
            "[WARNING] [2024-09-23 18:10:32,166:Client-AutoMLSMBO(1)::breast_cancer] Configuration 327 not found\n",
            "[WARNING] [2024-09-23 18:10:32,166:Client-AutoMLSMBO(1)::breast_cancer] Configuration 657 not found\n",
            "[WARNING] [2024-09-23 18:10:32,166:Client-AutoMLSMBO(1)::breast_cancer] Configuration 659 not found\n",
            "[WARNING] [2024-09-23 18:10:32,166:Client-AutoMLSMBO(1)::breast_cancer] Configuration 532 not found\n",
            "[WARNING] [2024-09-23 18:10:32,166:Client-AutoMLSMBO(1)::breast_cancer] Configuration 315 not found\n",
            "[WARNING] [2024-09-23 18:10:32,166:Client-AutoMLSMBO(1)::breast_cancer] Configuration 138 not found\n",
            "[WARNING] [2024-09-23 18:10:32,166:Client-AutoMLSMBO(1)::breast_cancer] Configuration 206 not found\n",
            "[WARNING] [2024-09-23 18:10:32,166:Client-AutoMLSMBO(1)::breast_cancer] Configuration 579 not found\n",
            "[WARNING] [2024-09-23 18:10:32,166:Client-AutoMLSMBO(1)::breast_cancer] Configuration 454 not found\n",
            "[WARNING] [2024-09-23 18:10:32,166:Client-AutoMLSMBO(1)::breast_cancer] Configuration 1 not found\n",
            "[WARNING] [2024-09-23 18:10:32,166:Client-AutoMLSMBO(1)::breast_cancer] Configuration 147 not found\n",
            "[WARNING] [2024-09-23 18:10:32,166:Client-AutoMLSMBO(1)::breast_cancer] Configuration 393 not found\n",
            "[WARNING] [2024-09-23 18:10:32,166:Client-AutoMLSMBO(1)::breast_cancer] Configuration 347 not found\n",
            "[WARNING] [2024-09-23 18:10:32,166:Client-AutoMLSMBO(1)::breast_cancer] Configuration 701 not found\n",
            "[WARNING] [2024-09-23 18:10:32,166:Client-AutoMLSMBO(1)::breast_cancer] Configuration 266 not found\n",
            "[WARNING] [2024-09-23 18:10:32,166:Client-AutoMLSMBO(1)::breast_cancer] Configuration 28 not found\n",
            "[WARNING] [2024-09-23 18:10:32,166:Client-AutoMLSMBO(1)::breast_cancer] Configuration 282 not found\n",
            "[WARNING] [2024-09-23 18:10:32,166:Client-AutoMLSMBO(1)::breast_cancer] Configuration 367 not found\n",
            "[WARNING] [2024-09-23 18:10:32,166:Client-AutoMLSMBO(1)::breast_cancer] Configuration 518 not found\n",
            "[WARNING] [2024-09-23 18:10:32,166:Client-AutoMLSMBO(1)::breast_cancer] Configuration 648 not found\n",
            "[WARNING] [2024-09-23 18:10:32,166:Client-AutoMLSMBO(1)::breast_cancer] Configuration 67 not found\n",
            "[WARNING] [2024-09-23 18:10:32,166:Client-AutoMLSMBO(1)::breast_cancer] Configuration 521 not found\n",
            "[WARNING] [2024-09-23 18:10:32,166:Client-AutoMLSMBO(1)::breast_cancer] Configuration 227 not found\n",
            "[WARNING] [2024-09-23 18:10:32,166:Client-AutoMLSMBO(1)::breast_cancer] Configuration 145 not found\n",
            "[WARNING] [2024-09-23 18:10:32,166:Client-AutoMLSMBO(1)::breast_cancer] Configuration 576 not found\n",
            "[WARNING] [2024-09-23 18:10:32,166:Client-AutoMLSMBO(1)::breast_cancer] Configuration 624 not found\n",
            "[WARNING] [2024-09-23 18:10:32,166:Client-AutoMLSMBO(1)::breast_cancer] Configuration 191 not found\n",
            "[WARNING] [2024-09-23 18:10:32,166:Client-AutoMLSMBO(1)::breast_cancer] Configuration 251 not found\n",
            "[WARNING] [2024-09-23 18:10:32,166:Client-AutoMLSMBO(1)::breast_cancer] Configuration 414 not found\n",
            "[WARNING] [2024-09-23 18:10:32,166:Client-AutoMLSMBO(1)::breast_cancer] Configuration 574 not found\n",
            "[WARNING] [2024-09-23 18:10:32,166:Client-AutoMLSMBO(1)::breast_cancer] Configuration 283 not found\n",
            "[WARNING] [2024-09-23 18:10:32,166:Client-AutoMLSMBO(1)::breast_cancer] Configuration 262 not found\n",
            "[WARNING] [2024-09-23 18:10:32,166:Client-AutoMLSMBO(1)::breast_cancer] Configuration 369 not found\n",
            "[WARNING] [2024-09-23 18:10:32,166:Client-AutoMLSMBO(1)::breast_cancer] Configuration 444 not found\n",
            "[WARNING] [2024-09-23 18:10:32,166:Client-AutoMLSMBO(1)::breast_cancer] Configuration 264 not found\n",
            "[WARNING] [2024-09-23 18:10:32,166:Client-AutoMLSMBO(1)::breast_cancer] Configuration 14 not found\n",
            "[WARNING] [2024-09-23 18:10:32,166:Client-AutoMLSMBO(1)::breast_cancer] Configuration 670 not found\n",
            "[WARNING] [2024-09-23 18:10:32,166:Client-AutoMLSMBO(1)::breast_cancer] Configuration 430 not found\n",
            "[WARNING] [2024-09-23 18:10:32,166:Client-AutoMLSMBO(1)::breast_cancer] Configuration 674 not found\n",
            "[WARNING] [2024-09-23 18:10:32,166:Client-AutoMLSMBO(1)::breast_cancer] Configuration 563 not found\n",
            "[WARNING] [2024-09-23 18:10:32,166:Client-AutoMLSMBO(1)::breast_cancer] Configuration 357 not found\n",
            "[WARNING] [2024-09-23 18:10:32,167:Client-AutoMLSMBO(1)::breast_cancer] Configuration 608 not found\n",
            "[WARNING] [2024-09-23 18:10:32,167:Client-AutoMLSMBO(1)::breast_cancer] Configuration 338 not found\n",
            "[WARNING] [2024-09-23 18:10:32,167:Client-AutoMLSMBO(1)::breast_cancer] Configuration 43 not found\n",
            "[WARNING] [2024-09-23 18:10:32,167:Client-AutoMLSMBO(1)::breast_cancer] Configuration 160 not found\n",
            "[WARNING] [2024-09-23 18:10:32,167:Client-AutoMLSMBO(1)::breast_cancer] Configuration 382 not found\n",
            "[WARNING] [2024-09-23 18:10:32,167:Client-AutoMLSMBO(1)::breast_cancer] Configuration 53 not found\n",
            "[WARNING] [2024-09-23 18:10:32,167:Client-AutoMLSMBO(1)::breast_cancer] Configuration 48 not found\n",
            "[WARNING] [2024-09-23 18:10:32,167:Client-AutoMLSMBO(1)::breast_cancer] Configuration 536 not found\n",
            "[WARNING] [2024-09-23 18:10:32,167:Client-AutoMLSMBO(1)::breast_cancer] Configuration 555 not found\n",
            "[WARNING] [2024-09-23 18:10:32,167:Client-AutoMLSMBO(1)::breast_cancer] Configuration 214 not found\n",
            "[WARNING] [2024-09-23 18:10:32,167:Client-AutoMLSMBO(1)::breast_cancer] Configuration 388 not found\n",
            "[WARNING] [2024-09-23 18:10:32,167:Client-AutoMLSMBO(1)::breast_cancer] Configuration 676 not found\n",
            "[WARNING] [2024-09-23 18:10:32,167:Client-AutoMLSMBO(1)::breast_cancer] Configuration 97 not found\n",
            "[WARNING] [2024-09-23 18:10:32,167:Client-AutoMLSMBO(1)::breast_cancer] Configuration 40 not found\n",
            "[WARNING] [2024-09-23 18:10:32,167:Client-AutoMLSMBO(1)::breast_cancer] Configuration 270 not found\n",
            "[WARNING] [2024-09-23 18:10:32,167:Client-AutoMLSMBO(1)::breast_cancer] Configuration 512 not found\n",
            "[WARNING] [2024-09-23 18:10:32,167:Client-AutoMLSMBO(1)::breast_cancer] Configuration 595 not found\n",
            "[WARNING] [2024-09-23 18:10:32,167:Client-AutoMLSMBO(1)::breast_cancer] Configuration 131 not found\n",
            "[WARNING] [2024-09-23 18:10:32,167:Client-AutoMLSMBO(1)::breast_cancer] Configuration 687 not found\n",
            "[WARNING] [2024-09-23 18:10:32,167:Client-AutoMLSMBO(1)::breast_cancer] Configuration 114 not found\n",
            "[WARNING] [2024-09-23 18:10:32,167:Client-AutoMLSMBO(1)::breast_cancer] Configuration 129 not found\n",
            "[WARNING] [2024-09-23 18:10:32,167:Client-AutoMLSMBO(1)::breast_cancer] Configuration 193 not found\n",
            "[WARNING] [2024-09-23 18:10:32,167:Client-AutoMLSMBO(1)::breast_cancer] Configuration 197 not found\n",
            "[WARNING] [2024-09-23 18:10:32,167:Client-AutoMLSMBO(1)::breast_cancer] Configuration 485 not found\n",
            "[WARNING] [2024-09-23 18:10:32,167:Client-AutoMLSMBO(1)::breast_cancer] Configuration 83 not found\n",
            "[WARNING] [2024-09-23 18:10:32,167:Client-AutoMLSMBO(1)::breast_cancer] Configuration 88 not found\n",
            "[WARNING] [2024-09-23 18:10:32,167:Client-AutoMLSMBO(1)::breast_cancer] Configuration 37 not found\n",
            "[WARNING] [2024-09-23 18:10:32,167:Client-AutoMLSMBO(1)::breast_cancer] Configuration 422 not found\n",
            "[WARNING] [2024-09-23 18:10:32,167:Client-AutoMLSMBO(1)::breast_cancer] Configuration 237 not found\n",
            "[WARNING] [2024-09-23 18:10:32,167:Client-AutoMLSMBO(1)::breast_cancer] Configuration 470 not found\n",
            "[WARNING] [2024-09-23 18:10:32,167:Client-AutoMLSMBO(1)::breast_cancer] Configuration 613 not found\n",
            "[WARNING] [2024-09-23 18:10:32,167:Client-AutoMLSMBO(1)::breast_cancer] Configuration 293 not found\n",
            "[WARNING] [2024-09-23 18:10:32,167:Client-AutoMLSMBO(1)::breast_cancer] Configuration 378 not found\n",
            "[WARNING] [2024-09-23 18:10:32,167:Client-AutoMLSMBO(1)::breast_cancer] Configuration 204 not found\n",
            "[WARNING] [2024-09-23 18:10:32,167:Client-AutoMLSMBO(1)::breast_cancer] Configuration 154 not found\n",
            "[WARNING] [2024-09-23 18:10:32,167:Client-AutoMLSMBO(1)::breast_cancer] Configuration 340 not found\n",
            "[WARNING] [2024-09-23 18:10:32,167:Client-AutoMLSMBO(1)::breast_cancer] Configuration 617 not found\n",
            "[WARNING] [2024-09-23 18:10:32,167:Client-AutoMLSMBO(1)::breast_cancer] Configuration 247 not found\n",
            "[WARNING] [2024-09-23 18:10:32,167:Client-AutoMLSMBO(1)::breast_cancer] Configuration 172 not found\n",
            "[WARNING] [2024-09-23 18:10:32,167:Client-AutoMLSMBO(1)::breast_cancer] Configuration 277 not found\n",
            "[WARNING] [2024-09-23 18:10:32,167:Client-AutoMLSMBO(1)::breast_cancer] Configuration 683 not found\n",
            "[WARNING] [2024-09-23 18:10:32,167:Client-AutoMLSMBO(1)::breast_cancer] Configuration 124 not found\n",
            "[WARNING] [2024-09-23 18:10:32,167:Client-AutoMLSMBO(1)::breast_cancer] Configuration 232 not found\n",
            "[WARNING] [2024-09-23 18:10:32,167:Client-AutoMLSMBO(1)::breast_cancer] Configuration 112 not found\n",
            "[WARNING] [2024-09-23 18:10:32,167:Client-AutoMLSMBO(1)::breast_cancer] Configuration 183 not found\n",
            "[WARNING] [2024-09-23 18:10:32,167:Client-AutoMLSMBO(1)::breast_cancer] Configuration 571 not found\n",
            "[WARNING] [2024-09-23 18:10:32,167:Client-AutoMLSMBO(1)::breast_cancer] Configuration 524 not found\n",
            "[WARNING] [2024-09-23 18:10:32,167:Client-AutoMLSMBO(1)::breast_cancer] Configuration 707 not found\n",
            "[WARNING] [2024-09-23 18:10:32,167:Client-AutoMLSMBO(1)::breast_cancer] Configuration 635 not found\n",
            "[WARNING] [2024-09-23 18:10:32,167:Client-AutoMLSMBO(1)::breast_cancer] Configuration 99 not found\n",
            "[WARNING] [2024-09-23 18:10:32,167:Client-AutoMLSMBO(1)::breast_cancer] Configuration 434 not found\n",
            "[WARNING] [2024-09-23 18:10:32,167:Client-AutoMLSMBO(1)::breast_cancer] Configuration 494 not found\n",
            "[WARNING] [2024-09-23 18:10:32,167:Client-AutoMLSMBO(1)::breast_cancer] Configuration 615 not found\n",
            "[WARNING] [2024-09-23 18:10:32,167:Client-AutoMLSMBO(1)::breast_cancer] Configuration 587 not found\n",
            "[WARNING] [2024-09-23 18:10:32,167:Client-AutoMLSMBO(1)::breast_cancer] Configuration 302 not found\n",
            "[WARNING] [2024-09-23 18:10:32,167:Client-AutoMLSMBO(1)::breast_cancer] Configuration 653 not found\n",
            "[WARNING] [2024-09-23 18:10:32,167:Client-AutoMLSMBO(1)::breast_cancer] Configuration 445 not found\n",
            "[WARNING] [2024-09-23 18:10:32,167:Client-AutoMLSMBO(1)::breast_cancer] Configuration 69 not found\n",
            "[WARNING] [2024-09-23 18:10:32,167:Client-AutoMLSMBO(1)::breast_cancer] Configuration 437 not found\n",
            "[WARNING] [2024-09-23 18:10:32,167:Client-AutoMLSMBO(1)::breast_cancer] Configuration 142 not found\n",
            "[WARNING] [2024-09-23 18:10:32,167:Client-AutoMLSMBO(1)::breast_cancer] Configuration 310 not found\n",
            "[WARNING] [2024-09-23 18:10:32,167:Client-AutoMLSMBO(1)::breast_cancer] Configuration 173 not found\n",
            "[WARNING] [2024-09-23 18:10:32,167:Client-AutoMLSMBO(1)::breast_cancer] Configuration 647 not found\n",
            "[WARNING] [2024-09-23 18:10:32,167:Client-AutoMLSMBO(1)::breast_cancer] Configuration 461 not found\n",
            "[WARNING] [2024-09-23 18:10:32,167:Client-AutoMLSMBO(1)::breast_cancer] Configuration 515 not found\n",
            "[WARNING] [2024-09-23 18:10:32,167:Client-AutoMLSMBO(1)::breast_cancer] Configuration 17 not found\n",
            "[WARNING] [2024-09-23 18:10:32,167:Client-AutoMLSMBO(1)::breast_cancer] Configuration 395 not found\n",
            "[WARNING] [2024-09-23 18:10:32,167:Client-AutoMLSMBO(1)::breast_cancer] Configuration 25 not found\n",
            "[WARNING] [2024-09-23 18:10:32,167:Client-AutoMLSMBO(1)::breast_cancer] Configuration 56 not found\n",
            "[WARNING] [2024-09-23 18:10:32,167:Client-AutoMLSMBO(1)::breast_cancer] Configuration 121 not found\n",
            "[WARNING] [2024-09-23 18:10:32,167:Client-AutoMLSMBO(1)::breast_cancer] Configuration 165 not found\n",
            "[WARNING] [2024-09-23 18:10:32,167:Client-AutoMLSMBO(1)::breast_cancer] Configuration 313 not found\n",
            "[WARNING] [2024-09-23 18:10:32,167:Client-AutoMLSMBO(1)::breast_cancer] Configuration 412 not found\n",
            "[WARNING] [2024-09-23 18:10:32,167:Client-AutoMLSMBO(1)::breast_cancer] Configuration 628 not found\n",
            "[WARNING] [2024-09-23 18:10:32,167:Client-AutoMLSMBO(1)::breast_cancer] Configuration 288 not found\n",
            "[WARNING] [2024-09-23 18:10:32,167:Client-AutoMLSMBO(1)::breast_cancer] Configuration 298 not found\n",
            "[WARNING] [2024-09-23 18:10:32,167:Client-AutoMLSMBO(1)::breast_cancer] Configuration 486 not found\n",
            "[WARNING] [2024-09-23 18:10:32,167:Client-AutoMLSMBO(1)::breast_cancer] Configuration 243 not found\n",
            "[WARNING] [2024-09-23 18:10:32,167:Client-AutoMLSMBO(1)::breast_cancer] Configuration 480 not found\n",
            "[WARNING] [2024-09-23 18:10:32,167:Client-AutoMLSMBO(1)::breast_cancer] Configuration 553 not found\n",
            "[WARNING] [2024-09-23 18:10:32,167:Client-AutoMLSMBO(1)::breast_cancer] Configuration 363 not found\n",
            "[WARNING] [2024-09-23 18:10:32,167:Client-AutoMLSMBO(1)::breast_cancer] Configuration 528 not found\n",
            "[WARNING] [2024-09-23 18:10:32,167:Client-AutoMLSMBO(1)::breast_cancer] Configuration 403 not found\n",
            "[WARNING] [2024-09-23 18:10:32,167:Client-AutoMLSMBO(1)::breast_cancer] Configuration 622 not found\n",
            "[WARNING] [2024-09-23 18:10:32,167:Client-AutoMLSMBO(1)::breast_cancer] Configuration 199 not found\n",
            "[WARNING] [2024-09-23 18:10:32,167:Client-AutoMLSMBO(1)::breast_cancer] Configuration 448 not found\n",
            "[WARNING] [2024-09-23 18:10:32,167:Client-AutoMLSMBO(1)::breast_cancer] Configuration 543 not found\n",
            "[WARNING] [2024-09-23 18:10:32,167:Client-AutoMLSMBO(1)::breast_cancer] Configuration 548 not found\n",
            "[WARNING] [2024-09-23 18:10:32,167:Client-AutoMLSMBO(1)::breast_cancer] Configuration 499 not found\n",
            "[WARNING] [2024-09-23 18:10:32,167:Client-AutoMLSMBO(1)::breast_cancer] Configuration 171 not found\n",
            "[WARNING] [2024-09-23 18:10:32,167:Client-AutoMLSMBO(1)::breast_cancer] Configuration 596 not found\n",
            "[WARNING] [2024-09-23 18:10:32,167:Client-AutoMLSMBO(1)::breast_cancer] Configuration 19 not found\n",
            "[WARNING] [2024-09-23 18:10:32,167:Client-AutoMLSMBO(1)::breast_cancer] Configuration 58 not found\n",
            "[WARNING] [2024-09-23 18:10:32,167:Client-AutoMLSMBO(1)::breast_cancer] Configuration 640 not found\n",
            "[WARNING] [2024-09-23 18:10:32,167:Client-AutoMLSMBO(1)::breast_cancer] Configuration 317 not found\n",
            "[WARNING] [2024-09-23 18:10:32,167:Client-AutoMLSMBO(1)::breast_cancer] Configuration 509 not found\n",
            "[WARNING] [2024-09-23 18:10:32,167:Client-AutoMLSMBO(1)::breast_cancer] Configuration 419 not found\n",
            "[WARNING] [2024-09-23 18:10:32,167:Client-AutoMLSMBO(1)::breast_cancer] Configuration 304 not found\n",
            "[WARNING] [2024-09-23 18:10:32,167:Client-AutoMLSMBO(1)::breast_cancer] Configuration 503 not found\n",
            "[WARNING] [2024-09-23 18:10:32,167:Client-AutoMLSMBO(1)::breast_cancer] Configuration 375 not found\n",
            "[WARNING] [2024-09-23 18:10:32,167:Client-AutoMLSMBO(1)::breast_cancer] Configuration 643 not found\n",
            "[WARNING] [2024-09-23 18:10:32,167:Client-AutoMLSMBO(1)::breast_cancer] Configuration 322 not found\n",
            "[WARNING] [2024-09-23 18:10:32,167:Client-AutoMLSMBO(1)::breast_cancer] Configuration 538 not found\n",
            "[WARNING] [2024-09-23 18:10:32,167:Client-AutoMLSMBO(1)::breast_cancer] Configuration 86 not found\n",
            "[WARNING] [2024-09-23 18:10:32,167:Client-AutoMLSMBO(1)::breast_cancer] Configuration 120 not found\n",
            "[WARNING] [2024-09-23 18:10:32,167:Client-AutoMLSMBO(1)::breast_cancer] Configuration 452 not found\n",
            "[WARNING] [2024-09-23 18:10:32,167:Client-AutoMLSMBO(1)::breast_cancer] Configuration 291 not found\n",
            "[WARNING] [2024-09-23 18:10:32,167:Client-AutoMLSMBO(1)::breast_cancer] Configuration 102 not found\n",
            "[WARNING] [2024-09-23 18:10:32,167:Client-AutoMLSMBO(1)::breast_cancer] Configuration 275 not found\n",
            "[WARNING] [2024-09-23 18:10:32,167:Client-AutoMLSMBO(1)::breast_cancer] Configuration 150 not found\n"
          ]
        },
        {
          "data": {
            "text/plain": [
              "AutoSklearnClassifier(ensemble_class=<class 'autosklearn.ensembles.ensemble_selection.EnsembleSelection'>,\n",
              "                      ensemble_kwargs={'ensemble_size': 1},\n",
              "                      include={'classifier': ['decision_tree', 'lda', 'sgd'],\n",
              "                               'feature_preprocessor': ['no_preprocessing',\n",
              "                                                        'polynomial',\n",
              "                                                        'select_percentile_classification']},\n",
              "                      memory_limit=16384, per_run_time_limit=30,\n",
              "                      time_left_for_this_task=120,\n",
              "                      tmp_folder='/tmp/autosklearn_interpretable_models_example_tmp')"
            ]
          },
          "execution_count": 16,
          "metadata": {},
          "output_type": "execute_result"
        }
      ],
      "source": [
        "automl = autosklearn.classification.AutoSklearnClassifier(\n",
        "    time_left_for_this_task=120,\n",
        "    per_run_time_limit=30,\n",
        "    memory_limit=16384,\n",
        "    tmp_folder=\"/tmp/autosklearn_interpretable_models_example_tmp\",\n",
        "    include={\n",
        "        \"classifier\": [\"decision_tree\", \"lda\", \"sgd\"],\n",
        "        \"feature_preprocessor\": [\n",
        "            \"no_preprocessing\",\n",
        "            \"polynomial\",\n",
        "            \"select_percentile_classification\",\n",
        "        ],\n",
        "    },\n",
        "    ensemble_kwargs={\"ensemble_size\": 1},\n",
        ")\n",
        "automl.fit(X_train, y_train, dataset_name=\"breast_cancer\")"
      ]
    },
    {
      "cell_type": "markdown",
      "metadata": {},
      "source": [
        "## Print the final ensemble constructed by auto-sklearn\n",
        "\n"
      ]
    },
    {
      "cell_type": "code",
      "execution_count": 17,
      "metadata": {
        "collapsed": false
      },
      "outputs": [
        {
          "name": "stdout",
          "output_type": "stream",
          "text": [
            "{   110: {   'balancing': Balancing(random_state=1),\n",
            "             'classifier': <autosklearn.pipeline.components.classification.ClassifierChoice object at 0x7031b09548e0>,\n",
            "             'cost': 0.007092198581560294,\n",
            "             'data_preprocessor': <autosklearn.pipeline.components.data_preprocessing.DataPreprocessorChoice object at 0x7031b0a5bf40>,\n",
            "             'ensemble_weight': 1.0,\n",
            "             'feature_preprocessor': <autosklearn.pipeline.components.feature_preprocessing.FeaturePreprocessorChoice object at 0x7031b0954e80>,\n",
            "             'model_id': 110,\n",
            "             'rank': 1,\n",
            "             'sklearn_classifier': SGDClassifier(alpha=0.013119453170385034, average=True,\n",
            "              eta0=0.00011933117699148683, learning_rate='invscaling',\n",
            "              loss='log', max_iter=1024, random_state=1,\n",
            "              tol=1.3749800289585616e-05, warm_start=True)}}\n"
          ]
        }
      ],
      "source": [
        "pprint(automl.show_models(), indent=4)"
      ]
    },
    {
      "cell_type": "code",
      "execution_count": 18,
      "metadata": {},
      "outputs": [
        {
          "name": "stdout",
          "output_type": "stream",
          "text": [
            "AutoSklearnClassifier(ensemble_class=<class 'autosklearn.ensembles.ensemble_selection.EnsembleSelection'>,\n",
            "                      ensemble_kwargs={'ensemble_size': 1},\n",
            "                      include={'classifier': ['decision_tree', 'lda', 'sgd'],\n",
            "                               'feature_preprocessor': ['no_preprocessing',\n",
            "                                                        'polynomial',\n",
            "                                                        'select_percentile_classification']},\n",
            "                      memory_limit=16384, per_run_time_limit=30,\n",
            "                      time_left_for_this_task=120,\n",
            "                      tmp_folder='/tmp/autosklearn_interpretable_models_example_tmp')\n"
          ]
        }
      ],
      "source": [
        "pprint(automl, indent=4)"
      ]
    },
    {
      "cell_type": "markdown",
      "metadata": {},
      "source": [
        "## Get the Score of the final ensemble\n",
        "\n"
      ]
    },
    {
      "cell_type": "code",
      "execution_count": 19,
      "metadata": {
        "collapsed": false
      },
      "outputs": [
        {
          "name": "stdout",
          "output_type": "stream",
          "text": [
            "Accuracy score: 0.9440559440559441\n"
          ]
        }
      ],
      "source": [
        "predictions = automl.predict(X_test)\n",
        "print(\"Accuracy score:\", sklearn.metrics.accuracy_score(y_test, predictions))"
      ]
    },
    {
      "cell_type": "code",
      "execution_count": 20,
      "metadata": {},
      "outputs": [
        {
          "data": {
            "text/plain": [
              "AutoSklearnClassifier(ensemble_class=<class 'autosklearn.ensembles.ensemble_selection.EnsembleSelection'>,\n",
              "                      ensemble_kwargs={'ensemble_size': 1},\n",
              "                      include={'classifier': ['decision_tree', 'lda', 'sgd'],\n",
              "                               'feature_preprocessor': ['no_preprocessing',\n",
              "                                                        'polynomial',\n",
              "                                                        'select_percentile_classification']},\n",
              "                      memory_limit=16384, per_run_time_limit=30,\n",
              "                      time_left_for_this_task=120,\n",
              "                      tmp_folder='/tmp/autosklearn_interpretable_models_example_tmp')"
            ]
          },
          "execution_count": 20,
          "metadata": {},
          "output_type": "execute_result"
        }
      ],
      "source": [
        "automl"
      ]
    }
  ],
  "metadata": {
    "kernelspec": {
      "display_name": "autosl",
      "language": "python",
      "name": "python3"
    },
    "language_info": {
      "codemirror_mode": {
        "name": "ipython",
        "version": 3
      },
      "file_extension": ".py",
      "mimetype": "text/x-python",
      "name": "python",
      "nbconvert_exporter": "python",
      "pygments_lexer": "ipython3",
      "version": "3.9.19"
    }
  },
  "nbformat": 4,
  "nbformat_minor": 0
}
