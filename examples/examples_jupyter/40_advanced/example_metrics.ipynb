{
  "cells": [
    {
      "cell_type": "code",
      "execution_count": null,
      "metadata": {
        "collapsed": false
      },
      "outputs": [],
      "source": [
        "%matplotlib inline"
      ]
    },
    {
      "cell_type": "markdown",
      "metadata": {},
      "source": [
        "\n# Metrics\n\n*Auto-sklearn* supports various built-in metrics, which can be found in the\n`metrics section in the API <api:Built-in Metrics>`. However, it is also\npossible to define your own metric and use it to fit and evaluate your model.\nThe following examples show how to use built-in and self-defined metrics for a\nclassification problem.\n"
      ]
    },
    {
      "cell_type": "code",
      "execution_count": null,
      "metadata": {
        "collapsed": false
      },
      "outputs": [],
      "source": [
        "import numpy as np\n\nimport sklearn.model_selection\nimport sklearn.datasets\nimport sklearn.metrics\n\nimport autosklearn.classification\nimport autosklearn.metrics"
      ]
    },
    {
      "cell_type": "markdown",
      "metadata": {},
      "source": [
        "## Custom Metrics\n\n"
      ]
    },
    {
      "cell_type": "code",
      "execution_count": null,
      "metadata": {
        "collapsed": false
      },
      "outputs": [],
      "source": [
        "def accuracy(solution, prediction):\n    # custom function defining accuracy\n    return np.mean(solution == prediction)\n\n\ndef error(solution, prediction):\n    # custom function defining error\n    return np.mean(solution != prediction)\n\n\ndef accuracy_wk(solution, prediction, extra_argument):\n    # custom function defining accuracy and accepting an additional argument\n    assert extra_argument is None\n    return np.mean(solution == prediction)\n\n\ndef error_wk(solution, prediction, extra_argument):\n    # custom function defining error and accepting an additional argument\n    assert extra_argument is None\n    return np.mean(solution != prediction)\n\n\ndef metric_which_needs_x(solution, prediction, X_data, consider_col, val_threshold):\n    # custom function defining accuracy\n    assert X_data is not None\n    rel_idx = X_data[:, consider_col] > val_threshold\n    return np.mean(solution[rel_idx] == prediction[rel_idx])"
      ]
    },
    {
      "cell_type": "markdown",
      "metadata": {},
      "source": [
        "## Data Loading\n\n"
      ]
    },
    {
      "cell_type": "code",
      "execution_count": null,
      "metadata": {
        "collapsed": false
      },
      "outputs": [],
      "source": [
        "X, y = sklearn.datasets.load_breast_cancer(return_X_y=True)\nX_train, X_test, y_train, y_test = sklearn.model_selection.train_test_split(\n    X, y, random_state=1\n)"
      ]
    },
    {
      "cell_type": "markdown",
      "metadata": {},
      "source": [
        "## Print a list of available metrics\n\n"
      ]
    },
    {
      "cell_type": "code",
      "execution_count": null,
      "metadata": {
        "collapsed": false
      },
      "outputs": [],
      "source": [
        "print(\"Available CLASSIFICATION metrics autosklearn.metrics.*:\")\nprint(\"\\t*\" + \"\\n\\t*\".join(autosklearn.metrics.CLASSIFICATION_METRICS))\n\nprint(\"Available REGRESSION autosklearn.metrics.*:\")\nprint(\"\\t*\" + \"\\n\\t*\".join(autosklearn.metrics.REGRESSION_METRICS))"
      ]
    },
    {
      "cell_type": "markdown",
      "metadata": {},
      "source": [
        "## First example: Use predefined accuracy metric\n\n"
      ]
    },
    {
      "cell_type": "code",
      "execution_count": null,
      "metadata": {
        "collapsed": false
      },
      "outputs": [],
      "source": [
        "print(\"#\" * 80)\nprint(\"Use predefined accuracy metric\")\nscorer = autosklearn.metrics.accuracy\ncls = autosklearn.classification.AutoSklearnClassifier(\n    time_left_for_this_task=60,\n    seed=1,\n    metric=scorer,\n)\ncls.fit(X_train, y_train)\n\npredictions = cls.predict(X_test)\nscore = scorer(y_test, predictions)\nprint(f\"Accuracy score {score:.3f} using {scorer.name}\")"
      ]
    },
    {
      "cell_type": "markdown",
      "metadata": {},
      "source": [
        "## Second example: Use own accuracy metric\n\n"
      ]
    },
    {
      "cell_type": "code",
      "execution_count": null,
      "metadata": {
        "collapsed": false
      },
      "outputs": [],
      "source": [
        "print(\"#\" * 80)\nprint(\"Use self defined accuracy metric\")\naccuracy_scorer = autosklearn.metrics.make_scorer(\n    name=\"accu\",\n    score_func=accuracy,\n    optimum=1,\n    greater_is_better=True,\n    needs_proba=False,\n    needs_threshold=False,\n)\ncls = autosklearn.classification.AutoSklearnClassifier(\n    time_left_for_this_task=60,\n    seed=1,\n    metric=accuracy_scorer,\n)\ncls.fit(X_train, y_train)\n\npredictions = cls.predict(X_test)\nscore = accuracy_scorer(y_test, predictions)\nprint(f\"Accuracy score {score:.3f} using {accuracy_scorer.name:s}\")"
      ]
    },
    {
      "cell_type": "markdown",
      "metadata": {},
      "source": [
        "## Third example: Use own error metric\n\n"
      ]
    },
    {
      "cell_type": "code",
      "execution_count": null,
      "metadata": {
        "collapsed": false
      },
      "outputs": [],
      "source": [
        "print(\"#\" * 80)\nprint(\"Use self defined error metric\")\nerror_rate = autosklearn.metrics.make_scorer(\n    name=\"error\",\n    score_func=error,\n    optimum=0,\n    greater_is_better=False,\n    needs_proba=False,\n    needs_threshold=False,\n)\ncls = autosklearn.classification.AutoSklearnClassifier(\n    time_left_for_this_task=60,\n    seed=1,\n    metric=error_rate,\n)\ncls.fit(X_train, y_train)\n\ncls.predictions = cls.predict(X_test)\nscore = error_rate(y_test, predictions)\nprint(f\"Error score {score:.3f} using {error_rate.name:s}\")"
      ]
    },
    {
      "cell_type": "markdown",
      "metadata": {},
      "source": [
        "## Fourth example: Use own accuracy metric with additional argument\n\n"
      ]
    },
    {
      "cell_type": "code",
      "execution_count": null,
      "metadata": {
        "collapsed": false
      },
      "outputs": [],
      "source": [
        "print(\"#\" * 80)\nprint(\"Use self defined accuracy with additional argument\")\naccuracy_scorer = autosklearn.metrics.make_scorer(\n    name=\"accu_add\",\n    score_func=accuracy_wk,\n    optimum=1,\n    greater_is_better=True,\n    needs_proba=False,\n    needs_threshold=False,\n    extra_argument=None,\n)\ncls = autosklearn.classification.AutoSklearnClassifier(\n    time_left_for_this_task=60, per_run_time_limit=30, seed=1, metric=accuracy_scorer\n)\ncls.fit(X_train, y_train)\n\npredictions = cls.predict(X_test)\nscore = accuracy_scorer(y_test, predictions)\nprint(f\"Accuracy score {score:.3f} using {accuracy_scorer.name:s}\")"
      ]
    },
    {
      "cell_type": "markdown",
      "metadata": {},
      "source": [
        "## Fifth example: Use own accuracy metric with additional argument\n\n"
      ]
    },
    {
      "cell_type": "code",
      "execution_count": null,
      "metadata": {
        "collapsed": false
      },
      "outputs": [],
      "source": [
        "print(\"#\" * 80)\nprint(\"Use self defined error with additional argument\")\nerror_rate = autosklearn.metrics.make_scorer(\n    name=\"error_add\",\n    score_func=error_wk,\n    optimum=0,\n    greater_is_better=True,\n    needs_proba=False,\n    needs_threshold=False,\n    extra_argument=None,\n)\ncls = autosklearn.classification.AutoSklearnClassifier(\n    time_left_for_this_task=60,\n    seed=1,\n    metric=error_rate,\n)\ncls.fit(X_train, y_train)\n\npredictions = cls.predict(X_test)\nscore = error_rate(y_test, predictions)\nprint(f\"Error score {score:.3f} using {error_rate.name:s}\")"
      ]
    },
    {
      "cell_type": "markdown",
      "metadata": {},
      "source": [
        "## Sixth example: Use a metric with additional argument which also needs xdata\n\n"
      ]
    },
    {
      "cell_type": "code",
      "execution_count": null,
      "metadata": {
        "collapsed": false
      },
      "outputs": [],
      "source": [
        "\"\"\"\nFinally, *Auto-sklearn* also support metric that require the train data (aka X_data) to\ncompute a value. This can be useful if one only cares about the score on a subset of the\ndata.\n\"\"\"\n\naccuracy_scorer = autosklearn.metrics.make_scorer(\n    name=\"accu_X\",\n    score_func=metric_which_needs_x,\n    optimum=1,\n    greater_is_better=True,\n    needs_proba=False,\n    needs_X=True,\n    needs_threshold=False,\n    consider_col=1,\n    val_threshold=18.8,\n)\ncls = autosklearn.classification.AutoSklearnClassifier(\n    time_left_for_this_task=60,\n    seed=1,\n    metric=accuracy_scorer,\n)\ncls.fit(X_train, y_train)\n\npredictions = cls.predict(X_test)\nscore = metric_which_needs_x(\n    y_test,\n    predictions,\n    X_data=X_test,\n    consider_col=1,\n    val_threshold=18.8,\n)\nprint(f\"Error score {score:.3f} using {accuracy_scorer.name:s}\")"
      ]
    }
  ],
  "metadata": {
    "kernelspec": {
      "display_name": "Python 3",
      "language": "python",
      "name": "python3"
    },
    "language_info": {
      "codemirror_mode": {
        "name": "ipython",
        "version": 3
      },
      "file_extension": ".py",
      "mimetype": "text/x-python",
      "name": "python",
      "nbconvert_exporter": "python",
      "pygments_lexer": "ipython3",
      "version": "3.8.13"
    }
  },
  "nbformat": 4,
  "nbformat_minor": 0
}