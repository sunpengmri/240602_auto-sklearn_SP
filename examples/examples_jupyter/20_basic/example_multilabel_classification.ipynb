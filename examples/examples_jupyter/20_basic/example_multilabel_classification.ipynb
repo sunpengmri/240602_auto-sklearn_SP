{
  "cells": [
    {
      "cell_type": "code",
      "execution_count": null,
      "metadata": {
        "collapsed": false
      },
      "outputs": [],
      "source": [
        "%matplotlib inline"
      ]
    },
    {
      "cell_type": "markdown",
      "metadata": {},
      "source": [
        "\n# Multi-label Classification\n\nThis examples shows how to format the targets for a multilabel classification\nproblem. Details on multilabel classification can be found\n[here](https://scikit-learn.org/stable/modules/multiclass.html).\n"
      ]
    },
    {
      "cell_type": "code",
      "execution_count": null,
      "metadata": {
        "collapsed": false
      },
      "outputs": [],
      "source": [
        "import numpy as np\nfrom pprint import pprint\n\nimport sklearn.datasets\nimport sklearn.metrics\nfrom sklearn.utils.multiclass import type_of_target\n\nimport autosklearn.classification"
      ]
    },
    {
      "cell_type": "markdown",
      "metadata": {},
      "source": [
        "## Data Loading\n\n"
      ]
    },
    {
      "cell_type": "code",
      "execution_count": null,
      "metadata": {
        "collapsed": false
      },
      "outputs": [],
      "source": [
        "# Using reuters multilabel dataset -- https://www.openml.org/d/40594\nX, y = sklearn.datasets.fetch_openml(data_id=40594, return_X_y=True, as_frame=False)\n\n# fetch openml downloads a numpy array with TRUE/FALSE strings. Re-map it to\n# integer dtype with ones and zeros\n# This is to comply with Scikit-learn requirement:\n# \"Positive classes are indicated with 1 and negative classes with 0 or -1.\"\n# More information on: https://scikit-learn.org/stable/modules/multiclass.html\ny[y == \"TRUE\"] = 1\ny[y == \"FALSE\"] = 0\ny = y.astype(int)\n\n# Using type of target is a good way to make sure your data\n# is properly formatted\nprint(f\"type_of_target={type_of_target(y)}\")\n\nX_train, X_test, y_train, y_test = sklearn.model_selection.train_test_split(\n    X, y, random_state=1\n)"
      ]
    },
    {
      "cell_type": "markdown",
      "metadata": {},
      "source": [
        "## Building the classifier\n\n"
      ]
    },
    {
      "cell_type": "code",
      "execution_count": null,
      "metadata": {
        "collapsed": false
      },
      "outputs": [],
      "source": [
        "automl = autosklearn.classification.AutoSklearnClassifier(\n    time_left_for_this_task=60,\n    per_run_time_limit=30,\n    # Bellow two flags are provided to speed up calculations\n    # Not recommended for a real implementation\n    initial_configurations_via_metalearning=0,\n    smac_scenario_args={\"runcount_limit\": 1},\n)\nautoml.fit(X_train, y_train, dataset_name=\"reuters\")"
      ]
    },
    {
      "cell_type": "markdown",
      "metadata": {},
      "source": [
        "## View the models found by auto-sklearn\n\n"
      ]
    },
    {
      "cell_type": "code",
      "execution_count": null,
      "metadata": {
        "collapsed": false
      },
      "outputs": [],
      "source": [
        "print(automl.leaderboard())"
      ]
    },
    {
      "cell_type": "markdown",
      "metadata": {},
      "source": [
        "## Print the final ensemble constructed by auto-sklearn\n\n"
      ]
    },
    {
      "cell_type": "code",
      "execution_count": null,
      "metadata": {
        "collapsed": false
      },
      "outputs": [],
      "source": [
        "pprint(automl.show_models(), indent=4)"
      ]
    },
    {
      "cell_type": "markdown",
      "metadata": {},
      "source": [
        "## Print statistics about the auto-sklearn run\n\n"
      ]
    },
    {
      "cell_type": "code",
      "execution_count": null,
      "metadata": {
        "collapsed": false
      },
      "outputs": [],
      "source": [
        "# Print statistics about the auto-sklearn run such as number of\n# iterations, number of models failed with a time out.\nprint(automl.sprint_statistics())"
      ]
    },
    {
      "cell_type": "markdown",
      "metadata": {},
      "source": [
        "## Get the Score of the final ensemble\n\n"
      ]
    },
    {
      "cell_type": "code",
      "execution_count": null,
      "metadata": {
        "collapsed": false
      },
      "outputs": [],
      "source": [
        "predictions = automl.predict(X_test)\nprint(\"Accuracy score\", sklearn.metrics.accuracy_score(y_test, predictions))"
      ]
    }
  ],
  "metadata": {
    "kernelspec": {
      "display_name": "Python 3",
      "language": "python",
      "name": "python3"
    },
    "language_info": {
      "codemirror_mode": {
        "name": "ipython",
        "version": 3
      },
      "file_extension": ".py",
      "mimetype": "text/x-python",
      "name": "python",
      "nbconvert_exporter": "python",
      "pygments_lexer": "ipython3",
      "version": "3.8.13"
    }
  },
  "nbformat": 4,
  "nbformat_minor": 0
}