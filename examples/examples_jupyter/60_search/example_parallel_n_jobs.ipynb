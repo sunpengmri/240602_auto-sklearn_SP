{
  "cells": [
    {
      "cell_type": "code",
      "execution_count": null,
      "metadata": {
        "collapsed": false
      },
      "outputs": [],
      "source": [
        "%matplotlib inline"
      ]
    },
    {
      "cell_type": "markdown",
      "metadata": {},
      "source": [
        "\n# Parallel Usage  on a single machine\n\n*Auto-sklearn* uses\n`dask.distributed <https://distributed.dask.org/en/latest/index.html`>_\nfor parallel optimization.\n\nThis example shows how to start *Auto-sklearn* to use multiple cores on a\nsingle machine. Using this mode, *Auto-sklearn* starts a dask cluster,\nmanages the workers and takes care of shutting down the cluster once the\ncomputation is done.\nTo run *Auto-sklearn* on multiple machines check the example\n`sphx_glr_examples_60_search_example_parallel_manual_spawning_cli.py`.\n"
      ]
    },
    {
      "cell_type": "code",
      "execution_count": null,
      "metadata": {
        "collapsed": false
      },
      "outputs": [],
      "source": [
        "import sklearn.model_selection\nimport sklearn.datasets\nimport sklearn.metrics\n\nimport autosklearn.classification"
      ]
    },
    {
      "cell_type": "markdown",
      "metadata": {},
      "source": [
        "## Data Loading\n\n"
      ]
    },
    {
      "cell_type": "code",
      "execution_count": null,
      "metadata": {
        "collapsed": false
      },
      "outputs": [],
      "source": [
        "X, y = sklearn.datasets.load_breast_cancer(return_X_y=True)\nX_train, X_test, y_train, y_test = sklearn.model_selection.train_test_split(\n    X, y, random_state=1\n)"
      ]
    },
    {
      "cell_type": "markdown",
      "metadata": {},
      "source": [
        "## Build and fit a classifier\n\nTo use ``n_jobs_`` we must guard the code\n\n"
      ]
    },
    {
      "cell_type": "code",
      "execution_count": null,
      "metadata": {
        "collapsed": false
      },
      "outputs": [],
      "source": [
        "if __name__ == \"__main__\":\n\n    automl = autosklearn.classification.AutoSklearnClassifier(\n        time_left_for_this_task=120,\n        per_run_time_limit=30,\n        tmp_folder=\"/tmp/autosklearn_parallel_1_example_tmp\",\n        n_jobs=4,\n        # Each one of the 4 jobs is allocated 3GB\n        memory_limit=3072,\n        seed=5,\n    )\n    automl.fit(X_train, y_train, dataset_name=\"breast_cancer\")\n\n    # Print statistics about the auto-sklearn run such as number of\n    # iterations, number of models failed with a time out.\n    print(automl.sprint_statistics())"
      ]
    }
  ],
  "metadata": {
    "kernelspec": {
      "display_name": "Python 3",
      "language": "python",
      "name": "python3"
    },
    "language_info": {
      "codemirror_mode": {
        "name": "ipython",
        "version": 3
      },
      "file_extension": ".py",
      "mimetype": "text/x-python",
      "name": "python",
      "nbconvert_exporter": "python",
      "pygments_lexer": "ipython3",
      "version": "3.8.13"
    }
  },
  "nbformat": 4,
  "nbformat_minor": 0
}