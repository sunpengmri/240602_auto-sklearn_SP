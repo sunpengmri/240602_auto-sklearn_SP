{
  "cells": [
    {
      "cell_type": "code",
      "execution_count": null,
      "metadata": {
        "collapsed": false
      },
      "outputs": [],
      "source": [
        "%matplotlib inline"
      ]
    },
    {
      "cell_type": "markdown",
      "metadata": {},
      "source": [
        "\n# Random Search\n\nA crucial feature of *auto-sklearn* is automatically optimizing the hyperparameters through SMAC,\nintroduced [here](https://ml.informatik.uni-freiburg.de/papers/11-LION5-SMAC.pdf).\nAdditionally, it is possible to use\n[random search](https://www.jmlr.org/papers/v13/bergstra12a.html) instead of\nSMAC, as demonstrated in the example below. Furthermore, the example also demonstrates how to use\n[Random Online Aggressive Racing (ROAR)](https://ml.informatik.uni-freiburg.de/papers/11-LION5-SMAC.pdf)\nas yet another alternative optimizatino strategy.\nBoth examples are intended to show how the optimization strategy in *auto-sklearn* can be adapted.\n"
      ]
    },
    {
      "cell_type": "code",
      "execution_count": null,
      "metadata": {
        "collapsed": false
      },
      "outputs": [],
      "source": [
        "from pprint import pprint\n\nimport sklearn.model_selection\nimport sklearn.datasets\nimport sklearn.metrics\n\nfrom smac.facade.roar_facade import ROAR\nfrom smac.scenario.scenario import Scenario\n\nimport autosklearn.classification"
      ]
    },
    {
      "cell_type": "markdown",
      "metadata": {},
      "source": [
        "## Data Loading\n\n"
      ]
    },
    {
      "cell_type": "code",
      "execution_count": null,
      "metadata": {
        "collapsed": false
      },
      "outputs": [],
      "source": [
        "X, y = sklearn.datasets.load_breast_cancer(return_X_y=True)\nX_train, X_test, y_train, y_test = sklearn.model_selection.train_test_split(\n    X, y, random_state=1\n)"
      ]
    },
    {
      "cell_type": "markdown",
      "metadata": {},
      "source": [
        "## Fit a classifier using ROAR\n\n"
      ]
    },
    {
      "cell_type": "code",
      "execution_count": null,
      "metadata": {
        "collapsed": false
      },
      "outputs": [],
      "source": [
        "def get_roar_object_callback(\n    scenario_dict,\n    seed,\n    ta,\n    ta_kwargs,\n    metalearning_configurations,\n    n_jobs,\n    dask_client,\n    multi_objective_algorithm,  # This argument will be ignored as ROAR does not yet support multi-objective optimization\n    multi_objective_kwargs,\n):\n    \"\"\"Random online adaptive racing.\"\"\"\n\n    if n_jobs > 1 or (dask_client and len(dask_client.nthreads()) > 1):\n        raise ValueError(\n            \"Please make sure to guard the code invoking Auto-sklearn by \"\n            \"`if __name__ == '__main__'` and remove this exception.\"\n        )\n\n    scenario = Scenario(scenario_dict)\n    return ROAR(\n        scenario=scenario,\n        rng=seed,\n        tae_runner=ta,\n        tae_runner_kwargs=ta_kwargs,\n        run_id=seed,\n        dask_client=dask_client,\n        n_jobs=n_jobs,\n    )\n\n\nautoml = autosklearn.classification.AutoSklearnClassifier(\n    time_left_for_this_task=60,\n    per_run_time_limit=15,\n    tmp_folder=\"/tmp/autosklearn_random_search_example_tmp\",\n    initial_configurations_via_metalearning=0,\n    # The callback to get the SMAC object\n    get_smac_object_callback=get_roar_object_callback,\n)\nautoml.fit(X_train, y_train, dataset_name=\"breast_cancer\")\n\nprint(\"#\" * 80)\nprint(\"Results for ROAR.\")\n# Print the final ensemble constructed by auto-sklearn via ROAR.\npprint(automl.show_models(), indent=4)\npredictions = automl.predict(X_test)\n# Print statistics about the auto-sklearn run such as number of\n# iterations, number of models failed with a time out.\nprint(automl.sprint_statistics())\nprint(\"Accuracy score\", sklearn.metrics.accuracy_score(y_test, predictions))"
      ]
    },
    {
      "cell_type": "markdown",
      "metadata": {},
      "source": [
        "## Fit a classifier using Random Search\n\n"
      ]
    },
    {
      "cell_type": "code",
      "execution_count": null,
      "metadata": {
        "collapsed": false
      },
      "outputs": [],
      "source": [
        "def get_random_search_object_callback(\n    scenario_dict,\n    seed,\n    ta,\n    ta_kwargs,\n    metalearning_configurations,\n    n_jobs,\n    dask_client,\n    multi_objective_algorithm,  # This argument will be ignored as ROAR does not yet support multi-objective optimization\n    multi_objective_kwargs,\n):\n    \"\"\"Random search\"\"\"\n\n    if n_jobs > 1 or (dask_client and len(dask_client.nthreads()) > 1):\n        raise ValueError(\n            \"Please make sure to guard the code invoking Auto-sklearn by \"\n            \"`if __name__ == '__main__'` and remove this exception.\"\n        )\n\n    scenario_dict[\"minR\"] = len(scenario_dict[\"instances\"])\n    scenario_dict[\"initial_incumbent\"] = \"RANDOM\"\n    scenario = Scenario(scenario_dict)\n    return ROAR(\n        scenario=scenario,\n        rng=seed,\n        tae_runner=ta,\n        tae_runner_kwargs=ta_kwargs,\n        run_id=seed,\n        dask_client=dask_client,\n        n_jobs=n_jobs,\n    )\n\n\nautoml = autosklearn.classification.AutoSklearnClassifier(\n    time_left_for_this_task=60,\n    per_run_time_limit=15,\n    tmp_folder=\"/tmp/autosklearn_random_search_example_tmp\",\n    initial_configurations_via_metalearning=0,\n    # Passing the callback to get the SMAC object\n    get_smac_object_callback=get_random_search_object_callback,\n)\nautoml.fit(X_train, y_train, dataset_name=\"breast_cancer\")\n\nprint(\"#\" * 80)\nprint(\"Results for random search.\")\n\n# Print the final ensemble constructed by auto-sklearn via random search.\npprint(automl.show_models(), indent=4)\n\n# Print statistics about the auto-sklearn run such as number of\n# iterations, number of models failed with a time out.\nprint(automl.sprint_statistics())\n\npredictions = automl.predict(X_test)\nprint(\"Accuracy score\", sklearn.metrics.accuracy_score(y_test, predictions))"
      ]
    }
  ],
  "metadata": {
    "kernelspec": {
      "display_name": "Python 3",
      "language": "python",
      "name": "python3"
    },
    "language_info": {
      "codemirror_mode": {
        "name": "ipython",
        "version": 3
      },
      "file_extension": ".py",
      "mimetype": "text/x-python",
      "name": "python",
      "nbconvert_exporter": "python",
      "pygments_lexer": "ipython3",
      "version": "3.8.13"
    }
  },
  "nbformat": 4,
  "nbformat_minor": 0
}