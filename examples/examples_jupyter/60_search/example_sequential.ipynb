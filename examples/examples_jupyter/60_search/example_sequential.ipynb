{
  "cells": [
    {
      "cell_type": "code",
      "execution_count": null,
      "metadata": {
        "collapsed": false
      },
      "outputs": [],
      "source": [
        "%matplotlib inline"
      ]
    },
    {
      "cell_type": "markdown",
      "metadata": {},
      "source": [
        "\n# Sequential Usage\n\nBy default, *auto-sklearn* fits the machine learning models and build their\nensembles in parallel. However, it is also possible to run the two processes\nsequentially. The example below shows how to first fit the models and build the\nensembles afterwards.\n"
      ]
    },
    {
      "cell_type": "code",
      "execution_count": null,
      "metadata": {
        "collapsed": false
      },
      "outputs": [],
      "source": [
        "from pprint import pprint\n\nimport sklearn.model_selection\nimport sklearn.datasets\nimport sklearn.metrics\n\nimport autosklearn.classification"
      ]
    },
    {
      "cell_type": "markdown",
      "metadata": {},
      "source": [
        "## Data Loading\n\n"
      ]
    },
    {
      "cell_type": "code",
      "execution_count": null,
      "metadata": {
        "collapsed": false
      },
      "outputs": [],
      "source": [
        "from autosklearn.ensembles.ensemble_selection import EnsembleSelection\n\nX, y = sklearn.datasets.load_breast_cancer(return_X_y=True)\nX_train, X_test, y_train, y_test = sklearn.model_selection.train_test_split(\n    X, y, random_state=1\n)"
      ]
    },
    {
      "cell_type": "markdown",
      "metadata": {},
      "source": [
        "## Build and fit the classifier\n\n"
      ]
    },
    {
      "cell_type": "code",
      "execution_count": null,
      "metadata": {
        "collapsed": false
      },
      "outputs": [],
      "source": [
        "automl = autosklearn.classification.AutoSklearnClassifier(\n    time_left_for_this_task=60,\n    tmp_folder=\"/tmp/autosklearn_sequential_example_tmp\",\n    # Do not construct ensembles in parallel to avoid using more than one\n    # core at a time. The ensemble will be constructed after auto-sklearn\n    # finished fitting all machine learning models.\n    ensemble_class=None,\n    delete_tmp_folder_after_terminate=False,\n)\nautoml.fit(X_train, y_train, dataset_name=\"breast_cancer\")\n\n# This call to fit_ensemble uses all models trained in the previous call\n# to fit to build an ensemble which can be used with automl.predict()\nautoml.fit_ensemble(y_train, ensemble_class=EnsembleSelection)"
      ]
    },
    {
      "cell_type": "markdown",
      "metadata": {},
      "source": [
        "## Print the final ensemble constructed by auto-sklearn\n\n"
      ]
    },
    {
      "cell_type": "code",
      "execution_count": null,
      "metadata": {
        "collapsed": false
      },
      "outputs": [],
      "source": [
        "pprint(automl.show_models(), indent=4)"
      ]
    },
    {
      "cell_type": "markdown",
      "metadata": {},
      "source": [
        "## Get the Score of the final ensemble\n\n"
      ]
    },
    {
      "cell_type": "code",
      "execution_count": null,
      "metadata": {
        "collapsed": false
      },
      "outputs": [],
      "source": [
        "predictions = automl.predict(X_test)\nprint(automl.sprint_statistics())\nprint(\"Accuracy score\", sklearn.metrics.accuracy_score(y_test, predictions))"
      ]
    }
  ],
  "metadata": {
    "kernelspec": {
      "display_name": "Python 3",
      "language": "python",
      "name": "python3"
    },
    "language_info": {
      "codemirror_mode": {
        "name": "ipython",
        "version": 3
      },
      "file_extension": ".py",
      "mimetype": "text/x-python",
      "name": "python",
      "nbconvert_exporter": "python",
      "pygments_lexer": "ipython3",
      "version": "3.8.13"
    }
  },
  "nbformat": 4,
  "nbformat_minor": 0
}