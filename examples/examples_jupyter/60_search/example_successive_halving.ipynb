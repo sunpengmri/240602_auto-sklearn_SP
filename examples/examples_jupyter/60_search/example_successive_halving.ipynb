{
  "cells": [
    {
      "cell_type": "code",
      "execution_count": null,
      "metadata": {
        "collapsed": false
      },
      "outputs": [],
      "source": [
        "%matplotlib inline"
      ]
    },
    {
      "cell_type": "markdown",
      "metadata": {},
      "source": [
        "\n# Successive Halving\n\nThis advanced  example illustrates how to interact with\nthe SMAC callback and get relevant information from the run, like\nthe number of iterations. Particularly, it exemplifies how to select\nthe intensification strategy to use in smac, in this case:\n[SuccessiveHalving](http://proceedings.mlr.press/v80/falkner18a/falkner18a-supp.pdf).\n\nThis results in an adaptation of the [BOHB algorithm](http://proceedings.mlr.press/v80/falkner18a/falkner18a.pdf).\nIt uses Successive Halving instead of [Hyperband](https://jmlr.org/papers/volume18/16-558/16-558.pdf), and could be abbreviated as BOSH.\nTo get the BOHB algorithm, simply import Hyperband and use it as the intensification strategy.\n"
      ]
    },
    {
      "cell_type": "code",
      "execution_count": null,
      "metadata": {
        "collapsed": false
      },
      "outputs": [],
      "source": [
        "from pprint import pprint\n\nimport sklearn.model_selection\nimport sklearn.datasets\nimport sklearn.metrics\n\nimport autosklearn.classification"
      ]
    },
    {
      "cell_type": "markdown",
      "metadata": {},
      "source": [
        "## Define a callback that instantiates SuccessiveHalving\n\n"
      ]
    },
    {
      "cell_type": "code",
      "execution_count": null,
      "metadata": {
        "collapsed": false
      },
      "outputs": [],
      "source": [
        "def get_smac_object_callback(budget_type):\n    def get_smac_object(\n        scenario_dict,\n        seed,\n        ta,\n        ta_kwargs,\n        metalearning_configurations,\n        n_jobs,\n        dask_client,\n        multi_objective_algorithm,  # This argument will be ignored as SH does not yet support multi-objective optimization\n        multi_objective_kwargs,\n    ):\n        from smac.facade.smac_ac_facade import SMAC4AC\n        from smac.intensification.successive_halving import SuccessiveHalving\n        from smac.runhistory.runhistory2epm import RunHistory2EPM4LogCost\n        from smac.scenario.scenario import Scenario\n\n        if n_jobs > 1 or (dask_client and len(dask_client.nthreads()) > 1):\n            raise ValueError(\n                \"Please make sure to guard the code invoking Auto-sklearn by \"\n                \"`if __name__ == '__main__'` and remove this exception.\"\n            )\n\n        scenario = Scenario(scenario_dict)\n        if len(metalearning_configurations) > 0:\n            default_config = scenario.cs.get_default_configuration()\n            initial_configurations = [default_config] + metalearning_configurations\n        else:\n            initial_configurations = None\n        rh2EPM = RunHistory2EPM4LogCost\n\n        ta_kwargs[\"budget_type\"] = budget_type\n\n        return SMAC4AC(\n            scenario=scenario,\n            rng=seed,\n            runhistory2epm=rh2EPM,\n            tae_runner=ta,\n            tae_runner_kwargs=ta_kwargs,\n            initial_configurations=initial_configurations,\n            run_id=seed,\n            intensifier=SuccessiveHalving,\n            intensifier_kwargs={\n                \"initial_budget\": 10.0,\n                \"max_budget\": 100,\n                \"eta\": 2,\n                \"min_chall\": 1,\n            },\n            n_jobs=n_jobs,\n            dask_client=dask_client,\n        )\n\n    return get_smac_object"
      ]
    },
    {
      "cell_type": "markdown",
      "metadata": {},
      "source": [
        "## Data Loading\n\n"
      ]
    },
    {
      "cell_type": "code",
      "execution_count": null,
      "metadata": {
        "collapsed": false
      },
      "outputs": [],
      "source": [
        "X, y = sklearn.datasets.load_breast_cancer(return_X_y=True)\nX_train, X_test, y_train, y_test = sklearn.model_selection.train_test_split(\n    X, y, random_state=1, shuffle=True\n)"
      ]
    },
    {
      "cell_type": "markdown",
      "metadata": {},
      "source": [
        "## Build and fit a classifier\n\n"
      ]
    },
    {
      "cell_type": "code",
      "execution_count": null,
      "metadata": {
        "collapsed": false
      },
      "outputs": [],
      "source": [
        "automl = autosklearn.classification.AutoSklearnClassifier(\n    time_left_for_this_task=40,\n    per_run_time_limit=10,\n    tmp_folder=\"/tmp/autosklearn_sh_example_tmp\",\n    disable_evaluator_output=False,\n    # 'holdout' with 'train_size'=0.67 is the default argument setting\n    # for AutoSklearnClassifier. It is explicitly specified in this example\n    # for demonstrational purpose.\n    resampling_strategy=\"holdout\",\n    resampling_strategy_arguments={\"train_size\": 0.67},\n    include={\n        \"classifier\": [\n            \"extra_trees\",\n            \"gradient_boosting\",\n            \"random_forest\",\n            \"sgd\",\n            \"passive_aggressive\",\n        ],\n        \"feature_preprocessor\": [\"no_preprocessing\"],\n    },\n    get_smac_object_callback=get_smac_object_callback(\"iterations\"),\n)\nautoml.fit(X_train, y_train, dataset_name=\"breast_cancer\")\n\npprint(automl.show_models(), indent=4)\npredictions = automl.predict(X_test)\n# Print statistics about the auto-sklearn run such as number of\n# iterations, number of models failed with a time out.\nprint(automl.sprint_statistics())\nprint(\"Accuracy score\", sklearn.metrics.accuracy_score(y_test, predictions))"
      ]
    },
    {
      "cell_type": "markdown",
      "metadata": {},
      "source": [
        "## We can also use cross-validation with successive halving\n\n"
      ]
    },
    {
      "cell_type": "code",
      "execution_count": null,
      "metadata": {
        "collapsed": false
      },
      "outputs": [],
      "source": [
        "X, y = sklearn.datasets.load_breast_cancer(return_X_y=True)\nX_train, X_test, y_train, y_test = sklearn.model_selection.train_test_split(\n    X, y, random_state=1, shuffle=True\n)\n\nautoml = autosklearn.classification.AutoSklearnClassifier(\n    time_left_for_this_task=40,\n    per_run_time_limit=10,\n    tmp_folder=\"/tmp/autosklearn_sh_example_tmp_01\",\n    disable_evaluator_output=False,\n    resampling_strategy=\"cv\",\n    include={\n        \"classifier\": [\n            \"extra_trees\",\n            \"gradient_boosting\",\n            \"random_forest\",\n            \"sgd\",\n            \"passive_aggressive\",\n        ],\n        \"feature_preprocessor\": [\"no_preprocessing\"],\n    },\n    get_smac_object_callback=get_smac_object_callback(\"iterations\"),\n)\nautoml.fit(X_train, y_train, dataset_name=\"breast_cancer\")\n\n# Print the final ensemble constructed by auto-sklearn.\npprint(automl.show_models(), indent=4)\nautoml.refit(X_train, y_train)\npredictions = automl.predict(X_test)\n# Print statistics about the auto-sklearn run such as number of\n# iterations, number of models failed with a time out.\nprint(automl.sprint_statistics())\nprint(\"Accuracy score\", sklearn.metrics.accuracy_score(y_test, predictions))"
      ]
    },
    {
      "cell_type": "markdown",
      "metadata": {},
      "source": [
        "## Use an iterative fit cross-validation with successive halving\n\n"
      ]
    },
    {
      "cell_type": "code",
      "execution_count": null,
      "metadata": {
        "collapsed": false
      },
      "outputs": [],
      "source": [
        "X, y = sklearn.datasets.load_breast_cancer(return_X_y=True)\nX_train, X_test, y_train, y_test = sklearn.model_selection.train_test_split(\n    X, y, random_state=1, shuffle=True\n)\n\nautoml = autosklearn.classification.AutoSklearnClassifier(\n    time_left_for_this_task=40,\n    per_run_time_limit=10,\n    tmp_folder=\"/tmp/autosklearn_sh_example_tmp_cv_02\",\n    disable_evaluator_output=False,\n    resampling_strategy=\"cv-iterative-fit\",\n    include={\n        \"classifier\": [\n            \"extra_trees\",\n            \"gradient_boosting\",\n            \"random_forest\",\n            \"sgd\",\n            \"passive_aggressive\",\n        ],\n        \"feature_preprocessor\": [\"no_preprocessing\"],\n    },\n    get_smac_object_callback=get_smac_object_callback(\"iterations\"),\n)\nautoml.fit(X_train, y_train, dataset_name=\"breast_cancer\")\n\n# Print the final ensemble constructed by auto-sklearn.\npprint(automl.show_models(), indent=4)\nautoml.refit(X_train, y_train)\npredictions = automl.predict(X_test)\n# Print statistics about the auto-sklearn run such as number of\n# iterations, number of models failed with a time out.\nprint(automl.sprint_statistics())\nprint(\"Accuracy score\", sklearn.metrics.accuracy_score(y_test, predictions))"
      ]
    },
    {
      "cell_type": "markdown",
      "metadata": {},
      "source": [
        "## Next, we see the use of subsampling as a budget in Auto-sklearn\n\n"
      ]
    },
    {
      "cell_type": "code",
      "execution_count": null,
      "metadata": {
        "collapsed": false
      },
      "outputs": [],
      "source": [
        "X, y = sklearn.datasets.load_breast_cancer(return_X_y=True)\nX_train, X_test, y_train, y_test = sklearn.model_selection.train_test_split(\n    X, y, random_state=1, shuffle=True\n)\n\nautoml = autosklearn.classification.AutoSklearnClassifier(\n    time_left_for_this_task=40,\n    per_run_time_limit=10,\n    tmp_folder=\"/tmp/autosklearn_sh_example_tmp_03\",\n    disable_evaluator_output=False,\n    # 'holdout' with 'train_size'=0.67 is the default argument setting\n    # for AutoSklearnClassifier. It is explicitly specified in this example\n    # for demonstrational purpose.\n    resampling_strategy=\"holdout\",\n    resampling_strategy_arguments={\"train_size\": 0.67},\n    get_smac_object_callback=get_smac_object_callback(\"subsample\"),\n)\nautoml.fit(X_train, y_train, dataset_name=\"breast_cancer\")\n\n# Print the final ensemble constructed by auto-sklearn.\npprint(automl.show_models(), indent=4)\npredictions = automl.predict(X_test)\n# Print statistics about the auto-sklearn run such as number of\n# iterations, number of models failed with a time out.\nprint(automl.sprint_statistics())\nprint(\"Accuracy score\", sklearn.metrics.accuracy_score(y_test, predictions))"
      ]
    },
    {
      "cell_type": "markdown",
      "metadata": {},
      "source": [
        "## Mixed budget approach\nFinally, there's a mixed budget type which uses iterations where possible and\nsubsamples otherwise\n\n"
      ]
    },
    {
      "cell_type": "code",
      "execution_count": null,
      "metadata": {
        "collapsed": false
      },
      "outputs": [],
      "source": [
        "X, y = sklearn.datasets.load_breast_cancer(return_X_y=True)\nX_train, X_test, y_train, y_test = sklearn.model_selection.train_test_split(\n    X, y, random_state=1, shuffle=True\n)\n\nautoml = autosklearn.classification.AutoSklearnClassifier(\n    time_left_for_this_task=40,\n    per_run_time_limit=10,\n    tmp_folder=\"/tmp/autosklearn_sh_example_tmp_04\",\n    disable_evaluator_output=False,\n    # 'holdout' with 'train_size'=0.67 is the default argument setting\n    # for AutoSklearnClassifier. It is explicitly specified in this example\n    # for demonstrational purpose.\n    resampling_strategy=\"holdout\",\n    resampling_strategy_arguments={\"train_size\": 0.67},\n    include={\n        \"classifier\": [\"extra_trees\", \"gradient_boosting\", \"random_forest\", \"sgd\"]\n    },\n    get_smac_object_callback=get_smac_object_callback(\"mixed\"),\n)\nautoml.fit(X_train, y_train, dataset_name=\"breast_cancer\")\n\n# Print the final ensemble constructed by auto-sklearn.\npprint(automl.show_models(), indent=4)\npredictions = automl.predict(X_test)\n# Print statistics about the auto-sklearn run such as number of\n# iterations, number of models failed with a time out.\nprint(automl.sprint_statistics())\nprint(\"Accuracy score\", sklearn.metrics.accuracy_score(y_test, predictions))"
      ]
    }
  ],
  "metadata": {
    "kernelspec": {
      "display_name": "Python 3",
      "language": "python",
      "name": "python3"
    },
    "language_info": {
      "codemirror_mode": {
        "name": "ipython",
        "version": 3
      },
      "file_extension": ".py",
      "mimetype": "text/x-python",
      "name": "python",
      "nbconvert_exporter": "python",
      "pygments_lexer": "ipython3",
      "version": "3.8.13"
    }
  },
  "nbformat": 4,
  "nbformat_minor": 0
}