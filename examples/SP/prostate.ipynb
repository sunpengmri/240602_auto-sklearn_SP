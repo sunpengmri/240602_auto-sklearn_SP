{
  "cells": [
    {
      "cell_type": "markdown",
      "metadata": {
        "id": "i6BTvwfb5-G3"
      },
      "source": [
        "# Auto-Sklearn based Prostate Cancer analysis\n"
      ]
    },
    {
      "cell_type": "markdown",
      "metadata": {
        "id": "-AF0DWOyT_ic"
      },
      "source": [
        "## 1. system enviroment preparation\n",
        "\n",
        "In order to run this code, we are going to first install Auto-sklearn using pip. For more instructions on how to install Auto-sklearn, for example using conda, please check [this](https://automl.github.io/auto-sklearn/master/installation.html).\n",
        "\n",
        "**NOTE: Installation will take ~5mins. This is the perfect opportunity to introduce yourself to your team and tell them what you're working on!**"
      ]
    },
    {
      "cell_type": "code",
      "execution_count": null,
      "metadata": {
        "colab": {
          "base_uri": "https://localhost:8080/"
        },
        "id": "DGJwh-eET_id",
        "outputId": "ecf23846-c976-4723-91f8-cea5c27673aa",
        "vscode": {
          "languageId": "shellscript"
        }
      },
      "outputs": [],
      "source": [
        "!pip uninstall --yes nvidia-ml-py3 pandas-profiling scipy\n",
        "!pip install pandas-profiling auto-sklearn==0.15.0 shap\n",
        "!pip install -U numpy==1.23.5\n",
        "print(\"Done! Please restart the Notebook (Runtime -> Restart Runtime)\")"
      ]
    },
    {
      "cell_type": "code",
      "execution_count": 1,
      "metadata": {
        "vscode": {
          "languageId": "shellscript"
        }
      },
      "outputs": [],
      "source": [
        "# load the data\n",
        "import pandas as pd\n",
        "import os\n",
        "import sklearn.datasets\n",
        "import sklearn.metrics\n",
        "import sklearn.model_selection"
      ]
    },
    {
      "cell_type": "code",
      "execution_count": 2,
      "metadata": {
        "vscode": {
          "languageId": "shellscript"
        }
      },
      "outputs": [],
      "source": [
        "def scoring_function(estimator):        \n",
        "    predictions = estimator.predict_proba(X_test)[:, 1]\n",
        "    return sklearn.metrics.roc_auc_score(y_test, predictions)\n",
        "\n",
        "def train_scoring_function(estimator):        \n",
        "    predictions = estimator.predict_proba(X_train)[:, 1]\n",
        "    return sklearn.metrics.roc_auc_score(y_train, predictions)"
      ]
    },
    {
      "cell_type": "markdown",
      "metadata": {},
      "source": [
        "## 2. load raw data"
      ]
    },
    {
      "cell_type": "code",
      "execution_count": 3,
      "metadata": {
        "vscode": {
          "languageId": "shellscript"
        }
      },
      "outputs": [],
      "source": [
        "dataset_name = \"prostate-sp\"\n",
        "pd.set_option('display.width', 120)"
      ]
    },
    {
      "cell_type": "code",
      "execution_count": 4,
      "metadata": {
        "vscode": {
          "languageId": "shellscript"
        }
      },
      "outputs": [],
      "source": [
        "# Set the path to the Excel file\n",
        "data_dir = \"/home/peng/Documents/00_Project/01_prostate/data\"  # Replace with your actual data directory\n",
        "metabolomics_file_name = \"EDRN_MetabolomicsData_2023_08_27.xlsx\"  # Replace with your actual file name\n",
        "metabolomics_file_path = os.path.join(data_dir, metabolomics_file_name)\n",
        "clinical_file_name = \"EDRN_ClinicalData.xlsx\"  # Replace with your actual file name\n",
        "clinical_file_path = os.path.join(data_dir, clinical_file_name)\n",
        "\n",
        "# Load the data from the Excel file\n",
        "sheet_name = \"PreprocessedData\" \n",
        "metabolomics_df = pd.read_excel(metabolomics_file_path,sheet_name=sheet_name)\n",
        "\n",
        "# Load the data from the Excel file\n",
        "sheet_name = 1\n",
        "clinical_df_raw = pd.read_excel(clinical_file_path,sheet_name=sheet_name)"
      ]
    },
    {
      "cell_type": "code",
      "execution_count": 5,
      "metadata": {
        "vscode": {
          "languageId": "shellscript"
        }
      },
      "outputs": [
        {
          "name": "stdout",
          "output_type": "stream",
          "text": [
            "  SAMPLE_ID  PreviousPositiveBiopsy  Age  EthnicityLatino  Ethnicity EthnicityOtherDesc  Employment  \\\n",
            "0    C00002                       0   77                0          1                NaN          10   \n",
            "1    C00003                       0   78                0          1                NaN           6   \n",
            "2    C00005                       0   63                0          1                NaN           1   \n",
            "3    C00008                       0   58                0          1                NaN           6   \n",
            "4    C00009                       0   71                0          1                NaN           6   \n",
            "\n",
            "  EmploymentOtherDesc  Education  SmokingEver  ...  BiopsyComments2.RB  Tstage.RB  Nstage.RB  Mstage.RB  \\\n",
            "0            Seasonal          2            1  ...                 NaN        NaN        NaN        NaN   \n",
            "1                 NaN          6            1  ...                 NaN        NaN        NaN        NaN   \n",
            "2                 NaN          5            1  ...                 NaN        NaN        NaN        NaN   \n",
            "3                 NaN          6            0  ...                 NaN        NaN        NaN        NaN   \n",
            "4                 NaN          6            0  ...                 NaN        NaN        NaN        NaN   \n",
            "\n",
            "   CoresOver12.RB  ControlHGPIN.RB  ControlInflammation.RB  ControlASAP.RB  ControlAtypia.RB  ControlAtrophy.RB  \n",
            "0             NaN              NaN                     NaN             NaN               NaN                NaN  \n",
            "1             NaN              NaN                     NaN             NaN               NaN                NaN  \n",
            "2             NaN              NaN                     NaN             NaN               NaN                NaN  \n",
            "3             NaN              NaN                     NaN             NaN               NaN                NaN  \n",
            "4             NaN              NaN                     NaN             NaN               NaN                NaN  \n",
            "\n",
            "[5 rows x 420 columns]\n",
            "  SAMPLE_ID  PreviousPositiveBiopsy  Age  EthnicityLatino  Ethnicity  Employment  Education  SmokingEver  \\\n",
            "0    C00002                       0   77                0          1          10          2            1   \n",
            "1    C00003                       0   78                0          1           6          6            1   \n",
            "2    C00005                       0   63                0          1           1          5            1   \n",
            "3    C00008                       0   58                0          1           6          6            0   \n",
            "4    C00009                       0   71                0          1           6          6            0   \n",
            "\n",
            "   FamilyHistoryPrCa  PreviousCancer  ...  PrDrug4  PrDrug5  PrDrug6  PrDrugNone  PrSize  AbnormFoci  BiopsyDate  \\\n",
            "0                  0               0  ...      0.0      1.0      0.0         0.0    35.1         0.0         0.0   \n",
            "1                  1               0  ...      0.0      1.0      0.0         0.0    78.9         0.0         0.0   \n",
            "2                  1               0  ...      0.0      0.0      0.0         1.0    32.9         0.0         0.0   \n",
            "3                  1               0  ...      0.0      0.0      0.0         1.0    28.1         0.0         0.0   \n",
            "4                  0               1  ...      0.0      0.0      0.0         1.0    32.9         0.0         0.0   \n",
            "\n",
            "   BiopsyCoreLeft  BiopsyCoreRight  Diagnosis  \n",
            "0             6.0              6.0          1  \n",
            "1             6.0              8.0          1  \n",
            "2             9.0              9.0          0  \n",
            "3             6.0              6.0          1  \n",
            "4             6.0              7.0          0  \n",
            "\n",
            "[5 rows x 60 columns]\n"
          ]
        }
      ],
      "source": [
        "# 打印前几行数据以确认\n",
        "print(clinical_df_raw.head())\n",
        "\n",
        "# 计算每列的空值比例\n",
        "null_ratio = clinical_df_raw.isnull().mean()\n",
        "\n",
        "# 过滤出空值比例在 2% 以下的列\n",
        "columns_to_keep = null_ratio[null_ratio < 0.02].index\n",
        "\n",
        "# 创建一个新的 DataFrame，仅包含这些列\n",
        "clinical_df = clinical_df_raw[columns_to_keep]\n",
        "\n",
        "# 打印新的 DataFrame 的前几行数据以确认\n",
        "print(clinical_df.head())"
      ]
    },
    {
      "cell_type": "code",
      "execution_count": 6,
      "metadata": {
        "vscode": {
          "languageId": "shellscript"
        }
      },
      "outputs": [
        {
          "name": "stdout",
          "output_type": "stream",
          "text": [
            "Rows with different SAMPLE_ID and CLIENT_SAMPLE_ID:\n",
            "    SAMPLE_ID  PreviousPositiveBiopsy  Age  EthnicityLatino  Ethnicity  Employment  Education  SmokingEver  \\\n",
            "15     C00026                       0   65                0          1           6          6            1   \n",
            "18     C00031                       0   65                0          1           1          6            1   \n",
            "582    C00930                       0   59                1          1          10          3            1   \n",
            "583    C01019                       0   56                0          2           1          4            0   \n",
            "\n",
            "     FamilyHistoryPrCa  PreviousCancer  ...  bilirubin degradation product, C17H20N2O5 (2)**  \\\n",
            "15                   0               0  ...                                              NaN   \n",
            "18                   0               0  ...                                              NaN   \n",
            "582                  0               0  ...                                              NaN   \n",
            "583                  1               0  ...                                              NaN   \n",
            "\n",
            "     tetrahydrocortisol glucuronide  bilirubin degradation product, C16H18N2O5 (3)**  \\\n",
            "15                              NaN                                              NaN   \n",
            "18                              NaN                                              NaN   \n",
            "582                             NaN                                              NaN   \n",
            "583                             NaN                                              NaN   \n",
            "\n",
            "     bilirubin degradation product, C16H18N2O5 (4)**  N-lactoyl isoleucine  N-lactoyl leucine  \\\n",
            "15                                               NaN                   NaN                NaN   \n",
            "18                                               NaN                   NaN                NaN   \n",
            "582                                              NaN                   NaN                NaN   \n",
            "583                                              NaN                   NaN                NaN   \n",
            "\n",
            "     N-lactoyl phenylalanine  N-lactoyl tyrosine  N-lactoyl valine     _merge  \n",
            "15                       NaN                 NaN               NaN  left_only  \n",
            "18                       NaN                 NaN               NaN  left_only  \n",
            "582                      NaN                 NaN               NaN  left_only  \n",
            "583                      NaN                 NaN               NaN  left_only  \n",
            "\n",
            "[4 rows x 977 columns]\n"
          ]
        }
      ],
      "source": [
        "# 合并两个 DataFrame，保留所有行\n",
        "merged_df = pd.merge(clinical_df,metabolomics_df , left_on='SAMPLE_ID', right_on='CLIENT_SAMPLE_ID', how='outer', indicator=True)\n",
        "# 查找 SAMPLE_ID 和 CLIENT_SAMPLE_ID 不同的行\n",
        "different_rows = merged_df[merged_df['_merge'] != 'both']\n",
        "# 打印不同的行\n",
        "print(\"Rows with different SAMPLE_ID and CLIENT_SAMPLE_ID:\")\n",
        "print(different_rows)\n",
        "clinical_df = clinical_df[~clinical_df['SAMPLE_ID'].isin(different_rows['SAMPLE_ID'])]\n"
      ]
    },
    {
      "cell_type": "code",
      "execution_count": 7,
      "metadata": {
        "vscode": {
          "languageId": "shellscript"
        }
      },
      "outputs": [],
      "source": [
        "columns_to_keep=['SAMPLE_ID','Diagnosis','PreviousCancer','Age','PreBioPSA','FamilyHistoryPrCa','AbnormDRE']\n",
        "clinical_df_filtered=clinical_df[columns_to_keep]\n",
        "\n",
        "# 合并数据，保留相同的行\n",
        "merged_df = pd.merge(clinical_df_filtered, metabolomics_df, left_on='SAMPLE_ID', right_on='CLIENT_SAMPLE_ID')\n",
        "columns_to_drop = ['SAMPLE_ID', 'CLIENT_SAMPLE_ID']  # 替换为你想要删除的列名\n",
        "data_df_raw = merged_df.drop(columns=columns_to_drop)"
      ]
    },
    {
      "cell_type": "markdown",
      "metadata": {},
      "source": [
        "## 3. select data"
      ]
    },
    {
      "cell_type": "code",
      "execution_count": 8,
      "metadata": {
        "vscode": {
          "languageId": "shellscript"
        }
      },
      "outputs": [],
      "source": [
        "# data=data_df_raw[data_df_raw['PreviousCancer'] == 0]\n",
        "data=data_df_raw"
      ]
    },
    {
      "cell_type": "code",
      "execution_count": 9,
      "metadata": {
        "vscode": {
          "languageId": "shellscript"
        }
      },
      "outputs": [],
      "source": [
        "import seaborn as sns\n",
        "import matplotlib.pyplot as plt"
      ]
    },
    {
      "cell_type": "code",
      "execution_count": 10,
      "metadata": {
        "vscode": {
          "languageId": "shellscript"
        }
      },
      "outputs": [
        {
          "name": "stderr",
          "output_type": "stream",
          "text": [
            "/tmp/ipykernel_114917/1613188945.py:5: FutureWarning: \n",
            "\n",
            "Passing `palette` without assigning `hue` is deprecated and will be removed in v0.14.0. Assign the `x` variable to `hue` and set `legend=False` for the same effect.\n",
            "\n",
            "  sns.violinplot(x='Diagnosis', y='PreviousCancer', data=data, palette='Set2')\n"
          ]
        },
        {
          "data": {
            "image/png": "[encoded data removed]",
            "text/plain": [
              "<Figure size 800x800 with 1 Axes>"
            ]
          },
          "metadata": {},
          "output_type": "display_data"
        }
      ],
      "source": [
        "# 设置绘图风格\n",
        "sns.set(style=\"whitegrid\")\n",
        "# 绘制点状图\n",
        "plt.figure(figsize=(8, 8))\n",
        "sns.violinplot(x='Diagnosis', y='PreviousCancer', data=data, palette='Set2')\n",
        "plt.title('Violin Plot of 2-hydroxysebacate by Diagnosis')\n",
        "plt.show()"
      ]
    },
    {
      "cell_type": "markdown",
      "metadata": {},
      "source": [
        "## 4. preprocess data\n",
        "\n"
      ]
    },
    {
      "cell_type": "markdown",
      "metadata": {},
      "source": [
        "### 4.1 ceate X and y"
      ]
    },
    {
      "cell_type": "code",
      "execution_count": 164,
      "metadata": {},
      "outputs": [],
      "source": [
        "columns_to_drop=['Diagnosis','PreviousCancer','Age','PreBioPSA','FamilyHistoryPrCa','AbnormDRE']\n",
        "# columns_to_drop=['Diagnosis','Age']\n",
        "X=data.drop(columns=columns_to_drop)\n",
        "columns_to_keep=['Diagnosis']\n",
        "y=data[columns_to_keep]"
      ]
    },
    {
      "cell_type": "markdown",
      "metadata": {},
      "source": [
        "### 4.2 t-test"
      ]
    },
    {
      "cell_type": "code",
      "execution_count": 165,
      "metadata": {
        "vscode": {
          "languageId": "shellscript"
        }
      },
      "outputs": [],
      "source": [
        "from scipy.stats import shapiro, normaltest, ttest_ind, mannwhitneyu\n",
        "\n",
        "# 对每一列进行正态性检验\n",
        "normality_results = {}\n",
        "\n",
        "for column in X.columns:\n",
        "    # 使用 Shapiro-Wilk 检验\n",
        "    stat, p_value = shapiro(X[column].dropna())\n",
        "    normality_results[column] = {'Shapiro-Wilk': {'statistic': stat, 'p_value': p_value}}\n",
        "    \n",
        "    # # 使用 D'Agostino 和 Pearson 的正态性检验\n",
        "    # stat, p_value = normaltest(X_raw[column].dropna())\n",
        "    # normality_results[column].update({'D\\'Agostino-Pearson': {'statistic': stat, 'p_value': p_value}})\n",
        "\n",
        "# 打印结果\n",
        "# for column, results in normality_results.items():\n",
        "#     print(f\"Column: {column}\")\n",
        "#     for test, result in results.items():\n",
        "#         print(f\"  {test} test: statistic={result['statistic']}, p_value={result['p_value']}\")\n",
        "#     print()\n"
      ]
    },
    {
      "cell_type": "code",
      "execution_count": 166,
      "metadata": {
        "vscode": {
          "languageId": "shellscript"
        }
      },
      "outputs": [],
      "source": [
        "# 根据正态性检验结果选择检验方法\n",
        "test_results = {}\n",
        "p_values = {}\n",
        "for column in X.columns:\n",
        "    # 获取分组数据\n",
        "    group1 = X[column][y['Diagnosis'] == 0].dropna()\n",
        "    group2 = X[column][y['Diagnosis'] == 1].dropna()\n",
        "    \n",
        "    # 判断是否符合正态分布\n",
        "    if normality_results[column]['Shapiro-Wilk']['p_value'] > 0.05:\n",
        "        # 符合正态分布，使用 t 检验\n",
        "        stat, p_value = ttest_ind(group1, group2)\n",
        "        test_results[column] = {'Test': 't-test', 'statistic': stat, 'p_value': p_value}\n",
        "    else:\n",
        "        # 不符合正态分布，使用 Mann-Whitney U 检验\n",
        "        stat, p_value = mannwhitneyu(group1, group2)\n",
        "        test_results[column] = {'Test': 'Mann-Whitney U', 'statistic': stat, 'p_value': p_value}\n",
        "    \n",
        "    # 收集 p 值\n",
        "    p_values[column] = p_value"
      ]
    },
    {
      "cell_type": "code",
      "execution_count": 167,
      "metadata": {
        "vscode": {
          "languageId": "shellscript"
        }
      },
      "outputs": [],
      "source": [
        "# 删除 p 值高于 0.05 的列\n",
        "threshold = 0.2\n",
        "\n",
        "p_values_df = pd.DataFrame(list(p_values.items()), columns=['Feature', 'P-Value'])\n",
        "p_values_sorted_df = p_values_df.sort_values(by='P-Value', ascending=True)\n",
        "p_values_sorted_df.to_excel('p_values_sorted.xlsx')\n",
        "\n",
        "p_values_ttest_df = p_values_df[p_values_df['P-Value'] < threshold]\n",
        "p_values_ttest_sorted_df = p_values_ttest_df.sort_values(by='P-Value', ascending=True)\n",
        "p_values_ttest_sorted_df.to_excel('p_values_sorted.xlsx')\n",
        "\n",
        "columns_to_keep = [column for column, p_value in p_values.items() if p_value <= threshold]\n",
        "X_ttest = X[columns_to_keep]\n",
        "\n",
        "sorted_features = p_values_ttest_sorted_df['Feature']\n",
        "X_ttest_sorted = X_ttest[sorted_features]\n",
        "\n",
        "data_ttest_sorted_df = pd.concat([y, X_ttest_sorted], axis=1)\n",
        "data_ttest_sorted_df.to_excel('data_filtered_sorted_df.xlsx')"
      ]
    },
    {
      "cell_type": "markdown",
      "metadata": {
        "vscode": {
          "languageId": "shellscript"
        }
      },
      "source": [
        "### 4.3 corr"
      ]
    },
    {
      "cell_type": "code",
      "execution_count": 168,
      "metadata": {
        "vscode": {
          "languageId": "shellscript"
        }
      },
      "outputs": [],
      "source": [
        "# 计算相关性矩阵\n",
        "correlation_matrix = X_ttest_sorted.corr()\n",
        "\n",
        "# 设置相关性阈值\n",
        "correlation_threshold = 0.3\n",
        "\n",
        "# 找到相关性高的列对\n",
        "high_correlation_pairs = set()\n",
        "for column in correlation_matrix.columns:\n",
        "    for index in correlation_matrix.index:\n",
        "        if column != index and abs(correlation_matrix.loc[index, column]) > correlation_threshold:\n",
        "            high_correlation_pairs.add((index, column))\n",
        "\n",
        "# 找到需要删除的列\n",
        "columns_to_drop = set()\n",
        "for col1, col2 in high_correlation_pairs:\n",
        "    # 选择一个列名加入删除列表，这里选择 col2\n",
        "    if p_values[col1] > p_values[col2]:\n",
        "        columns_to_drop.add(col1)\n",
        "    else:\n",
        "        columns_to_drop.add(col2)\n",
        "\n",
        "# 删除相关性高的列\n",
        "X_ttest_corr_sorted= X_ttest_sorted.drop(columns=columns_to_drop)\n",
        "\n",
        "data_ttest_corr_sorted_df = pd.concat([y, X_ttest_corr_sorted], axis=1)\n",
        "# # data_ttest_corr_sorted_df.to_excel('data_ttest_corr_sorted_df.xlsx')\n",
        "# # 打印删除列后的 DataFrame\n",
        "# print(\"DataFrame after dropping highly correlated columns:\")\n",
        "# print(X_ttest_corr_sorted.head())"
      ]
    },
    {
      "cell_type": "markdown",
      "metadata": {},
      "source": [
        "### 4.4: variance threshold"
      ]
    },
    {
      "cell_type": "code",
      "execution_count": null,
      "metadata": {
        "vscode": {
          "languageId": "shellscript"
        }
      },
      "outputs": [],
      "source": [
        "from sklearn.feature_selection import VarianceThreshold\n",
        "# 设置方差阈值\n",
        "variance_threshold = 0.5  # 你可以根据需要调整这个阈值\n",
        "\n",
        "# 使用 VarianceThreshold 进行特征选择\n",
        "selector = VarianceThreshold(threshold=variance_threshold)\n",
        "X_ttest_corr_var = selector.fit_transform(X_ttest_corr_sorted)\n",
        "\n",
        "# 获取保留的列名\n",
        "columns_to_keep = X_ttest_corr_sorted.columns[selector.get_support(indices=True)]\n",
        "\n",
        "# 创建新的 DataFrame，保留方差高的列\n",
        "X_ttest_corr_var_sorted = pd.DataFrame(X_ttest_corr_var, columns=columns_to_keep)\n",
        "\n",
        "# 打印删除列后的 DataFrame\n",
        "print(\"DataFrame after dropping low variance columns:\")\n",
        "print(X_ttest_corr_var_sorted.head())"
      ]
    },
    {
      "cell_type": "code",
      "execution_count": 170,
      "metadata": {
        "vscode": {
          "languageId": "shellscript"
        }
      },
      "outputs": [],
      "source": [
        "X_ttest_corr_var_sorted['PreviousCancer'] =data['PreviousCancer']\n",
        "# X_ttest_corr_var_sorted['Age'] =data['Age']\n",
        "# X_ttest_corr_var_sorted = X_ttest_corr_var_sorted.drop(columns=['Age'])\n",
        "X_ttest_corr_var_sorted['PreBioPSA'] = data['PreBioPSA']\n",
        "X_ttest_corr_var_sorted['FamilyHistoryPrCa'] = data['FamilyHistoryPrCa']\n",
        "# X_ttest_corr_var_sorted['AbnormDRE'] = data['AbnormDRE']\n"
      ]
    },
    {
      "cell_type": "code",
      "execution_count": 299,
      "metadata": {
        "vscode": {
          "languageId": "shellscript"
        }
      },
      "outputs": [],
      "source": [
        "X_ttest_corr_var_sorted = X_ttest_corr_var_sorted.drop(columns=['Age'])\n"
      ]
    },
    {
      "cell_type": "code",
      "execution_count": 263,
      "metadata": {
        "vscode": {
          "languageId": "shellscript"
        }
      },
      "outputs": [],
      "source": [
        "X_ttest_corr_var_sorted['PreviousCancer'] = data['PreviousCancer']"
      ]
    },
    {
      "cell_type": "code",
      "execution_count": 309,
      "metadata": {
        "vscode": {
          "languageId": "shellscript"
        }
      },
      "outputs": [],
      "source": [
        "X_train, X_test, y_train, y_test = sklearn.model_selection.train_test_split(\n",
        "    X_ttest_corr_var_sorted,\n",
        "    y,\n",
        "    random_state=0,\n",
        "    stratify=y,\n",
        ")"
      ]
    },
    {
      "cell_type": "code",
      "execution_count": 3,
      "metadata": {
        "vscode": {
          "languageId": "shellscript"
        }
      },
      "outputs": [],
      "source": [
        "from autosklearn.classification import AutoSklearnClassifier\n",
        "from autosklearn.experimental.askl2 import AutoSklearn2Classifier\n",
        "from autosklearn.metrics import roc_auc\n",
        "\n",
        "# Edit the settings to try in both AutoSklearn1 and AutoSklearn2\n",
        "# Possibilities https://automl.github.io/auto-sklearn/master/api.html\n",
        "\n",
        "#------------------------- edit code here\n",
        "settings = {\n",
        "  \"time_left_for_this_task\": 120,  # seconds\n",
        "  \"per_run_time_limit\": 15,  # seconds\n",
        "  \"seed\": 0,\n",
        "  \"metric\": roc_auc,\n",
        "  \"memory_limit\": 16384,\n",
        "  \"n_jobs\": 8,\n",
        "}\n",
        "\n",
        "# This will only be used by autosklearn 1 while autosklearn 2 will automatically\n",
        "# select a strategy\n",
        "resampling_strategy = \"holdout\""
      ]
    },
    {
      "cell_type": "code",
      "execution_count": 4,
      "metadata": {
        "vscode": {
          "languageId": "shellscript"
        }
      },
      "outputs": [
        {
          "ename": "NameError",
          "evalue": "name 'X_train' is not defined",
          "output_type": "error",
          "traceback": [
            "\u001b[0;31m---------------------------------------------------------------------------\u001b[0m",
            "\u001b[0;31mNameError\u001b[0m                                 Traceback (most recent call last)",
            "Cell \u001b[0;32mIn[4], line 3\u001b[0m\n\u001b[1;32m      1\u001b[0m \u001b[38;5;66;03m# Create and train AutoSklearn2.0 \u001b[39;00m\n\u001b[1;32m      2\u001b[0m askl2 \u001b[38;5;241m=\u001b[39m AutoSklearn2Classifier(\u001b[38;5;241m*\u001b[39m\u001b[38;5;241m*\u001b[39msettings)\n\u001b[0;32m----> 3\u001b[0m askl2\u001b[38;5;241m.\u001b[39mfit(\u001b[43mX_train\u001b[49m, y_train, dataset_name\u001b[38;5;241m=\u001b[39m\u001b[38;5;124m\"\u001b[39m\u001b[38;5;124mprostate-sp\u001b[39m\u001b[38;5;124m\"\u001b[39m)\n",
            "\u001b[0;31mNameError\u001b[0m: name 'X_train' is not defined"
          ]
        }
      ],
      "source": [
        "# Create and train AutoSklearn2.0 \n",
        "askl2 = AutoSklearn2Classifier(**settings)\n",
        "askl2.fit(X_train, y_train, dataset_name=\"prostate-sp\")"
      ]
    },
    {
      "cell_type": "code",
      "execution_count": 312,
      "metadata": {
        "vscode": {
          "languageId": "shellscript"
        }
      },
      "outputs": [
        {
          "name": "stdout",
          "output_type": "stream",
          "text": [
            "askl2 performance is 0.7701875239188671\n"
          ]
        }
      ],
      "source": [
        "prediction = askl2.predict_proba(X_test)\n",
        "performance = roc_auc_score(y_test, prediction[:, 1])\n",
        "print(f\"askl2 performance is {performance}\")"
      ]
    },
    {
      "cell_type": "code",
      "execution_count": null,
      "metadata": {
        "vscode": {
          "languageId": "shellscript"
        }
      },
      "outputs": [],
      "source": [
        "# Print statistics about the auto-sklearn run such as number of\n",
        "# iterations, number of models failed with a time out.\n",
        "print(askl2.sprint_statistics())"
      ]
    },
    {
      "cell_type": "code",
      "execution_count": null,
      "metadata": {
        "vscode": {
          "languageId": "shellscript"
        }
      },
      "outputs": [],
      "source": [
        "# Print the final ensemble constructed by auto-sklearn via random search.\n",
        "from pprint import pprint\n",
        "pprint(askl2.show_models(), indent=4)"
      ]
    },
    {
      "cell_type": "markdown",
      "metadata": {},
      "source": [
        "# 5. optimization parameters"
      ]
    },
    {
      "cell_type": "code",
      "execution_count": 73,
      "metadata": {
        "vscode": {
          "languageId": "shellscript"
        }
      },
      "outputs": [],
      "source": [
        "import numpy as np\n",
        "ttest_thresholds = np.arange(0.05, 0.2, 0.05)\n",
        "correlation_thresholds = np.arange(0.3, 0.9, 0.1)\n",
        "variance_thresholds = np.arange(0.1, 0.9, 0.1)"
      ]
    },
    {
      "cell_type": "code",
      "execution_count": null,
      "metadata": {
        "vscode": {
          "languageId": "shellscript"
        }
      },
      "outputs": [],
      "source": [
        "# 初始化结果列表\n",
        "results = []\n",
        "\n",
        "for ttest_threshold in ttest_thresholds:\n",
        "    for correlation_threshold in correlation_thresholds:\n",
        "        for variance_threshold in variance_thresholds:\n",
        "            \n",
        "            # 特征选择\n",
        "\n",
        "            # t 检验\n",
        "            # p_values_df = pd.DataFrame(list(p_values.items()), columns=['Feature', 'P-Value'])\n",
        "            # p_values_sorted_df = p_values_df.sort_values(by='P-Value', ascending=True)\n",
        "            # # p_values_sorted_df.to_excel('p_values_sorted.xlsx')\n",
        "\n",
        "            p_values_ttest_df = p_values_df[p_values_df['P-Value'] < ttest_threshold]\n",
        "            p_values_ttest_sorted_df = p_values_ttest_df.sort_values(by='P-Value', ascending=True)\n",
        "            # p_values_ttest_sorted_df.to_excel('p_values_sorted.xlsx')\n",
        "\n",
        "            columns_to_keep = [column for column, p_value in p_values.items() if p_value <= ttest_threshold]\n",
        "            X_ttest = X[columns_to_keep]\n",
        "\n",
        "            sorted_features = p_values_ttest_sorted_df['Feature']\n",
        "            X_ttest_sorted = X_ttest[sorted_features]\n",
        "\n",
        "            # data_ttest_sorted_df = pd.concat([y, X_ttest_sorted], axis=1)\n",
        "\n",
        "\n",
        "            # 计算相关性矩阵\n",
        "            correlation_matrix = X_ttest_sorted.corr()\n",
        "            # 设置相关性阈值\n",
        "            # correlation_threshold = 0.7\n",
        "            # 找到相关性高的列对\n",
        "            high_correlation_pairs = set()\n",
        "            for column in correlation_matrix.columns:\n",
        "                for index in correlation_matrix.index:\n",
        "                    if column != index and abs(correlation_matrix.loc[index, column]) > correlation_threshold:\n",
        "                        high_correlation_pairs.add((index, column))\n",
        "\n",
        "            # 找到需要删除的列\n",
        "            columns_to_drop = set()\n",
        "            for col1, col2 in high_correlation_pairs:\n",
        "                # 选择一个列名加入删除列表，这里选择 col2\n",
        "                if p_values[col1] > p_values[col2]:\n",
        "                    columns_to_drop.add(col1)\n",
        "                else:\n",
        "                    columns_to_drop.add(col2)\n",
        "\n",
        "            # 删除相关性高的列\n",
        "            X_ttest_corr_sorted= X_ttest_sorted.drop(columns=columns_to_drop)\n",
        "\n",
        "            # data_ttest_corr_sorted_df = pd.concat([y, X_ttest_corr_sorted], axis=1)\n",
        "\n",
        "\n",
        "            # 使用 VarianceThreshold 进行特征选择\n",
        "            # 设置方差阈值\n",
        "            # variance_threshold = 0.5  # 你可以根据需要调整这个阈值\n",
        "\n",
        "            # 使用 VarianceThreshold 进行特征选择\n",
        "            selector = VarianceThreshold(threshold=variance_threshold)\n",
        "            X_ttest_corr_var = selector.fit_transform(X_ttest_corr_sorted)\n",
        "\n",
        "            # 获取保留的列名\n",
        "            columns_to_keep = X_ttest_corr_sorted.columns[selector.get_support(indices=True)]\n",
        "\n",
        "            # 创建新的 DataFrame，保留方差高的列\n",
        "            X_ttest_corr_var_sorted = pd.DataFrame(X_ttest_corr_var, columns=columns_to_keep)\n",
        "\n",
        "            X_train, X_test, y_train, y_test = sklearn.model_selection.train_test_split(\n",
        "                X_ttest_corr_var_sorted,\n",
        "                y,\n",
        "                random_state=0,\n",
        "                stratify=y,\n",
        "                )\n",
        "\n",
        "\n",
        "            # 训练 AutoSklearn2Classifier\n",
        "            askl2 = AutoSklearn2Classifier(**settings)\n",
        "            askl2.fit(X_train, y_train, dataset_name=\"prostate-sp\")\n",
        "            \n",
        "            # 预测和评估\n",
        "            prediction = askl2.predict_proba(X_test)\n",
        "            performance = roc_auc_score(y_test, prediction[:, 1])\n",
        "            \n",
        "            # 保存结果\n",
        "            results.append({\n",
        "                'ttest_threshold': ttest_threshold,\n",
        "                'correlation_threshold': correlation_threshold,\n",
        "                'variance_threshold': variance_threshold,\n",
        "                'accuracy': performance\n",
        "            })"
      ]
    },
    {
      "cell_type": "code",
      "execution_count": 82,
      "metadata": {
        "vscode": {
          "languageId": "shellscript"
        }
      },
      "outputs": [],
      "source": [
        "results_df = pd.DataFrame(results)\n",
        "best_result = results_df.loc[results_df['accuracy'].idxmax()]\n"
      ]
    },
    {
      "cell_type": "markdown",
      "metadata": {},
      "source": [
        "# 6. clinical features optimization"
      ]
    },
    {
      "cell_type": "code",
      "execution_count": 279,
      "metadata": {
        "vscode": {
          "languageId": "shellscript"
        }
      },
      "outputs": [
        {
          "name": "stderr",
          "output_type": "stream",
          "text": [
            "/home/peng/opt/anaconda3/envs/autosl/lib/python3.9/site-packages/autosklearn/experimental/selector.py:26: FutureWarning: iteritems is deprecated and will be removed in a future version. Use .items instead.\n",
            "  for col, series in prediction.iteritems():\n"
          ]
        },
        {
          "name": "stdout",
          "output_type": "stream",
          "text": [
            "[WARNING] [2024-11-06 20:20:19,089:Client-EnsembleBuilder] No runs were available to build an ensemble from\n"
          ]
        },
        {
          "name": "stderr",
          "output_type": "stream",
          "text": [
            "/home/peng/opt/anaconda3/envs/autosl/lib/python3.9/site-packages/autosklearn/experimental/selector.py:26: FutureWarning: iteritems is deprecated and will be removed in a future version. Use .items instead.\n",
            "  for col, series in prediction.iteritems():\n"
          ]
        },
        {
          "name": "stdout",
          "output_type": "stream",
          "text": [
            "[WARNING] [2024-11-06 20:22:13,354:Client-EnsembleBuilder] No runs were available to build an ensemble from\n",
            "[WARNING] [2024-11-06 20:22:13,439:Client-EnsembleBuilder] No runs were available to build an ensemble from\n"
          ]
        },
        {
          "name": "stderr",
          "output_type": "stream",
          "text": [
            "/home/peng/opt/anaconda3/envs/autosl/lib/python3.9/site-packages/autosklearn/experimental/selector.py:26: FutureWarning: iteritems is deprecated and will be removed in a future version. Use .items instead.\n",
            "  for col, series in prediction.iteritems():\n"
          ]
        },
        {
          "name": "stdout",
          "output_type": "stream",
          "text": [
            "[WARNING] [2024-11-06 20:24:07,726:Client-EnsembleBuilder] No runs were available to build an ensemble from\n"
          ]
        },
        {
          "name": "stderr",
          "output_type": "stream",
          "text": [
            "/home/peng/opt/anaconda3/envs/autosl/lib/python3.9/site-packages/autosklearn/experimental/selector.py:26: FutureWarning: iteritems is deprecated and will be removed in a future version. Use .items instead.\n",
            "  for col, series in prediction.iteritems():\n"
          ]
        },
        {
          "name": "stdout",
          "output_type": "stream",
          "text": [
            "[WARNING] [2024-11-06 20:26:02,728:Client-EnsembleBuilder] No runs were available to build an ensemble from\n"
          ]
        },
        {
          "name": "stderr",
          "output_type": "stream",
          "text": [
            "/home/peng/opt/anaconda3/envs/autosl/lib/python3.9/site-packages/autosklearn/experimental/selector.py:26: FutureWarning: iteritems is deprecated and will be removed in a future version. Use .items instead.\n",
            "  for col, series in prediction.iteritems():\n"
          ]
        },
        {
          "name": "stdout",
          "output_type": "stream",
          "text": [
            "[WARNING] [2024-11-06 20:27:56,287:Client-EnsembleBuilder] No runs were available to build an ensemble from\n"
          ]
        },
        {
          "name": "stderr",
          "output_type": "stream",
          "text": [
            "/home/peng/opt/anaconda3/envs/autosl/lib/python3.9/site-packages/autosklearn/experimental/selector.py:26: FutureWarning: iteritems is deprecated and will be removed in a future version. Use .items instead.\n",
            "  for col, series in prediction.iteritems():\n"
          ]
        },
        {
          "name": "stdout",
          "output_type": "stream",
          "text": [
            "[WARNING] [2024-11-06 20:29:51,051:Client-EnsembleBuilder] No runs were available to build an ensemble from\n"
          ]
        },
        {
          "name": "stderr",
          "output_type": "stream",
          "text": [
            "/home/peng/opt/anaconda3/envs/autosl/lib/python3.9/site-packages/autosklearn/experimental/selector.py:26: FutureWarning: iteritems is deprecated and will be removed in a future version. Use .items instead.\n",
            "  for col, series in prediction.iteritems():\n"
          ]
        },
        {
          "name": "stdout",
          "output_type": "stream",
          "text": [
            "[WARNING] [2024-11-06 20:31:44,587:Client-EnsembleBuilder] No runs were available to build an ensemble from\n",
            "[WARNING] [2024-11-06 20:31:44,639:Client-EnsembleBuilder] No runs were available to build an ensemble from\n"
          ]
        },
        {
          "name": "stderr",
          "output_type": "stream",
          "text": [
            "/home/peng/opt/anaconda3/envs/autosl/lib/python3.9/site-packages/autosklearn/experimental/selector.py:26: FutureWarning: iteritems is deprecated and will be removed in a future version. Use .items instead.\n",
            "  for col, series in prediction.iteritems():\n"
          ]
        },
        {
          "name": "stdout",
          "output_type": "stream",
          "text": [
            "[WARNING] [2024-11-06 20:33:38,617:Client-EnsembleBuilder] No runs were available to build an ensemble from\n"
          ]
        },
        {
          "name": "stderr",
          "output_type": "stream",
          "text": [
            "/home/peng/opt/anaconda3/envs/autosl/lib/python3.9/site-packages/autosklearn/experimental/selector.py:26: FutureWarning: iteritems is deprecated and will be removed in a future version. Use .items instead.\n",
            "  for col, series in prediction.iteritems():\n",
            "/home/peng/opt/anaconda3/envs/autosl/lib/python3.9/site-packages/autosklearn/experimental/selector.py:26: FutureWarning: iteritems is deprecated and will be removed in a future version. Use .items instead.\n",
            "  for col, series in prediction.iteritems():\n"
          ]
        },
        {
          "name": "stdout",
          "output_type": "stream",
          "text": [
            "[WARNING] [2024-11-06 20:37:27,434:Client-EnsembleBuilder] No runs were available to build an ensemble from\n",
            "[WARNING] [2024-11-06 20:37:27,517:Client-EnsembleBuilder] No runs were available to build an ensemble from\n"
          ]
        },
        {
          "name": "stderr",
          "output_type": "stream",
          "text": [
            "/home/peng/opt/anaconda3/envs/autosl/lib/python3.9/site-packages/autosklearn/experimental/selector.py:26: FutureWarning: iteritems is deprecated and will be removed in a future version. Use .items instead.\n",
            "  for col, series in prediction.iteritems():\n"
          ]
        },
        {
          "name": "stdout",
          "output_type": "stream",
          "text": [
            "[WARNING] [2024-11-06 20:39:21,426:Client-EnsembleBuilder] No runs were available to build an ensemble from\n",
            "[WARNING] [2024-11-06 20:39:21,514:Client-EnsembleBuilder] No runs were available to build an ensemble from\n"
          ]
        },
        {
          "name": "stderr",
          "output_type": "stream",
          "text": [
            "/home/peng/opt/anaconda3/envs/autosl/lib/python3.9/site-packages/autosklearn/experimental/selector.py:26: FutureWarning: iteritems is deprecated and will be removed in a future version. Use .items instead.\n",
            "  for col, series in prediction.iteritems():\n"
          ]
        },
        {
          "name": "stdout",
          "output_type": "stream",
          "text": [
            "[WARNING] [2024-11-06 20:41:15,927:Client-EnsembleBuilder] No runs were available to build an ensemble from\n"
          ]
        },
        {
          "name": "stderr",
          "output_type": "stream",
          "text": [
            "/home/peng/opt/anaconda3/envs/autosl/lib/python3.9/site-packages/autosklearn/experimental/selector.py:26: FutureWarning: iteritems is deprecated and will be removed in a future version. Use .items instead.\n",
            "  for col, series in prediction.iteritems():\n"
          ]
        },
        {
          "name": "stdout",
          "output_type": "stream",
          "text": [
            "[WARNING] [2024-11-06 20:43:10,920:Client-EnsembleBuilder] No runs were available to build an ensemble from\n",
            "[WARNING] [2024-11-06 20:43:10,999:Client-EnsembleBuilder] No runs were available to build an ensemble from\n"
          ]
        },
        {
          "name": "stderr",
          "output_type": "stream",
          "text": [
            "/home/peng/opt/anaconda3/envs/autosl/lib/python3.9/site-packages/autosklearn/experimental/selector.py:26: FutureWarning: iteritems is deprecated and will be removed in a future version. Use .items instead.\n",
            "  for col, series in prediction.iteritems():\n"
          ]
        },
        {
          "name": "stdout",
          "output_type": "stream",
          "text": [
            "[WARNING] [2024-11-06 20:45:05,263:Client-EnsembleBuilder] No runs were available to build an ensemble from\n",
            "[WARNING] [2024-11-06 20:45:05,312:Client-EnsembleBuilder] No runs were available to build an ensemble from\n"
          ]
        },
        {
          "name": "stderr",
          "output_type": "stream",
          "text": [
            "/home/peng/opt/anaconda3/envs/autosl/lib/python3.9/site-packages/autosklearn/experimental/selector.py:26: FutureWarning: iteritems is deprecated and will be removed in a future version. Use .items instead.\n",
            "  for col, series in prediction.iteritems():\n"
          ]
        },
        {
          "name": "stdout",
          "output_type": "stream",
          "text": [
            "[WARNING] [2024-11-06 20:46:59,803:Client-EnsembleBuilder] No runs were available to build an ensemble from\n",
            "[WARNING] [2024-11-06 20:46:59,867:Client-EnsembleBuilder] No runs were available to build an ensemble from\n"
          ]
        },
        {
          "name": "stderr",
          "output_type": "stream",
          "text": [
            "/home/peng/opt/anaconda3/envs/autosl/lib/python3.9/site-packages/autosklearn/experimental/selector.py:26: FutureWarning: iteritems is deprecated and will be removed in a future version. Use .items instead.\n",
            "  for col, series in prediction.iteritems():\n"
          ]
        },
        {
          "name": "stdout",
          "output_type": "stream",
          "text": [
            "[WARNING] [2024-11-06 20:48:54,161:Client-EnsembleBuilder] No runs were available to build an ensemble from\n",
            "[WARNING] [2024-11-06 20:48:54,253:Client-EnsembleBuilder] No runs were available to build an ensemble from\n"
          ]
        },
        {
          "name": "stderr",
          "output_type": "stream",
          "text": [
            "/home/peng/opt/anaconda3/envs/autosl/lib/python3.9/site-packages/autosklearn/experimental/selector.py:26: FutureWarning: iteritems is deprecated and will be removed in a future version. Use .items instead.\n",
            "  for col, series in prediction.iteritems():\n"
          ]
        },
        {
          "name": "stdout",
          "output_type": "stream",
          "text": [
            "[WARNING] [2024-11-06 20:50:47,743:Client-EnsembleBuilder] No runs were available to build an ensemble from\n"
          ]
        },
        {
          "name": "stderr",
          "output_type": "stream",
          "text": [
            "/home/peng/opt/anaconda3/envs/autosl/lib/python3.9/site-packages/autosklearn/experimental/selector.py:26: FutureWarning: iteritems is deprecated and will be removed in a future version. Use .items instead.\n",
            "  for col, series in prediction.iteritems():\n"
          ]
        },
        {
          "name": "stdout",
          "output_type": "stream",
          "text": [
            "[WARNING] [2024-11-06 20:52:47,469:Client-EnsembleBuilder] No runs were available to build an ensemble from\n"
          ]
        },
        {
          "name": "stderr",
          "output_type": "stream",
          "text": [
            "/home/peng/opt/anaconda3/envs/autosl/lib/python3.9/site-packages/autosklearn/experimental/selector.py:26: FutureWarning: iteritems is deprecated and will be removed in a future version. Use .items instead.\n",
            "  for col, series in prediction.iteritems():\n"
          ]
        },
        {
          "name": "stdout",
          "output_type": "stream",
          "text": [
            "[WARNING] [2024-11-06 20:54:42,167:Client-EnsembleBuilder] No runs were available to build an ensemble from\n"
          ]
        },
        {
          "name": "stderr",
          "output_type": "stream",
          "text": [
            "/home/peng/opt/anaconda3/envs/autosl/lib/python3.9/site-packages/autosklearn/experimental/selector.py:26: FutureWarning: iteritems is deprecated and will be removed in a future version. Use .items instead.\n",
            "  for col, series in prediction.iteritems():\n"
          ]
        },
        {
          "name": "stdout",
          "output_type": "stream",
          "text": [
            "[WARNING] [2024-11-06 20:56:36,469:Client-EnsembleBuilder] No runs were available to build an ensemble from\n"
          ]
        },
        {
          "name": "stderr",
          "output_type": "stream",
          "text": [
            "/home/peng/opt/anaconda3/envs/autosl/lib/python3.9/site-packages/autosklearn/experimental/selector.py:26: FutureWarning: iteritems is deprecated and will be removed in a future version. Use .items instead.\n",
            "  for col, series in prediction.iteritems():\n"
          ]
        },
        {
          "name": "stdout",
          "output_type": "stream",
          "text": [
            "[WARNING] [2024-11-06 20:58:32,347:Client-EnsembleBuilder] No runs were available to build an ensemble from\n",
            "[WARNING] [2024-11-06 20:58:32,418:Client-EnsembleBuilder] No runs were available to build an ensemble from\n"
          ]
        },
        {
          "name": "stderr",
          "output_type": "stream",
          "text": [
            "/home/peng/opt/anaconda3/envs/autosl/lib/python3.9/site-packages/autosklearn/experimental/selector.py:26: FutureWarning: iteritems is deprecated and will be removed in a future version. Use .items instead.\n",
            "  for col, series in prediction.iteritems():\n"
          ]
        },
        {
          "name": "stdout",
          "output_type": "stream",
          "text": [
            "[WARNING] [2024-11-06 21:00:25,786:Client-EnsembleBuilder] No runs were available to build an ensemble from\n"
          ]
        },
        {
          "name": "stderr",
          "output_type": "stream",
          "text": [
            "/home/peng/opt/anaconda3/envs/autosl/lib/python3.9/site-packages/autosklearn/experimental/selector.py:26: FutureWarning: iteritems is deprecated and will be removed in a future version. Use .items instead.\n",
            "  for col, series in prediction.iteritems():\n"
          ]
        },
        {
          "name": "stdout",
          "output_type": "stream",
          "text": [
            "[WARNING] [2024-11-06 21:02:20,460:Client-EnsembleBuilder] No runs were available to build an ensemble from\n",
            "[WARNING] [2024-11-06 21:02:20,542:Client-EnsembleBuilder] No runs were available to build an ensemble from\n"
          ]
        },
        {
          "name": "stderr",
          "output_type": "stream",
          "text": [
            "/home/peng/opt/anaconda3/envs/autosl/lib/python3.9/site-packages/autosklearn/experimental/selector.py:26: FutureWarning: iteritems is deprecated and will be removed in a future version. Use .items instead.\n",
            "  for col, series in prediction.iteritems():\n"
          ]
        },
        {
          "name": "stdout",
          "output_type": "stream",
          "text": [
            "[WARNING] [2024-11-06 21:04:15,071:Client-EnsembleBuilder] No runs were available to build an ensemble from\n"
          ]
        },
        {
          "name": "stderr",
          "output_type": "stream",
          "text": [
            "/home/peng/opt/anaconda3/envs/autosl/lib/python3.9/site-packages/autosklearn/experimental/selector.py:26: FutureWarning: iteritems is deprecated and will be removed in a future version. Use .items instead.\n",
            "  for col, series in prediction.iteritems():\n"
          ]
        },
        {
          "name": "stdout",
          "output_type": "stream",
          "text": [
            "[WARNING] [2024-11-06 21:06:09,530:Client-EnsembleBuilder] No runs were available to build an ensemble from\n"
          ]
        },
        {
          "name": "stderr",
          "output_type": "stream",
          "text": [
            "/home/peng/opt/anaconda3/envs/autosl/lib/python3.9/site-packages/autosklearn/experimental/selector.py:26: FutureWarning: iteritems is deprecated and will be removed in a future version. Use .items instead.\n",
            "  for col, series in prediction.iteritems():\n"
          ]
        },
        {
          "name": "stdout",
          "output_type": "stream",
          "text": [
            "[WARNING] [2024-11-06 21:08:03,157:Client-EnsembleBuilder] No runs were available to build an ensemble from\n"
          ]
        },
        {
          "name": "stderr",
          "output_type": "stream",
          "text": [
            "/home/peng/opt/anaconda3/envs/autosl/lib/python3.9/site-packages/autosklearn/experimental/selector.py:26: FutureWarning: iteritems is deprecated and will be removed in a future version. Use .items instead.\n",
            "  for col, series in prediction.iteritems():\n"
          ]
        },
        {
          "name": "stdout",
          "output_type": "stream",
          "text": [
            "[WARNING] [2024-11-06 21:09:56,774:Client-EnsembleBuilder] No runs were available to build an ensemble from\n"
          ]
        },
        {
          "name": "stderr",
          "output_type": "stream",
          "text": [
            "/home/peng/opt/anaconda3/envs/autosl/lib/python3.9/site-packages/autosklearn/experimental/selector.py:26: FutureWarning: iteritems is deprecated and will be removed in a future version. Use .items instead.\n",
            "  for col, series in prediction.iteritems():\n"
          ]
        },
        {
          "name": "stdout",
          "output_type": "stream",
          "text": [
            "[WARNING] [2024-11-06 21:11:50,799:Client-EnsembleBuilder] No runs were available to build an ensemble from\n"
          ]
        },
        {
          "name": "stderr",
          "output_type": "stream",
          "text": [
            "/home/peng/opt/anaconda3/envs/autosl/lib/python3.9/site-packages/autosklearn/experimental/selector.py:26: FutureWarning: iteritems is deprecated and will be removed in a future version. Use .items instead.\n",
            "  for col, series in prediction.iteritems():\n"
          ]
        },
        {
          "name": "stdout",
          "output_type": "stream",
          "text": [
            "[WARNING] [2024-11-06 21:13:48,844:Client-EnsembleBuilder] No runs were available to build an ensemble from\n",
            "[WARNING] [2024-11-06 21:13:48,916:Client-EnsembleBuilder] No runs were available to build an ensemble from\n"
          ]
        },
        {
          "name": "stderr",
          "output_type": "stream",
          "text": [
            "/home/peng/opt/anaconda3/envs/autosl/lib/python3.9/site-packages/autosklearn/experimental/selector.py:26: FutureWarning: iteritems is deprecated and will be removed in a future version. Use .items instead.\n",
            "  for col, series in prediction.iteritems():\n"
          ]
        },
        {
          "name": "stdout",
          "output_type": "stream",
          "text": [
            "[WARNING] [2024-11-06 21:15:43,749:Client-EnsembleBuilder] No runs were available to build an ensemble from\n",
            "[WARNING] [2024-11-06 21:15:43,836:Client-EnsembleBuilder] No runs were available to build an ensemble from\n"
          ]
        },
        {
          "name": "stderr",
          "output_type": "stream",
          "text": [
            "/home/peng/opt/anaconda3/envs/autosl/lib/python3.9/site-packages/autosklearn/experimental/selector.py:26: FutureWarning: iteritems is deprecated and will be removed in a future version. Use .items instead.\n",
            "  for col, series in prediction.iteritems():\n"
          ]
        },
        {
          "name": "stdout",
          "output_type": "stream",
          "text": [
            "[WARNING] [2024-11-06 21:17:38,876:Client-EnsembleBuilder] No runs were available to build an ensemble from\n",
            "[WARNING] [2024-11-06 21:17:38,958:Client-EnsembleBuilder] No runs were available to build an ensemble from\n",
            "Results:\n",
            "                                          combination  performance\n",
            "0                                   (PreviousCancer,)     0.733448\n",
            "1                                        (PreBioPSA,)     0.740719\n",
            "2                                (FamilyHistoryPrCa,)     0.707042\n",
            "3                                        (AbnormDRE,)     0.712400\n",
            "4                                              (Age,)     0.728856\n",
            "5                         (PreviousCancer, PreBioPSA)     0.751052\n",
            "6                 (PreviousCancer, FamilyHistoryPrCa)     0.703406\n",
            "7                         (PreviousCancer, AbnormDRE)     0.724646\n",
            "8                               (PreviousCancer, Age)     0.730769\n",
            "9                      (PreBioPSA, FamilyHistoryPrCa)     0.736318\n",
            "10                             (PreBioPSA, AbnormDRE)     0.744546\n",
            "11                                   (PreBioPSA, Age)     0.769805\n",
            "12                     (FamilyHistoryPrCa, AbnormDRE)     0.694604\n",
            "13                           (FamilyHistoryPrCa, Age)     0.723881\n",
            "14                                   (AbnormDRE, Age)     0.754497\n",
            "15     (PreviousCancer, PreBioPSA, FamilyHistoryPrCa)     0.736701\n",
            "16             (PreviousCancer, PreBioPSA, AbnormDRE)     0.731726\n",
            "17                   (PreviousCancer, PreBioPSA, Age)     0.741485\n",
            "18     (PreviousCancer, FamilyHistoryPrCa, AbnormDRE)     0.727708\n",
            "19           (PreviousCancer, FamilyHistoryPrCa, Age)     0.705320\n",
            "20                   (PreviousCancer, AbnormDRE, Age)     0.715844\n",
            "21          (PreBioPSA, FamilyHistoryPrCa, AbnormDRE)     0.737849\n",
            "22                (PreBioPSA, FamilyHistoryPrCa, Age)     0.746460\n",
            "23                        (PreBioPSA, AbnormDRE, Age)     0.731343\n",
            "24                (FamilyHistoryPrCa, AbnormDRE, Age)     0.699005\n",
            "25  (PreviousCancer, PreBioPSA, FamilyHistoryPrCa,...     0.737275\n",
            "26  (PreviousCancer, PreBioPSA, FamilyHistoryPrCa,...     0.750670\n",
            "27        (PreviousCancer, PreBioPSA, AbnormDRE, Age)     0.750478\n",
            "28  (PreviousCancer, FamilyHistoryPrCa, AbnormDRE,...     0.706659\n",
            "29     (PreBioPSA, FamilyHistoryPrCa, AbnormDRE, Age)     0.731343\n",
            "30  (PreviousCancer, PreBioPSA, FamilyHistoryPrCa,...     0.727899\n",
            "Best result:\n",
            "combination    (PreBioPSA, Age)\n",
            "performance            0.769805\n",
            "Name: 11, dtype: object\n"
          ]
        }
      ],
      "source": [
        "import itertools\n",
        "\n",
        "# 定义要尝试的列\n",
        "columns_to_try = ['PreviousCancer', 'PreBioPSA', 'FamilyHistoryPrCa', 'AbnormDRE','Age']  # 替换为实际的列名 columns_to_drop=['Diagnosis','PreviousCancer','Age','PreBioPSA','FamilyHistoryPrCa','AbnormDRE']\n",
        "# 初始化结果列表\n",
        "results_cf = []\n",
        "\n",
        "# 遍历所有列的组合\n",
        "for r in range(1, len(columns_to_try) + 1):\n",
        "    for combination in itertools.combinations(columns_to_try, r):\n",
        "        # 选择列组合\n",
        "        X=X_ttest_corr_var_sorted.iloc[:, 0:23]\n",
        "        X[list(combination)] = data[list(combination)]\n",
        "        # 分割数据集\n",
        "        X_train, X_test, y_train, y_test = sklearn.model_selection.train_test_split(\n",
        "            X,\n",
        "            y,\n",
        "            random_state=0,\n",
        "            stratify=y,\n",
        "        )\n",
        "        # 训练 AutoSklearn2Classifier\n",
        "        askl2 = AutoSklearn2Classifier()\n",
        "        # Create and train AutoSklearn2.0 \n",
        "        askl2 = AutoSklearn2Classifier(**settings)\n",
        "        askl2.fit(X_train, y_train, dataset_name=\"prostate-sp\")\n",
        "        # 预测和评估\n",
        "        prediction = askl2.predict_proba(X_test)\n",
        "        performance = roc_auc_score(y_test, prediction[:, 1])\n",
        "        \n",
        "        # 保存结果\n",
        "        results_cf.append({\n",
        "            'combination': combination,\n",
        "            'performance': performance\n",
        "        })\n",
        "\n",
        "# 转换结果为 DataFrame\n",
        "results_cf_df = pd.DataFrame(results_cf)\n",
        "\n",
        "# 找到表现最好的组合\n",
        "best_result_cf = results_cf_df.loc[results_cf_df['performance'].idxmax()]\n",
        "\n",
        "# 打印结果\n",
        "print(\"Results:\")\n",
        "print(results_cf_df)\n",
        "print(\"Best result:\")\n",
        "print(best_result_cf)"
      ]
    },
    {
      "cell_type": "markdown",
      "metadata": {
        "id": "Aep2oHsqT_ig"
      },
      "source": [
        "### 1d) Visualize Data (Optional) "
      ]
    },
    {
      "cell_type": "code",
      "execution_count": null,
      "metadata": {
        "id": "9TAcOxb3T_ih",
        "vscode": {
          "languageId": "shellscript"
        }
      },
      "outputs": [],
      "source": [
        "complete_df = pd.concat([y_train, X_train], axis=1)\n",
        "complete_df.describe(include='all')"
      ]
    },
    {
      "cell_type": "code",
      "execution_count": 43,
      "metadata": {
        "vscode": {
          "languageId": "shellscript"
        }
      },
      "outputs": [],
      "source": [
        "import seaborn as sns\n",
        "import matplotlib.pyplot as plt"
      ]
    },
    {
      "cell_type": "code",
      "execution_count": null,
      "metadata": {
        "vscode": {
          "languageId": "shellscript"
        }
      },
      "outputs": [],
      "source": [
        "\n",
        "# 设置绘图风格\n",
        "sns.set(style=\"whitegrid\")\n",
        "# 绘制点状图\n",
        "plt.figure(figsize=(8, 8))\n",
        "sns.violinplot(x='Diagnosis', y='2-hydroxysebacate', data=complete_df, palette='Set2')\n",
        "plt.title('Violin Plot of 2-hydroxysebacate by Diagnosis')\n",
        "plt.show()"
      ]
    },
    {
      "cell_type": "code",
      "execution_count": null,
      "metadata": {
        "vscode": {
          "languageId": "shellscript"
        }
      },
      "outputs": [],
      "source": []
    },
    {
      "cell_type": "markdown",
      "metadata": {},
      "source": [
        "# stats step 1: t-test"
      ]
    },
    {
      "cell_type": "code",
      "execution_count": null,
      "metadata": {
        "vscode": {
          "languageId": "shellscript"
        }
      },
      "outputs": [],
      "source": [
        "from scipy.stats import shapiro, normaltest, ttest_ind, mannwhitneyu\n",
        "\n",
        "# 对每一列进行正态性检验\n",
        "normality_results = {}\n",
        "\n",
        "for column in X.columns:\n",
        "    # 使用 Shapiro-Wilk 检验\n",
        "    stat, p_value = shapiro(X[column].dropna())\n",
        "    normality_results[column] = {'Shapiro-Wilk': {'statistic': stat, 'p_value': p_value}}\n",
        "    \n",
        "    # 使用 D'Agostino 和 Pearson 的正态性检验\n",
        "    stat, p_value = normaltest(X[column].dropna())\n",
        "    normality_results[column].update({'D\\'Agostino-Pearson': {'statistic': stat, 'p_value': p_value}})\n",
        "\n",
        "# 打印结果\n",
        "for column, results in normality_results.items():\n",
        "    print(f\"Column: {column}\")\n",
        "    for test, result in results.items():\n",
        "        print(f\"  {test} test: statistic={result['statistic']}, p_value={result['p_value']}\")\n",
        "    print()"
      ]
    },
    {
      "cell_type": "code",
      "execution_count": 28,
      "metadata": {
        "vscode": {
          "languageId": "shellscript"
        }
      },
      "outputs": [],
      "source": [
        "# 根据正态性检验结果选择检验方法\n",
        "test_results = {}\n",
        "p_values = {}\n",
        "for column in X.columns:\n",
        "    # 获取分组数据\n",
        "    group1 = X[column][y['Diagnosis'] == 0].dropna()\n",
        "    group2 = X[column][y['Diagnosis'] == 1].dropna()\n",
        "    \n",
        "    # 判断是否符合正态分布\n",
        "    if normality_results[column]['Shapiro-Wilk']['p_value'] > 0.05:\n",
        "        # 符合正态分布，使用 t 检验\n",
        "        stat, p_value = ttest_ind(group1, group2)\n",
        "        test_results[column] = {'Test': 't-test', 'statistic': stat, 'p_value': p_value}\n",
        "    else:\n",
        "        # 不符合正态分布，使用 Mann-Whitney U 检验\n",
        "        stat, p_value = mannwhitneyu(group1, group2)\n",
        "        test_results[column] = {'Test': 'Mann-Whitney U', 'statistic': stat, 'p_value': p_value}\n",
        "    \n",
        "    # 收集 p 值\n",
        "    p_values[column] = p_value"
      ]
    },
    {
      "cell_type": "code",
      "execution_count": 29,
      "metadata": {
        "vscode": {
          "languageId": "shellscript"
        }
      },
      "outputs": [],
      "source": [
        "p_values_df = pd.DataFrame(list(p_values.items()), columns=['Feature', 'P-Value'])\n"
      ]
    },
    {
      "cell_type": "code",
      "execution_count": 74,
      "metadata": {
        "vscode": {
          "languageId": "shellscript"
        }
      },
      "outputs": [],
      "source": [
        "p_values_sorted_df = p_values_df.sort_values(by='P-Value', ascending=True)"
      ]
    },
    {
      "cell_type": "code",
      "execution_count": 75,
      "metadata": {
        "vscode": {
          "languageId": "shellscript"
        }
      },
      "outputs": [],
      "source": [
        "p_values_sorted_df.to_excel('p_values_sorted.xlsx')"
      ]
    },
    {
      "cell_type": "code",
      "execution_count": 76,
      "metadata": {
        "vscode": {
          "languageId": "shellscript"
        }
      },
      "outputs": [],
      "source": [
        "# 删除 p 值高于 0.05 的列\n",
        "threshold = 0.2\n",
        "p_values_df_filtered = p_values_df[p_values_df['P-Value'] < threshold]"
      ]
    },
    {
      "cell_type": "code",
      "execution_count": 77,
      "metadata": {
        "vscode": {
          "languageId": "shellscript"
        }
      },
      "outputs": [],
      "source": [
        "p_values_df_filtered_sort = p_values_df_filtered.sort_values(by='P-Value', ascending=True)"
      ]
    },
    {
      "cell_type": "code",
      "execution_count": 78,
      "metadata": {
        "vscode": {
          "languageId": "shellscript"
        }
      },
      "outputs": [],
      "source": [
        "p_values_df_filtered_sort.to_excel('p_values_sorted.xlsx')"
      ]
    },
    {
      "cell_type": "code",
      "execution_count": 79,
      "metadata": {
        "vscode": {
          "languageId": "shellscript"
        }
      },
      "outputs": [],
      "source": [
        "\n",
        "columns_to_keep = [column for column, p_value in p_values.items() if p_value <= threshold]\n",
        "X_filtered = X[columns_to_keep]\n"
      ]
    },
    {
      "cell_type": "code",
      "execution_count": 80,
      "metadata": {
        "vscode": {
          "languageId": "shellscript"
        }
      },
      "outputs": [],
      "source": [
        "p_values_df_filtered = p_values_df[p_values_df['P-Value'] < threshold]\n",
        "sorted_features = p_values_df_filtered_sort['Feature']\n",
        "X_filtered_sorted = X_filtered[sorted_features]\n"
      ]
    },
    {
      "cell_type": "code",
      "execution_count": 81,
      "metadata": {
        "vscode": {
          "languageId": "shellscript"
        }
      },
      "outputs": [],
      "source": [
        "data_filtered_sorted_df = pd.concat([y, X_filtered_sorted], axis=1)\n",
        "data_filtered_sorted_df.to_excel('data_filtered_sorted_df.xlsx')"
      ]
    },
    {
      "cell_type": "markdown",
      "metadata": {},
      "source": [
        "# stats step 2: corr"
      ]
    },
    {
      "cell_type": "code",
      "execution_count": null,
      "metadata": {
        "vscode": {
          "languageId": "shellscript"
        }
      },
      "outputs": [],
      "source": [
        "\n",
        "# 计算相关性矩阵\n",
        "correlation_matrix = X_filtered.corr()\n",
        "\n",
        "# 设置相关性阈值\n",
        "correlation_threshold = 0.7\n",
        "\n",
        "# 找到相关性高的列对\n",
        "high_correlation_pairs = set()\n",
        "for column in correlation_matrix.columns:\n",
        "    for index in correlation_matrix.index:\n",
        "        if column != index and abs(correlation_matrix.loc[index, column]) > correlation_threshold:\n",
        "            high_correlation_pairs.add((index, column))\n",
        "\n",
        "# 找到需要删除的列\n",
        "columns_to_drop = set()\n",
        "for col1, col2 in high_correlation_pairs:\n",
        "    # 选择一个列名加入删除列表，这里选择 col2\n",
        "    if p_values[col1] > p_values[col2]:\n",
        "        columns_to_drop.add(col1)\n",
        "    else:\n",
        "        columns_to_drop.add(col2)\n",
        "\n",
        "# 删除相关性高的列\n",
        "X_corr_filtered= X_filtered.drop(columns=columns_to_drop)\n",
        "\n",
        "# 打印删除列后的 DataFrame\n",
        "print(\"DataFrame after dropping highly correlated columns:\")\n",
        "print(X_corr_filtered.head())"
      ]
    },
    {
      "cell_type": "markdown",
      "metadata": {},
      "source": [
        "# stats step 2: variance threshold"
      ]
    },
    {
      "cell_type": "code",
      "execution_count": null,
      "metadata": {
        "vscode": {
          "languageId": "shellscript"
        }
      },
      "outputs": [],
      "source": [
        "from sklearn.feature_selection import VarianceThreshold\n",
        "# 设置方差阈值\n",
        "variance_threshold = 0.4  # 你可以根据需要调整这个阈值\n",
        "\n",
        "# 使用 VarianceThreshold 进行特征选择\n",
        "selector = VarianceThreshold(threshold=variance_threshold)\n",
        "X_corr_var_selected = selector.fit_transform(X_corr_filtered)\n",
        "\n",
        "# 获取保留的列名\n",
        "columns_to_keep = X_corr_filtered.columns[selector.get_support(indices=True)]\n",
        "\n",
        "# 创建新的 DataFrame，保留方差高的列\n",
        "X_corr_var = pd.DataFrame(X_corr_var_selected, columns=columns_to_keep)\n",
        "\n",
        "# 打印删除列后的 DataFrame\n",
        "print(\"DataFrame after dropping low variance columns:\")\n",
        "print(X_corr_var.head())"
      ]
    },
    {
      "cell_type": "code",
      "execution_count": 16,
      "metadata": {
        "vscode": {
          "languageId": "shellscript"
        }
      },
      "outputs": [],
      "source": [
        "X_train, X_test, y_train, y_test = sklearn.model_selection.train_test_split(\n",
        "    X_corr_var,\n",
        "    y,\n",
        "    random_state=0,\n",
        "    stratify=y,\n",
        ")"
      ]
    },
    {
      "cell_type": "code",
      "execution_count": 18,
      "metadata": {
        "vscode": {
          "languageId": "shellscript"
        }
      },
      "outputs": [],
      "source": [
        "from autosklearn.classification import AutoSklearnClassifier\n",
        "from autosklearn.experimental.askl2 import AutoSklearn2Classifier\n",
        "from autosklearn.metrics import roc_auc\n",
        "\n",
        "# Edit the settings to try in both AutoSklearn1 and AutoSklearn2\n",
        "# Possibilities https://automl.github.io/auto-sklearn/master/api.html\n",
        "\n",
        "#------------------------- edit code here\n",
        "settings = {\n",
        "  \"time_left_for_this_task\": 120,  # seconds\n",
        "  \"seed\": 42,\n",
        "  \"metric\": roc_auc,\n",
        "  \"memory_limit\":16384,\n",
        "  \"n_jobs\": 4,\n",
        "}\n",
        "\n",
        "# This will only be used by autosklearn 1 while autosklearn 2 will automatically\n",
        "# select a strategy\n",
        "resampling_strategy = \"holdout\""
      ]
    },
    {
      "cell_type": "code",
      "execution_count": null,
      "metadata": {
        "vscode": {
          "languageId": "shellscript"
        }
      },
      "outputs": [],
      "source": [
        "# Create and train AutoSklearn2.0 \n",
        "askl2 = AutoSklearn2Classifier(**settings)\n",
        "askl2.fit(X_train, y_train, dataset_name=\"prostate-sp\")"
      ]
    },
    {
      "cell_type": "code",
      "execution_count": 20,
      "metadata": {
        "vscode": {
          "languageId": "shellscript"
        }
      },
      "outputs": [],
      "source": [
        "X_test, y_test = get_test_data()\n",
        "train_columns = X_train.columns\n",
        "X_test = pd.DataFrame(X_test, columns=train_columns)"
      ]
    },
    {
      "cell_type": "code",
      "execution_count": null,
      "metadata": {
        "vscode": {
          "languageId": "shellscript"
        }
      },
      "outputs": [],
      "source": [
        "from sklearn.metrics import roc_auc_score\n",
        "prediction = askl2.predict_proba(X_test)\n",
        "performance = roc_auc_score(y_test, prediction[:, 1])\n",
        "print(f\"askl2 performance is {performance}\")"
      ]
    },
    {
      "cell_type": "markdown",
      "metadata": {
        "id": "uwFOTKanT8Mj"
      },
      "source": [
        "<a name=\"task1\"></a>\n",
        "# Task 1: Build your own pipeline (BYOP; 15 minutes)"
      ]
    },
    {
      "cell_type": "markdown",
      "metadata": {
        "id": "eSFC5s4MwXYX"
      },
      "source": [
        "❓ **Why:** Even if you use AutoML methods, you should still take some time to understand the data and the pipeline you're going to use.\n",
        "\n",
        "📓 **What:** Build your own scikit-learn pipeline\n",
        "\n",
        "  1. Pre-process categorical and continuous features (if necessary)\n",
        "  2. Choose a model type and train a predictive model\n",
        "  3. Compute the score for your model\n",
        "  4. Discuss the questions below 🔽 with your team members\n",
        "\n",
        "If you are not familiar with scikit-learn you can find further information in the [docs](https://scikit-learn.org/stable/modules/compose.html#pipeline-chaining-estimators) and [examples](https://scikit-learn.org/stable/auto_examples/index.html#pipelines-and-composite-estimators).\n",
        "\n",
        "✅ **Outcome:** Questions to be discussed:\n",
        "\n",
        "  1. Which model class have you used?\n",
        "  2. What was your score?"
      ]
    },
    {
      "cell_type": "code",
      "execution_count": null,
      "metadata": {
        "colab": {
          "base_uri": "https://localhost:8080/",
          "height": 424
        },
        "id": "rx5MqbTg1_tj",
        "outputId": "4f1194d6-9f1a-4770-821d-a9441a3b8ccd",
        "vscode": {
          "languageId": "shellscript"
        }
      },
      "outputs": [],
      "source": [
        "# We'll start by checking out the effect of a OneHotEncoder\n",
        "# First let's check out the distinct values of the \"housing\" and \"own_telephone\" columns\n",
        "columns = [\"housing\", \"own_telephone\"] \n",
        "X_train[columns]"
      ]
    },
    {
      "cell_type": "code",
      "execution_count": null,
      "metadata": {
        "colab": {
          "base_uri": "https://localhost:8080/",
          "height": 424
        },
        "id": "k852DZvW5lIO",
        "outputId": "f33037cc-73f7-4cc8-da17-882139cb3be7",
        "vscode": {
          "languageId": "shellscript"
        }
      },
      "outputs": [],
      "source": [
        "from sklearn.preprocessing import OneHotEncoder\n",
        "\n",
        "# Now lets see the effect of one hot encoding these columns and how that turns the\n",
        "# distinct categoricals to numerical values we can feed to a machine learning pipeline\n",
        "OHE = OneHotEncoder(handle_unknown='ignore')\n",
        "raw_encoded_data = OHE.fit_transform(X_train[columns]).toarray()\n",
        "\n",
        "# The OneHotEncoder will generate a new feature column per categoriy\n",
        "# Let's see what these look like now that they're encoded\n",
        "# This following line grabs the new encoded colun\n",
        "encoded_columns = pd.DataFrame(\n",
        "    raw_encoded_data,\n",
        "    columns=OHE.get_feature_names(columns),\n",
        "    dtype=int\n",
        ")\n",
        "encoded_columns"
      ]
    },
    {
      "cell_type": "code",
      "execution_count": null,
      "metadata": {
        "colab": {
          "base_uri": "https://localhost:8080/"
        },
        "id": "b4eICX15T_im",
        "outputId": "abcd5b86-34ad-4930-d0e6-8084f831f4a1",
        "vscode": {
          "languageId": "shellscript"
        }
      },
      "outputs": [],
      "source": [
        "# We'll now setup an sklearn pipeline that performs this OneHotEncoding\n",
        "# to *all* the categorical columns and pass the numericals directly through to\n",
        "# a model\n",
        "\n",
        "# Import estimator and preprocessors you need\n",
        "from sklearn.compose import ColumnTransformer\n",
        "from sklearn.compose import make_column_selector as selector\n",
        "from sklearn.metrics import roc_auc_score\n",
        "from sklearn.pipeline import Pipeline\n",
        "\n",
        "from sklearn.dummy import DummyClassifier\n",
        "from sklearn.preprocessing import OneHotEncoder, StandardScaler\n",
        "\n",
        "# Initialize your estimator\n",
        "# Check the scikit-learn API for a complete list of classifier:\n",
        "# https://scikit-learn.org/stable/supervised_learning.html\n",
        "#------------------------- edit code here\n",
        "estimator = DummyClassifier()\n",
        "\n",
        "\n",
        "# Select the categorical columns to pass through our OneHotEncoder\n",
        "categorical_selector = selector(dtype_include=\"category\")\n",
        "categorical_columns = categorical_selector(X_train)\n",
        "print(\"Categorical Columns: \", categorical_columns)\n",
        "\n",
        "# Select the numerical columns to \n",
        "numerical_selector = selector(dtype_exclude=\"category\")\n",
        "numerical_columns = numerical_selector(X_train)\n",
        "print(\"Numerical Columns: \", numerical_columns)\n",
        "\n",
        "# Build the ColumnTransformer which applies transformations to subsets of columns\n",
        "# Feel free to include your own preprocessors\n",
        "# https://scikit-learn.org/stable/modules/compose.html#column-transformer\n",
        "preprocessor = ColumnTransformer(\n",
        "    [\n",
        "        ('categorical', OneHotEncoder(handle_unknown='ignore'), categorical_columns),\n",
        "        ('age', StandardScaler(), selector(\"age\")),   \n",
        "    ],\n",
        "    remainder=\"passthrough\"\n",
        ")\n",
        "\n",
        "# Assemble the pipeline with the preprocessor and the classifier\n",
        "pipeline_byop = Pipeline([\n",
        "  ('preprocessor', preprocessor),\n",
        "  ('gradboost', estimator),\n",
        "])\n",
        "#-------------------------\n",
        "\n",
        "pipeline_byop.fit(X_train, y_train)\n",
        "\n",
        "# Show the prediction on the first 10 test instances\n",
        "X_test, y_test = get_test_data()\n",
        "predictions = pipeline_byop.predict(X_test) \n",
        "\n",
        "for prediction, actual_label in zip(predictions[:10], y_test[:10]):\n",
        "   print(f\"Predicted - {prediction:4} | actual - {actual_label}\")\n",
        "\n",
        "# Score the pipeline\n",
        "performance_byop = train_scoring_function(pipeline_byop)\n",
        "print(f\"Train performance of my pipeline is {performance_byop}\")\n",
        "\n",
        "performance_byop = scoring_function(pipeline_byop)\n",
        "print(f\"Test performance of my pipeline is {performance_byop}\")"
      ]
    },
    {
      "cell_type": "markdown",
      "metadata": {
        "id": "Ai3pgJLOUD3L"
      },
      "source": [
        "<a name=\"task2\"></a>\n",
        "# Task 2: Auto-sklearn"
      ]
    },
    {
      "cell_type": "markdown",
      "metadata": {
        "id": "7fkKTz4mAj6g"
      },
      "source": [
        "❓ **Why:** You just manually built a predictive pipeline that works (pretty well). However this is for one specific dataset and with a very small _search space_ of what was tried.\n",
        "\n",
        "Now you're ready to use Auto-sklearn. Can we automate **even more**?\n",
        "\n",
        "📓 **What:** Run Auto-sklearn on a dataset, credit-g\n",
        "  1. Run Auto-sklearn. Make sure that everyone at your table runs Auto-sklearn with a different setting, e.g. `resampling_strategy`, `ensemble_size`, `metric`,  (for more see [here](https://automl.github.io/auto-sklearn/master/api.html)).\n",
        "     * While it's running, discuss how **you** would try automate the procedure from the previous exercise?\n",
        "  2. Inspect the output\n",
        "  3. Discuss the questions below 🔽 with your team members\n",
        "\n",
        "✅ **Outcome:** While AutoML systems seemingly magically produce predictions, it is always a good to also understand how they work. Here are a few questions your boss, your client or your professor might ask you regarding using Auto-sklearn:\n",
        "\n",
        "  * What pipelines were found? Was it better than your manual pipeline?\n",
        "  * How pipelines did Auto-sklearn try?\n",
        "  * AutoSklearn uses ensembling, what was the difference between the best model and the ensemble? How would you combine the different predictions of different piplines?\n",
        "  * How did the different settings impact the result/statistics?\n",
        "  * How would you search for different pipelines, how does AutoSklearn do it?\n",
        " \n",
        "➕ **A Few Notes On Debugging**\n",
        "\n",
        "Not everything works at the first try. Here are a few recommendations for [debugging](http://www.phdcomics.com/comics/archive/phd011406s.gif): \n",
        "\n",
        "  * Check the statistics: `estimator_askl.sprint_statistics()`\n",
        "  * Check the evaluated models: `estimator_askl.show_models()`\n",
        "  * Check the logs: Click the 📁 icon on the left, navigate to `/tmp/` and open the relevant Auto-sklearn logs in one of the `autosklearn_tmp_*` folders)\n",
        "  * If nothing helps, try restarting the runtime and notebook\n",
        "  * Do a factory reset as a last resort"
      ]
    },
    {
      "cell_type": "markdown",
      "metadata": {
        "id": "xLlFFof-c9TN"
      },
      "source": [
        "#### Task 2a: Fitting Auto-sklearn"
      ]
    },
    {
      "cell_type": "code",
      "execution_count": 8,
      "metadata": {
        "id": "wNDakA9Cjqzp",
        "vscode": {
          "languageId": "shellscript"
        }
      },
      "outputs": [],
      "source": [
        "from autosklearn.classification import AutoSklearnClassifier\n",
        "from autosklearn.metrics import roc_auc"
      ]
    },
    {
      "cell_type": "code",
      "execution_count": 82,
      "metadata": {
        "vscode": {
          "languageId": "shellscript"
        }
      },
      "outputs": [],
      "source": [
        "def scoring_function(estimator):        \n",
        "    predictions = estimator.predict_proba(X_test)[:, 1]\n",
        "    return sklearn.metrics.roc_auc_score(y_test, predictions)\n",
        "\n",
        "def train_scoring_function(estimator):        \n",
        "    predictions = estimator.predict_proba(X_train)[:, 1]\n",
        "    return sklearn.metrics.roc_auc_score(y_train, predictions)"
      ]
    },
    {
      "cell_type": "code",
      "execution_count": 14,
      "metadata": {
        "id": "m4ncs0gQjEVd",
        "vscode": {
          "languageId": "shellscript"
        }
      },
      "outputs": [],
      "source": [
        "# Edit the settings to try in both AutoSklearn\n",
        "# Possibilities https://automl.github.io/auto-sklearn/master/api.html\n",
        "#------------------------- edit code here\n",
        "settings = {\n",
        "  \"time_left_for_this_task\": 300, # Seconds\n",
        "  \"seed\": 0,                      # The random seed to use\n",
        "  \"metric\": roc_auc,              # What metric to optimize for\n",
        "  \"n_jobs\": 4,                    # How many processes to use\n",
        "  \"ensemble_size\": 10,            # How many models to put together for predictions\n",
        "  \"memory_limit\":16384, \n",
        "  \"resampling_strategy\": \"cv\" # How to sample data internally for fitting models, \"holdout\" does a simple train-test splt, \"cv\" does cross-validation\n",
        "}"
      ]
    },
    {
      "cell_type": "markdown",
      "metadata": {
        "id": "8J5xvoX6bBJ4"
      },
      "source": [
        "Auto-sklearn follows the scikit-learn API to specify how to run in parallel by providing the argument `n_jobs`. If `n_jobs >= 1` the respective number of cores is used, for `n_jobs is None` 1 core is used and for `n_jobs < 0` all available cores are used. If you set `n_jobs != 1`, run Auto-sklearn on your local machine and have [Bokeh](https://bokeh.org/) installed, you also get access to the [Dask dashboard](https://docs.dask.org/en/stable/diagnostics-distributed.html) which shows how the individual training jobs of Auto-sklearn are executed in a distributed fashion."
      ]
    },
    {
      "cell_type": "markdown",
      "metadata": {
        "id": "ba-TwLfcjTph"
      },
      "source": [
        "Lets train AutoSklearn with these settings"
      ]
    },
    {
      "cell_type": "code",
      "execution_count": null,
      "metadata": {
        "colab": {
          "base_uri": "https://localhost:8080/"
        },
        "id": "7NOeIw06bhZl",
        "outputId": "94c265cd-88ed-491e-8a55-b4a89f5579dc",
        "vscode": {
          "languageId": "shellscript"
        }
      },
      "outputs": [],
      "source": [
        "# Create and train an ensemble with AutoML \n",
        "# Auto-sklearn will take your data and automate your previous manual exploration\n",
        "# This may take a while if you left the time at 300 seconds. This is a good time to:\n",
        "#\n",
        "# * Talk about how you would try automate this process\n",
        "# * Checkout what arguments you can put in for settings: https://automl.github.io/auto-sklearn/master/api.html\n",
        "#\n",
        "askl = AutoSklearnClassifier(**settings)\n",
        "askl.fit(X_train, y_train, dataset_name=\"credit-g\")"
      ]
    },
    {
      "cell_type": "code",
      "execution_count": null,
      "metadata": {
        "vscode": {
          "languageId": "shellscript"
        }
      },
      "outputs": [],
      "source": [
        "train_scoring_function(askl)"
      ]
    },
    {
      "cell_type": "code",
      "execution_count": null,
      "metadata": {
        "vscode": {
          "languageId": "shellscript"
        }
      },
      "outputs": [],
      "source": [
        "scoring_function(askl)"
      ]
    },
    {
      "cell_type": "code",
      "execution_count": 85,
      "metadata": {
        "vscode": {
          "languageId": "shellscript"
        }
      },
      "outputs": [],
      "source": [
        "from sklearn.metrics import roc_auc_score"
      ]
    },
    {
      "cell_type": "code",
      "execution_count": null,
      "metadata": {
        "vscode": {
          "languageId": "shellscript"
        }
      },
      "outputs": [],
      "source": [
        "# Score the model\n",
        "\n",
        "# prediction = askl.predict_proba(X_test)\n",
        "performance = roc_auc_score(y_test, prediction[:, 1])\n",
        "print(f\" performance is {performance}\")"
      ]
    },
    {
      "cell_type": "markdown",
      "metadata": {
        "id": "s62TYRTylYtY"
      },
      "source": [
        "Now lets take a look at the summary statistics!"
      ]
    },
    {
      "cell_type": "code",
      "execution_count": null,
      "metadata": {
        "colab": {
          "base_uri": "https://localhost:8080/",
          "height": 553
        },
        "id": "2616qeSvT_iq",
        "outputId": "9312da0c-e023-421b-e31f-487342802539",
        "vscode": {
          "languageId": "shellscript"
        }
      },
      "outputs": [],
      "source": [
        "from pprint import pprint\n",
        "\n",
        "print(f\"Auto-sklearn | train = {train_scoring_function(askl)} | test = {scoring_function(askl)}\")\n",
        "print(f\"Settings = {settings}\")\n",
        "\n",
        "# Some quick summary statistics\n",
        "print(\"\\nSummary\")\n",
        "print(askl.sprint_statistics())\n",
        "\n",
        "# The leaderboard shows all the models during the optimization process,\n",
        "# see this link for arguments if you want to see more!\n",
        "# https://automl.github.io/auto-sklearn/master/api.html#autosklearn.classification.AutoSklearnClassifier.leaderboard\n",
        "leaderboard = askl.leaderboard(\n",
        "    sort_by=\"cost\",\n",
        "    ensemble_only=True,\n",
        "    detailed=True\n",
        ")\n",
        "\n",
        "roc_auc_scores = 1 - leaderboard[\"cost\"]\n",
        "leaderboard.insert(loc=0, column=roc_auc.name, value=roc_auc_scores)\n",
        "leaderboard"
      ]
    },
    {
      "cell_type": "code",
      "execution_count": null,
      "metadata": {
        "colab": {
          "base_uri": "https://localhost:8080/"
        },
        "id": "gtHrfv4OFN8J",
        "outputId": "fb9d5f1b-25c8-498c-b61f-d74b93126913",
        "vscode": {
          "languageId": "shellscript"
        }
      },
      "outputs": [],
      "source": [
        "# Show all the models in the final produced ensemble\n",
        "pprint(askl.show_models())"
      ]
    },
    {
      "cell_type": "code",
      "execution_count": null,
      "metadata": {
        "vscode": {
          "languageId": "shellscript"
        }
      },
      "outputs": [],
      "source": []
    },
    {
      "cell_type": "markdown",
      "metadata": {
        "id": "lB2cbzM134zL"
      },
      "source": [
        "<a name=\"Task3\"></a>\n",
        "# Task 3: Explainability"
      ]
    },
    {
      "cell_type": "markdown",
      "metadata": {
        "id": "onEvZDbx4eYf"
      },
      "source": [
        "❓ **Why:** To understand what features are important for producing a prediction.\n",
        "\n",
        "📓 **What:** Apply feature importance methods to Auto-Sklearn. Auto-sklearn behaves like a scikit-learn estimator and thus any method that works with an scikit-learn estimator also works with Auto-sklearn. The [`sklearn.inspection`](https://scikit-learn.org/stable/inspection.html) module offers some interesting features importance methods you can evaluate, and in this task you will use the permutation importance.\n",
        "\n",
        "✅ **Outcome:** Discuss the questions below 🔽 with your team members\n",
        "\n",
        "\n",
        "* Which features are important?\n",
        "* Is anything striking about either of the plots?\n",
        "* Can Auto-sklearn's design space be restricted to provide only interpretable models?\n",
        "* What other feature importance methods could be applied (blackbox or whitebox)?"
      ]
    },
    {
      "cell_type": "code",
      "execution_count": 18,
      "metadata": {
        "id": "zLQb5VrZT_ir",
        "vscode": {
          "languageId": "shellscript"
        }
      },
      "outputs": [],
      "source": [
        "from sklearn.inspection import plot_partial_dependence, permutation_importance\n",
        "import matplotlib.pyplot as plt\n",
        "import numpy as np"
      ]
    },
    {
      "cell_type": "markdown",
      "metadata": {
        "id": "TRheALiSZGZd"
      },
      "source": [
        "**Note**: In order to compute meaningful explanations we need data that is distinct from the training data, in this case we re-purpose the test set. This will take roughly two minutes if you've used `resampling_strategy='cv'` and much less if you've used `resampling_strategy='holdout'`. If you have time, you can increase the number of repetitions to get more reliable feature importance scores. If applicable, you can also move from cross-validation to holdout to improve speed here.\n",
        "\n",
        "While the code runs, you could for example [read up how feature importance](https://scikit-learn.org/stable/modules/permutation_importance.html) works."
      ]
    },
    {
      "cell_type": "code",
      "execution_count": null,
      "metadata": {
        "colab": {
          "base_uri": "https://localhost:8080/"
        },
        "id": "CfuOdHIwT_ir",
        "outputId": "01950e0c-0800-4e33-d4d2-2dc737e8950e",
        "vscode": {
          "languageId": "shellscript"
        }
      },
      "outputs": [],
      "source": [
        "def get_data_for_feature_importance():\n",
        "    # From OpenML: https://www.openml.org/d/31\n",
        "    X, y = sklearn.datasets.fetch_openml('credit-g', as_frame=True, return_X_y=True)\n",
        "    _, X_test, _, y_test = sklearn.model_selection.train_test_split(\n",
        "      X, y, random_state=42\n",
        "    )\n",
        "    return X_test, y_test\n",
        "\n",
        "X_feature_importance, y_feature_importance,  = get_data_for_feature_importance()\n",
        "\n",
        "r = permutation_importance(\n",
        "    askl, X_feature_importance, y_feature_importance,\n",
        "    n_repeats=2, random_state=0, n_jobs=-1,\n",
        "    scoring='roc_auc',\n",
        ")"
      ]
    },
    {
      "cell_type": "code",
      "execution_count": null,
      "metadata": {
        "colab": {
          "base_uri": "https://localhost:8080/",
          "height": 753
        },
        "id": "1wagu--7FAT3",
        "outputId": "6aa86b62-644a-49cb-aa3e-570d86ece158",
        "vscode": {
          "languageId": "shellscript"
        }
      },
      "outputs": [],
      "source": [
        "%matplotlib inline\n",
        "fig = plt.figure(figsize=(16, 9))\n",
        "ax = fig.add_subplot(111)\n",
        "sort_idx = r.importances_mean.argsort()\n",
        "ax.boxplot(r.importances[sort_idx].T, labels=[X_train.columns[i] for i in sort_idx], vert=False)\n",
        "fig.show()\n",
        "plt.show()"
      ]
    },
    {
      "cell_type": "markdown",
      "metadata": {
        "id": "rJMag5GHtKN7"
      },
      "source": [
        "[PD plots](https://christophm.github.io/interpretable-ml-book/pdp.html) describe the relation between feature values and the response value, i.e. the expected response value wrt. one or multiple input features. Since we use a classification dataset, this corresponds to the predicted class probability.\n",
        "\n",
        "Unfortunatly this only works for numerical features and so we use the 2 numerical features which were considered the most important for classification."
      ]
    },
    {
      "cell_type": "code",
      "execution_count": null,
      "metadata": {
        "colab": {
          "base_uri": "https://localhost:8080/",
          "height": 486
        },
        "id": "8BzuVe5XqU1h",
        "outputId": "78fe0da7-0b1f-4141-9e33-09336c057dfa",
        "vscode": {
          "languageId": "shellscript"
        }
      },
      "outputs": [],
      "source": [
        "from sklearn.inspection import plot_partial_dependence\n",
        "\n",
        "features = [\"duration\", \"age\"]\n",
        "\n",
        "plot_partial_dependence(\n",
        "    askl,\n",
        "    X_test,\n",
        "    features=features,\n",
        "    grid_resolution=5,\n",
        "    kind=\"both\",\n",
        "    feature_names=X_test.columns,\n",
        ")\n",
        "plt.tight_layout()\n",
        "plt.show()"
      ]
    },
    {
      "cell_type": "markdown",
      "metadata": {
        "id": "0WJV8-rsT_is"
      },
      "source": [
        "##### Other explainers\n",
        "\n",
        "* Can use anything that works with sklearn\n",
        "* [SHAP](https://github.com/slundberg/shap) can only be used for datasets without categorical features and without missing values\n",
        "* We have such examples in a [EuroPython tutorial notebook](https://github.com/automl/auto-sklearn-talks/blob/main/2021_07_28_EuroPython/Tutorial-Regression.ipynb) and the [Auto-sklearn examples](https://automl.github.io/auto-sklearn/master/examples/40_advanced/example_inspect_predictions.html)"
      ]
    },
    {
      "cell_type": "code",
      "execution_count": null,
      "metadata": {
        "colab": {
          "base_uri": "https://localhost:8080/",
          "height": 301
        },
        "id": "4VTD7C65axgQ",
        "outputId": "53b5a070-9b67-4416-c7a8-5d2e02eff791",
        "vscode": {
          "languageId": "shellscript"
        }
      },
      "outputs": [],
      "source": [
        "leaderboard = custom_metric_askl.leaderboard()\n",
        "leaderboard[scorer.name] = 1 - leaderboard[\"cost\"]\n",
        "leaderboard"
      ]
    },
    {
      "cell_type": "markdown",
      "metadata": {
        "id": "hklzQd0-hxFg"
      },
      "source": [
        "<a name=\"task6\"></a>\n",
        "# Task 6: AutoSklearn 2.0"
      ]
    },
    {
      "cell_type": "markdown",
      "metadata": {
        "id": "rAara_rwhodU"
      },
      "source": [
        "❓ **Why**: Selecting a good validation strategy is crucial to not overfit to the data at hand, specifically with smaller datasets. However choosing the right validation strategy is a hard task. Why not automate this? AutoSklearn 2.0 does this with meta-learning!\n",
        "\n",
        "📓 **What**:\n",
        "\n",
        "* Run Auto-sklearn and Auto-Sklearn 2.0 on a dataset, credit-g\n",
        "* Inspect the statistics between the two versions.\n",
        "* Discuss the questions below 🔽 with your team members, you can do so while the two are running\n",
        "\n",
        "✅ **Outcome**:\n",
        "\n",
        "* When would you apply crossvalidation, holdout and/or successive halving?\n",
        "* How many function evaluations were performed for Auto-Sklearn versus Auto-Sklearn 2.0?\n",
        "* How did the results change between the two versions?\n",
        "* What resampling-strategy's did you consider, did AutoSklearn 2.0 agree?\n",
        "* How does the final ensemble differ from the ensemble constructed by Auto-sklearn 1.0? Bigger/smaller, models, hyperparameters?"
      ]
    },
    {
      "cell_type": "code",
      "execution_count": null,
      "metadata": {
        "vscode": {
          "languageId": "shellscript"
        }
      },
      "outputs": [],
      "source": []
    },
    {
      "cell_type": "code",
      "execution_count": 15,
      "metadata": {
        "id": "vqU2wEoeimTu",
        "vscode": {
          "languageId": "shellscript"
        }
      },
      "outputs": [],
      "source": [
        "from autosklearn.classification import AutoSklearnClassifier\n",
        "from autosklearn.experimental.askl2 import AutoSklearn2Classifier\n",
        "from autosklearn.metrics import roc_auc\n",
        "\n",
        "# Edit the settings to try in both AutoSklearn1 and AutoSklearn2\n",
        "# Possibilities https://automl.github.io/auto-sklearn/master/api.html\n",
        "\n",
        "#------------------------- edit code here\n",
        "settings = {\n",
        "  \"time_left_for_this_task\": 120,  # seconds\n",
        "  \"seed\": 42,\n",
        "  \"metric\": roc_auc,\n",
        "  \"memory_limit\":16384,\n",
        "  \"n_jobs\": 4,\n",
        "}\n",
        "\n",
        "# This will only be used by autosklearn 1 while autosklearn 2 will automatically\n",
        "# select a strategy\n",
        "resampling_strategy = \"holdout\""
      ]
    },
    {
      "cell_type": "code",
      "execution_count": 20,
      "metadata": {
        "vscode": {
          "languageId": "shellscript"
        }
      },
      "outputs": [],
      "source": [
        "X_test, y_test = get_test_data()"
      ]
    },
    {
      "cell_type": "code",
      "execution_count": 21,
      "metadata": {
        "vscode": {
          "languageId": "shellscript"
        }
      },
      "outputs": [],
      "source": [
        "train_columns = X_train.columns\n",
        "X_test = pd.DataFrame(X_test, columns=train_columns)\n"
      ]
    },
    {
      "cell_type": "code",
      "execution_count": null,
      "metadata": {
        "colab": {
          "base_uri": "https://localhost:8080/"
        },
        "id": "5f1WcBPHjEJP",
        "outputId": "05618f68-c2eb-4c5b-b597-be29bfbc4898",
        "vscode": {
          "languageId": "shellscript"
        }
      },
      "outputs": [],
      "source": [
        "# Create and train AutoSklearn 1\n",
        "askl1 = AutoSklearnClassifier(\n",
        "    **settings,\n",
        "    resampling_strategy=resampling_strategy\n",
        ")\n",
        "askl1.fit(X_train, y_train, dataset_name=\"credit-g\")"
      ]
    },
    {
      "cell_type": "code",
      "execution_count": null,
      "metadata": {
        "colab": {
          "base_uri": "https://localhost:8080/"
        },
        "id": "wFCYoQidi_kk",
        "outputId": "d99507b9-6689-4429-ccc6-07a82de6ce53",
        "vscode": {
          "languageId": "shellscript"
        }
      },
      "outputs": [],
      "source": [
        "# Create and train AutoSklearn2.0 \n",
        "askl2 = AutoSklearn2Classifier(**settings)\n",
        "askl2.fit(X_train, y_train, dataset_name=\"prostate-sp\")"
      ]
    },
    {
      "cell_type": "code",
      "execution_count": null,
      "metadata": {
        "vscode": {
          "languageId": "shellscript"
        }
      },
      "outputs": [],
      "source": [
        "from sklearn.metrics import roc_auc_score\n",
        "prediction = askl2.predict_proba(X_test)\n",
        "performance = roc_auc_score(y_test, prediction[:, 1])\n",
        "print(f\"askl2 performance is {performance}\")"
      ]
    },
    {
      "cell_type": "code",
      "execution_count": null,
      "metadata": {
        "vscode": {
          "languageId": "shellscript"
        }
      },
      "outputs": [],
      "source": [
        "!which python"
      ]
    },
    {
      "cell_type": "code",
      "execution_count": null,
      "metadata": {
        "vscode": {
          "languageId": "shellscript"
        }
      },
      "outputs": [],
      "source": [
        "from pyopls import OPLS\n",
        "opls = OPLS(n_components=1, scale=True)\n",
        "# 拟合模型\n",
        "opls.fit(X, y)"
      ]
    },
    {
      "cell_type": "code",
      "execution_count": null,
      "metadata": {
        "vscode": {
          "languageId": "shellscript"
        }
      },
      "outputs": [],
      "source": []
    },
    {
      "cell_type": "markdown",
      "metadata": {
        "id": "-JYbizOvizkQ"
      },
      "source": [
        "Now let's compare them!\n",
        "\n"
      ]
    },
    {
      "cell_type": "code",
      "execution_count": null,
      "metadata": {
        "colab": {
          "base_uri": "https://localhost:8080/",
          "height": 660
        },
        "id": "XwIdTR8OizN0",
        "outputId": "8570a251-c360-4030-c52d-4825d4858783",
        "vscode": {
          "languageId": "shellscript"
        }
      },
      "outputs": [],
      "source": [
        "from pprint import pprint\n",
        "\n",
        "print(f\"Auto-sklearn 1.0 | train = {train_scoring_function(askl1)} | test = {scoring_function(askl1)}\")\n",
        "print(f\"Selected `resampling-strategy` = {askl1.resampling_strategy}\")\n",
        "print(f\"Selected `resampling-strategy-arguments` = {askl1.resampling_strategy_arguments}\")\n",
        "\n",
        "# Some quick summary statistics\n",
        "print(askl1.sprint_statistics())\n",
        "\n",
        "# Show all the models in the final produced ensemble\n",
        "# pprint(askl1.show_models())\n",
        "\n",
        "# For compatibility with scikit-learn we implement `cv_results_`, but the output is pretty lengthy, so we leave this commented\n",
        "# print(askl1.cv_results_)\n",
        "\n",
        "# The leaderboard shows all the models during the optimization process,\n",
        "# see this link for arguments if you want to see more!\n",
        "# https://automl.github.io/auto-sklearn/master/api.html#autosklearn.classification.AutoSklearnClassifier.leaderboard\n",
        "askl1.leaderboard(sort_by=\"model_id\", ensemble_only=True)"
      ]
    },
    {
      "cell_type": "code",
      "execution_count": null,
      "metadata": {
        "colab": {
          "base_uri": "https://localhost:8080/",
          "height": 535
        },
        "id": "AOnK4AJokw7s",
        "outputId": "f04d51b0-bb39-472b-b267-aba6738d25e2",
        "vscode": {
          "languageId": "shellscript"
        }
      },
      "outputs": [],
      "source": [
        "print(f\"Auto-sklearn 2.0 | train = {train_scoring_function(askl2)} | test = {scoring_function(askl2)}\")\n",
        "print(f\"Selected `resampling-strategy` = {askl2.resampling_strategy}\")\n",
        "print(f\"Selected `resampling-strategy-arguments` = {askl2.resampling_strategy_arguments}\")\n",
        "\n",
        "print(askl2.sprint_statistics())\n",
        "\n",
        "# pprint(askl2.show_models())\n",
        "# print(askl2.cv_results_)\n",
        "\n",
        "askl2.leaderboard(sort_by=\"model_id\", ensemble_only=True)"
      ]
    },
    {
      "cell_type": "code",
      "execution_count": 2,
      "metadata": {
        "vscode": {
          "languageId": "shellscript"
        }
      },
      "outputs": [],
      "source": [
        "import numpy as np\n",
        "import pandas as pd\n",
        "from pyopls import OPLS\n",
        "import matplotlib.pyplot as plt"
      ]
    },
    {
      "cell_type": "code",
      "execution_count": 15,
      "metadata": {
        "vscode": {
          "languageId": "shellscript"
        }
      },
      "outputs": [],
      "source": [
        "# 创建 OPLS 对象\n",
        "opls = OPLS(n_components=1, scale=True)\n"
      ]
    },
    {
      "cell_type": "code",
      "execution_count": null,
      "metadata": {
        "vscode": {
          "languageId": "shellscript"
        }
      },
      "outputs": [],
      "source": [
        "# 拟合模型\n",
        "opls.fit(X, y)"
      ]
    },
    {
      "cell_type": "code",
      "execution_count": null,
      "metadata": {
        "vscode": {
          "languageId": "shellscript"
        }
      },
      "outputs": [],
      "source": [
        "# Extract weights\n",
        "weights = opls.weights_\n",
        "\n",
        "# Print weights\n",
        "print(\"Weights (W):\", weights)\n",
        "\n",
        "# Determine the importance of each feature\n",
        "feature_importance = np.abs(weights[:, 0])\n",
        "\n",
        "# Select features with importance above a threshold\n",
        "threshold = np.percentile(feature_importance, 75)  # Select top 25% features\n",
        "selected_features = np.where(feature_importance >= threshold)[0]\n",
        "\n",
        "print(\"Selected feature indices:\", selected_features)\n",
        "\n",
        "# Visualize feature importance\n",
        "plt.figure(figsize=(10, 6))\n",
        "plt.bar(range(len(feature_importance)), feature_importance)\n",
        "plt.xlabel('Feature Index')\n",
        "plt.ylabel('Importance')\n",
        "plt.title('Feature Importance based on OPLS-DA Weights')\n",
        "plt.show()"
      ]
    },
    {
      "cell_type": "code",
      "execution_count": null,
      "metadata": {
        "vscode": {
          "languageId": "shellscript"
        }
      },
      "outputs": [],
      "source": [
        "# # 预测\n",
        "# y_pred = opls.predict(X)\n",
        "\n",
        "# 打印结果\n",
        "print(\"R2Y:\", opls.R2Y)\n",
        "print(\"Q2Y:\", opls.Q2Y)\n",
        "print(\"Weights (W):\", opls.W_)\n",
        "print(\"Loadings (P):\", opls.P_)\n",
        "print(\"Orthogonal Loadings (P_ortho):\", opls.P_ortho_)\n",
        "print(\"Scores (T):\", opls.T_)\n",
        "print(\"Orthogonal Scores (T_ortho):\", opls.T_ortho_)"
      ]
    },
    {
      "cell_type": "code",
      "execution_count": null,
      "metadata": {
        "vscode": {
          "languageId": "shellscript"
        }
      },
      "outputs": [],
      "source": [
        "# 可视化结果\n",
        "plt.figure(figsize=(10, 6))\n",
        "\n",
        "# 绘制得分图 (Scores plot)\n",
        "plt.subplot(1, 2, 1)\n",
        "for label in np.unique(y):\n",
        "    plt.scatter(opls.T_[y == label, 0], opls.T_ortho_[y == label, 0], label=f'Class {label}')\n",
        "plt.xlabel('Predictive Score (T)')\n",
        "plt.ylabel('Orthogonal Score (T_ortho)')\n",
        "plt.title('Scores Plot')\n",
        "plt.legend()"
      ]
    }
  ],
  "metadata": {
    "colab": {
      "provenance": [],
      "toc_visible": true
    },
    "kernelspec": {
      "display_name": "autosl",
      "language": "python",
      "name": "python3"
    },
    "language_info": {
      "codemirror_mode": {
        "name": "ipython",
        "version": 3
      },
      "file_extension": ".py",
      "mimetype": "text/x-python",
      "name": "python",
      "nbconvert_exporter": "python",
      "pygments_lexer": "ipython3",
      "version": "3.9.19"
    },
    "widgets": {
      "application/vnd.jupyter.widget-state+json": {
        "05c4e154d7924d2a867648182d4652ea": {
          "model_module": "@jupyter-widgets/controls",
          "model_module_version": "1.5.0",
          "model_name": "ProgressStyleModel",
          "state": {
            "_model_module": "@jupyter-widgets/controls",
            "_model_module_version": "1.5.0",
            "_model_name": "ProgressStyleModel",
            "_view_count": null,
            "_view_module": "@jupyter-widgets/base",
            "_view_module_version": "1.2.0",
            "_view_name": "StyleView",
            "bar_color": null,
            "description_width": ""
          }
        },
        "0e2727f163044c2da6c6593c5c2d064a": {
          "model_module": "@jupyter-widgets/controls",
          "model_module_version": "1.5.0",
          "model_name": "ProgressStyleModel",
          "state": {
            "_model_module": "@jupyter-widgets/controls",
            "_model_module_version": "1.5.0",
            "_model_name": "ProgressStyleModel",
            "_view_count": null,
            "_view_module": "@jupyter-widgets/base",
            "_view_module_version": "1.2.0",
            "_view_name": "StyleView",
            "bar_color": null,
            "description_width": ""
          }
        },
        "248bd0dda0494d13ad944c3ad9fe6b6b": {
          "model_module": "@jupyter-widgets/controls",
          "model_module_version": "1.5.0",
          "model_name": "HTMLModel",
          "state": {
            "_dom_classes": [],
            "_model_module": "@jupyter-widgets/controls",
            "_model_module_version": "1.5.0",
            "_model_name": "HTMLModel",
            "_view_count": null,
            "_view_module": "@jupyter-widgets/controls",
            "_view_module_version": "1.5.0",
            "_view_name": "HTMLView",
            "description": "",
            "description_tooltip": null,
            "layout": "IPY_MODEL_8d818deaf60b4cebb0d37e87437f86fe",
            "placeholder": "​",
            "style": "IPY_MODEL_ce2e8fd1e2ed4abcb4ebc2842d5d838d",
            "value": "Render HTML: 100%"
          }
        },
        "27a7ec61a74a48929ecf348b241c89dd": {
          "model_module": "@jupyter-widgets/base",
          "model_module_version": "1.2.0",
          "model_name": "LayoutModel",
          "state": {
            "_model_module": "@jupyter-widgets/base",
            "_model_module_version": "1.2.0",
            "_model_name": "LayoutModel",
            "_view_count": null,
            "_view_module": "@jupyter-widgets/base",
            "_view_module_version": "1.2.0",
            "_view_name": "LayoutView",
            "align_content": null,
            "align_items": null,
            "align_self": null,
            "border": null,
            "bottom": null,
            "display": null,
            "flex": null,
            "flex_flow": null,
            "grid_area": null,
            "grid_auto_columns": null,
            "grid_auto_flow": null,
            "grid_auto_rows": null,
            "grid_column": null,
            "grid_gap": null,
            "grid_row": null,
            "grid_template_areas": null,
            "grid_template_columns": null,
            "grid_template_rows": null,
            "height": null,
            "justify_content": null,
            "justify_items": null,
            "left": null,
            "margin": null,
            "max_height": null,
            "max_width": null,
            "min_height": null,
            "min_width": null,
            "object_fit": null,
            "object_position": null,
            "order": null,
            "overflow": null,
            "overflow_x": null,
            "overflow_y": null,
            "padding": null,
            "right": null,
            "top": null,
            "visibility": null,
            "width": null
          }
        },
        "2871b1cbe9d343d8be9fadbc938ae613": {
          "model_module": "@jupyter-widgets/controls",
          "model_module_version": "1.5.0",
          "model_name": "HBoxModel",
          "state": {
            "_dom_classes": [],
            "_model_module": "@jupyter-widgets/controls",
            "_model_module_version": "1.5.0",
            "_model_name": "HBoxModel",
            "_view_count": null,
            "_view_module": "@jupyter-widgets/controls",
            "_view_module_version": "1.5.0",
            "_view_name": "HBoxView",
            "box_style": "",
            "children": [
              "IPY_MODEL_7f74f9860dd14e4092324a8945493d54",
              "IPY_MODEL_704059ab98fc4d91bf1ea28376fc1827",
              "IPY_MODEL_c2d8f8adf53e425ba1dc130f52e1d047"
            ],
            "layout": "IPY_MODEL_c95f8cbca0254e3da38ca3a2dd739e65"
          }
        },
        "2ff226f9d33341e5acf78251e54ae877": {
          "model_module": "@jupyter-widgets/base",
          "model_module_version": "1.2.0",
          "model_name": "LayoutModel",
          "state": {
            "_model_module": "@jupyter-widgets/base",
            "_model_module_version": "1.2.0",
            "_model_name": "LayoutModel",
            "_view_count": null,
            "_view_module": "@jupyter-widgets/base",
            "_view_module_version": "1.2.0",
            "_view_name": "LayoutView",
            "align_content": null,
            "align_items": null,
            "align_self": null,
            "border": null,
            "bottom": null,
            "display": null,
            "flex": null,
            "flex_flow": null,
            "grid_area": null,
            "grid_auto_columns": null,
            "grid_auto_flow": null,
            "grid_auto_rows": null,
            "grid_column": null,
            "grid_gap": null,
            "grid_row": null,
            "grid_template_areas": null,
            "grid_template_columns": null,
            "grid_template_rows": null,
            "height": null,
            "justify_content": null,
            "justify_items": null,
            "left": null,
            "margin": null,
            "max_height": null,
            "max_width": null,
            "min_height": null,
            "min_width": null,
            "object_fit": null,
            "object_position": null,
            "order": null,
            "overflow": null,
            "overflow_x": null,
            "overflow_y": null,
            "padding": null,
            "right": null,
            "top": null,
            "visibility": null,
            "width": null
          }
        },
        "30319b2a1d8c4e4f822de4e98e896890": {
          "model_module": "@jupyter-widgets/controls",
          "model_module_version": "1.5.0",
          "model_name": "DescriptionStyleModel",
          "state": {
            "_model_module": "@jupyter-widgets/controls",
            "_model_module_version": "1.5.0",
            "_model_name": "DescriptionStyleModel",
            "_view_count": null,
            "_view_module": "@jupyter-widgets/base",
            "_view_module_version": "1.2.0",
            "_view_name": "StyleView",
            "description_width": ""
          }
        },
        "3331181106a94409995574f67db335fe": {
          "model_module": "@jupyter-widgets/controls",
          "model_module_version": "1.5.0",
          "model_name": "DescriptionStyleModel",
          "state": {
            "_model_module": "@jupyter-widgets/controls",
            "_model_module_version": "1.5.0",
            "_model_name": "DescriptionStyleModel",
            "_view_count": null,
            "_view_module": "@jupyter-widgets/base",
            "_view_module_version": "1.2.0",
            "_view_name": "StyleView",
            "description_width": ""
          }
        },
        "37357a09f72443cd8a13e2df39eb80e9": {
          "model_module": "@jupyter-widgets/controls",
          "model_module_version": "1.5.0",
          "model_name": "FloatProgressModel",
          "state": {
            "_dom_classes": [],
            "_model_module": "@jupyter-widgets/controls",
            "_model_module_version": "1.5.0",
            "_model_name": "FloatProgressModel",
            "_view_count": null,
            "_view_module": "@jupyter-widgets/controls",
            "_view_module_version": "1.5.0",
            "_view_name": "ProgressView",
            "bar_style": "success",
            "description": "",
            "description_tooltip": null,
            "layout": "IPY_MODEL_9ffeb1e2bb46453094dd0b592851b418",
            "max": 1,
            "min": 0,
            "orientation": "horizontal",
            "style": "IPY_MODEL_05c4e154d7924d2a867648182d4652ea",
            "value": 1
          }
        },
        "37958c010caf4359a002ff209937d28d": {
          "model_module": "@jupyter-widgets/base",
          "model_module_version": "1.2.0",
          "model_name": "LayoutModel",
          "state": {
            "_model_module": "@jupyter-widgets/base",
            "_model_module_version": "1.2.0",
            "_model_name": "LayoutModel",
            "_view_count": null,
            "_view_module": "@jupyter-widgets/base",
            "_view_module_version": "1.2.0",
            "_view_name": "LayoutView",
            "align_content": null,
            "align_items": null,
            "align_self": null,
            "border": null,
            "bottom": null,
            "display": null,
            "flex": null,
            "flex_flow": null,
            "grid_area": null,
            "grid_auto_columns": null,
            "grid_auto_flow": null,
            "grid_auto_rows": null,
            "grid_column": null,
            "grid_gap": null,
            "grid_row": null,
            "grid_template_areas": null,
            "grid_template_columns": null,
            "grid_template_rows": null,
            "height": null,
            "justify_content": null,
            "justify_items": null,
            "left": null,
            "margin": null,
            "max_height": null,
            "max_width": null,
            "min_height": null,
            "min_width": null,
            "object_fit": null,
            "object_position": null,
            "order": null,
            "overflow": null,
            "overflow_x": null,
            "overflow_y": null,
            "padding": null,
            "right": null,
            "top": null,
            "visibility": null,
            "width": null
          }
        },
        "3da4e01e036f4ae1bb97424acad60e83": {
          "model_module": "@jupyter-widgets/controls",
          "model_module_version": "1.5.0",
          "model_name": "DescriptionStyleModel",
          "state": {
            "_model_module": "@jupyter-widgets/controls",
            "_model_module_version": "1.5.0",
            "_model_name": "DescriptionStyleModel",
            "_view_count": null,
            "_view_module": "@jupyter-widgets/base",
            "_view_module_version": "1.2.0",
            "_view_name": "StyleView",
            "description_width": ""
          }
        },
        "43a0330790d342ce99244432e5bbaa19": {
          "model_module": "@jupyter-widgets/controls",
          "model_module_version": "1.5.0",
          "model_name": "HTMLModel",
          "state": {
            "_dom_classes": [],
            "_model_module": "@jupyter-widgets/controls",
            "_model_module_version": "1.5.0",
            "_model_name": "HTMLModel",
            "_view_count": null,
            "_view_module": "@jupyter-widgets/controls",
            "_view_module_version": "1.5.0",
            "_view_name": "HTMLView",
            "description": "",
            "description_tooltip": null,
            "layout": "IPY_MODEL_37958c010caf4359a002ff209937d28d",
            "placeholder": "​",
            "style": "IPY_MODEL_3331181106a94409995574f67db335fe",
            "value": " 39/39 [00:19&lt;00:00,  2.68it/s, Completed]"
          }
        },
        "43f13ffc2c0a4e3196482d955a35f33a": {
          "model_module": "@jupyter-widgets/base",
          "model_module_version": "1.2.0",
          "model_name": "LayoutModel",
          "state": {
            "_model_module": "@jupyter-widgets/base",
            "_model_module_version": "1.2.0",
            "_model_name": "LayoutModel",
            "_view_count": null,
            "_view_module": "@jupyter-widgets/base",
            "_view_module_version": "1.2.0",
            "_view_name": "LayoutView",
            "align_content": null,
            "align_items": null,
            "align_self": null,
            "border": null,
            "bottom": null,
            "display": null,
            "flex": null,
            "flex_flow": null,
            "grid_area": null,
            "grid_auto_columns": null,
            "grid_auto_flow": null,
            "grid_auto_rows": null,
            "grid_column": null,
            "grid_gap": null,
            "grid_row": null,
            "grid_template_areas": null,
            "grid_template_columns": null,
            "grid_template_rows": null,
            "height": null,
            "justify_content": null,
            "justify_items": null,
            "left": null,
            "margin": null,
            "max_height": null,
            "max_width": null,
            "min_height": null,
            "min_width": null,
            "object_fit": null,
            "object_position": null,
            "order": null,
            "overflow": null,
            "overflow_x": null,
            "overflow_y": null,
            "padding": null,
            "right": null,
            "top": null,
            "visibility": null,
            "width": null
          }
        },
        "56fde3648a36481987cb12917cfb8002": {
          "model_module": "@jupyter-widgets/base",
          "model_module_version": "1.2.0",
          "model_name": "LayoutModel",
          "state": {
            "_model_module": "@jupyter-widgets/base",
            "_model_module_version": "1.2.0",
            "_model_name": "LayoutModel",
            "_view_count": null,
            "_view_module": "@jupyter-widgets/base",
            "_view_module_version": "1.2.0",
            "_view_name": "LayoutView",
            "align_content": null,
            "align_items": null,
            "align_self": null,
            "border": null,
            "bottom": null,
            "display": null,
            "flex": null,
            "flex_flow": null,
            "grid_area": null,
            "grid_auto_columns": null,
            "grid_auto_flow": null,
            "grid_auto_rows": null,
            "grid_column": null,
            "grid_gap": null,
            "grid_row": null,
            "grid_template_areas": null,
            "grid_template_columns": null,
            "grid_template_rows": null,
            "height": null,
            "justify_content": null,
            "justify_items": null,
            "left": null,
            "margin": null,
            "max_height": null,
            "max_width": null,
            "min_height": null,
            "min_width": null,
            "object_fit": null,
            "object_position": null,
            "order": null,
            "overflow": null,
            "overflow_x": null,
            "overflow_y": null,
            "padding": null,
            "right": null,
            "top": null,
            "visibility": null,
            "width": null
          }
        },
        "6b8e7fb6a17e4e318c054dd6fb0b2321": {
          "model_module": "@jupyter-widgets/controls",
          "model_module_version": "1.5.0",
          "model_name": "HTMLModel",
          "state": {
            "_dom_classes": [],
            "_model_module": "@jupyter-widgets/controls",
            "_model_module_version": "1.5.0",
            "_model_name": "HTMLModel",
            "_view_count": null,
            "_view_module": "@jupyter-widgets/controls",
            "_view_module_version": "1.5.0",
            "_view_name": "HTMLView",
            "description": "",
            "description_tooltip": null,
            "layout": "IPY_MODEL_7ef2dbce8de949f0bf6b58e557cec9f9",
            "placeholder": "​",
            "style": "IPY_MODEL_8acf0a4ccdd446a6b01ff275ff74458d",
            "value": " 1/1 [00:01&lt;00:00,  1.36s/it]"
          }
        },
        "6f0a4fad2e6e408283491d0a49f4bebb": {
          "model_module": "@jupyter-widgets/controls",
          "model_module_version": "1.5.0",
          "model_name": "FloatProgressModel",
          "state": {
            "_dom_classes": [],
            "_model_module": "@jupyter-widgets/controls",
            "_model_module_version": "1.5.0",
            "_model_name": "FloatProgressModel",
            "_view_count": null,
            "_view_module": "@jupyter-widgets/controls",
            "_view_module_version": "1.5.0",
            "_view_name": "ProgressView",
            "bar_style": "success",
            "description": "",
            "description_tooltip": null,
            "layout": "IPY_MODEL_56fde3648a36481987cb12917cfb8002",
            "max": 5,
            "min": 0,
            "orientation": "horizontal",
            "style": "IPY_MODEL_c429617bb0964ce1a42ae092dd0073d9",
            "value": 5
          }
        },
        "704059ab98fc4d91bf1ea28376fc1827": {
          "model_module": "@jupyter-widgets/controls",
          "model_module_version": "1.5.0",
          "model_name": "FloatProgressModel",
          "state": {
            "_dom_classes": [],
            "_model_module": "@jupyter-widgets/controls",
            "_model_module_version": "1.5.0",
            "_model_name": "FloatProgressModel",
            "_view_count": null,
            "_view_module": "@jupyter-widgets/controls",
            "_view_module_version": "1.5.0",
            "_view_name": "ProgressView",
            "bar_style": "success",
            "description": "",
            "description_tooltip": null,
            "layout": "IPY_MODEL_87786f322e5d4c4ebbde04c6913b3955",
            "max": 1,
            "min": 0,
            "orientation": "horizontal",
            "style": "IPY_MODEL_0e2727f163044c2da6c6593c5c2d064a",
            "value": 1
          }
        },
        "787e9754de0a4e8a846ca48ab0046614": {
          "model_module": "@jupyter-widgets/controls",
          "model_module_version": "1.5.0",
          "model_name": "DescriptionStyleModel",
          "state": {
            "_model_module": "@jupyter-widgets/controls",
            "_model_module_version": "1.5.0",
            "_model_name": "DescriptionStyleModel",
            "_view_count": null,
            "_view_module": "@jupyter-widgets/base",
            "_view_module_version": "1.2.0",
            "_view_name": "StyleView",
            "description_width": ""
          }
        },
        "7ef2dbce8de949f0bf6b58e557cec9f9": {
          "model_module": "@jupyter-widgets/base",
          "model_module_version": "1.2.0",
          "model_name": "LayoutModel",
          "state": {
            "_model_module": "@jupyter-widgets/base",
            "_model_module_version": "1.2.0",
            "_model_name": "LayoutModel",
            "_view_count": null,
            "_view_module": "@jupyter-widgets/base",
            "_view_module_version": "1.2.0",
            "_view_name": "LayoutView",
            "align_content": null,
            "align_items": null,
            "align_self": null,
            "border": null,
            "bottom": null,
            "display": null,
            "flex": null,
            "flex_flow": null,
            "grid_area": null,
            "grid_auto_columns": null,
            "grid_auto_flow": null,
            "grid_auto_rows": null,
            "grid_column": null,
            "grid_gap": null,
            "grid_row": null,
            "grid_template_areas": null,
            "grid_template_columns": null,
            "grid_template_rows": null,
            "height": null,
            "justify_content": null,
            "justify_items": null,
            "left": null,
            "margin": null,
            "max_height": null,
            "max_width": null,
            "min_height": null,
            "min_width": null,
            "object_fit": null,
            "object_position": null,
            "order": null,
            "overflow": null,
            "overflow_x": null,
            "overflow_y": null,
            "padding": null,
            "right": null,
            "top": null,
            "visibility": null,
            "width": null
          }
        },
        "7f74f9860dd14e4092324a8945493d54": {
          "model_module": "@jupyter-widgets/controls",
          "model_module_version": "1.5.0",
          "model_name": "HTMLModel",
          "state": {
            "_dom_classes": [],
            "_model_module": "@jupyter-widgets/controls",
            "_model_module_version": "1.5.0",
            "_model_name": "HTMLModel",
            "_view_count": null,
            "_view_module": "@jupyter-widgets/controls",
            "_view_module_version": "1.5.0",
            "_view_name": "HTMLView",
            "description": "",
            "description_tooltip": null,
            "layout": "IPY_MODEL_f38fe27c775346939a874aa1b1334c34",
            "placeholder": "​",
            "style": "IPY_MODEL_3da4e01e036f4ae1bb97424acad60e83",
            "value": "Generate report structure: 100%"
          }
        },
        "87786f322e5d4c4ebbde04c6913b3955": {
          "model_module": "@jupyter-widgets/base",
          "model_module_version": "1.2.0",
          "model_name": "LayoutModel",
          "state": {
            "_model_module": "@jupyter-widgets/base",
            "_model_module_version": "1.2.0",
            "_model_name": "LayoutModel",
            "_view_count": null,
            "_view_module": "@jupyter-widgets/base",
            "_view_module_version": "1.2.0",
            "_view_name": "LayoutView",
            "align_content": null,
            "align_items": null,
            "align_self": null,
            "border": null,
            "bottom": null,
            "display": null,
            "flex": null,
            "flex_flow": null,
            "grid_area": null,
            "grid_auto_columns": null,
            "grid_auto_flow": null,
            "grid_auto_rows": null,
            "grid_column": null,
            "grid_gap": null,
            "grid_row": null,
            "grid_template_areas": null,
            "grid_template_columns": null,
            "grid_template_rows": null,
            "height": null,
            "justify_content": null,
            "justify_items": null,
            "left": null,
            "margin": null,
            "max_height": null,
            "max_width": null,
            "min_height": null,
            "min_width": null,
            "object_fit": null,
            "object_position": null,
            "order": null,
            "overflow": null,
            "overflow_x": null,
            "overflow_y": null,
            "padding": null,
            "right": null,
            "top": null,
            "visibility": null,
            "width": null
          }
        },
        "8acf0a4ccdd446a6b01ff275ff74458d": {
          "model_module": "@jupyter-widgets/controls",
          "model_module_version": "1.5.0",
          "model_name": "DescriptionStyleModel",
          "state": {
            "_model_module": "@jupyter-widgets/controls",
            "_model_module_version": "1.5.0",
            "_model_name": "DescriptionStyleModel",
            "_view_count": null,
            "_view_module": "@jupyter-widgets/base",
            "_view_module_version": "1.2.0",
            "_view_name": "StyleView",
            "description_width": ""
          }
        },
        "8d818deaf60b4cebb0d37e87437f86fe": {
          "model_module": "@jupyter-widgets/base",
          "model_module_version": "1.2.0",
          "model_name": "LayoutModel",
          "state": {
            "_model_module": "@jupyter-widgets/base",
            "_model_module_version": "1.2.0",
            "_model_name": "LayoutModel",
            "_view_count": null,
            "_view_module": "@jupyter-widgets/base",
            "_view_module_version": "1.2.0",
            "_view_name": "LayoutView",
            "align_content": null,
            "align_items": null,
            "align_self": null,
            "border": null,
            "bottom": null,
            "display": null,
            "flex": null,
            "flex_flow": null,
            "grid_area": null,
            "grid_auto_columns": null,
            "grid_auto_flow": null,
            "grid_auto_rows": null,
            "grid_column": null,
            "grid_gap": null,
            "grid_row": null,
            "grid_template_areas": null,
            "grid_template_columns": null,
            "grid_template_rows": null,
            "height": null,
            "justify_content": null,
            "justify_items": null,
            "left": null,
            "margin": null,
            "max_height": null,
            "max_width": null,
            "min_height": null,
            "min_width": null,
            "object_fit": null,
            "object_position": null,
            "order": null,
            "overflow": null,
            "overflow_x": null,
            "overflow_y": null,
            "padding": null,
            "right": null,
            "top": null,
            "visibility": null,
            "width": null
          }
        },
        "9ebe12008a2b4042b71e0fdc10f6475b": {
          "model_module": "@jupyter-widgets/controls",
          "model_module_version": "1.5.0",
          "model_name": "HTMLModel",
          "state": {
            "_dom_classes": [],
            "_model_module": "@jupyter-widgets/controls",
            "_model_module_version": "1.5.0",
            "_model_name": "HTMLModel",
            "_view_count": null,
            "_view_module": "@jupyter-widgets/controls",
            "_view_module_version": "1.5.0",
            "_view_name": "HTMLView",
            "description": "",
            "description_tooltip": null,
            "layout": "IPY_MODEL_2ff226f9d33341e5acf78251e54ae877",
            "placeholder": "​",
            "style": "IPY_MODEL_30319b2a1d8c4e4f822de4e98e896890",
            "value": "Summarize dataset: 100%"
          }
        },
        "9ffeb1e2bb46453094dd0b592851b418": {
          "model_module": "@jupyter-widgets/base",
          "model_module_version": "1.2.0",
          "model_name": "LayoutModel",
          "state": {
            "_model_module": "@jupyter-widgets/base",
            "_model_module_version": "1.2.0",
            "_model_name": "LayoutModel",
            "_view_count": null,
            "_view_module": "@jupyter-widgets/base",
            "_view_module_version": "1.2.0",
            "_view_name": "LayoutView",
            "align_content": null,
            "align_items": null,
            "align_self": null,
            "border": null,
            "bottom": null,
            "display": null,
            "flex": null,
            "flex_flow": null,
            "grid_area": null,
            "grid_auto_columns": null,
            "grid_auto_flow": null,
            "grid_auto_rows": null,
            "grid_column": null,
            "grid_gap": null,
            "grid_row": null,
            "grid_template_areas": null,
            "grid_template_columns": null,
            "grid_template_rows": null,
            "height": null,
            "justify_content": null,
            "justify_items": null,
            "left": null,
            "margin": null,
            "max_height": null,
            "max_width": null,
            "min_height": null,
            "min_width": null,
            "object_fit": null,
            "object_position": null,
            "order": null,
            "overflow": null,
            "overflow_x": null,
            "overflow_y": null,
            "padding": null,
            "right": null,
            "top": null,
            "visibility": null,
            "width": null
          }
        },
        "a84f071e079541fbb033ce557c48c626": {
          "model_module": "@jupyter-widgets/controls",
          "model_module_version": "1.5.0",
          "model_name": "HBoxModel",
          "state": {
            "_dom_classes": [],
            "_model_module": "@jupyter-widgets/controls",
            "_model_module_version": "1.5.0",
            "_model_name": "HBoxModel",
            "_view_count": null,
            "_view_module": "@jupyter-widgets/controls",
            "_view_module_version": "1.5.0",
            "_view_name": "HBoxView",
            "box_style": "",
            "children": [
              "IPY_MODEL_248bd0dda0494d13ad944c3ad9fe6b6b",
              "IPY_MODEL_37357a09f72443cd8a13e2df39eb80e9",
              "IPY_MODEL_6b8e7fb6a17e4e318c054dd6fb0b2321"
            ],
            "layout": "IPY_MODEL_ab10776625b741e0aea7103a3152424e"
          }
        },
        "aa8056eecdaa48028da5379015c1ebc9": {
          "model_module": "@jupyter-widgets/controls",
          "model_module_version": "1.5.0",
          "model_name": "HBoxModel",
          "state": {
            "_dom_classes": [],
            "_model_module": "@jupyter-widgets/controls",
            "_model_module_version": "1.5.0",
            "_model_name": "HBoxModel",
            "_view_count": null,
            "_view_module": "@jupyter-widgets/controls",
            "_view_module_version": "1.5.0",
            "_view_name": "HBoxView",
            "box_style": "",
            "children": [
              "IPY_MODEL_9ebe12008a2b4042b71e0fdc10f6475b",
              "IPY_MODEL_6f0a4fad2e6e408283491d0a49f4bebb",
              "IPY_MODEL_43a0330790d342ce99244432e5bbaa19"
            ],
            "layout": "IPY_MODEL_27a7ec61a74a48929ecf348b241c89dd"
          }
        },
        "ab10776625b741e0aea7103a3152424e": {
          "model_module": "@jupyter-widgets/base",
          "model_module_version": "1.2.0",
          "model_name": "LayoutModel",
          "state": {
            "_model_module": "@jupyter-widgets/base",
            "_model_module_version": "1.2.0",
            "_model_name": "LayoutModel",
            "_view_count": null,
            "_view_module": "@jupyter-widgets/base",
            "_view_module_version": "1.2.0",
            "_view_name": "LayoutView",
            "align_content": null,
            "align_items": null,
            "align_self": null,
            "border": null,
            "bottom": null,
            "display": null,
            "flex": null,
            "flex_flow": null,
            "grid_area": null,
            "grid_auto_columns": null,
            "grid_auto_flow": null,
            "grid_auto_rows": null,
            "grid_column": null,
            "grid_gap": null,
            "grid_row": null,
            "grid_template_areas": null,
            "grid_template_columns": null,
            "grid_template_rows": null,
            "height": null,
            "justify_content": null,
            "justify_items": null,
            "left": null,
            "margin": null,
            "max_height": null,
            "max_width": null,
            "min_height": null,
            "min_width": null,
            "object_fit": null,
            "object_position": null,
            "order": null,
            "overflow": null,
            "overflow_x": null,
            "overflow_y": null,
            "padding": null,
            "right": null,
            "top": null,
            "visibility": null,
            "width": null
          }
        },
        "c2d8f8adf53e425ba1dc130f52e1d047": {
          "model_module": "@jupyter-widgets/controls",
          "model_module_version": "1.5.0",
          "model_name": "HTMLModel",
          "state": {
            "_dom_classes": [],
            "_model_module": "@jupyter-widgets/controls",
            "_model_module_version": "1.5.0",
            "_model_name": "HTMLModel",
            "_view_count": null,
            "_view_module": "@jupyter-widgets/controls",
            "_view_module_version": "1.5.0",
            "_view_name": "HTMLView",
            "description": "",
            "description_tooltip": null,
            "layout": "IPY_MODEL_43f13ffc2c0a4e3196482d955a35f33a",
            "placeholder": "​",
            "style": "IPY_MODEL_787e9754de0a4e8a846ca48ab0046614",
            "value": " 1/1 [00:14&lt;00:00, 14.39s/it]"
          }
        },
        "c429617bb0964ce1a42ae092dd0073d9": {
          "model_module": "@jupyter-widgets/controls",
          "model_module_version": "1.5.0",
          "model_name": "ProgressStyleModel",
          "state": {
            "_model_module": "@jupyter-widgets/controls",
            "_model_module_version": "1.5.0",
            "_model_name": "ProgressStyleModel",
            "_view_count": null,
            "_view_module": "@jupyter-widgets/base",
            "_view_module_version": "1.2.0",
            "_view_name": "StyleView",
            "bar_color": null,
            "description_width": ""
          }
        },
        "c95f8cbca0254e3da38ca3a2dd739e65": {
          "model_module": "@jupyter-widgets/base",
          "model_module_version": "1.2.0",
          "model_name": "LayoutModel",
          "state": {
            "_model_module": "@jupyter-widgets/base",
            "_model_module_version": "1.2.0",
            "_model_name": "LayoutModel",
            "_view_count": null,
            "_view_module": "@jupyter-widgets/base",
            "_view_module_version": "1.2.0",
            "_view_name": "LayoutView",
            "align_content": null,
            "align_items": null,
            "align_self": null,
            "border": null,
            "bottom": null,
            "display": null,
            "flex": null,
            "flex_flow": null,
            "grid_area": null,
            "grid_auto_columns": null,
            "grid_auto_flow": null,
            "grid_auto_rows": null,
            "grid_column": null,
            "grid_gap": null,
            "grid_row": null,
            "grid_template_areas": null,
            "grid_template_columns": null,
            "grid_template_rows": null,
            "height": null,
            "justify_content": null,
            "justify_items": null,
            "left": null,
            "margin": null,
            "max_height": null,
            "max_width": null,
            "min_height": null,
            "min_width": null,
            "object_fit": null,
            "object_position": null,
            "order": null,
            "overflow": null,
            "overflow_x": null,
            "overflow_y": null,
            "padding": null,
            "right": null,
            "top": null,
            "visibility": null,
            "width": null
          }
        },
        "ce2e8fd1e2ed4abcb4ebc2842d5d838d": {
          "model_module": "@jupyter-widgets/controls",
          "model_module_version": "1.5.0",
          "model_name": "DescriptionStyleModel",
          "state": {
            "_model_module": "@jupyter-widgets/controls",
            "_model_module_version": "1.5.0",
            "_model_name": "DescriptionStyleModel",
            "_view_count": null,
            "_view_module": "@jupyter-widgets/base",
            "_view_module_version": "1.2.0",
            "_view_name": "StyleView",
            "description_width": ""
          }
        },
        "f38fe27c775346939a874aa1b1334c34": {
          "model_module": "@jupyter-widgets/base",
          "model_module_version": "1.2.0",
          "model_name": "LayoutModel",
          "state": {
            "_model_module": "@jupyter-widgets/base",
            "_model_module_version": "1.2.0",
            "_model_name": "LayoutModel",
            "_view_count": null,
            "_view_module": "@jupyter-widgets/base",
            "_view_module_version": "1.2.0",
            "_view_name": "LayoutView",
            "align_content": null,
            "align_items": null,
            "align_self": null,
            "border": null,
            "bottom": null,
            "display": null,
            "flex": null,
            "flex_flow": null,
            "grid_area": null,
            "grid_auto_columns": null,
            "grid_auto_flow": null,
            "grid_auto_rows": null,
            "grid_column": null,
            "grid_gap": null,
            "grid_row": null,
            "grid_template_areas": null,
            "grid_template_columns": null,
            "grid_template_rows": null,
            "height": null,
            "justify_content": null,
            "justify_items": null,
            "left": null,
            "margin": null,
            "max_height": null,
            "max_width": null,
            "min_height": null,
            "min_width": null,
            "object_fit": null,
            "object_position": null,
            "order": null,
            "overflow": null,
            "overflow_x": null,
            "overflow_y": null,
            "padding": null,
            "right": null,
            "top": null,
            "visibility": null,
            "width": null
          }
        }
      }
    }
  },
  "nbformat": 4,
  "nbformat_minor": 0
}
